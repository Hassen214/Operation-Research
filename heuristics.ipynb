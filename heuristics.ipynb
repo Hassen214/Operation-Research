{
 "cells": [
  {
   "cell_type": "code",
   "execution_count": 25,
   "metadata": {},
   "outputs": [
    {
     "name": "stdout",
     "output_type": "stream",
     "text": [
      "Shops:\n",
      "Any[Dict{String, Any}(\"name\" => \"body\", \"resequencing_lag\" => 0), Dict{String, Any}(\"name\" => \"paint\", \"resequencing_lag\" => 10), Dict{String, Any}(\"name\" => \"assembly\", \"resequencing_lag\" => 15)]\n",
      "Constraint: Dict{String, Any}(\"max_vehicles\" => 2, \"cost\" => 5000, \"id\" => 1, \"window_size\" => 3, \"vehicles\" => Any[4, 5, 8, 9, 11, 16, 18, 23, 26, 29, 30, 33, 34, 36, 37, 38, 41, 42, 45, 46, 49, 50, 53, 55, 64, 70, 76, 77, 79, 84, 85, 86, 89, 90, 91, 93, 94, 96, 97, 100, 103, 104, 106, 108, 109, 111, 112, 113, 114, 115, 116, 117, 122, 123, 125, 127, 128, 134, 135, 138, 141, 144, 146, 148, 149, 150, 152, 154, 155, 157, 158, 159, 165, 166, 170, 171, 178, 179, 180, 181, 184, 188, 190, 191, 192, 195, 196, 197, 199, 201, 203, 204, 205, 211, 213, 215, 216, 217, 218, 219, 220, 223, 225, 226, 227, 230, 231, 233, 235, 237, 239, 240, 241, 243, 250, 253, 255, 256, 257, 258, 259, 265, 266, 268, 269, 272, 274, 276, 277, 279, 280, 281, 283, 285, 286, 291, 293, 294, 297], \"type\" => \"rolling_window\", \"shop\" => \"assembly\")\n",
      "Constraint: Dict{String, Any}(\"max_vehicles\" => 5, \"cost\" => 2000, \"id\" => 2, \"window_size\" => 9, \"vehicles\" => Any[4, 5, 8, 9, 11, 16, 18, 23, 29, 30, 33, 34, 38, 42, 46, 49, 50, 53, 55, 64, 70, 77, 79, 84, 85, 90, 91, 93, 94, 96, 97, 100, 103, 104, 106, 108, 109, 111, 112, 113, 114, 115, 116, 122, 123, 128, 134, 135, 141, 144, 146, 148, 149, 152, 155, 157, 158, 159, 166, 170, 171, 179, 180, 181, 188, 190, 195, 197, 201, 203, 205, 213, 215, 216, 217, 218, 220, 226, 227, 230, 231, 233, 235, 237, 239, 240, 243, 250, 253, 256, 258, 259, 265, 266, 268, 269, 274, 279, 281, 283, 291, 293, 294, 297], \"type\" => \"rolling_window\", \"shop\" => \"assembly\")\n",
      "Constraint: Dict{String, Any}(\"max_vehicles\" => 5, \"cost\" => 700, \"min_vehicles\" => 1, \"id\" => 3, \"vehicles\" => Any[1, 2, 3, 4, 6, 7, 8, 9, 10, 11, 12, 14, 15, 16, 17, 18, 19, 20, 22, 23, 24, 25, 26, 28, 29, 31, 32, 33, 35, 37, 38, 40, 41, 42, 43, 44, 45, 46, 47, 48, 49, 51, 52, 53, 54, 55, 56, 57, 58, 59, 60, 61, 62, 64, 65, 66, 67, 68, 69, 71, 73, 74, 75, 77, 78, 79, 80, 81, 82, 83, 84, 85, 86, 87, 88, 90, 91, 92, 94, 96, 97, 98, 99, 101, 102, 103, 104, 105, 106, 107, 108, 109, 110, 111, 112, 113, 114, 115, 116, 117, 118, 119, 120, 121, 124, 126, 127, 128, 129, 131, 132, 133, 134, 135, 136, 137, 139, 140, 141, 143, 144, 146, 147, 149, 150, 151, 154, 155, 156, 157, 158, 159, 160, 161, 162, 163, 164, 165, 166, 167, 168, 170, 171, 172, 173, 174, 175, 176, 177, 179, 180, 181, 182, 183, 185, 186, 187, 188, 189, 190, 191, 192, 193, 194, 195, 196, 197, 198, 200, 201, 203, 204, 205, 206, 207, 210, 212, 213, 214, 215, 216, 217, 218, 220, 221, 222, 224, 225, 227, 228, 229, 230, 231, 232, 233, 234, 235, 236, 237, 238, 239, 241, 242, 243, 244, 245, 248, 249, 251, 252, 253, 254, 256, 257, 258, 259, 260, 261, 262, 263, 264, 266, 267, 268, 269, 270, 272, 273, 274, 275, 278, 280, 281, 282, 283, 285, 287, 288, 289, 290, 291, 292, 293, 295, 296, 297], \"type\" => \"batch_size\", \"shop\" => \"body\")\n",
      "Constraint: Dict{String, Any}(\"max_vehicles\" => 3, \"cost\" => 6000, \"id\" => 4, \"window_size\" => 5, \"vehicles\" => Any[4, 5, 8, 9, 11, 16, 18, 23, 26, 29, 30, 33, 34, 36, 37, 38, 41, 42, 45, 46, 49, 50, 53, 55, 64, 70, 76, 77, 79, 84, 85, 86, 89, 90, 91, 93, 94, 96, 97, 100, 103, 104, 106, 108, 109, 111, 112, 113, 114, 115, 116, 117, 122, 123, 125, 127, 128, 134, 135, 138, 141, 144, 146, 148, 149, 150, 152, 154, 155, 157, 158, 159, 165, 166, 170, 171, 178, 179, 180, 181, 184, 188, 190, 191, 192, 195, 196, 197, 199, 201, 203, 204, 205, 211, 213, 215, 216, 217, 218, 219, 220, 223, 225, 226, 227, 230, 231, 233, 235, 237, 239, 240, 241, 243, 250, 253, 255, 256, 257, 258, 259, 265, 266, 268, 269, 272, 274, 276, 277, 279, 280, 281, 283, 285, 286, 291, 293, 294, 297], \"type\" => \"rolling_window\", \"shop\" => \"assembly\")\n",
      "Constraint: Dict{String, Any}(\"max_vehicles\" => 1, \"cost\" => 5000, \"id\" => 5, \"window_size\" => 10, \"vehicles\" => Any[9, 38, 53, 104, 141, 149, 179, 181, 190, 205, 235, 281, 293], \"type\" => \"rolling_window\", \"shop\" => \"assembly\")\n",
      "Constraint: Dict{String, Any}(\"max_vehicles\" => 3, \"cost\" => 4000, \"id\" => 6, \"window_size\" => 6, \"vehicles\" => Any[5, 9, 18, 23, 29, 32, 33, 34, 42, 43, 46, 49, 50, 55, 63, 64, 70, 77, 79, 84, 90, 93, 94, 97, 99, 100, 103, 105, 108, 109, 112, 113, 114, 115, 122, 123, 127, 135, 137, 141, 142, 144, 145, 148, 154, 155, 157, 158, 166, 176, 179, 180, 188, 197, 201, 203, 205, 207, 208, 213, 215, 216, 217, 227, 230, 233, 235, 239, 240, 243, 251, 253, 256, 258, 259, 265, 266, 269, 274, 279, 288, 294, 296, 95, 202], \"type\" => \"rolling_window\", \"shop\" => \"paint\")\n",
      "Constraint: Dict{String, Any}(\"max_vehicles\" => 3, \"cost\" => 300, \"id\" => 7, \"window_size\" => 5, \"vehicles\" => Any[1, 2, 3, 5, 12, 13, 14, 15, 17, 19, 21, 22, 24, 25, 26, 27, 30, 31, 34, 35, 36, 37, 39, 40, 41, 50, 51, 54, 56, 57, 58, 59, 60, 61, 63, 67, 69, 70, 71, 72, 73, 75, 76, 80, 81, 88, 89, 92, 93, 95, 98, 100, 101, 102, 107, 110, 120, 122, 123, 124, 125, 129, 130, 136, 138, 139, 142, 143, 145, 148, 151, 152, 153, 156, 160, 161, 162, 164, 165, 168, 169, 172, 173, 174, 175, 178, 184, 185, 187, 198, 199, 202, 204, 208, 209, 210, 211, 212, 214, 219, 221, 222, 223, 225, 226, 228, 234, 236, 240, 242, 245, 246, 247, 248, 250, 252, 255, 257, 260, 261, 265, 271, 273, 275, 276, 277, 278, 279, 282, 284, 286, 287, 289, 292, 294], \"type\" => \"rolling_window\", \"shop\" => \"body\")\n",
      "Constraint: Dict{String, Any}(\"max_vehicles\" => 1, \"cost\" => 5000, \"id\" => 8, \"window_size\" => 3, \"vehicles\" => Any[4, 9, 44, 45, 62, 65, 68, 74, 79, 82, 87, 104, 114, 133, 135, 140, 141, 146, 149, 163, 179, 181, 182, 183, 189, 190, 193, 224, 229, 231, 232, 251, 263, 264, 280, 281, 290, 293], \"type\" => \"rolling_window\", \"shop\" => \"assembly\")\n",
      "Constraint: Dict{String, Any}(\"cost\" => 70, \"partition\" => Any[Any[1, 2, 3, 4, 6, 7, 8, 9, 10, 11, 12, 14, 15, 16, 17, 18, 19, 20, 22, 23, 24, 25, 26, 28, 29, 31, 32, 33, 35, 37, 38, 40, 41, 42, 43, 44, 45, 46, 47, 48, 49, 51, 52, 53, 54, 55, 56, 57, 58, 59, 60, 61, 62, 64, 65, 66, 67, 68, 69, 71, 73, 74, 75, 77, 78, 79, 80, 81, 82, 83, 84, 85, 86, 87, 88, 90, 91, 92, 94, 96, 97, 98, 99, 101, 102, 103, 104, 105, 106, 107, 108, 109, 110, 111, 112, 113, 114, 115, 116, 117, 118, 119, 120, 121, 124, 126, 127, 128, 129, 131, 132, 133, 134, 135, 136, 137, 139, 140, 141, 143, 144, 146, 147, 149, 150, 151, 154, 155, 156, 157, 158, 159, 160, 161, 162, 163, 164, 165, 166, 167, 168, 170, 171, 172, 173, 174, 175, 176, 177, 179, 180, 181, 182, 183, 185, 186, 187, 188, 189, 190, 191, 192, 193, 194, 195, 196, 197, 198, 200, 201, 203, 204, 205, 206, 207, 210, 212, 213, 214, 215, 216, 217, 218, 220, 221, 222, 224, 225, 227, 228, 229, 230, 231, 232, 233, 234, 235, 236, 237, 238, 239, 241, 242, 243, 244, 245, 248, 249, 251, 252, 253, 254, 256, 257, 258, 259, 260, 261, 262, 263, 264, 266, 267, 268, 269, 270, 272, 273, 274, 275, 278, 280, 281, 282, 283, 285, 287, 288, 289, 290, 291, 292, 293, 295, 296, 297], Any[5, 13, 21, 27, 30, 34, 36, 39, 50, 63, 70, 72, 76, 89, 93, 95, 100, 122, 123, 125, 130, 138, 142, 145, 148, 152, 153, 169, 178, 184, 199, 202, 208, 209, 211, 219, 223, 226, 240, 246, 247, 250, 255, 265, 271, 276, 277, 279, 284, 286, 294]], \"id\" => 9, \"type\" => \"lot_change\", \"shop\" => \"body\")\n",
      "Constraint: Dict{String, Any}(\"max_vehicles\" => 1, \"cost\" => 500, \"id\" => 10, \"window_size\" => 2, \"vehicles\" => Any[5, 13, 21, 27, 30, 34, 36, 39, 50, 63, 70, 72, 76, 89, 93, 95, 100, 122, 123, 125, 130, 138, 142, 145, 148, 152, 153, 169, 178, 184, 199, 202, 208, 209, 211, 219, 223, 226, 240, 246, 247, 250, 255, 265, 271, 276, 277, 279, 284, 286, 294], \"type\" => \"rolling_window\", \"shop\" => \"body\")\n",
      "Constraint: Dict{String, Any}(\"max_vehicles\" => 5, \"cost\" => 4000, \"id\" => 11, \"window_size\" => 30, \"vehicles\" => Any[10, 23, 29, 33, 42, 47, 49, 55, 64, 77, 90, 95, 97, 105, 121, 131, 144, 147, 158, 167, 177, 180, 188, 191, 192, 197, 202, 203, 216, 218, 227, 230, 237, 244, 253, 259, 262, 267, 274, 283], \"type\" => \"rolling_window\", \"shop\" => \"paint\")\n",
      "Constraint: Dict{String, Any}(\"max_vehicles\" => 1, \"cost\" => 30000, \"id\" => 12, \"window_size\" => 2, \"vehicles\" => Any[5, 9, 18, 23, 29, 32, 33, 34, 42, 43, 46, 49, 50, 55, 63, 64, 70, 77, 79, 84, 90, 93, 94, 97, 99, 100, 103, 105, 108, 109, 112, 113, 114, 115, 122, 123, 127, 135, 137, 141, 142, 144, 145, 148, 154, 155, 157, 158, 166, 176, 179, 180, 188, 197, 201, 203, 205, 207, 208, 213, 215, 216, 217, 227, 230, 233, 235, 239, 240, 243, 251, 253, 256, 258, 259, 265, 266, 269, 274, 279, 288, 294, 296, 95, 202], \"type\" => \"rolling_window\", \"shop\" => \"assembly\")\n",
      "Constraint: Dict{String, Any}(\"cost\" => 70, \"partition\" => Any[Any[1, 2, 3, 4, 5, 295, 296, 297, 13, 21, 27, 30, 34, 36, 39, 50, 63, 70, 72, 76, 89, 93, 95, 100, 122, 123, 125, 130, 138, 142, 145, 148, 152, 153, 169, 178, 184, 199, 202, 208, 209, 211, 219, 223, 226, 240, 246, 247, 250, 255, 265, 271, 276, 277, 279, 284, 286, 294], Any[6, 7, 8, 9, 10, 11, 12, 14, 15, 16, 17, 18, 19, 20, 22, 23, 24, 25, 26, 28, 29, 31, 32, 33, 35, 37, 38, 40, 41, 42, 43, 44, 45, 46, 47, 48, 49, 51, 52, 53, 54, 55, 56, 57, 58, 59, 60, 61, 62, 64, 65, 66, 67, 68, 69, 71, 73, 74, 75, 77, 78, 79, 80, 81, 82, 83, 84, 85, 86, 87, 88, 90, 91, 92, 94, 96, 97, 98, 99, 101, 102, 103, 104, 105, 106, 107, 108, 109, 110, 111, 112, 113, 114, 115, 116, 117, 118, 119, 120, 121, 124, 126, 127, 128, 129, 131, 132, 133, 134, 135, 136, 137, 139, 140, 141, 143, 144, 146, 147, 149, 150, 151, 154, 155, 156, 157, 158, 159, 160, 161, 162, 163, 164, 165, 166, 167, 168, 170, 171, 172, 173, 174, 175, 176, 177, 179, 180, 181, 182, 183, 185, 186, 187, 188, 189, 190, 191, 192, 193, 194, 195, 196, 197, 198, 200, 201, 203, 204, 205, 206, 207, 210, 212, 213, 214, 215, 216, 217, 218, 220, 221, 222, 224, 225, 227, 228, 229, 230, 231, 232, 233, 234, 235, 236, 237, 238, 239, 241, 242, 243, 244, 245, 248, 249, 251, 252, 253, 254, 256, 257, 258, 259, 260, 261, 262, 263, 264, 266, 267, 268, 269, 270, 272, 273, 274, 275, 278, 280, 281, 282, 283, 285, 287, 288, 289, 290, 291, 292, 293]], \"id\" => 13, \"type\" => \"lot_change\", \"shop\" => \"body\")\n",
      "Constraint: Dict{String, Any}(\"max_vehicles\" => 1, \"cost\" => 5000, \"id\" => 14, \"window_size\" => 3, \"vehicles\" => Any[5, 13, 30, 36, 50, 63, 70, 72, 76, 89, 100, 122, 123, 125, 130, 138, 145, 152, 153, 169, 178, 184, 199, 208, 209, 211, 219, 223, 226, 240, 246, 250, 255, 265, 271, 276, 277, 279, 284, 286, 294], \"type\" => \"rolling_window\", \"shop\" => \"assembly\")\n",
      "Constraint: Dict{String, Any}(\"max_vehicles\" => 2, \"cost\" => 2000, \"id\" => 15, \"window_size\" => 4, \"vehicles\" => Any[4, 5, 8, 9, 10, 13, 16, 25, 29, 32, 34, 38, 40, 44, 47, 48, 50, 51, 53, 68, 72, 73, 79, 84, 85, 86, 92, 93, 96, 100, 104, 105, 106, 111, 116, 117, 118, 123, 126, 127, 133, 134, 140, 141, 145, 148, 149, 152, 154, 157, 167, 169, 170, 179, 181, 182, 189, 190, 193, 195, 196, 203, 205, 208, 209, 217, 218, 222, 225, 226, 228, 235, 237, 238, 239, 240, 241, 244, 253, 258, 261, 262, 263, 265, 266, 267, 268, 271, 274, 278, 279, 281, 283, 284, 285, 287, 291, 293, 294, 297], \"type\" => \"rolling_window\", \"shop\" => \"assembly\")\n",
      "Constraint: Dict{String, Any}(\"cost\" => 2000, \"partition\" => Any[Any[10, 23, 29, 33, 42, 47, 49, 55, 64, 77, 90, 97, 131, 144, 147, 158, 167, 177, 180, 188, 191, 192, 197, 203, 216, 227, 230, 237, 244, 253, 259, 262, 267, 274, 283], Any[20, 25, 40, 41, 43, 46, 51, 52, 66, 86, 92, 102, 103, 108, 112, 113, 115, 116, 118, 126, 150, 154, 166, 201, 213, 215, 220, 245, 269, 272, 297], Any[5, 100, 152, 208, 223], Any[105, 121, 218], Any[148], Any[153, 195], Any[12, 16, 37, 62, 82, 83, 87, 91, 94, 106, 127, 132, 133, 140, 171, 176, 181, 182, 186, 205, 207, 224, 229, 231, 232, 236, 257, 280, 289, 290], Any[1, 2, 3, 4, 6, 7, 9, 11, 14, 15, 17, 19, 21, 22, 26, 28, 31, 36, 38, 44, 45, 48, 53, 54, 56, 57, 58, 61, 63, 65, 67, 68, 69, 72, 73, 74, 75, 76, 78, 79, 80, 81, 84, 85, 88, 89, 96, 98, 99, 101, 104, 107, 110, 111, 114, 117, 119, 120, 124, 125, 128, 129, 134, 135, 136, 137, 138, 141, 142, 145, 146, 149, 159, 162, 163, 164, 165, 168, 172, 173, 175, 179, 183, 187, 189, 190, 193, 194, 196, 198, 199, 200, 204, 209, 210, 211, 212, 214, 217, 225, 226, 228, 233, 234, 235, 239, 242, 243, 247, 248, 249, 251, 252, 254, 255, 258, 260, 261, 263, 264, 265, 266, 268, 270, 273, 275, 277, 279, 281, 282, 285, 287, 288, 291, 294, 295, 296], Any[27, 30, 143, 250, 293], Any[24, 35, 59, 60, 71, 139, 151, 156, 160, 161, 174, 185, 221, 278, 292], Any[34, 93], Any[50, 123, 169, 178, 184, 219, 240, 271, 276, 284, 286], Any[8, 13, 18, 32, 39, 70, 109, 122, 130, 155, 157, 170, 206, 222, 238, 241, 246, 256], Any[95, 202]], \"id\" => 16, \"type\" => \"lot_change\", \"shop\" => \"paint\")\n",
      "Constraint: Dict{String, Any}(\"max_vehicles\" => 5, \"cost\" => 700, \"min_vehicles\" => 1, \"id\" => 17, \"vehicles\" => Any[5, 13, 21, 27, 30, 34, 36, 39, 50, 63, 70, 72, 76, 89, 93, 95, 100, 122, 123, 125, 130, 138, 142, 145, 148, 152, 153, 169, 178, 184, 199, 202, 208, 209, 211, 219, 223, 226, 240, 246, 247, 250, 255, 265, 271, 276, 277, 279, 284, 286, 294], \"type\" => \"batch_size\", \"shop\" => \"body\")\n",
      "Constraint: Dict{String, Any}(\"max_vehicles\" => 1, \"cost\" => 70000, \"id\" => 18, \"window_size\" => 2, \"vehicles\" => Any[4, 5, 5, 9, 13, 13, 21, 21, 27, 27, 30, 30, 34, 34, 36, 36, 38, 39, 39, 50, 50, 52, 53, 63, 63, 70, 70, 72, 72, 76, 76, 79, 84, 89, 89, 93, 93, 94, 95, 95, 96, 100, 100, 104, 105, 106, 114, 121, 122, 122, 123, 123, 125, 125, 130, 130, 133, 135, 138, 138, 141, 142, 142, 145, 145, 146, 148, 148, 149, 152, 152, 153, 153, 169, 169, 171, 178, 178, 179, 181, 184, 184, 190, 195, 199, 199, 202, 202, 203, 205, 208, 208, 209, 209, 211, 211, 218, 219, 219, 223, 223, 224, 226, 226, 229, 231, 232, 235, 238, 240, 240, 243, 246, 246, 247, 247, 250, 250, 253, 255, 255, 258, 263, 265, 265, 271, 271, 274, 276, 276, 277, 277, 279, 279, 281, 284, 284, 286, 286, 293, 294, 294], \"type\" => \"rolling_window\", \"shop\" => \"assembly\")\n",
      "Constraint: Dict{String, Any}(\"max_vehicles\" => 5, \"cost\" => 5000, \"id\" => 19, \"window_size\" => 12, \"vehicles\" => Any[5, 8, 10, 13, 18, 20, 23, 25, 29, 32, 33, 34, 39, 40, 41, 42, 43, 46, 47, 49, 51, 52, 55, 64, 66, 70, 77, 86, 90, 92, 93, 97, 100, 102, 103, 108, 109, 112, 113, 115, 116, 118, 122, 126, 130, 131, 144, 147, 148, 150, 152, 154, 155, 157, 158, 166, 167, 170, 177, 180, 188, 191, 192, 197, 201, 203, 206, 208, 213, 215, 216, 220, 222, 223, 227, 230, 237, 238, 241, 244, 245, 246, 253, 256, 259, 262, 267, 269, 272, 274, 283, 297], \"type\" => \"rolling_window\", \"shop\" => \"paint\")\n",
      "Constraint: Dict{String, Any}(\"max_vehicles\" => 25, \"cost\" => 200, \"id\" => 20, \"window_size\" => 60, \"vehicles\" => Any[5, 8, 10, 13, 18, 20, 23, 25, 29, 32, 33, 34, 39, 40, 41, 42, 43, 46, 47, 49, 51, 52, 55, 64, 66, 70, 77, 86, 90, 92, 93, 97, 100, 102, 103, 108, 109, 112, 113, 115, 116, 118, 122, 126, 130, 131, 144, 147, 148, 150, 152, 154, 155, 157, 158, 166, 167, 170, 177, 180, 188, 191, 192, 197, 201, 203, 206, 208, 213, 215, 216, 220, 222, 223, 227, 230, 237, 238, 241, 244, 245, 246, 253, 256, 259, 262, 267, 269, 272, 274, 283, 297], \"type\" => \"rolling_window\", \"shop\" => \"paint\")\n",
      "Constraint: Dict{String, Any}(\"max_vehicles\" => 1, \"cost\" => 15000, \"id\" => 21, \"window_size\" => 2, \"vehicles\" => Any[4, 7, 9, 34, 38, 44, 45, 48, 53, 62, 65, 68, 74, 78, 79, 82, 84, 87, 93, 94, 104, 105, 114, 121, 132, 133, 135, 140, 141, 146, 148, 149, 163, 171, 179, 181, 182, 183, 189, 190, 193, 195, 200, 205, 218, 224, 229, 231, 232, 235, 243, 246, 251, 263, 264, 280, 281, 290, 293, 295], \"type\" => \"rolling_window\", \"shop\" => \"assembly\")\n",
      "Constraint: Dict{String, Any}(\"max_vehicles\" => 1, \"cost\" => 20000, \"id\" => 22, \"window_size\" => 4, \"vehicles\" => Any[5, 9, 18, 23, 29, 32, 33, 34, 42, 43, 46, 49, 50, 55, 63, 64, 70, 77, 79, 84, 90, 93, 94, 97, 99, 100, 103, 105, 108, 109, 112, 113, 114, 115, 122, 123, 127, 135, 137, 141, 142, 144, 145, 148, 154, 155, 157, 158, 166, 176, 179, 180, 188, 197, 201, 203, 205, 207, 208, 213, 215, 216, 217, 227, 230, 233, 235, 239, 240, 243, 251, 253, 256, 258, 259, 265, 266, 269, 274, 279, 288, 294, 296, 95, 202], \"type\" => \"rolling_window\", \"shop\" => \"assembly\")\n",
      "Constraint: Dict{String, Any}(\"max_vehicles\" => 1, \"cost\" => 400, \"id\" => 24, \"window_size\" => 2, \"vehicles\" => Any[4, 7, 9, 38, 44, 45, 48, 53, 62, 65, 68, 74, 78, 79, 82, 84, 87, 94, 104, 105, 114, 121, 132, 133, 135, 140, 141, 146, 149, 163, 171, 179, 181, 182, 183, 189, 190, 193, 195, 200, 205, 218, 224, 229, 231, 232, 235, 243, 251, 263, 264, 280, 281, 290, 293, 295], \"type\" => \"rolling_window\", \"shop\" => \"body\")\n",
      "Constraint: Dict{String, Any}(\"max_vehicles\" => 1, \"cost\" => 15000, \"id\" => 25, \"window_size\" => 6, \"vehicles\" => Any[6, 36, 76, 83, 89, 125, 138, 150, 178, 184, 186, 191, 192, 199, 211, 219, 223, 254, 255, 272, 276, 277, 286], \"type\" => \"rolling_window\", \"shop\" => \"assembly\")\n",
      "Constraint: Dict{String, Any}(\"max_vehicles\" => 3, \"cost\" => 5000, \"id\" => 26, \"window_size\" => 4, \"vehicles\" => Any[4, 5, 8, 9, 11, 13, 16, 18, 23, 26, 29, 30, 33, 34, 36, 37, 38, 41, 42, 45, 46, 49, 50, 53, 55, 63, 64, 70, 72, 76, 77, 79, 84, 85, 86, 89, 90, 91, 93, 94, 96, 97, 100, 103, 104, 106, 108, 109, 111, 112, 113, 114, 115, 116, 117, 122, 123, 125, 127, 128, 130, 134, 135, 138, 141, 144, 145, 146, 148, 149, 150, 151, 152, 153, 154, 155, 157, 158, 159, 165, 166, 169, 170, 171, 172, 178, 179, 180, 181, 184, 188, 190, 191, 192, 195, 196, 197, 199, 201, 203, 204, 205, 208, 209, 211, 213, 215, 216, 217, 218, 219, 220, 223, 225, 226, 227, 230, 231, 233, 235, 237, 239, 240, 241, 243, 246, 250, 253, 255, 256, 257, 258, 259, 265, 266, 268, 269, 271, 272, 274, 276, 277, 279, 280, 281, 283, 284, 285, 286, 291, 293, 294, 297], \"type\" => \"rolling_window\", \"shop\" => \"assembly\")\n",
      "Constraint: Dict{String, Any}(\"cost\" => 100, \"partition\" => Any[Any[10, 23, 29, 33, 42, 47, 49, 55, 64, 77, 90, 97, 131, 144, 147, 158, 167, 177, 180, 188, 191, 192, 197, 203, 216, 227, 230, 237, 244, 253, 259, 262, 267, 274, 283], Any[20, 25, 40, 41, 43, 46, 51, 52, 66, 86, 92, 102, 103, 108, 112, 113, 115, 116, 118, 126, 150, 154, 166, 201, 213, 215, 220, 245, 269, 272, 297], Any[5, 100, 152, 208, 223], Any[105, 121, 218], Any[148], Any[153, 195], Any[12, 16, 37, 62, 82, 83, 87, 91, 94, 106, 127, 132, 133, 140, 171, 176, 181, 182, 186, 205, 207, 224, 229, 231, 232, 236, 257, 280, 289, 290], Any[1, 2, 3, 4, 6, 7, 9, 11, 14, 15, 17, 19, 21, 22, 26, 28, 31, 36, 38, 44, 45, 48, 53, 54, 56, 57, 58, 61, 63, 65, 67, 68, 69, 72, 73, 74, 75, 76, 78, 79, 80, 81, 84, 85, 88, 89, 96, 98, 99, 101, 104, 107, 110, 111, 114, 117, 119, 120, 124, 125, 128, 129, 134, 135, 136, 137, 138, 141, 142, 145, 146, 149, 159, 162, 163, 164, 165, 168, 172, 173, 175, 179, 183, 187, 189, 190, 193, 194, 196, 198, 199, 200, 204, 209, 210, 211, 212, 214, 217, 225, 226, 228, 233, 234, 235, 239, 242, 243, 247, 248, 249, 251, 252, 254, 255, 258, 260, 261, 263, 264, 265, 266, 268, 270, 273, 275, 277, 279, 281, 282, 285, 287, 288, 291, 294, 295, 296], Any[27, 30, 143, 250, 293], Any[24, 35, 59, 60, 71, 139, 151, 156, 160, 161, 174, 185, 221, 278, 292], Any[34, 93], Any[50, 123, 169, 178, 184, 219, 240, 271, 276, 284, 286], Any[8, 13, 18, 32, 39, 70, 109, 122, 130, 155, 157, 170, 206, 222, 238, 241, 246, 256], Any[95, 202]], \"id\" => 27, \"type\" => \"lot_change\", \"shop\" => \"paint\")\n",
      "Constraint: Dict{String, Any}(\"cost\" => 10000, \"partition\" => Any[Any[10, 23, 29, 33, 42, 47, 49, 55, 64, 77, 90, 97, 131, 144, 147, 158, 167, 177, 180, 188, 191, 192, 197, 203, 216, 227, 230, 237, 244, 253, 259, 262, 267, 274, 283], Any[20, 25, 40, 41, 43, 46, 51, 52, 66, 86, 92, 102, 103, 108, 112, 113, 115, 116, 118, 126, 150, 154, 166, 201, 213, 215, 220, 245, 269, 272, 297], Any[5, 100, 152, 208, 223], Any[105, 121, 218], Any[148], Any[153, 195], Any[12, 16, 37, 62, 82, 83, 87, 91, 94, 106, 127, 132, 133, 140, 171, 176, 181, 182, 186, 205, 207, 224, 229, 231, 232, 236, 257, 280, 289, 290], Any[1, 2, 3, 4, 6, 7, 9, 11, 14, 15, 17, 19, 21, 22, 26, 28, 31, 36, 38, 44, 45, 48, 53, 54, 56, 57, 58, 61, 63, 65, 67, 68, 69, 72, 73, 74, 75, 76, 78, 79, 80, 81, 84, 85, 88, 89, 96, 98, 99, 101, 104, 107, 110, 111, 114, 117, 119, 120, 124, 125, 128, 129, 134, 135, 136, 137, 138, 141, 142, 145, 146, 149, 159, 162, 163, 164, 165, 168, 172, 173, 175, 179, 183, 187, 189, 190, 193, 194, 196, 198, 199, 200, 204, 209, 210, 211, 212, 214, 217, 225, 226, 228, 233, 234, 235, 239, 242, 243, 247, 248, 249, 251, 252, 254, 255, 258, 260, 261, 263, 264, 265, 266, 268, 270, 273, 275, 277, 279, 281, 282, 285, 287, 288, 291, 294, 295, 296], Any[27, 30, 143, 250, 293], Any[24, 35, 59, 60, 71, 139, 151, 156, 160, 161, 174, 185, 221, 278, 292], Any[34, 93], Any[50, 123, 169, 178, 184, 219, 240, 271, 276, 284, 286], Any[8, 13, 18, 32, 39, 70, 109, 122, 130, 155, 157, 170, 206, 222, 238, 241, 246, 256], Any[95, 202]], \"id\" => 29, \"type\" => \"lot_change\", \"shop\" => \"paint\")\n",
      "Constraint: Dict{String, Any}(\"max_vehicles\" => 1, \"cost\" => 2000, \"id\" => 30, \"window_size\" => 10, \"vehicles\" => Any[34, 93, 148, 246], \"type\" => \"rolling_window\", \"shop\" => \"assembly\")\n",
      "Constraint: Dict{String, Any}(\"max_vehicles\" => 1, \"cost\" => 5000, \"id\" => 32, \"window_size\" => 3, \"vehicles\" => Any[5, 13, 21, 27, 30, 34, 36, 39, 50, 63, 70, 72, 76, 89, 93, 95, 100, 122, 123, 125, 130, 138, 142, 145, 148, 152, 153, 169, 178, 184, 199, 202, 208, 209, 211, 219, 223, 226, 240, 246, 247, 250, 255, 265, 271, 276, 277, 279, 284, 286, 294], \"type\" => \"rolling_window\", \"shop\" => \"assembly\")\n",
      "Constraint: Dict{String, Any}(\"max_vehicles\" => 1, \"cost\" => 35000, \"id\" => 34, \"window_size\" => 3, \"vehicles\" => Any[4, 5, 5, 9, 13, 13, 21, 21, 27, 27, 30, 30, 34, 34, 36, 36, 38, 39, 39, 50, 50, 52, 53, 63, 63, 70, 70, 72, 72, 76, 76, 79, 84, 89, 89, 93, 93, 94, 95, 95, 96, 100, 100, 104, 105, 106, 114, 121, 122, 122, 123, 123, 125, 125, 130, 130, 133, 135, 138, 138, 141, 142, 142, 145, 145, 146, 148, 148, 149, 152, 152, 153, 153, 169, 169, 171, 178, 178, 179, 181, 184, 184, 190, 195, 199, 199, 202, 202, 203, 205, 208, 208, 209, 209, 211, 211, 218, 219, 219, 223, 223, 224, 226, 226, 229, 231, 232, 235, 238, 240, 240, 243, 246, 246, 247, 247, 250, 250, 253, 255, 255, 258, 263, 265, 265, 271, 271, 274, 276, 276, 277, 277, 279, 279, 281, 284, 284, 286, 286, 293, 294, 294], \"type\" => \"rolling_window\", \"shop\" => \"assembly\")\n",
      "Parameter: Pair{String, Any}(\"two_tone_delta\", 115)\n",
      "Parameter: Pair{String, Any}(\"resequencing_cost\", 10000)\n",
      "Shop: Dict{String, Any}(\"name\" => \"body\", \"resequencing_lag\" => 0)\n",
      "Shop: Dict{String, Any}(\"name\" => \"paint\", \"resequencing_lag\" => 10)\n",
      "Shop: Dict{String, Any}(\"name\" => \"assembly\", \"resequencing_lag\" => 15)\n",
      "Any[5, 8, 10, 13, 18, 20, 23, 25, 29, 32, 33, 34, 39, 40, 41, 42, 43, 46, 47, 49, 51, 52, 55, 64, 66, 70, 77, 86, 90, 92, 93, 97, 100, 102, 103, 108, 109, 112, 113, 115, 116, 118, 122, 126, 130, 131, 144, 147, 148, 150, 152, 154, 155, 157, 158, 166, 167, 169, 177, 180, 188, 191, 192, 197, 201, 202, 206, 208, 213, 215, 216, 220, 222, 223, 227, 230, 237, 238, 241, 244, 245, 246, 253, 256, 259, 262, 267, 269, 271, 274, 283, 297]\n"
     ]
    }
   ],
   "source": [
    "using JSON,Random\n",
    "using OrderedCollections\n",
    "\n",
    "# Specify the file name and location\n",
    "filename = \"medium_1.json\"\n",
    "# Read the JSON file\n",
    "data = JSON.parsefile(filename)\n",
    "\n",
    "# Extract the details from the JSON\n",
    "# For example, extract all shops\n",
    "linear_model = false  # Set to false if you don't want a linear model\n",
    "shops = data[\"shops\"]\n",
    "println(\"Shops:\")\n",
    "println(shops)\n",
    "\n",
    "# Extract vehicles\n",
    "vehicles = data[\"vehicles\"]\n",
    "shops = data[\"shops\"]\n",
    "parameters = data[\"parameters\"]\n",
    "constraints = data[\"constraints\"]\n",
    "two_tone_vehicle = []\n",
    "i = 0\n",
    "for vehicle in vehicles\n",
    "    i+=1\n",
    "    if linear_model\n",
    "        # Set all vehicles to regular if linear_model is true\n",
    "        println(\"Vehicle Type: \")\n",
    "    else\n",
    "        # Otherwise, print the actual vehicle type\n",
    "        if vehicle[\"type\"] == \"two-tone\"\n",
    "            push!(two_tone_vehicle,i)\n",
    "        end\n",
    "    end\n",
    "end\n",
    "for constraint in constraints\n",
    "    println(\"Constraint: \", constraint)\n",
    "end\n",
    "for parameter in parameters\n",
    "    println(\"Parameter: \", parameter)\n",
    "end\n",
    "for shop in shops\n",
    "    println(\"Shop: \", shop)\n",
    "end\n",
    "\n",
    "println(two_tone_vehicle)\n"
   ]
  },
  {
   "cell_type": "code",
   "execution_count": 26,
   "metadata": {},
   "outputs": [
    {
     "name": "stdout",
     "output_type": "stream",
     "text": [
      "115\n",
      "Shop: 1  Dict{String, Any}(\"name\" => \"body\", \"resequencing_lag\" => 0)\n",
      "Shop: 2  Dict{String, Any}(\"name\" => \"paint\", \"resequencing_lag\" => 10)\n",
      "Shop: 3  Dict{String, Any}(\"name\" => \"assembly\", \"resequencing_lag\" => 15)\n",
      "Number of shops: 3\n",
      "number_of_vehicles, 297\n"
     ]
    }
   ],
   "source": [
    "cs = parameters[\"resequencing_cost\"]\n",
    "number_of_shops = length(shops)    \n",
    "δ = parameters[\"two_tone_delta\"]\n",
    "println(δ)\n",
    "i=0 \n",
    "for shop in shops\n",
    "    i+=1\n",
    "    \n",
    "    println(\"Shop: \",i,\"  \", shop)\n",
    "end\n",
    "println(\"Number of shops: \", number_of_shops)\n",
    "number_of_vehicles = length(vehicles)\n",
    "println(\"number_of_vehicles, \",number_of_vehicles)"
   ]
  },
  {
   "cell_type": "code",
   "execution_count": 27,
   "metadata": {},
   "outputs": [
    {
     "data": {
      "text/plain": [
       "γ (generic function with 1 method)"
      ]
     },
     "metadata": {},
     "output_type": "display_data"
    }
   ],
   "source": [
    "function γ(k, c_bb, mb, Mb)\n",
    "    return c_bb * max(0, mb - k, k - Mb)^2\n",
    "end"
   ]
  },
  {
   "cell_type": "code",
   "execution_count": 28,
   "metadata": {},
   "outputs": [
    {
     "name": "stdout",
     "output_type": "stream",
     "text": [
      "bodyi :1\n",
      "painti :2\n",
      "assemblyi :3\n",
      "n: 297\n"
     ]
    },
    {
     "data": {
      "text/plain": [
       "OrderedDict{String, Integer} with 3 entries:\n",
       "  \"body\"     => 0\n",
       "  \"paint\"    => 10\n",
       "  \"assembly\" => 15"
      ]
     },
     "metadata": {},
     "output_type": "display_data"
    }
   ],
   "source": [
    "\n",
    "# Initialize an empty dictionary to store the mapping\n",
    "shop_map = OrderedDict{String, Vector{Any}}()\n",
    "\"\"\" In shop_map, every shop name is a key, and the value is a vector of constraints associated with that shop. \"\"\"\n",
    "lag_map = OrderedDict{String, Integer}()\n",
    "\"\"\" In shop_map, every shop name is a key, and the value is a vector of constraints associated with that shop. \"\"\"\n",
    "# Populate the shop_map with shop names as keys and empty arrays as values\n",
    "i = 0\n",
    "for shop in shops\n",
    "    i+=1\n",
    "    shop_map[shop[\"name\"]] = []\n",
    "    lag_map[shop[\"name\"]] = shop[\"resequencing_lag\"]\n",
    "    println(shop[\"name\"],\"i :\",i)\n",
    "end\n",
    "n = number_of_vehicles\n",
    "println(\"n: \", n)\n",
    "# Initialize counters or variables if needed\n",
    "\n",
    "# Assume `model` is defined somewhere before this loop (like in JuMP)\n",
    "# Example: model = Model(Ipopt.Optimizer)\n",
    "\n",
    "# Iterate through constraints and associate them with the corresponding shop in shop_map\n",
    "\n",
    "for constraint in constraints\n",
    "    name = constraint[\"shop\"]\n",
    "    if haskey(shop_map, name)\n",
    "        push!(shop_map[name], constraint)\n",
    "    else\n",
    "        println(\"Warning: Shop name $name in constraints does not exist in shops.\")\n",
    "    end\n",
    "end\n",
    "\n",
    "(lag_map)\n"
   ]
  },
  {
   "cell_type": "code",
   "execution_count": 29,
   "metadata": {},
   "outputs": [],
   "source": []
  },
  {
   "cell_type": "code",
   "execution_count": 30,
   "metadata": {},
   "outputs": [
    {
     "data": {
      "text/plain": [
       "perturb_solution (generic function with 1 method)"
      ]
     },
     "metadata": {},
     "output_type": "display_data"
    }
   ],
   "source": [
    "# Function to perturb a solution (for example, swapping two elements)\n",
    "function perturb_solution_big(perm)\n",
    "    new_perm = copy(perm)\n",
    "    idx1, idx2 = rand(1:length(perm), 2)\n",
    "    # Swap two random elements\n",
    "    new_perm[idx1], new_perm[idx2] = new_perm[idx2], new_perm[idx1]\n",
    "    return new_perm\n",
    "end\n",
    "\n",
    "function perturb_solution(perm)\n",
    "    new_perm = copy(perm)\n",
    "    # Randomly select an index for the swap, ensuring it's not the last index\n",
    "    idx = rand(1:length(perm) - 1)\n",
    "    # Swap the element at idx with the element at idx + 1\n",
    "    new_perm[idx], new_perm[idx + 1] = new_perm[idx + 1], new_perm[idx]\n",
    "    return new_perm\n",
    "end\n",
    "\n"
   ]
  },
  {
   "cell_type": "code",
   "execution_count": 31,
   "metadata": {},
   "outputs": [
    {
     "data": {
      "text/plain": [
       "shuffle_perms (generic function with 1 method)"
      ]
     },
     "metadata": {},
     "output_type": "display_data"
    }
   ],
   "source": [
    "\n",
    "using Random\n",
    "\n",
    "function perturb_perms(perms)\n",
    "    # Create a copy of the perms list to avoid modifying the original list\n",
    "    perm_copy = copy(perms)\n",
    "\n",
    "    # Select a random index\n",
    "    i = rand(1:length(perms))\n",
    "\n",
    "    # Extract the permutation at index i\n",
    "    perm = perms[i]\n",
    "\n",
    "    # Apply perturbation to the selected permutation\n",
    "    perturbed_perm = perturb_solution(perm)\n",
    "\n",
    "    # Update the copied list with the perturbed permutation\n",
    "    perm_copy[i] = perturbed_perm\n",
    "\n",
    "    return perm_copy\n",
    "end\n",
    "    \n",
    "function shuffle_perms(perms)\n",
    "    # Create a copy of the perms list to avoid modifying the original list\n",
    "    perm_copy = copy(perms)\n",
    "\n",
    "    # Select a random index\n",
    "    i = rand(1:length(perms))\n",
    "\n",
    "    # Extract the permutation at index i\n",
    "    perm = (perms[i])\n",
    "\n",
    "    # Apply perturbation to the selected permutation\n",
    "    perturbed_perm = shuffle(perm)\n",
    "\n",
    "    # Update the copied list with the perturbed permutation\n",
    "    perm_copy[i] = perturbed_perm\n",
    "\n",
    "    return perm_copy\n",
    "end\n",
    "\n"
   ]
  },
  {
   "cell_type": "code",
   "execution_count": 32,
   "metadata": {},
   "outputs": [
    {
     "data": {
      "text/plain": [
       "random_perturbation (generic function with 1 method)"
      ]
     },
     "metadata": {},
     "output_type": "display_data"
    }
   ],
   "source": [
    "# Function to generate targeted neighbors\n",
    "\n",
    "function generate_targeted_neighbors(perm, Vr, Ul,Vb)\n",
    "    # Start with a random perturbation as a fallback\n",
    "\n",
    "    perturbed_perm = random_perturbation(perm)\n",
    "    n = length(perturbed_perm)\n",
    "    l = length(Vr)\n",
    "    k = 0\n",
    "    n = length(perturbed_perm)\n",
    "\n",
    "    if l > 0\n",
    "        for i in 1:n \n",
    "            if perturbed_perm[i] in Vr\n",
    "                k += 1\n",
    "            else\n",
    "                k = 0\n",
    "            end\n",
    "\n",
    "            if k == l && i < n\n",
    "                # Find the next element not in Vr\n",
    "                for j in 1:n\n",
    "                    if perm[j] ∉ Vr\n",
    "                        # Swap the i-th element with the j-th element\n",
    "                        perm[i], perm[j] = perm[j], perm[i]\n",
    "                        break\n",
    "                    end\n",
    "                end\n",
    "                k = 0  # Reset k after the swap\n",
    "            end\n",
    "        end\n",
    "    end\n",
    "    # Handle perturbation based on Ul\n",
    "    for i in 1:(n-1)\n",
    "        # Check if the consecutive elements are not in the same sublist in Ul\n",
    "        if !in_same_lot(perturbed_perm[i], perturbed_perm[i + 1], Ul)\n",
    "            # Replace one of the elements with a random element from perm\n",
    "            for j in 1:length(perm)\n",
    "                if j != i && j != i + 1 && in_same_lot(perturbed_perm[i], perturbed_perm[j], Ul)\n",
    "                    # Replace element at index i with the one at index j\n",
    "                    perturbed_perm[i] = perturbed_perm[j]\n",
    "                    break  # Exit loop once a change has been made\n",
    "                end\n",
    "            end\n",
    "        end\n",
    "    end\n",
    "    # Batch size constraints (Vb, mb, Mb, cb)\n",
    "    if !isempty(Vb) \n",
    "        for i in 1:length(Vb)\n",
    "            vb = Set(Vb[i])\n",
    "\n",
    "            \n",
    "            for t in 1:n-1\n",
    "                b = true\n",
    "                if t > 1\n",
    "                    b = !(perturbed_perm[t-1] in vb) && b\n",
    "                end\n",
    "                b  = perturbed_perm[t] in vb && b\n",
    "                if !b \n",
    "                    continue\n",
    "                end\n",
    "                for t0 in t:n\n",
    "                    for k in t:t0\n",
    "                        b = (perturbed_perm[k] in vb) && b\n",
    "                    end\n",
    "                    if !b \n",
    "                        continue\n",
    "                    end\n",
    "                    if t0 <= n-1\n",
    "                        b = !(perturbed_perm[t0+1] in vb) && b\n",
    "                    end\n",
    "                    if b\n",
    "                        s = (t0-t) ÷ 2\n",
    "                        if (t>1) \n",
    "                            perturbed_perm[t-1],perturbed_perm[t+s] = perturbed_perm[t+s],perturbed_perm[t-1]\n",
    "                        end\n",
    "                    end\n",
    "                end\n",
    "            end\n",
    "        end\n",
    "    end\n",
    "\n",
    "    return perturbed_perm\n",
    "end\n",
    "\n",
    "# Helper function to check if two elements are in the same sublist in Ul\n",
    "function in_same_lot(elem1, elem2, Ul)\n",
    "    for lot in Ul\n",
    "        if elem1 in lot && elem2 in lot\n",
    "            return true\n",
    "        end\n",
    "    end\n",
    "    return false\n",
    "end\n",
    "\n",
    "\n",
    "# Helper function to apply a random perturbation\n",
    "function random_perturbation(perm)\n",
    "    # Randomly choose two indices to swap\n",
    "    copy_perm = copy(perm)\n",
    "    idx1, idx2 = rand(1:length(perm)), rand(1:length(perm))\n",
    "    copy_perm[idx1], copy_perm[idx2] = copy_perm[idx2], copy_perm[idx1]\n",
    "    return copy_perm\n",
    "end\n"
   ]
  },
  {
   "cell_type": "code",
   "execution_count": 33,
   "metadata": {},
   "outputs": [],
   "source": []
  },
  {
   "cell_type": "code",
   "execution_count": 34,
   "metadata": {},
   "outputs": [
    {
     "data": {
      "text/plain": [
       "out_permutation (generic function with 1 method)"
      ]
     },
     "metadata": {},
     "output_type": "display_data"
    }
   ],
   "source": [
    "# Function to compute the composition of two permutations\n",
    "function compose_permutations(sigma, tau)\n",
    "    n = length(sigma)\n",
    "    composed_permutation = zeros(Int, n)\n",
    "    \n",
    "    for i in 1:n\n",
    "        composed_permutation[i] = sigma[tau[i]]\n",
    "    end\n",
    "    \n",
    "    return composed_permutation\n",
    "end\n",
    "\n",
    "# Function to compute the inverse of a permutation\n",
    "function inverse_permutation(perm::Vector{Int})\n",
    "    n = length(perm)\n",
    "    inv_perm = zeros(Int, n)  # Initialize the inverse permutation with zeros\n",
    "    \n",
    "    # The inverse permutation is obtained by setting inv_perm[perm[i]] = i\n",
    "    for i in 1:n\n",
    "        inv_perm[perm[i]] = i\n",
    "    end\n",
    "    \n",
    "    return inv_perm\n",
    "end\n",
    "\n",
    "# Delta function as given\n",
    "function delta(t, n, δ)\n",
    "    return min(δ, n - t)\n",
    "end\n",
    "\n",
    "# Cycle function to perform a cycle in the permutation\n",
    "function cycle(t, δ, n)\n",
    "    perm = [i for i in 1:n]  # Start with the identity permutation\n",
    "    k = delta(t, n, δ)  # Calculate the cycle length\n",
    "    if (k==0) \n",
    "        return perm\n",
    "    end\n",
    "    perm[t] = t + k  # Set the first step of the cycle\n",
    "    while k > 1\n",
    "        perm[t + k] = t + k - 1  # Set each subsequent step\n",
    "        k -= 1\n",
    "    end\n",
    "    perm[t + 1] = t  # Complete the cycle\n",
    "    return perm\n",
    "end\n",
    "function out_permutation(perm,two_tone_vehicle,δ)\n",
    "    n = length(perm)\n",
    "    if length(two_tone_vehicle) == 0\n",
    "        return perm\n",
    "    end\n",
    "\n",
    "    copy_perm = copy(perm)\n",
    "    inverse_perm = inverse_permutation(copy_perm)\n",
    "    for k in 1:length(two_tone_vehicle)\n",
    "        u = inverse_perm[two_tone_vehicle[k]]\n",
    "        tu = cycle(u,δ,n)\n",
    "        inverse_perm = compose_permutations(tu,inverse_perm)\n",
    "    end\n",
    "    # Compute the inverse permutation\n",
    "    inverse = inverse_permutation(inverse_perm)\n",
    "    return inverse\n",
    "\n",
    "# t_u evolves after every permutation so keep that in mind \n",
    "end\n",
    "\n"
   ]
  },
  {
   "cell_type": "code",
   "execution_count": 35,
   "metadata": {},
   "outputs": [
    {
     "data": {
      "text/plain": [
       "calculate_resequencing_cost (generic function with 1 method)"
      ]
     },
     "metadata": {},
     "output_type": "display_data"
    }
   ],
   "source": [
    "function calculate_resequencing_cost(permutation_0, Δs, cs)\n",
    "    # Initialize the resequencing cost\n",
    "    total_cost = 0\n",
    "    permutations = copy(permutation_0)\n",
    "    # Number of shops (S)\n",
    "    S = length(permutations)\n",
    "    \n",
    "    # Iterate over each consecutive pair of shops\n",
    "    for s in 1:(S-1)\n",
    "        # Get the current shop and the next shop\n",
    "        perm_s = permutations[s]\n",
    "        perm_s_next = permutations[s+1]\n",
    "        if (s==2)\n",
    "            \n",
    "            perm = copy(perm_s)\n",
    "\n",
    "            perm_s = out_permutation(perm,two_tone_vehicle,δ)\n",
    "        end\n",
    "        # Iterate through each vehicle\n",
    "        for v in 1:length(perm_s)\n",
    "            # Get the position of vehicle v in the current shop (s) and the next shop (s+1)\n",
    "            t_s = findfirst(isequal(v), perm_s)  # Position of v in shop s\n",
    "            t_s_next = findfirst(isequal(v), perm_s_next)  # Position of v in shop s+1\n",
    "            \n",
    "            # Handle cases where the position is not found (i.e., t_s or t_s_next is nothing)\n",
    "\n",
    "            \n",
    "            # Access Δs based on the shop index `s`\n",
    "            Δs_value = Δs[s]  # Δs indexed by s\n",
    "\n",
    "                # Calculate penalty if the constraint is violated\n",
    "            penalty = cs * max(0, t_s - Δs_value - t_s_next)\n",
    "            total_cost += penalty\n",
    "        end\n",
    "    end\n",
    "    \n",
    "    return total_cost\n",
    "end\n"
   ]
  },
  {
   "cell_type": "code",
   "execution_count": 36,
   "metadata": {},
   "outputs": [],
   "source": []
  },
  {
   "cell_type": "code",
   "execution_count": 37,
   "metadata": {},
   "outputs": [
    {
     "data": {
      "text/plain": [
       "calculate_cost_origin (generic function with 1 method)"
      ]
     },
     "metadata": {},
     "output_type": "display_data"
    }
   ],
   "source": [
    "function find_list_with_element(x, L)\n",
    "    return findfirst(sublist -> x in sublist, L)\n",
    "end\n",
    "\n",
    "\n",
    "function calculate_cost_origin(perm, Cl, Ul, Vr, Mr, wr, cr, mb, Mb, cb, Vb)\n",
    "    total_cost = 0\n",
    "    # Lot change constraints (Cl and Ul)\n",
    "    if length(Ul)>0\n",
    "        l = length(Ul)\n",
    "        \n",
    "        for i in 1:l\n",
    "            cl = Cl[i]\n",
    "            ul = (Ul[i])\n",
    "            for k in 1:length(perm)-1\n",
    "                t1 = find_list_with_element(perm[k],ul)\n",
    "                t2 = find_list_with_element(perm[k+1],ul)\n",
    "                if (t1!=t2) \n",
    "                    total_cost+= cl\n",
    "                end\n",
    "            end\n",
    "        end\n",
    "    end\n",
    "    # Rolling window constraints (Vr, Mr, wr, cr)\n",
    "    if !isempty(Vr) && !isempty(Mr) && !isempty(wr) && !isempty(cr)\n",
    "        for i in 1:length(Vr)\n",
    "            vr = Set(Vr[i])\n",
    "            Mr0 = Mr[i]\n",
    "            wr0 = wr[i]\n",
    "            cr0 = cr[i]\n",
    "            for t in 1:max(n-wr0+1)\n",
    "                s = 0\n",
    "                for t0 in t:t+wr0-1\n",
    "                    s+= perm[t0] in vr\n",
    "                end\n",
    "                total_cost += cr0*max(0,(s-Mr0))*max(0,(s-Mr0))\n",
    "            end\n",
    "        end\n",
    "    end\n",
    "\n",
    "    # Batch size constraints (Vb, mb, Mb, cb)\n",
    "    if !isempty(Vb) && !isempty(mb) && !isempty(Mb) && !isempty(cb)\n",
    "        for i in 1:length(Vb)\n",
    "            vb = Set(Vb[i])\n",
    "            mb0 = mb[i]\n",
    "            Mb0 = Mb[i]\n",
    "            cb0 = cb[i]\n",
    "            \n",
    "            for t in 1:n-1\n",
    "                b = true\n",
    "                if t > 1\n",
    "                    b = !(perm[t-1] in vb) && b\n",
    "                end\n",
    "                b  = perm[t] in vb && b\n",
    "                if !b \n",
    "                    continue\n",
    "                end\n",
    "                for t0 in t:n\n",
    "                    for k in t:t0\n",
    "                        b = (perm[k] in vb) && b\n",
    "                    end\n",
    "                    if !b \n",
    "                        continue\n",
    "                    end\n",
    "                    if t0 <= n-1\n",
    "                        b = !(perm[t0+1] in vb) && b\n",
    "                    end\n",
    "                    if b\n",
    "                        total_cost += cb0 * γ(t0 - t + 1, cb0, mb0, Mb0)\n",
    "                    end\n",
    "                end\n",
    "            end\n",
    "        end\n",
    "    end\n",
    "    \n",
    "    return total_cost\n",
    "end"
   ]
  },
  {
   "cell_type": "code",
   "execution_count": 38,
   "metadata": {},
   "outputs": [
    {
     "data": {
      "text/plain": [
       "calculate_cost (generic function with 1 method)"
      ]
     },
     "metadata": {},
     "output_type": "display_data"
    }
   ],
   "source": [
    "function calculate_cost(perms, Cl, Ul, Vr, Mr, wr, cr, mb, Mb, cb, Vb,Δs,cs)\n",
    "    cost = calculate_resequencing_cost(perms, Δs, cs)\n",
    "    for i  in 1:length(perms) \n",
    "        cost+= calculate_cost_origin(perms[i], Cl[i], Ul[i], Vr[i], Mr[i], wr[i], cr[i], mb[i], Mb[i], cb[i], Vb[i])\n",
    "    end\n",
    "    return cost\n",
    "end\n"
   ]
  },
  {
   "cell_type": "code",
   "execution_count": 39,
   "metadata": {},
   "outputs": [
    {
     "data": {
      "text/plain": [
       "simulated_annealing (generic function with 1 method)"
      ]
     },
     "metadata": {},
     "output_type": "display_data"
    }
   ],
   "source": [
    "function simulated_annealing(perms, Cl, Ul, Vr, Mr, wr, cr, mb, Mb, cb, Vb,Δs,cs; T0, alpha, max_iter)\n",
    "    # Initialize variables\n",
    "    current_cost = calculate_cost(perms, Cl, Ul, Vr, Mr, wr, cr, mb, Mb, cb, Vb, Δs, cs)  # Calculate cost of the initial solution\n",
    "    best_perms = copy(perms)  # Best solution found\n",
    "    best_cost = current_cost  # Best cost found\n",
    "    T = T0  # Initial temperature\n",
    "    counter = 0\n",
    "    \n",
    "    for iter in 1:max_iter\n",
    "        if (T<1e-25) \n",
    "            break\n",
    "        end\n",
    "        neighbor_costs = []\n",
    "        neighbor_perms = []\n",
    "        # Generate a set of neighboring solutions (perturbations)\n",
    "        for i in 1:length(perms)\n",
    "            perm_copy = copy(perms)\n",
    "            perm = perms[i]\n",
    "            perturbed_perm = generate_targeted_neighbors(perm, Vr[i], Ul[i],Vb[i])\n",
    "            perm_copy[i] = perturbed_perm\n",
    "            perturbed_cost = calculate_cost(perm_copy, Cl, Ul, Vr, Mr, wr, cr, mb, Mb, cb, Vb, Δs, cs)\n",
    "            push!(neighbor_perms,perm_copy)\n",
    "            push!(neighbor_costs,perturbed_cost)\n",
    "        end\n",
    "        # Find the best neighboring solution\n",
    "        min_cost_idx = argmin(neighbor_costs)\n",
    "        best_neighbor = neighbor_perms[min_cost_idx]\n",
    "        best_neighbor_cost = neighbor_costs[min_cost_idx]\n",
    "\n",
    "        # If the best neighboring solution is better, update the current solution\n",
    "        if best_neighbor_cost < current_cost\n",
    "            counter =0 \n",
    "            perms = best_neighbor\n",
    "            current_cost = best_neighbor_cost\n",
    "\n",
    "            # If the new solution is the best, update the best solution\n",
    "            if best_neighbor_cost < best_cost\n",
    "                best_perms = copy(best_neighbor)\n",
    "                best_cost = best_neighbor_cost\n",
    "                \n",
    "            end\n",
    "        else\n",
    "            # If the new solution is worse, accept it with a certain probability based on temperature\n",
    "            counter += 1\n",
    "            if counter<2000\n",
    "                acceptance_probability = exp(-(best_neighbor_cost - current_cost) / T)\n",
    "                if rand() < acceptance_probability\n",
    "                    perms = copy(best_neighbor)\n",
    "                    current_cost = best_neighbor_cost\n",
    "                end\n",
    "            else\n",
    "                # Larger perturbation for worse solutions\n",
    "                perms = perturb_perms(perms)\n",
    "                current_cost = calculate_cost(perms, Cl, Ul, Vr, Mr, wr, cr, mb, Mb, cb, Vb, Δs, cs)\n",
    "                \n",
    "            end\n",
    "        end\n",
    "\n",
    "        # Reduce the temperature (cooling schedule)\n",
    "        T *= alpha\n",
    "\n",
    "        # Optionally print progress\n",
    "        if iter % 10== 0\n",
    "            println(\"Iteration: $iter, Best Cost: $best_cost, Temperature: $T\")\n",
    "        end\n",
    "    end\n",
    "\n",
    "    return best_perms, best_cost\n",
    "end\n"
   ]
  },
  {
   "cell_type": "code",
   "execution_count": 40,
   "metadata": {},
   "outputs": [
    {
     "name": "stdout",
     "output_type": "stream",
     "text": [
      "shop: body\n",
      "shop: paint\n",
      "shop: assembly\n"
     ]
    }
   ],
   "source": [
    "# Initialize result and Δs lists\n",
    "result = []\n",
    "Δs = []\n",
    "\n",
    "# Initialize global constraint lists for all shops\n",
    "Cl = []          # Cost list (Ints)\n",
    "Ul = []  # Partitions (Array of arrays of Ints)\n",
    "Vr = []  # Vehicles (Array of arrays of Ints)\n",
    "Mr = []          # Max vehicles (Ints)\n",
    "wr = []          # Window size (Ints)\n",
    "cr = []          # Cost (Ints)\n",
    "mb = []          # Min vehicles (Ints)\n",
    "Mb = []          # Max vehicles (Ints)\n",
    "cb = []          # Cost (Ints)\n",
    "Vb = []  # Vehicles (Array of Ints)\n",
    "\n",
    "# Loop through each shop and its constraints\n",
    "for (shop, constraints) in shop_map\n",
    "    println(\"shop: \", shop)\n",
    "    \n",
    "    # Initialize shop-specific constraint lists\n",
    "    Cl0 = Int[]          # Cost list (Ints)\n",
    "    Ul0 = Vector{Vector{Int}}[]  # Partitions (Array of arrays of Ints)\n",
    "    Vr0 = Vector{Int}[]  # Vehicles (Array of arrays of Ints)\n",
    "    Mr0 = Int[]          # Max vehicles (Ints)\n",
    "    wr0 = Int[]          # Window size (Ints)\n",
    "    cr0 = Int[]          # Cost (Ints)\n",
    "    mb0 = Int[]          # Min vehicles (Ints)\n",
    "    Mb0 = Int[]          # Max vehicles (Ints)\n",
    "    cb0 = Int[]          # Cost (Ints)\n",
    "    Vb0 = []  # Vehicles (Array of Ints)\n",
    "    \n",
    "    # Add the lag for the current shop\n",
    "    push!(Δs, lag_map[shop])\n",
    "    \n",
    "    # Loop through constraints and separate them by type\n",
    "    for constraint in constraints\n",
    "        if constraint[\"type\"] == \"lot_change\"\n",
    "            cl = constraint[\"cost\"]\n",
    "            Ul_0 = constraint[\"partition\"]\n",
    "            push!(Ul0, Ul_0)  # Ensure Ul_0 is an array of Int\n",
    "            push!(Cl0, cl)\n",
    "        end\n",
    "\n",
    "        if constraint[\"type\"] == \"rolling_window\"\n",
    "            Vr_0 = constraint[\"vehicles\"]\n",
    "            Mr_0 = constraint[\"max_vehicles\"]\n",
    "            wr_0 = constraint[\"window_size\"]\n",
    "            cr_0 = constraint[\"cost\"]\n",
    "            push!(Vr0, Vr_0)  # Ensure Vr_0 is an array of Int\n",
    "            push!(Mr0, Mr_0)\n",
    "            push!(wr0, wr_0)\n",
    "            push!(cr0, cr_0)\n",
    "        end\n",
    "\n",
    "        if constraint[\"type\"] == \"batch_size\"\n",
    "            mb_0 = constraint[\"min_vehicles\"]\n",
    "            Mb_0 = constraint[\"max_vehicles\"]\n",
    "            Vb_0 = constraint[\"vehicles\"]\n",
    "            cb_0 = constraint[\"cost\"]\n",
    "            push!(mb0, mb_0)\n",
    "            push!(Mb0, Mb_0)\n",
    "            push!(Vb0, Vb_0)  # Ensure Vb_0 is an array of Int\n",
    "            push!(cb0, cb_0)\n",
    "        end\n",
    "    end\n",
    "\n",
    "    # Push all constraint lists (even if they are empty) to the global lists\n",
    "    push!(Cl, Cl0)\n",
    "    push!(Ul, Ul0)\n",
    "    push!(Vr, Vr0)\n",
    "    push!(Mr, Mr0)\n",
    "    push!(wr, wr0)\n",
    "    push!(cr, cr0)\n",
    "    push!(mb, mb0)\n",
    "    push!(Mb, Mb0)\n",
    "    push!(cb, cb0)\n",
    "    push!(Vb, Vb0)\n",
    "end\n"
   ]
  },
  {
   "cell_type": "code",
   "execution_count": 72,
   "metadata": {},
   "outputs": [
    {
     "data": {
      "text/plain": [
       "8183460"
      ]
     },
     "metadata": {},
     "output_type": "display_data"
    }
   ],
   "source": [
    "perms = a\n",
    "current_cost = calculate_cost(perms, Cl, Ul, Vr, Mr, wr, cr, mb, Mb, cb, Vb, Δs, cs)\n"
   ]
  },
  {
   "cell_type": "code",
   "execution_count": null,
   "metadata": {},
   "outputs": [
    {
     "name": "stdout",
     "output_type": "stream",
     "text": [
      "Iteration: 10, Best Cost: 8183460, Temperature: 904.3820750088043\n",
      "Iteration: 20, Best Cost: 8183460, Temperature: 817.9069375972307\n",
      "Iteration: 30, Best Cost: 8183460, Temperature: 739.7003733882801\n",
      "Iteration: 40, Best Cost: 8183460, Temperature: 668.9717585696801\n",
      "Iteration: 50, Best Cost: 8183460, Temperature: 605.006067137536\n",
      "Iteration: 60, Best Cost: 8183460, Temperature: 547.1566423907609\n",
      "Iteration: 70, Best Cost: 8183460, Temperature: 494.83865960020677\n",
      "Iteration: 80, Best Cost: 8183460, Temperature: 447.5232137638104\n"
     ]
    }
   ],
   "source": [
    "\n",
    "a,b = simulated_annealing(perms, Cl, Ul, Vr, Mr, wr, cr, mb, Mb, cb, Vb,Δs,cs; T0=1000, alpha=0.99, max_iter=100000)\n",
    "\n",
    "println(\"total_cost, \",b)\n",
    "current_cost = calculate_cost(a, Cl, Ul, Vr, Mr, wr, cr, mb, Mb, cb, Vb, Δs, cs)\n",
    "println(\"current cost is, \",current_cost)\n"
   ]
  },
  {
   "cell_type": "code",
   "execution_count": 43,
   "metadata": {},
   "outputs": [],
   "source": [
    "#current_cost\n",
    "#large_1 7208100,6830300,6712100,6528300,4617800\n",
    "#large_2 1377000,1037000,\n",
    "#medium_1 49740840\n",
    "#medium_2\n",
    "#small_1 533400\n",
    "#small_2 508200\n",
    "\n",
    "\n",
    "#current_cost = calculate_cost(a, Cl, Ul, Vr, Mr, wr, cr, mb, Mb, cb, Vb, Δs, cs)\n",
    "\n"
   ]
  },
  {
   "cell_type": "code",
   "execution_count": null,
   "metadata": {},
   "outputs": [],
   "source": [
    "\n",
    "# Create a mapping with \"medium_1 cost\" as the key and current_cost as the value,\n",
    "# and \"example_filename medium_1 instance\" as the key and `a` as the value.\n",
    "mapped_content = OrderedDict(\n",
    "    \"$filename cost\" => current_cost,\n",
    "    \"$(filename)  instance\" => a\n",
    ")\n",
    "\n",
    "# Convert the mapping to JSON format\n",
    "json_data = JSON.json(mapped_content)\n",
    "\n",
    "# Read the current content of the file (if it exists)\n",
    "existing_data = \"\"\n",
    "if isfile(\"output.json\")\n",
    "    existing_data = read(\"output.json\", String)\n",
    "end\n",
    "\n",
    "# Combine the new info and the existing data (if any)\n",
    "new_content = json_data * \"\\n\" * existing_data\n",
    "\n",
    "# Open the file in write mode and overwrite it with the combined content\n",
    "open(\"output.json\", \"w\") do file\n",
    "    write(file, new_content)\n",
    "end\n"
   ]
  },
  {
   "cell_type": "code",
   "execution_count": 59,
   "metadata": {},
   "outputs": [
    {
     "data": {
      "text/plain": [
       "3-element Vector{Vector{Int64}}:\n",
       " [1, 2, 3, 4, 5, 6, 7, 8, 9, 10  …  288, 289, 290, 291, 292, 293, 294, 295, 296, 297]\n",
       " [1, 2, 3, 4, 5, 6, 8, 7, 9, 10  …  290, 289, 280, 291, 292, 293, 294, 295, 296, 297]\n",
       " [1, 21, 14, 19, 17, 6, 27, 16, 11, 3  …  220, 292, 277, 230, 262, 271, 256, 253, 297, 269]"
      ]
     },
     "metadata": {},
     "output_type": "display_data"
    }
   ],
   "source": [
    "a"
   ]
  },
  {
   "cell_type": "code",
   "execution_count": 46,
   "metadata": {},
   "outputs": [
    {
     "data": {
      "text/plain": [
       "15847640"
      ]
     },
     "metadata": {},
     "output_type": "display_data"
    }
   ],
   "source": [
    "current_cost"
   ]
  },
  {
   "cell_type": "code",
   "execution_count": 71,
   "metadata": {},
   "outputs": [
    {
     "name": "stdout",
     "output_type": "stream",
     "text": [
      "39660\n",
      "2553800\n",
      "2410000\n"
     ]
    }
   ],
   "source": [
    "perms = a\n",
    "cost = 0\n",
    "for i  in 1:length(perms)\n",
    "    cost = 0 \n",
    "    cost+= calculate_cost_origin(perms[i], Cl[i], Ul[i], Vr[i], Mr[i], wr[i], cr[i], mb[i], Mb[i], cb[i], Vb[i])\n",
    "    println(cost)\n",
    "end\n"
   ]
  },
  {
   "cell_type": "code",
   "execution_count": 67,
   "metadata": {},
   "outputs": [
    {
     "data": {
      "text/plain": [
       "3180000"
      ]
     },
     "metadata": {},
     "output_type": "display_data"
    }
   ],
   "source": [
    "cost = calculate_resequencing_cost(a, Δs, cs)\n"
   ]
  }
 ],
 "metadata": {
  "kernelspec": {
   "display_name": "Julia 1.11.2",
   "language": "julia",
   "name": "julia-1.11"
  },
  "language_info": {
   "file_extension": ".jl",
   "mimetype": "application/julia",
   "name": "julia",
   "version": "1.11.2"
  }
 },
 "nbformat": 4,
 "nbformat_minor": 2
}
