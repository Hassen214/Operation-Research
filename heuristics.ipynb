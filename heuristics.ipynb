{
 "cells": [
  {
   "cell_type": "code",
   "execution_count": 143,
   "metadata": {},
   "outputs": [
    {
     "name": "stdout",
     "output_type": "stream",
     "text": [
      "Shops:\n",
      "Any[Dict{String, Any}(\"name\" => \"body\", \"resequencing_lag\" => 1), Dict{String, Any}(\"name\" => \"paint\", \"resequencing_lag\" => 2), Dict{String, Any}(\"name\" => \"assembly\", \"resequencing_lag\" => 0)]\n",
      "Vehicle Type: regular\n",
      "Vehicle Type: regular\n",
      "Vehicle Type: regular\n",
      "Vehicle Type: regular\n",
      "Vehicle Type: regular\n",
      "Constraint: Dict{String, Any}(\"max_vehicles\" => 4, \"cost\" => 2, \"min_vehicles\" => 2, \"id\" => 1, \"vehicles\" => Any[1, 2, 4], \"type\" => \"batch_size\", \"shop\" => \"body\")\n",
      "Constraint: Dict{String, Any}(\"cost\" => 3, \"partition\" => Any[Any[1, 2], Any[3, 4, 5]], \"id\" => 2, \"type\" => \"lot_change\", \"shop\" => \"paint\")\n",
      "Constraint: Dict{String, Any}(\"max_vehicles\" => 2, \"cost\" => 2, \"id\" => 3, \"window_size\" => 3, \"vehicles\" => Any[1, 2, 5], \"type\" => \"rolling_window\", \"shop\" => \"assembly\")\n",
      "Constraint: Dict{String, Any}(\"max_vehicles\" => 3, \"cost\" => 3, \"min_vehicles\" => 2, \"id\" => 4, \"vehicles\" => Any[1, 2, 3], \"type\" => \"batch_size\", \"shop\" => \"assembly\")\n",
      "Constraint: Dict{String, Any}(\"max_vehicles\" => 2, \"cost\" => 3, \"min_vehicles\" => 1, \"id\" => 5, \"vehicles\" => Any[4, 5], \"type\" => \"batch_size\", \"shop\" => \"assembly\")\n",
      "Parameter: Pair{String, Any}(\"two_tone_delta\", 2)\n",
      "Parameter: Pair{String, Any}(\"resequencing_cost\", 20)\n",
      "Shop: Dict{String, Any}(\"name\" => \"body\", \"resequencing_lag\" => 1)\n",
      "Shop: Dict{String, Any}(\"name\" => \"paint\", \"resequencing_lag\" => 2)\n",
      "Shop: Dict{String, Any}(\"name\" => \"assembly\", \"resequencing_lag\" => 0)\n"
     ]
    }
   ],
   "source": [
    "using JSON\n",
    "# Specify the file name and location\n",
    "filename = \"tiny.json\"\n",
    "# Read the JSON file\n",
    "data = JSON.parsefile(filename)\n",
    "\n",
    "# Extract the details from the JSON\n",
    "# For example, extract all shops\n",
    "linear_model = true  # Set to false if you don't want a linear model\n",
    "shops = data[\"shops\"]\n",
    "println(\"Shops:\")\n",
    "println(shops)\n",
    "\n",
    "# Extract vehicles\n",
    "vehicles = data[\"vehicles\"]\n",
    "shops = data[\"shops\"]\n",
    "parameters = data[\"parameters\"]\n",
    "constraints = data[\"constraints\"]\n",
    "\n",
    "for vehicle in vehicles\n",
    "    if linear_model\n",
    "        # Set all vehicles to regular if linear_model is true\n",
    "        println(\"Vehicle Type: regular\")\n",
    "    else\n",
    "        # Otherwise, print the actual vehicle type\n",
    "        println(\"Vehicle ID: \", vehicle[\"id\"], \", Type: \", vehicle[\"type\"])\n",
    "    end\n",
    "end\n",
    "for constraint in constraints\n",
    "    println(\"Constraint: \", constraint)\n",
    "end\n",
    "for parameter in parameters\n",
    "    println(\"Parameter: \", parameter)\n",
    "end\n",
    "for shop in shops\n",
    "    println(\"Shop: \", shop)\n",
    "end\n",
    "\n"
   ]
  },
  {
   "cell_type": "code",
   "execution_count": 144,
   "metadata": {},
   "outputs": [
    {
     "name": "stdout",
     "output_type": "stream",
     "text": [
      "Shop: Dict{String, Any}(\"name\" => \"body\", \"resequencing_lag\" => 1)\n",
      "Shop: Dict{String, Any}(\"name\" => \"paint\", \"resequencing_lag\" => 2)\n",
      "Shop: Dict{String, Any}(\"name\" => \"assembly\", \"resequencing_lag\" => 0)\n",
      "Number of shops: 3\n",
      "number_of_vehicles, 5\n"
     ]
    }
   ],
   "source": [
    "cs = parameters[\"resequencing_cost\"]\n",
    "number_of_shops = length(shops)    \n",
    "for shop in shops\n",
    "    println(\"Shop: \", shop)\n",
    "end\n",
    "println(\"Number of shops: \", number_of_shops)\n",
    "number_of_vehicles = length(vehicles)\n",
    "println(\"number_of_vehicles, \",number_of_vehicles)"
   ]
  },
  {
   "cell_type": "code",
   "execution_count": 145,
   "metadata": {},
   "outputs": [
    {
     "name": "stdout",
     "output_type": "stream",
     "text": [
      "120n: 5\n"
     ]
    },
    {
     "data": {
      "text/plain": [
       "Dict{String, Integer} with 3 entries:\n",
       "  \"body\"     => 1\n",
       "  \"assembly\" => 0\n",
       "  \"paint\"    => 2"
      ]
     },
     "metadata": {},
     "output_type": "display_data"
    }
   ],
   "source": [
    "\n",
    "# Initialize an empty dictionary to store the mapping\n",
    "shop_map = Dict{String, Vector{Any}}()\n",
    "\"\"\" In shop_map, every shop name is a key, and the value is a vector of constraints associated with that shop. \"\"\"\n",
    "lag_map = Dict{String, Integer}()\n",
    "\"\"\" In shop_map, every shop name is a key, and the value is a vector of constraints associated with that shop. \"\"\"\n",
    "# Populate the shop_map with shop names as keys and empty arrays as values\n",
    "for shop in shops\n",
    "    shop_map[shop[\"name\"]] = []\n",
    "    lag_map[shop[\"name\"]] = shop[\"resequencing_lag\"]\n",
    "    print(lag_map[shop[\"name\"]])\n",
    "end\n",
    "n = number_of_vehicles\n",
    "println(\"n: \", n)\n",
    "# Initialize counters or variables if needed\n",
    "\n",
    "# Assume `model` is defined somewhere before this loop (like in JuMP)\n",
    "# Example: model = Model(Ipopt.Optimizer)\n",
    "\n",
    "# Iterate through constraints and associate them with the corresponding shop in shop_map\n",
    "\n",
    "for constraint in constraints\n",
    "    name = constraint[\"shop\"]\n",
    "    if haskey(shop_map, name)\n",
    "        push!(shop_map[name], constraint)\n",
    "    else\n",
    "        println(\"Warning: Shop name $name in constraints does not exist in shops.\")\n",
    "    end\n",
    "end\n",
    "\n",
    "(lag_map)\n"
   ]
  },
  {
   "cell_type": "code",
   "execution_count": 146,
   "metadata": {},
   "outputs": [
    {
     "data": {
      "text/plain": [
       "perturb_solution (generic function with 1 method)"
      ]
     },
     "metadata": {},
     "output_type": "display_data"
    }
   ],
   "source": [
    "# Function to perturb a solution (for example, swapping two elements)\n",
    "function perturb_solution_big(perm)\n",
    "    new_perm = copy(perm)\n",
    "    idx1, idx2 = rand(1:length(perm), 2)\n",
    "    # Swap two random elements\n",
    "    new_perm[idx1], new_perm[idx2] = new_perm[idx2], new_perm[idx1]\n",
    "    return new_perm\n",
    "end\n",
    "\n",
    "function perturb_solution(perm)\n",
    "    new_perm = copy(perm)\n",
    "    # Randomly select an index for the swap, ensuring it's not the last index\n",
    "    idx = rand(1:length(perm) - 1)\n",
    "    # Swap the element at idx with the element at idx + 1\n",
    "    new_perm[idx], new_perm[idx + 1] = new_perm[idx + 1], new_perm[idx]\n",
    "    return new_perm\n",
    "end\n",
    "\n"
   ]
  },
  {
   "cell_type": "code",
   "execution_count": 147,
   "metadata": {},
   "outputs": [
    {
     "data": {
      "text/plain": [
       "calculate_resequencing_cost (generic function with 1 method)"
      ]
     },
     "metadata": {},
     "output_type": "display_data"
    }
   ],
   "source": [
    "function calculate_resequencing_cost(permutations, Δs, cs)\n",
    "    # Initialize the resequencing cost\n",
    "    total_cost = 0\n",
    "\n",
    "    # Number of shops (S)\n",
    "    S = length(permutations)\n",
    "    \n",
    "    # Iterate over each consecutive pair of shops\n",
    "    for s in 1:(S-1)\n",
    "        # Get the current shop and the next shop\n",
    "        perm_s = permutations[s]\n",
    "        perm_s_next = permutations[s+1]\n",
    "        \n",
    "        # Iterate through each vehicle\n",
    "        for v in 1:length(perm_s)\n",
    "            # Get the position of vehicle v in the current shop (s) and the next shop (s+1)\n",
    "            t_s = findfirst(isequal(v), perm_s)  # Position of v in shop s\n",
    "            t_s_next = findfirst(isequal(v), perm_s_next)  # Position of v in shop s+1\n",
    "            \n",
    "            # Handle cases where the position is not found (i.e., t_s or t_s_next is nothing)\n",
    "            if isnothing(t_s) || isnothing(t_s_next)\n",
    "                continue  # Skip this vehicle if the position is not found\n",
    "            end\n",
    "            \n",
    "            # Access Δs based on the shop index `s`\n",
    "            Δs_value = Δs[s]  # Δs indexed by s\n",
    "            \n",
    "            # Ensure Δs_value is not Nothing or handle the case if it's out of expected bounds\n",
    "            if isnothing(Δs_value)\n",
    "                continue  # Skip if the Δs_value is not available\n",
    "            end\n",
    "\n",
    "            # Check if the vehicle satisfies the constraint\n",
    "            if t_s_next >= t_s - Δs_value  # Use the Δs value safely\n",
    "                # No penalty if the constraint is satisfied\n",
    "                continue\n",
    "            else\n",
    "                # Calculate penalty if the constraint is violated\n",
    "                penalty = cs * max(0, t_s - Δs_value - t_s_next)\n",
    "                total_cost += penalty\n",
    "            end\n",
    "        end\n",
    "    end\n",
    "    \n",
    "    return total_cost\n",
    "end\n"
   ]
  },
  {
   "cell_type": "code",
   "execution_count": 148,
   "metadata": {},
   "outputs": [
    {
     "data": {
      "text/plain": [
       "calculate_cost_origin (generic function with 1 method)"
      ]
     },
     "metadata": {},
     "output_type": "display_data"
    }
   ],
   "source": [
    "function calculate_cost_origin(perm, Cl, Ul, Vr, Mr, wr, cr, mb, Mb, cb, Vb)\n",
    "    total_cost = 0\n",
    "\n",
    "    # Lot change constraints (Cl and Ul)\n",
    "    if !isempty(Cl) && !isempty(Ul)\n",
    "        for (i, l) in enumerate(Cl)\n",
    "            for s in l\n",
    "                for t in 1:(length(perm)-1)\n",
    "                    # Find the group for perm[t] and perm[t+1]\n",
    "                    group_t = findfirst(g -> perm[t] in g, Ul[i])\n",
    "                    group_t1 = findfirst(g -> perm[t+1] in g, Ul[i])\n",
    "    \n",
    "    \n",
    "                    # Check if consecutive vehicles belong to different groups\n",
    "                    if group_t != group_t1\n",
    "                        total_cost += s  # Add penalty associated with the lot change\n",
    "                    end\n",
    "                end\n",
    "            end\n",
    "        end\n",
    "    end\n",
    "    \n",
    "\n",
    "    # Rolling window constraints (Vr, Mr, wr, cr)\n",
    "    if !isempty(Vr) && !isempty(Mr) && !isempty(wr) && !isempty(cr)\n",
    "        for (r_idx, r) in enumerate(Vr)\n",
    "            max_violations = 0\n",
    "            for t in 1:(length(perm) - wr[r_idx] + 1)\n",
    "                window = perm[t:(t+wr[r_idx]-1)]\n",
    "                violation_count = sum(v -> v in r, window)\n",
    "                if violation_count > Mr[r_idx]\n",
    "                    max_violations += (violation_count - Mr[r_idx])^2 * cr[r_idx]\n",
    "                end\n",
    "            end\n",
    "            total_cost += max_violations\n",
    "        end\n",
    "    end\n",
    "\n",
    "    # Batch size constraints (Vb, mb, Mb, cb)\n",
    "    if !isempty(Vb) && !isempty(mb) && !isempty(Mb) && !isempty(cb)\n",
    "        for (b_idx, b) in enumerate(Vb)\n",
    "            max_violations = 0\n",
    "            batch_start = 1\n",
    "            while batch_start <= length(perm)\n",
    "                batch_end = batch_start\n",
    "                while batch_end < length(perm) && perm[batch_end+1] in b\n",
    "                    batch_end += 1\n",
    "                end\n",
    "                batch_size = batch_end - batch_start + 1\n",
    "                if batch_size < mb[b_idx] || batch_size > Mb[b_idx]\n",
    "                    max_violations += (max(0, mb[b_idx] - batch_size, batch_size - Mb[b_idx]))^2 * cb[b_idx]\n",
    "                end\n",
    "                batch_start = batch_end + 1\n",
    "            end\n",
    "            total_cost += max_violations\n",
    "        end\n",
    "    end\n",
    "\n",
    "    return total_cost\n",
    "end"
   ]
  },
  {
   "cell_type": "code",
   "execution_count": 149,
   "metadata": {},
   "outputs": [
    {
     "data": {
      "text/plain": [
       "calculate_cost (generic function with 1 method)"
      ]
     },
     "metadata": {},
     "output_type": "display_data"
    }
   ],
   "source": [
    "function calculate_cost(perms, Cl, Ul, Vr, Mr, wr, cr, mb, Mb, cb, Vb,Δs,cs)\n",
    "    cost = calculate_resequencing_cost(perms, Δs, cs)\n",
    "    for i  in length(perms) \n",
    "        cost+= calculate_cost_origin(perms[i], Cl[i], Ul[i], Vr[i], Mr[i], wr[i], cr[i], mb[i], Mb[i], cb[i], Vb[i])\n",
    "    end\n",
    "    return cost\n",
    "end\n"
   ]
  },
  {
   "cell_type": "code",
   "execution_count": 150,
   "metadata": {},
   "outputs": [
    {
     "data": {
      "text/plain": [
       "simulated_annealing (generic function with 2 methods)"
      ]
     },
     "metadata": {},
     "output_type": "display_data"
    }
   ],
   "source": [
    "function simulated_annealing(perms, Cl, Ul, Vr, Mr, wr, cr, mb, Mb, cb, Vb,Δs,cs; T0=1000, alpha=0.7, max_iter=10000000)\n",
    "    # Initialize variables\n",
    "    current_cost = calculate_cost(perms, Cl, Ul, Vr, Mr, wr, cr, mb, Mb, cb, Vb, Δs, cs)  # Calculate cost of the initial solution\n",
    "    best_perms = perms  # Best solution found\n",
    "    best_cost = current_cost  # Best cost found\n",
    "    T = T0  # Initial temperature\n",
    "    counter = 0\n",
    "    \n",
    "    for iter in 1:max_iter\n",
    "        if (T < 1e-50)\n",
    "            break\n",
    "        end\n",
    "        neighbor_costs = []\n",
    "        neighbor_perms = []\n",
    "        # Generate a set of neighboring solutions (perturbations)\n",
    "        for i in 1:length(perms)\n",
    "            perm_copy = perms\n",
    "            perm = perms[i]\n",
    "            perturbed_perm = perturb_solution(perm)\n",
    "            perm_copy[i] = perturbed_perm\n",
    "            perturbed_cost = calculate_cost(perm_copy, Cl, Ul, Vr, Mr, wr, cr, mb, Mb, cb, Vb, Δs, cs)\n",
    "            push!(neighbor_perms,perm_copy)\n",
    "            push!(neighbor_costs,perturbed_cost)\n",
    "        end\n",
    "        # Find the best neighboring solution\n",
    "        min_cost_idx = argmin(neighbor_costs)\n",
    "        best_neighbor = neighbor_perms[min_cost_idx]\n",
    "        best_neighbor_cost = neighbor_costs[min_cost_idx]\n",
    "\n",
    "        # If the best neighboring solution is better, update the current solution\n",
    "        if best_neighbor_cost < current_cost\n",
    "            counter = 0\n",
    "            perms = best_neighbor\n",
    "            current_cost = best_neighbor_cost\n",
    "\n",
    "            # If the new solution is the best, update the best solution\n",
    "            if best_neighbor_cost < best_cost\n",
    "                best_perms = best_neighbor\n",
    "                best_cost = best_neighbor_cost\n",
    "            end\n",
    "        else\n",
    "            # If the new solution is worse, accept it with a certain probability based on temperature\n",
    "            counter += 1\n",
    "            if counter < 10\n",
    "                acceptance_probability = exp(-(best_neighbor_cost - current_cost) / T)\n",
    "                if rand() < acceptance_probability\n",
    "                    perms = best_neighbor\n",
    "                    current_cost = best_neighbor_cost\n",
    "                end\n",
    "            else\n",
    "                # Larger perturbation for worse solutions\n",
    "                acceptance_probability = exp(-(best_neighbor_cost - current_cost) / T)\n",
    "                if rand() < acceptance_probability\n",
    "                    perms = perturb_solution_big(perms)\n",
    "                    current_cost = calculate_cost(perms, Cl, Ul, Vr, Mr, wr, cr, mb, Mb, cb, Vb, Δs, cs)\n",
    "                end\n",
    "            end\n",
    "        end\n",
    "\n",
    "        # Reduce the temperature (cooling schedule)\n",
    "        T *= alpha\n",
    "\n",
    "        # Optionally print progress\n",
    "        if iter % 1000 == 0\n",
    "            println(\"Iteration: $iter, Best Cost: $best_cost, Temperature: $T\")\n",
    "        end\n",
    "    end\n",
    "\n",
    "    return best_perms, best_cost\n",
    "end\n"
   ]
  },
  {
   "cell_type": "code",
   "execution_count": 151,
   "metadata": {},
   "outputs": [
    {
     "name": "stdout",
     "output_type": "stream",
     "text": [
      "shop: body\n",
      "shop: assembly\n",
      "shop: paint\n",
      "[[1, 2, 3, 4, 5], [1, 2, 3, 4, 5], [1, 2, 3, 4, 5]]\n",
      "3\n"
     ]
    },
    {
     "data": {
      "text/plain": [
       "([[2, 1, 5, 3, 4], [5, 1, 3, 2, 4], [5, 3, 2, 1, 4]], 3)"
      ]
     },
     "metadata": {},
     "output_type": "display_data"
    }
   ],
   "source": [
    "# Initialize result and Δs lists\n",
    "result = []\n",
    "Δs = []\n",
    "\n",
    "# Initialize global constraint lists for all shops\n",
    "Cl = []          # Cost list (Ints)\n",
    "Ul = []  # Partitions (Array of arrays of Ints)\n",
    "Vr = []  # Vehicles (Array of arrays of Ints)\n",
    "Mr = []          # Max vehicles (Ints)\n",
    "wr = []          # Window size (Ints)\n",
    "cr = []          # Cost (Ints)\n",
    "mb = []          # Min vehicles (Ints)\n",
    "Mb = []          # Max vehicles (Ints)\n",
    "cb = []          # Cost (Ints)\n",
    "Vb = []  # Vehicles (Array of Ints)\n",
    "\n",
    "# Loop through each shop and its constraints\n",
    "for (shop, constraints) in shop_map\n",
    "    println(\"shop: \", shop)\n",
    "    \n",
    "    # Initialize shop-specific constraint lists\n",
    "    Cl0 = Int[]          # Cost list (Ints)\n",
    "    Ul0 = Vector{Vector{Int}}[]  # Partitions (Array of arrays of Ints)\n",
    "    Vr0 = Vector{Int}[]  # Vehicles (Array of arrays of Ints)\n",
    "    Mr0 = Int[]          # Max vehicles (Ints)\n",
    "    wr0 = Int[]          # Window size (Ints)\n",
    "    cr0 = Int[]          # Cost (Ints)\n",
    "    mb0 = Int[]          # Min vehicles (Ints)\n",
    "    Mb0 = Int[]          # Max vehicles (Ints)\n",
    "    cb0 = Int[]          # Cost (Ints)\n",
    "    Vb0 = Vector{Int}[]  # Vehicles (Array of Ints)\n",
    "    \n",
    "    # Add the lag for the current shop\n",
    "    push!(Δs, lag_map[shop])\n",
    "    \n",
    "    # Loop through constraints and separate them by type\n",
    "    for constraint in constraints\n",
    "        if constraint[\"type\"] == \"lot_change\"\n",
    "            cl = constraint[\"cost\"]\n",
    "            Ul_0 = constraint[\"partition\"]\n",
    "            push!(Ul0, Ul_0)  # Ensure Ul_0 is an array of Int\n",
    "            push!(Cl0, cl)\n",
    "        end\n",
    "\n",
    "        if constraint[\"type\"] == \"rolling_window\"\n",
    "            Vr_0 = constraint[\"vehicles\"]\n",
    "            Mr_0 = constraint[\"max_vehicles\"]\n",
    "            wr_0 = constraint[\"window_size\"]\n",
    "            cr_0 = constraint[\"cost\"]\n",
    "            push!(Vr0, Vr_0)  # Ensure Vr_0 is an array of Int\n",
    "            push!(Mr0, Mr_0)\n",
    "            push!(wr0, wr_0)\n",
    "            push!(cr0, cr_0)\n",
    "        end\n",
    "\n",
    "        if constraint[\"type\"] == \"batch_size\"\n",
    "            mb_0 = constraint[\"min_vehicles\"]\n",
    "            Mb_0 = constraint[\"max_vehicles\"]\n",
    "            Vb_0 = constraint[\"vehicles\"]\n",
    "            cb_0 = constraint[\"cost\"]\n",
    "            push!(mb0, mb_0)\n",
    "            push!(Mb0, Mb_0)\n",
    "            push!(Vb0, Vb_0)  # Ensure Vb_0 is an array of Int\n",
    "            push!(cb0, cb_0)\n",
    "        end\n",
    "    end\n",
    "\n",
    "    # Push all constraint lists (even if they are empty) to the global lists\n",
    "    push!(Cl, Cl0)\n",
    "    push!(Ul, Ul0)\n",
    "    push!(Vr, Vr0)\n",
    "    push!(Mr, Mr0)\n",
    "    push!(wr, wr0)\n",
    "    push!(cr, cr0)\n",
    "    push!(mb, mb0)\n",
    "    push!(Mb, Mb0)\n",
    "    push!(cb, cb0)\n",
    "    push!(Vb, Vb0)\n",
    "end\n",
    "perms = [[i for i in 1:n] for k in 1:3]\n",
    "println(perms)\n",
    "println(length(perms))\n",
    "simulated_annealing(perms, Cl, Ul, Vr, Mr, wr, cr, mb, Mb, cb, Vb,Δs,cs; T0=1000, alpha=0.7, max_iter=10000000)"
   ]
  },
  {
   "cell_type": "code",
   "execution_count": 152,
   "metadata": {},
   "outputs": [
    {
     "data": {
      "text/plain": [
       "3-element Vector{Any}:\n",
       " 1\n",
       " 0\n",
       " 2"
      ]
     },
     "metadata": {},
     "output_type": "display_data"
    }
   ],
   "source": []
  },
  {
   "cell_type": "code",
   "execution_count": 153,
   "metadata": {},
   "outputs": [
    {
     "data": {
      "text/plain": [
       "3-element Vector{Any}:\n",
       " 1\n",
       " 0\n",
       " 2"
      ]
     },
     "metadata": {},
     "output_type": "display_data"
    }
   ],
   "source": [
    "Δs"
   ]
  }
 ],
 "metadata": {
  "kernelspec": {
   "display_name": "Julia 1.11.2",
   "language": "julia",
   "name": "julia-1.11"
  },
  "language_info": {
   "file_extension": ".jl",
   "mimetype": "application/julia",
   "name": "julia",
   "version": "1.11.2"
  }
 },
 "nbformat": 4,
 "nbformat_minor": 2
}
