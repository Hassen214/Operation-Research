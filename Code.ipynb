{
 "cells": [
  {
   "cell_type": "code",
   "execution_count": 6,
   "metadata": {},
   "outputs": [
    {
     "name": "stdout",
     "output_type": "stream",
     "text": [
      "Shops:\n",
      "Any[Dict{String, Any}(\"name\" => \"body\", \"resequencing_lag\" => 1), Dict{String, Any}(\"name\" => \"paint\", \"resequencing_lag\" => 2), Dict{String, Any}(\"name\" => \"assembly\", \"resequencing_lag\" => 0)]\n",
      "Vehicle Type: regular\n",
      "Vehicle Type: regular\n",
      "Vehicle Type: regular\n",
      "Vehicle Type: regular\n",
      "Vehicle Type: regular\n",
      "Constraint: Dict{String, Any}(\"max_vehicles\" => 4, \"cost\" => 2, \"min_vehicles\" => 2, \"id\" => 1, \"vehicles\" => Any[1, 2, 4], \"type\" => \"batch_size\", \"shop\" => \"body\")\n",
      "Constraint: Dict{String, Any}(\"cost\" => 3, \"partition\" => Any[Any[1, 2], Any[3, 4, 5]], \"id\" => 2, \"type\" => \"lot_change\", \"shop\" => \"paint\")\n",
      "Constraint: Dict{String, Any}(\"max_vehicles\" => 2, \"cost\" => 2, \"id\" => 3, \"window_size\" => 3, \"vehicles\" => Any[1, 2, 5], \"type\" => \"rolling_window\", \"shop\" => \"assembly\")\n",
      "Constraint: Dict{String, Any}(\"max_vehicles\" => 3, \"cost\" => 3, \"min_vehicles\" => 2, \"id\" => 4, \"vehicles\" => Any[1, 2, 3], \"type\" => \"batch_size\", \"shop\" => \"assembly\")\n",
      "Constraint: Dict{String, Any}(\"max_vehicles\" => 2, \"cost\" => 3, \"min_vehicles\" => 1, \"id\" => 5, \"vehicles\" => Any[4, 5], \"type\" => \"batch_size\", \"shop\" => \"assembly\")\n",
      "Parameter: Pair{String, Any}(\"two_tone_delta\", 2)\n",
      "Parameter: Pair{String, Any}(\"resequencing_cost\", 20)\n",
      "Shop: Dict{String, Any}(\"name\" => \"body\", \"resequencing_lag\" => 1)\n",
      "Shop: Dict{String, Any}(\"name\" => \"paint\", \"resequencing_lag\" => 2)\n",
      "Shop: Dict{String, Any}(\"name\" => \"assembly\", \"resequencing_lag\" => 0)\n"
     ]
    }
   ],
   "source": [
    "using JSON\n",
    "\n",
    "# Specify the file name and location\n",
    "filename = \"tiny.json\"\n",
    "\n",
    "# Read the JSON file\n",
    "data = JSON.parsefile(filename)\n",
    "\n",
    "# Extract the details from the JSON\n",
    "# For example, extract all shops\n",
    "linear_model = true  # Set to false if you don't want a linear model\n",
    "shops = data[\"shops\"]\n",
    "println(\"Shops:\")\n",
    "println(shops)\n",
    "\n",
    "# Extract vehicles\n",
    "vehicles = data[\"vehicles\"]\n",
    "shops = data[\"shops\"]\n",
    "parameters = data[\"parameters\"]\n",
    "constraints = data[\"constraints\"]\n",
    "\n",
    "for vehicle in vehicles\n",
    "    if linear_model\n",
    "        # Set all vehicles to regular if linear_model is true\n",
    "        println(\"Vehicle Type: regular\")\n",
    "    else\n",
    "        # Otherwise, print the actual vehicle type\n",
    "        println(\"Vehicle ID: \", vehicle[\"id\"], \", Type: \", vehicle[\"type\"])\n",
    "    end\n",
    "end\n",
    "for constraint in constraints\n",
    "    println(\"Constraint: \", constraint)\n",
    "end\n",
    "for parameter in parameters\n",
    "    println(\"Parameter: \", parameter)\n",
    "end\n",
    "for shop in shops\n",
    "    println(\"Shop: \", shop)\n",
    "end\n",
    "\n"
   ]
  },
  {
   "cell_type": "code",
   "execution_count": null,
   "metadata": {},
   "outputs": [
    {
     "data": {
      "text/plain": [
       "20"
      ]
     },
     "metadata": {},
     "output_type": "display_data"
    }
   ],
   "source": [
    "resequencing_cost = parameters[\"resequencing_cost\"]\n",
    "shops ={}\n",
    "for shop in shops \n",
    "    \n",
    "end \n",
    "lot_changeover_cost = 0\n",
    "rolling_window_cost = 0 \n",
    "batch_size_cost = 0\n",
    "\n",
    "for constraint in constraints\n",
    "    \n",
    "end"
   ]
  },
  {
   "cell_type": "code",
   "execution_count": null,
   "metadata": {},
   "outputs": [],
   "source": [
    "d"
   ]
  }
 ],
 "metadata": {
  "kernelspec": {
   "display_name": "Julia 1.11.2",
   "language": "julia",
   "name": "julia-1.11"
  },
  "language_info": {
   "file_extension": ".jl",
   "mimetype": "application/julia",
   "name": "julia",
   "version": "1.11.2"
  }
 },
 "nbformat": 4,
 "nbformat_minor": 2
}
