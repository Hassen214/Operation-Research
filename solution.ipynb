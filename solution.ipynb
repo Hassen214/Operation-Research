{
 "cells": [
  {
   "cell_type": "code",
   "execution_count": 23,
   "metadata": {},
   "outputs": [],
   "source": [
    "println(\"Hello, Julia!\")\n",
    "\n"
   ]
  },
  {
   "cell_type": "code",
   "execution_count": 24,
   "metadata": {},
   "outputs": [
    {
     "data": {
      "text/plain": [
       "Instance(name = tiny,\n",
       "two-tone delta = 2,\n",
       "vehicles (5) = [Vehicle(id=1, type=regular),Vehicle(id=2, type=regular),Vehicle(id=3, type=two-tone),Vehicle(id=4, type=regular),Vehicle(id=5, type=two-tone)],\n",
       "shops = [Shop(name = body,\n",
       "\tisPaint = false,\n",
       "\tresequencingLag = 1,\n",
       "\tresequencingCost = 20.0,\n",
       "\tbatchSizes (1) = [BatchSize(id=1, cost=2.0, min_size=2, max_size=4, vehicles=[1, 2, 4])],\n",
       "\tlotChanges (0) = [],\n",
       "\trollingWindows (0) = []\n",
       "),\n",
       "Shop(name = paint,\n",
       "\tisPaint = true,\n",
       "\tresequencingLag = 2,\n",
       "\tresequencingCost = 20.0,\n",
       "\tbatchSizes (0) = [],\n",
       "\tlotChanges (1) = [LotChange(id=2, cost=3.0, partition=[[1, 2], [3, 4, 5]])],\n",
       "\trollingWindows (0) = []\n",
       "),\n",
       "Shop(name = assembly,\n",
       "\tisPaint = false,\n",
       "\tresequencingLag = 0,\n",
       "\tresequencingCost = 20.0,\n",
       "\tbatchSizes (2) = [BatchSize(id=4, cost=3.0, min_size=2, max_size=3, vehicles=[1, 2, 3]),BatchSize(id=5, cost=3.0, min_size=1, max_size=2, vehicles=[4, 5])],\n",
       "\tlotChanges (0) = [],\n",
       "\trollingWindows (1) = [RollingWindow(id=3, cost=2.0, window_size=3, max_vehicles=2, vehicles=[1, 2, 5])]\n",
       ")],\n",
       ")"
      ]
     },
     "metadata": {},
     "output_type": "display_data"
    }
   ],
   "source": [
    "using Kiro24Base\n",
    "filename = \"tiny.json\"\n",
    "instance = Kiro24Base.read_instance(filename, verbose=true)"
   ]
  },
  {
   "cell_type": "code",
   "execution_count": 25,
   "metadata": {},
   "outputs": [],
   "source": [
    "using JSON,Random\n",
    "using OrderedCollections\n",
    "\n",
    "# Specify the file name and location\n",
    "# Read the JSON file\n",
    "data = JSON.parsefile(filename)\n",
    "\n",
    "# Extract the details from the JSON\n",
    "# For example, extract all shops\n",
    "linear_model = false  # Set to false if you don't want a linear model\n",
    "shops = data[\"shops\"]\n",
    "println(\"Shops:\")\n",
    "println(shops)\n",
    "\n",
    "# Extract vehicles\n",
    "vehicles = data[\"vehicles\"]\n",
    "shops = data[\"shops\"]\n",
    "parameters = data[\"parameters\"]\n",
    "constraints = data[\"constraints\"]\n",
    "two_tone_vehicle = []\n",
    "i = 0\n",
    "for vehicle in vehicles\n",
    "    i+=1\n",
    "    if linear_model\n",
    "        # Set all vehicles to regular if linear_model is true\n",
    "        println(\"Vehicle Type: \")\n",
    "    else\n",
    "        # Otherwise, print the actual vehicle type\n",
    "        if vehicle[\"type\"] == \"two-tone\"\n",
    "            push!(two_tone_vehicle,i)\n",
    "        end\n",
    "    end\n",
    "end\n",
    "for constraint in constraints\n",
    "    println(\"Constraint: \", constraint)\n",
    "end\n",
    "for parameter in parameters\n",
    "    println(\"Parameter: \", parameter)\n",
    "end\n",
    "for shop in shops\n",
    "    println(\"Shop: \", shop)\n",
    "end\n",
    "\n"
   ]
  },
  {
   "cell_type": "code",
   "execution_count": 26,
   "metadata": {},
   "outputs": [],
   "source": [
    "cs = parameters[\"resequencing_cost\"]\n",
    "number_of_shops = length(shops)    \n",
    "δ = parameters[\"two_tone_delta\"]\n",
    "println(δ)\n",
    "i=0 \n",
    "for shop in shops\n",
    "    i+=1\n",
    "    \n",
    "    println(\"Shop: \",i,\"  \", shop)\n",
    "end\n",
    "println(\"Number of shops: \", number_of_shops)\n",
    "number_of_vehicles = length(vehicles)\n",
    "println(\"number_of_vehicles, \",number_of_vehicles)"
   ]
  },
  {
   "cell_type": "code",
   "execution_count": 27,
   "metadata": {},
   "outputs": [
    {
     "data": {
      "text/plain": [
       "OrderedDict{String, Integer} with 3 entries:\n",
       "  \"body\"     => 1\n",
       "  \"paint\"    => 2\n",
       "  \"assembly\" => 0"
      ]
     },
     "metadata": {},
     "output_type": "display_data"
    }
   ],
   "source": [
    "\n",
    "# Initialize an empty dictionary to store the mapping\n",
    "shop_map = OrderedDict{String, Vector{Any}}()\n",
    "\"\"\" In shop_map, every shop name is a key, and the value is a vector of constraints associated with that shop. \"\"\"\n",
    "lag_map = OrderedDict{String, Integer}()\n",
    "\"\"\" In shop_map, every shop name is a key, and the value is a vector of constraints associated with that shop. \"\"\"\n",
    "# Populate the shop_map with shop names as keys and empty arrays as values\n",
    "i = 0\n",
    "for shop in shops\n",
    "    i+=1\n",
    "    shop_map[shop[\"name\"]] = []\n",
    "    lag_map[shop[\"name\"]] = shop[\"resequencing_lag\"]\n",
    "    println(shop[\"name\"],\"i :\",i)\n",
    "end\n",
    "n = number_of_vehicles\n",
    "println(\"n: \", n)\n",
    "# Initialize counters or variables if needed\n",
    "\n",
    "# Assume `model` is defined somewhere before this loop (like in JuMP)\n",
    "# Example: model = Model(Ipopt.Optimizer)\n",
    "\n",
    "# Iterate through constraints and associate them with the corresponding shop in shop_map\n",
    "\n",
    "for constraint in constraints\n",
    "    name = constraint[\"shop\"]\n",
    "    if haskey(shop_map, name)\n",
    "        push!(shop_map[name], constraint)\n",
    "    else\n",
    "        println(\"Warning: Shop name $name in constraints does not exist in shops.\")\n",
    "    end\n",
    "end\n",
    "\n",
    "(lag_map)\n"
   ]
  },
  {
   "cell_type": "code",
   "execution_count": 28,
   "metadata": {},
   "outputs": [
    {
     "data": {
      "text/plain": [
       "5"
      ]
     },
     "metadata": {},
     "output_type": "display_data"
    }
   ],
   "source": [
    "n"
   ]
  },
  {
   "cell_type": "code",
   "execution_count": 29,
   "metadata": {},
   "outputs": [
    {
     "data": {
      "text/plain": [
       "true"
      ]
     },
     "metadata": {},
     "output_type": "display_data"
    }
   ],
   "source": [
    "\n",
    "perm = [i for i in 1:n] \n",
    "perm_copy = copy(perm)\n",
    "\n",
    "entry = hcat(perm_copy, perm_copy, perm_copy)  # Concatenate columns to create the matrix\n",
    "\n",
    "sexit = (Solution(instance::Instance, entry)).exits\n",
    "solution = Solution(entry, sexit)\n",
    "\n",
    "# Display the solution\n",
    "println(solution)\n",
    "\n",
    "# Compute the cost of the solution\n",
    "total_cost = compute_cost(instance, solution, verbose=true)\n",
    "println(\"Total Cost: \", total_cost)\n",
    "is_feasible(instance, solution,verbose = true)\n"
   ]
  },
  {
   "cell_type": "code",
   "execution_count": 30,
   "metadata": {},
   "outputs": [
    {
     "data": {
      "text/plain": [
       "(5, 3)"
      ]
     },
     "metadata": {},
     "output_type": "display_data"
    }
   ],
   "source": [
    "(entry.size)"
   ]
  },
  {
   "cell_type": "code",
   "execution_count": 31,
   "metadata": {},
   "outputs": [
    {
     "data": {
      "text/plain": [
       "random_perturbation (generic function with 1 method)"
      ]
     },
     "metadata": {},
     "output_type": "display_data"
    }
   ],
   "source": [
    "# Function to generate targeted neighbors\n",
    "\n",
    "function generate_targeted_neighbors(perm, Vr, Ul,Vb)\n",
    "    # Start with a random perturbation as a fallback\n",
    "\n",
    "    perturbed_perm = random_perturbation(perm)\n",
    "    n = length(perturbed_perm)\n",
    "    l = length(Vr)\n",
    "    k = 0\n",
    "    n = length(perturbed_perm)\n",
    "\n",
    "    if l > 0\n",
    "        for i in 1:n \n",
    "            if perturbed_perm[i] in Vr\n",
    "                k += 1\n",
    "            else\n",
    "                k = 0\n",
    "            end\n",
    "\n",
    "            if k == l && i < n\n",
    "                # Find the next element not in Vr\n",
    "                for j in 1:n\n",
    "                    if perm[j] ∉ Vr\n",
    "                        # Swap the i-th element with the j-th element\n",
    "                        perm[i], perm[j] = perm[j], perm[i]\n",
    "                        break\n",
    "                    end\n",
    "                end\n",
    "                k = 0  # Reset k after the swap\n",
    "            end\n",
    "        end\n",
    "    end\n",
    "    # Handle perturbation based on Ul\n",
    "    for i in 1:(n-1)\n",
    "        # Check if the consecutive elements are not in the same sublist in Ul\n",
    "        if !in_same_lot(perturbed_perm[i], perturbed_perm[i + 1], Ul)\n",
    "            # Replace one of the elements with a random element from perm\n",
    "            for j in 1:length(perm)\n",
    "                if j != i && j != i + 1 && in_same_lot(perturbed_perm[i], perturbed_perm[j], Ul)\n",
    "                    # Replace element at index i with the one at index j\n",
    "                    perturbed_perm[i] = perturbed_perm[j]\n",
    "                    break  # Exit loop once a change has been made\n",
    "                end\n",
    "            end\n",
    "        end\n",
    "    end\n",
    "    # Batch size constraints (Vb, mb, Mb, cb)\n",
    "    if !isempty(Vb) \n",
    "        for i in 1:length(Vb)\n",
    "            vb = Set(Vb[i])\n",
    "\n",
    "            \n",
    "            for t in 1:n-1\n",
    "                b = true\n",
    "                if t > 1\n",
    "                    b = !(perturbed_perm[t-1] in vb) && b\n",
    "                end\n",
    "                b  = perturbed_perm[t] in vb && b\n",
    "                if !b \n",
    "                    continue\n",
    "                end\n",
    "                for t0 in t:n\n",
    "                    for k in t:t0\n",
    "                        b = (perturbed_perm[k] in vb) && b\n",
    "                    end\n",
    "                    if !b \n",
    "                        continue\n",
    "                    end\n",
    "                    if t0 <= n-1\n",
    "                        b = !(perturbed_perm[t0+1] in vb) && b\n",
    "                    end\n",
    "                    if b\n",
    "                        s = (t0-t) ÷ 2\n",
    "                        if (t>1) \n",
    "                            perturbed_perm[t-1],perturbed_perm[t+s] = perturbed_perm[t+s],perturbed_perm[t-1]\n",
    "                        end\n",
    "                    end\n",
    "                end\n",
    "            end\n",
    "        end\n",
    "    end\n",
    "\n",
    "    return perturbed_perm\n",
    "end\n",
    "\n",
    "# Helper function to check if two elements are in the same sublist in Ul\n",
    "function in_same_lot(elem1, elem2, Ul)\n",
    "    for lot in Ul\n",
    "        if elem1 in lot && elem2 in lot\n",
    "            return true\n",
    "        end\n",
    "    end\n",
    "    return false\n",
    "end\n",
    "\n",
    "\n",
    "# Helper function to apply a random perturbation\n",
    "function random_perturbation(perm)\n",
    "    # Randomly choose two indices to swap\n",
    "    copy_perm = copy(perm)\n",
    "    idx1, idx2 = rand(1:length(perm)), rand(1:length(perm))\n",
    "    copy_perm[idx1], copy_perm[idx2] = copy_perm[idx2], copy_perm[idx1]\n",
    "    return copy_perm\n",
    "end\n"
   ]
  },
  {
   "cell_type": "code",
   "execution_count": 32,
   "metadata": {},
   "outputs": [
    {
     "data": {
      "text/plain": [
       "5×3 Matrix{Int64}:\n",
       " 1  1  1\n",
       " 2  2  2\n",
       " 3  3  3\n",
       " 4  4  4\n",
       " 5  5  5"
      ]
     },
     "metadata": {},
     "output_type": "display_data"
    }
   ],
   "source": [
    "solution.entries"
   ]
  },
  {
   "cell_type": "code",
   "execution_count": 33,
   "metadata": {},
   "outputs": [
    {
     "data": {
      "text/plain": [
       "simulated_annealing (generic function with 1 method)"
      ]
     },
     "metadata": {},
     "output_type": "display_data"
    }
   ],
   "source": [
    "function simulated_annealing(perms, Cl, Ul, Vr, Mr, wr, cr, mb, Mb, cb, Vb,Δs,cs; T0, alpha, max_iter)\n",
    "    # Initialize variables\n",
    "    current_cost = calculate_cost(perms, Cl, Ul, Vr, Mr, wr, cr, mb, Mb, cb, Vb, Δs, cs)  # Calculate cost of the initial solution\n",
    "    best_perms = copy(perms)  # Best solution found\n",
    "    best_cost = current_cost  # Best cost found\n",
    "    T = T0  # Initial temperature\n",
    "    counter = 0\n",
    "    \n",
    "    for iter in 1:max_iter\n",
    "        if (T<1e-25) \n",
    "            break\n",
    "        end\n",
    "        neighbor_costs = []\n",
    "        neighbor_perms = []\n",
    "        # Generate a set of neighboring solutions (perturbations)\n",
    "        for i in 1:length(perms)\n",
    "            perm_copy = copy(perms)\n",
    "            perm = perms[i]\n",
    "            perturbed_perm = generate_targeted_neighbors(perm, Vr[i], Ul[i],Vb[i])\n",
    "            perm_copy[i] = perturbed_perm\n",
    "            perturbed_cost = calculate_cost(perm_copy, Cl, Ul, Vr, Mr, wr, cr, mb, Mb, cb, Vb, Δs, cs)\n",
    "            push!(neighbor_perms,perm_copy)\n",
    "            push!(neighbor_costs,perturbed_cost)\n",
    "        end\n",
    "        # Find the best neighboring solution\n",
    "        min_cost_idx = argmin(neighbor_costs)\n",
    "        best_neighbor = neighbor_perms[min_cost_idx]\n",
    "        best_neighbor_cost = neighbor_costs[min_cost_idx]\n",
    "\n",
    "        # If the best neighboring solution is better, update the current solution\n",
    "        if best_neighbor_cost < current_cost\n",
    "            counter =0 \n",
    "            perms = best_neighbor\n",
    "            current_cost = best_neighbor_cost\n",
    "\n",
    "            # If the new solution is the best, update the best solution\n",
    "            if best_neighbor_cost < best_cost\n",
    "                best_perms = copy(best_neighbor)\n",
    "                best_cost = best_neighbor_cost\n",
    "                \n",
    "            end\n",
    "        else\n",
    "            # If the new solution is worse, accept it with a certain probability based on temperature\n",
    "            counter += 1\n",
    "            if counter<2000\n",
    "                acceptance_probability = exp(-(best_neighbor_cost - current_cost) / T)\n",
    "                if rand() < acceptance_probability\n",
    "                    perms = copy(best_neighbor)\n",
    "                    current_cost = best_neighbor_cost\n",
    "                end\n",
    "            else\n",
    "                # Larger perturbation for worse solutions\n",
    "                perms = perturb_perms(perms)\n",
    "                current_cost = calculate_cost(perms, Cl, Ul, Vr, Mr, wr, cr, mb, Mb, cb, Vb, Δs, cs)\n",
    "                \n",
    "            end\n",
    "        end\n",
    "\n",
    "        # Reduce the temperature (cooling schedule)\n",
    "        T *= alpha\n",
    "\n",
    "        # Optionally print progress\n",
    "        if iter % 10== 0\n",
    "            println(\"Iteration: $iter, Best Cost: $best_cost, Temperature: $T\")\n",
    "        end\n",
    "    end\n",
    "\n",
    "    return best_perms, best_cost\n",
    "end\n"
   ]
  },
  {
   "cell_type": "code",
   "execution_count": 34,
   "metadata": {},
   "outputs": [],
   "source": [
    "# Initialize result and Δs lists\n",
    "result = []\n",
    "Δs = []\n",
    "\n",
    "# Initialize global constraint lists for all shops\n",
    "Cl = []          # Cost list (Ints)\n",
    "Ul = []  # Partitions (Array of arrays of Ints)\n",
    "Vr = []  # Vehicles (Array of arrays of Ints)\n",
    "Mr = []          # Max vehicles (Ints)\n",
    "wr = []          # Window size (Ints)\n",
    "cr = []          # Cost (Ints)\n",
    "mb = []          # Min vehicles (Ints)\n",
    "Mb = []          # Max vehicles (Ints)\n",
    "cb = []          # Cost (Ints)\n",
    "Vb = []  # Vehicles (Array of Ints)\n",
    "\n",
    "# Loop through each shop and its constraints\n",
    "for (shop, constraints) in shop_map\n",
    "    println(\"shop: \", shop)\n",
    "    \n",
    "    # Initialize shop-specific constraint lists\n",
    "    Cl0 = Int[]          # Cost list (Ints)\n",
    "    Ul0 = Vector{Vector{Int}}[]  # Partitions (Array of arrays of Ints)\n",
    "    Vr0 = Vector{Int}[]  # Vehicles (Array of arrays of Ints)\n",
    "    Mr0 = Int[]          # Max vehicles (Ints)\n",
    "    wr0 = Int[]          # Window size (Ints)\n",
    "    cr0 = Int[]          # Cost (Ints)\n",
    "    mb0 = Int[]          # Min vehicles (Ints)\n",
    "    Mb0 = Int[]          # Max vehicles (Ints)\n",
    "    cb0 = Int[]          # Cost (Ints)\n",
    "    Vb0 = []  # Vehicles (Array of Ints)\n",
    "    \n",
    "    # Add the lag for the current shop\n",
    "    push!(Δs, lag_map[shop])\n",
    "    \n",
    "    # Loop through constraints and separate them by type\n",
    "    for constraint in constraints\n",
    "        if constraint[\"type\"] == \"lot_change\"\n",
    "            cl = constraint[\"cost\"]\n",
    "            Ul_0 = constraint[\"partition\"]\n",
    "            push!(Ul0, Ul_0)  # Ensure Ul_0 is an array of Int\n",
    "            push!(Cl0, cl)\n",
    "        end\n",
    "\n",
    "        if constraint[\"type\"] == \"rolling_window\"\n",
    "            Vr_0 = constraint[\"vehicles\"]\n",
    "            Mr_0 = constraint[\"max_vehicles\"]\n",
    "            wr_0 = constraint[\"window_size\"]\n",
    "            cr_0 = constraint[\"cost\"]\n",
    "            push!(Vr0, Vr_0)  # Ensure Vr_0 is an array of Int\n",
    "            push!(Mr0, Mr_0)\n",
    "            push!(wr0, wr_0)\n",
    "            push!(cr0, cr_0)\n",
    "        end\n",
    "\n",
    "        if constraint[\"type\"] == \"batch_size\"\n",
    "            mb_0 = constraint[\"min_vehicles\"]\n",
    "            Mb_0 = constraint[\"max_vehicles\"]\n",
    "            Vb_0 = constraint[\"vehicles\"]\n",
    "            cb_0 = constraint[\"cost\"]\n",
    "            push!(mb0, mb_0)\n",
    "            push!(Mb0, Mb_0)\n",
    "            push!(Vb0, Vb_0)  # Ensure Vb_0 is an array of Int\n",
    "            push!(cb0, cb_0)\n",
    "        end\n",
    "    end\n",
    "\n",
    "    # Push all constraint lists (even if they are empty) to the global lists\n",
    "    push!(Cl, Cl0)\n",
    "    push!(Ul, Ul0)\n",
    "    push!(Vr, Vr0)\n",
    "    push!(Mr, Mr0)\n",
    "    push!(wr, wr0)\n",
    "    push!(cr, cr0)\n",
    "    push!(mb, mb0)\n",
    "    push!(Mb, Mb0)\n",
    "    push!(cb, cb0)\n",
    "    push!(Vb, Vb0)\n",
    "end\n"
   ]
  },
  {
   "cell_type": "code",
   "execution_count": 35,
   "metadata": {},
   "outputs": [
    {
     "data": {
      "text/plain": [
       "5.0"
      ]
     },
     "metadata": {},
     "output_type": "display_data"
    }
   ],
   "source": [
    "# Create perm as a vector\n",
    "perm = [i for i in 1:n]\n",
    "perm_copy = copy(perm)\n",
    "\n",
    "entry = hcat(perm_copy, perm_copy, perm_copy)  # Concatenate columns to create the matrix\n",
    "sexit = (Solution(instance::Instance, entry)).exits\n",
    "solution = Solution(entry, sexit)\n",
    "\n",
    "# Display the solution\n",
    "println(solution)\n",
    "\n",
    "# Compute the cost of the solution\n",
    "total_cost = compute_cost(instance, solution, verbose=true)\n",
    "println(\"Total Cost: \", total_cost)\n",
    "is_feasible(instance, solution,verbose = true)\n",
    "total_cost"
   ]
  },
  {
   "cell_type": "code",
   "execution_count": 36,
   "metadata": {},
   "outputs": [
    {
     "data": {
      "text/plain": [
       "simulated_annealing (generic function with 1 method)"
      ]
     },
     "metadata": {},
     "output_type": "display_data"
    }
   ],
   "source": [
    "function simulated_annealing(solution, Cl, Ul, Vr, Mr, wr, cr, mb, Mb, cb, Vb, Δs, cs; T0, alpha, max_iter)\n",
    "    # Initialize variables\n",
    "    current_cost = compute_cost(instance, solution, verbose=true)\n",
    "    best_perms = transpose(copy(solution.entries))  # Best solution found\n",
    "    best_cost = current_cost  # Best cost found\n",
    "    T = T0  # Initial temperature\n",
    "    counter = 0\n",
    "    perms = transpose(copy(solution.entries))\n",
    "\n",
    "    # Check matrix size to ensure valid indexing\n",
    "    println(\"Matrix size: \", size(perms))  # Debugging step\n",
    "\n",
    "    for iter in 1:max_iter\n",
    "        if (T < 1e-50)\n",
    "            break\n",
    "        end\n",
    "        neighbor_costs = []\n",
    "        neighbor_perms = []\n",
    "        # Generate a set of neighboring solutions (perturbations)\n",
    "        for i in 1:size(perms, 1)  # Use the number of rows in perms\n",
    "            perm_copy = copy(perms)\n",
    "            perm = perms[i, :]\n",
    "            perturbed_perm = generate_targeted_neighbors(perm, Vr[i], Ul[i], Vb[i])\n",
    "            perm_copy[i, :] = perturbed_perm\n",
    "            # Create perm as a vector\n",
    "            perm = perm_copy[2, :]\n",
    "\n",
    "            # Ensure that perm and perm0 are treated as 1D arrays for transposition and then converted to matrices\n",
    "            entry = hcat(perm_copy[1, :], perm_copy[2, :], perm_copy[3, :])  # Concatenate columns to create the matrix\n",
    "            sexit = (Solution(instance::Instance, entry)).exits\n",
    "            solution_0 = Solution(entry, sexit)\n",
    "            perturbed_cost = compute_cost(instance, solution_0, verbose=true)\n",
    "            if !(is_feasible(instance, solution_0,verbose = true))\n",
    "                return -1,-1\n",
    "            end\n",
    "            push!(neighbor_perms, perm_copy)\n",
    "            push!(neighbor_costs, perturbed_cost)\n",
    "        end\n",
    "\n",
    "        # Find the best neighboring solution\n",
    "        min_cost_idx = argmin(neighbor_costs)\n",
    "        best_neighbor = neighbor_perms[min_cost_idx]\n",
    "        best_neighbor_cost = neighbor_costs[min_cost_idx]\n",
    "\n",
    "        # If the best neighboring solution is better, update the current solution\n",
    "        if best_neighbor_cost < current_cost\n",
    "            counter = 0\n",
    "            perms = best_neighbor\n",
    "            current_cost = best_neighbor_cost\n",
    "\n",
    "            # If the new solution is the best, update the best solution\n",
    "            if best_neighbor_cost < best_cost\n",
    "                best_perms = copy(best_neighbor)\n",
    "                best_cost = best_neighbor_cost\n",
    "            end\n",
    "        else\n",
    "            # If the new solution is worse, accept it with a certain probability based on temperature\n",
    "            counter += 1\n",
    "            if counter<1000\n",
    "                acceptance_probability = exp(-(best_neighbor_cost - current_cost) / T)\n",
    "                if rand() < acceptance_probability\n",
    "                    perms = copy(best_neighbor)\n",
    "                    current_cost = best_neighbor_cost\n",
    "                end\n",
    "            else \n",
    "                for i in 1:size(perms, 1)  # Use the number of rows in perms\n",
    "                    perm_copy = copy(perms)\n",
    "                    perm = perms[i, :]\n",
    "                    perturbed_perm = random_perturbation(perm)\n",
    "                    perm_copy[i, :] = perturbed_perm\n",
    "                    # Create perm as a vector\n",
    "                    perm = perm_copy[2, :]\n",
    "        \n",
    "                    # Ensure that perm and perm0 are treated as 1D arrays for transposition and then converted to matrices\n",
    "                    entry = hcat(perm_copy[1, :], perm_copy[2, :], perm_copy[3, :])  # Concatenate columns to create the matrix\n",
    "                    sexit = (Solution(instance::Instance, entry)).exits\n",
    "                    solution_0 = Solution(entry, sexit)\n",
    "                    perturbed_cost = compute_cost(instance, solution_0, verbose=true)\n",
    "                    if !(is_feasible(instance, solution_0,verbose = true))\n",
    "                        return -1,-1\n",
    "                    end\n",
    "                    push!(neighbor_perms, perm_copy)\n",
    "                    push!(neighbor_costs, perturbed_cost)\n",
    "                end\n",
    "            end\n",
    "        end\n",
    "\n",
    "        # Reduce the temperature (cooling schedule)\n",
    "        T *= alpha\n",
    "\n",
    "        # Optionally print progress\n",
    "        if iter % 10 == 0\n",
    "            println(\"Iteration: $iter, Best Cost: $best_cost, Temperature: $T\")\n",
    "        end\n",
    "    end\n",
    "\n",
    "    return best_perms, best_cost\n",
    "end\n",
    "\n"
   ]
  },
  {
   "cell_type": "code",
   "execution_count": 37,
   "metadata": {},
   "outputs": [
    {
     "data": {
      "text/plain": [
       "3.0"
      ]
     },
     "metadata": {},
     "output_type": "display_data"
    }
   ],
   "source": [
    "a, b = simulated_annealing(solution, Cl, Ul, Vr, Mr, wr, cr, mb, Mb, cb, Vb, Δs, cs; T0=1000, alpha=0.99, max_iter=1000)\n",
    "b"
   ]
  },
  {
   "cell_type": "code",
   "execution_count": 38,
   "metadata": {},
   "outputs": [
    {
     "data": {
      "text/plain": [
       "3.0"
      ]
     },
     "metadata": {},
     "output_type": "display_data"
    }
   ],
   "source": [
    "for i in 1:5\n",
    "    println(i)\n",
    "    perm_copy = a \n",
    "    entry = hcat(perm_copy[1, :], perm_copy[2, :], perm_copy[3, :])  # Concatenate columns to create the matrix\n",
    "    sexit = (Solution(instance::Instance, entry)).exits\n",
    "    solution = Solution(entry, sexit)\n",
    "    a, b=simulated_annealing(solution, Cl, Ul, Vr, Mr, wr, cr, mb, Mb, cb, Vb, Δs, cs; T0=1000, alpha=0.99, max_iter=1000)\n",
    "end\n",
    "b\n"
   ]
  },
  {
   "cell_type": "code",
   "execution_count": 39,
   "metadata": {},
   "outputs": [
    {
     "data": {
      "text/plain": [
       "3.0"
      ]
     },
     "metadata": {},
     "output_type": "display_data"
    }
   ],
   "source": [
    "b"
   ]
  },
  {
   "cell_type": "code",
   "execution_count": 40,
   "metadata": {},
   "outputs": [
    {
     "data": {
      "text/plain": [
       "3×5 transpose(::Matrix{Int64}) with eltype Int64:\n",
       " 1  4  2  3  5\n",
       " 1  2  3  4  5\n",
       " 1  2  3  4  5"
      ]
     },
     "metadata": {},
     "output_type": "display_data"
    }
   ],
   "source": [
    "a"
   ]
  },
  {
   "cell_type": "code",
   "execution_count": 41,
   "metadata": {},
   "outputs": [
    {
     "data": {
      "text/plain": [
       "5×3 Matrix{Int64}:\n",
       " 1  1  1\n",
       " 4  2  2\n",
       " 2  3  3\n",
       " 3  4  4\n",
       " 5  5  5"
      ]
     },
     "metadata": {},
     "output_type": "display_data"
    }
   ],
   "source": [
    "perm_copy = a \n",
    "entry = hcat(perm_copy[1, :], perm_copy[2, :], perm_copy[3, :])  # Concatenate columns to create the matrix\n",
    "sexit = (Solution(instance::Instance, entry)).exits\n",
    "solution = Solution(entry, sexit)\n",
    "perturbed_cost = compute_cost(instance, solution, verbose=true)\n",
    "c = false\n",
    "if !(is_feasible(instance, solution,verbose = true))\n",
    "    c = true\n",
    "end\n",
    "solution.entries\n"
   ]
  },
  {
   "cell_type": "code",
   "execution_count": 42,
   "metadata": {},
   "outputs": [],
   "source": [
    "using JSON\n",
    "\n",
    "# Define the path to the JSON file\n",
    "file_path = \"data/tiny_sol.json\"\n",
    "\n",
    "# Create an empty JSON object\n",
    "empty_json = Dict()\n",
    "\n",
    "# Write the empty JSON object to the file\n",
    "open(file_path, \"w\") do file\n",
    "    JSON.print(file, empty_json)\n",
    "end\n",
    "\n",
    "println(\"Empty JSON file created at $file_path\")"
   ]
  },
  {
   "cell_type": "code",
   "execution_count": 43,
   "metadata": {},
   "outputs": [],
   "source": [
    "write_solution(instance::Instance, solution::Solution)\n"
   ]
  },
  {
   "cell_type": "code",
   "execution_count": 44,
   "metadata": {},
   "outputs": [
    {
     "data": {
      "text/plain": [
       "true"
      ]
     },
     "metadata": {},
     "output_type": "display_data"
    }
   ],
   "source": [
    "(is_feasible(instance, solution,verbose=true))\n"
   ]
  },
  {
   "cell_type": "code",
   "execution_count": 45,
   "metadata": {},
   "outputs": [
    {
     "data": {
      "text/plain": [
       "3.0"
      ]
     },
     "metadata": {},
     "output_type": "display_data"
    }
   ],
   "source": [
    "perturbed_cost = compute_cost(instance, solution, verbose=true)\n"
   ]
  }
 ],
 "metadata": {
  "kernelspec": {
   "display_name": "Julia 1.11.2",
   "language": "julia",
   "name": "julia-1.11"
  },
  "language_info": {
   "file_extension": ".jl",
   "mimetype": "application/julia",
   "name": "julia",
   "version": "1.11.2"
  }
 },
 "nbformat": 4,
 "nbformat_minor": 2
}
