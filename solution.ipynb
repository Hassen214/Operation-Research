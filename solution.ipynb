{
 "cells": [
  {
   "cell_type": "code",
   "execution_count": 448,
   "metadata": {},
   "outputs": [
    {
     "data": {
      "text/plain": [
       "Instance(name = large_2,\n",
       "two-tone delta = 110,\n",
       "vehicles (514) = [Vehicle(id=1, type=two-tone),Vehicle(id=2, type=regular),Vehicle(id=3, type=two-tone),Vehicle(id=4, type=regular),Vehicle(id=5, type=regular),Vehicle(id=6, type=two-tone),Vehicle(id=7, type=two-tone),Vehicle(id=8, type=two-tone),Vehicle(id=9, type=regular),Vehicle(id=10, type=two-tone),Vehicle(id=11, type=two-tone),Vehicle(id=12, type=regular),Vehicle(id=15, type=regular),Vehicle(id=13, type=regular),Vehicle(id=14, type=regular),Vehicle(id=16, type=two-tone),Vehicle(id=17, type=regular),Vehicle(id=18, type=two-tone),Vehicle(id=19, type=two-tone),Vehicle(id=20, type=two-tone),Vehicle(id=21, type=two-tone),Vehicle(id=22, type=regular),Vehicle(id=23, type=two-tone),Vehicle(id=24, type=two-tone),Vehicle(id=25, type=regular),Vehicle(id=26, type=two-tone),Vehicle(id=27, type=regular),Vehicle(id=28, type=regular),Vehicle(id=29, type=regular),Vehicle(id=30, type=two-tone),Vehicle(id=31, type=regular),Vehicle(id=32, type=regular),Vehicle(id=33, type=regular),Vehicle(id=34, type=regular),Vehicle(id=35, type=regular),Vehicle(id=36, type=two-tone),Vehicle(id=37, type=two-tone),Vehicle(id=38, type=two-tone),Vehicle(id=39, type=two-tone),Vehicle(id=40, type=regular),Vehicle(id=41, type=two-tone),Vehicle(id=43, type=two-tone),Vehicle(id=42, type=regular),Vehicle(id=44, type=two-tone),Vehicle(id=45, type=two-tone),Vehicle(id=46, type=two-tone),Vehicle(id=47, type=two-tone),Vehicle(id=48, type=regular),Vehicle(id=49, type=two-tone),Vehicle(id=50, type=regular),Vehicle(id=51, type=two-tone),Vehicle(id=53, type=two-tone),Vehicle(id=52, type=regular),Vehicle(id=54, type=regular),Vehicle(id=55, type=regular),Vehicle(id=56, type=regular),Vehicle(id=57, type=two-tone),Vehicle(id=58, type=regular),Vehicle(id=59, type=regular),Vehicle(id=60, type=regular),Vehicle(id=61, type=two-tone),Vehicle(id=62, type=two-tone),Vehicle(id=63, type=two-tone),Vehicle(id=64, type=regular),Vehicle(id=65, type=regular),Vehicle(id=66, type=regular),Vehicle(id=67, type=regular),Vehicle(id=68, type=regular),Vehicle(id=69, type=two-tone),Vehicle(id=70, type=regular),Vehicle(id=71, type=two-tone),Vehicle(id=72, type=regular),Vehicle(id=73, type=regular),Vehicle(id=74, type=two-tone),Vehicle(id=75, type=two-tone),Vehicle(id=76, type=two-tone),Vehicle(id=78, type=two-tone),Vehicle(id=77, type=two-tone),Vehicle(id=79, type=two-tone),Vehicle(id=80, type=regular),Vehicle(id=81, type=two-tone),Vehicle(id=82, type=two-tone),Vehicle(id=83, type=two-tone),Vehicle(id=84, type=regular),Vehicle(id=85, type=regular),Vehicle(id=86, type=two-tone),Vehicle(id=87, type=regular),Vehicle(id=88, type=two-tone),Vehicle(id=89, type=regular),Vehicle(id=90, type=two-tone),Vehicle(id=91, type=regular),Vehicle(id=92, type=regular),Vehicle(id=93, type=regular),Vehicle(id=94, type=regular),Vehicle(id=95, type=regular),Vehicle(id=96, type=regular),Vehicle(id=97, type=regular),Vehicle(id=98, type=regular),Vehicle(id=99, type=two-tone),Vehicle(id=100, type=regular),Vehicle(id=101, type=two-tone),Vehicle(id=102, type=regular),Vehicle(id=103, type=two-tone),Vehicle(id=104, type=regular),Vehicle(id=105, type=two-tone),Vehicle(id=106, type=two-tone),Vehicle(id=107, type=two-tone),Vehicle(id=108, type=regular),Vehicle(id=109, type=two-tone),Vehicle(id=110, type=regular),Vehicle(id=111, type=regular),Vehicle(id=112, type=two-tone),Vehicle(id=113, type=two-tone),Vehicle(id=114, type=regular),Vehicle(id=115, type=regular),Vehicle(id=116, type=two-tone),Vehicle(id=117, type=two-tone),Vehicle(id=118, type=regular),Vehicle(id=119, type=two-tone),Vehicle(id=120, type=regular),Vehicle(id=121, type=two-tone),Vehicle(id=124, type=two-tone),Vehicle(id=123, type=regular),Vehicle(id=125, type=regular),Vehicle(id=122, type=regular),Vehicle(id=126, type=regular),Vehicle(id=127, type=regular),Vehicle(id=128, type=regular),Vehicle(id=129, type=regular),Vehicle(id=130, type=regular),Vehicle(id=131, type=regular),Vehicle(id=132, type=two-tone),Vehicle(id=133, type=two-tone),Vehicle(id=134, type=two-tone),Vehicle(id=135, type=two-tone),Vehicle(id=136, type=two-tone),Vehicle(id=137, type=two-tone),Vehicle(id=138, type=two-tone),Vehicle(id=140, type=regular),Vehicle(id=139, type=two-tone),Vehicle(id=141, type=regular),Vehicle(id=142, type=two-tone),Vehicle(id=146, type=regular),Vehicle(id=144, type=regular),Vehicle(id=145, type=two-tone),Vehicle(id=143, type=regular),Vehicle(id=147, type=two-tone),Vehicle(id=148, type=two-tone),Vehicle(id=149, type=regular),Vehicle(id=150, type=regular),Vehicle(id=151, type=regular),Vehicle(id=152, type=regular),Vehicle(id=153, type=two-tone),Vehicle(id=154, type=two-tone),Vehicle(id=155, type=regular),Vehicle(id=156, type=regular),Vehicle(id=157, type=regular),Vehicle(id=158, type=two-tone),Vehicle(id=159, type=two-tone),Vehicle(id=160, type=two-tone),Vehicle(id=161, type=two-tone),Vehicle(id=162, type=regular),Vehicle(id=163, type=two-tone),Vehicle(id=164, type=regular),Vehicle(id=165, type=two-tone),Vehicle(id=166, type=two-tone),Vehicle(id=167, type=two-tone),Vehicle(id=168, type=regular),Vehicle(id=169, type=two-tone),Vehicle(id=170, type=two-tone),Vehicle(id=171, type=two-tone),Vehicle(id=172, type=two-tone),Vehicle(id=173, type=two-tone),Vehicle(id=174, type=two-tone),Vehicle(id=175, type=regular),Vehicle(id=176, type=regular),Vehicle(id=177, type=regular),Vehicle(id=178, type=regular),Vehicle(id=179, type=two-tone),Vehicle(id=180, type=regular),Vehicle(id=181, type=two-tone),Vehicle(id=182, type=regular),Vehicle(id=183, type=regular),Vehicle(id=184, type=two-tone),Vehicle(id=185, type=regular),Vehicle(id=186, type=regular),Vehicle(id=187, type=regular),Vehicle(id=188, type=regular),Vehicle(id=189, type=two-tone),Vehicle(id=190, type=regular),Vehicle(id=191, type=regular),Vehicle(id=192, type=regular),Vehicle(id=193, type=regular),Vehicle(id=194, type=two-tone),Vehicle(id=195, type=two-tone),Vehicle(id=196, type=two-tone),Vehicle(id=197, type=regular),Vehicle(id=198, type=regular),Vehicle(id=199, type=regular),Vehicle(id=200, type=two-tone),Vehicle(id=201, type=two-tone),Vehicle(id=202, type=regular),Vehicle(id=203, type=two-tone),Vehicle(id=205, type=regular),Vehicle(id=204, type=two-tone),Vehicle(id=206, type=regular),Vehicle(id=207, type=regular),Vehicle(id=208, type=regular),Vehicle(id=209, type=two-tone),Vehicle(id=210, type=two-tone),Vehicle(id=211, type=two-tone),Vehicle(id=212, type=two-tone),Vehicle(id=213, type=two-tone),Vehicle(id=214, type=two-tone),Vehicle(id=215, type=regular),Vehicle(id=216, type=two-tone),Vehicle(id=217, type=regular),Vehicle(id=218, type=two-tone),Vehicle(id=219, type=two-tone),Vehicle(id=220, type=two-tone),Vehicle(id=221, type=two-tone),Vehicle(id=222, type=two-tone),Vehicle(id=223, type=two-tone),Vehicle(id=224, type=two-tone),Vehicle(id=225, type=two-tone),Vehicle(id=226, type=regular),Vehicle(id=227, type=regular),Vehicle(id=228, type=regular),Vehicle(id=229, type=two-tone),Vehicle(id=230, type=two-tone),Vehicle(id=231, type=regular),Vehicle(id=232, type=regular),Vehicle(id=233, type=two-tone),Vehicle(id=234, type=regular),Vehicle(id=235, type=two-tone),Vehicle(id=236, type=regular),Vehicle(id=237, type=regular),Vehicle(id=238, type=regular),Vehicle(id=239, type=two-tone),Vehicle(id=240, type=two-tone),Vehicle(id=241, type=regular),Vehicle(id=242, type=regular),Vehicle(id=243, type=two-tone),Vehicle(id=244, type=regular),Vehicle(id=245, type=two-tone),Vehicle(id=246, type=regular),Vehicle(id=247, type=regular),Vehicle(id=248, type=regular),Vehicle(id=249, type=regular),Vehicle(id=250, type=regular),Vehicle(id=251, type=regular),Vehicle(id=252, type=two-tone),Vehicle(id=253, type=regular),Vehicle(id=254, type=two-tone),Vehicle(id=255, type=regular),Vehicle(id=256, type=two-tone),Vehicle(id=257, type=two-tone),Vehicle(id=258, type=regular),Vehicle(id=259, type=two-tone),Vehicle(id=260, type=two-tone),Vehicle(id=261, type=two-tone),Vehicle(id=262, type=two-tone),Vehicle(id=263, type=regular),Vehicle(id=264, type=regular),Vehicle(id=265, type=two-tone),Vehicle(id=266, type=regular),Vehicle(id=267, type=two-tone),Vehicle(id=268, type=two-tone),Vehicle(id=269, type=two-tone),Vehicle(id=270, type=regular),Vehicle(id=271, type=regular),Vehicle(id=272, type=regular),Vehicle(id=273, type=two-tone),Vehicle(id=274, type=two-tone),Vehicle(id=275, type=regular),Vehicle(id=276, type=regular),Vehicle(id=277, type=two-tone),Vehicle(id=278, type=two-tone),Vehicle(id=279, type=regular),Vehicle(id=281, type=two-tone),Vehicle(id=280, type=regular),Vehicle(id=283, type=two-tone),Vehicle(id=282, type=two-tone),Vehicle(id=284, type=two-tone),Vehicle(id=285, type=two-tone),Vehicle(id=286, type=regular),Vehicle(id=287, type=two-tone),Vehicle(id=288, type=regular),Vehicle(id=289, type=two-tone),Vehicle(id=291, type=two-tone),Vehicle(id=290, type=regular),Vehicle(id=292, type=regular),Vehicle(id=293, type=regular),Vehicle(id=296, type=regular),Vehicle(id=295, type=two-tone),Vehicle(id=294, type=regular),Vehicle(id=297, type=two-tone),Vehicle(id=298, type=two-tone),Vehicle(id=299, type=two-tone),Vehicle(id=300, type=regular),Vehicle(id=301, type=regular),Vehicle(id=302, type=regular),Vehicle(id=303, type=two-tone),Vehicle(id=304, type=regular),Vehicle(id=305, type=two-tone),Vehicle(id=306, type=regular),Vehicle(id=307, type=two-tone),Vehicle(id=308, type=two-tone),Vehicle(id=309, type=regular),Vehicle(id=310, type=two-tone),Vehicle(id=311, type=two-tone),Vehicle(id=312, type=regular),Vehicle(id=313, type=two-tone),Vehicle(id=314, type=regular),Vehicle(id=315, type=two-tone),Vehicle(id=316, type=regular),Vehicle(id=317, type=regular),Vehicle(id=318, type=regular),Vehicle(id=319, type=regular),Vehicle(id=320, type=two-tone),Vehicle(id=321, type=two-tone),Vehicle(id=322, type=regular),Vehicle(id=323, type=two-tone),Vehicle(id=324, type=two-tone),Vehicle(id=325, type=two-tone),Vehicle(id=326, type=two-tone),Vehicle(id=327, type=regular),Vehicle(id=328, type=two-tone),Vehicle(id=330, type=regular),Vehicle(id=329, type=regular),Vehicle(id=331, type=regular),Vehicle(id=333, type=two-tone),Vehicle(id=332, type=two-tone),Vehicle(id=334, type=regular),Vehicle(id=335, type=two-tone),Vehicle(id=336, type=two-tone),Vehicle(id=337, type=two-tone),Vehicle(id=338, type=two-tone),Vehicle(id=339, type=regular),Vehicle(id=340, type=two-tone),Vehicle(id=341, type=two-tone),Vehicle(id=342, type=regular),Vehicle(id=343, type=regular),Vehicle(id=344, type=regular),Vehicle(id=345, type=regular),Vehicle(id=346, type=regular),Vehicle(id=347, type=regular),Vehicle(id=348, type=two-tone),Vehicle(id=349, type=regular),Vehicle(id=350, type=regular),Vehicle(id=351, type=regular),Vehicle(id=352, type=two-tone),Vehicle(id=353, type=regular),Vehicle(id=354, type=two-tone),Vehicle(id=355, type=two-tone),Vehicle(id=356, type=two-tone),Vehicle(id=357, type=regular),Vehicle(id=358, type=two-tone),Vehicle(id=359, type=regular),Vehicle(id=360, type=two-tone),Vehicle(id=361, type=two-tone),Vehicle(id=362, type=two-tone),Vehicle(id=363, type=two-tone),Vehicle(id=364, type=regular),Vehicle(id=365, type=two-tone),Vehicle(id=366, type=two-tone),Vehicle(id=367, type=two-tone),Vehicle(id=368, type=regular),Vehicle(id=369, type=two-tone),Vehicle(id=370, type=regular),Vehicle(id=371, type=two-tone),Vehicle(id=372, type=two-tone),Vehicle(id=373, type=two-tone),Vehicle(id=374, type=two-tone),Vehicle(id=375, type=regular),Vehicle(id=376, type=two-tone),Vehicle(id=377, type=regular),Vehicle(id=378, type=two-tone),Vehicle(id=379, type=two-tone),Vehicle(id=380, type=regular),Vehicle(id=381, type=two-tone),Vehicle(id=382, type=two-tone),Vehicle(id=383, type=two-tone),Vehicle(id=384, type=regular),Vehicle(id=385, type=two-tone),Vehicle(id=386, type=regular),Vehicle(id=387, type=two-tone),Vehicle(id=388, type=two-tone),Vehicle(id=389, type=regular),Vehicle(id=390, type=two-tone),Vehicle(id=391, type=two-tone),Vehicle(id=392, type=regular),Vehicle(id=393, type=regular),Vehicle(id=394, type=two-tone),Vehicle(id=395, type=two-tone),Vehicle(id=396, type=regular),Vehicle(id=397, type=two-tone),Vehicle(id=398, type=regular),Vehicle(id=399, type=two-tone),Vehicle(id=400, type=two-tone),Vehicle(id=401, type=regular),Vehicle(id=402, type=regular),Vehicle(id=403, type=two-tone),Vehicle(id=404, type=regular),Vehicle(id=405, type=two-tone),Vehicle(id=406, type=regular),Vehicle(id=407, type=regular),Vehicle(id=408, type=two-tone),Vehicle(id=409, type=regular),Vehicle(id=410, type=regular),Vehicle(id=411, type=regular),Vehicle(id=412, type=regular),Vehicle(id=413, type=regular),Vehicle(id=414, type=regular),Vehicle(id=415, type=two-tone),Vehicle(id=416, type=regular),Vehicle(id=417, type=regular),Vehicle(id=418, type=regular),Vehicle(id=419, type=regular),Vehicle(id=420, type=regular),Vehicle(id=421, type=two-tone),Vehicle(id=422, type=regular),Vehicle(id=423, type=two-tone),Vehicle(id=424, type=two-tone),Vehicle(id=425, type=two-tone),Vehicle(id=426, type=two-tone),Vehicle(id=427, type=regular),Vehicle(id=428, type=two-tone),Vehicle(id=429, type=two-tone),Vehicle(id=430, type=regular),Vehicle(id=431, type=two-tone),Vehicle(id=432, type=two-tone),Vehicle(id=433, type=two-tone),Vehicle(id=434, type=regular),Vehicle(id=435, type=regular),Vehicle(id=436, type=two-tone),Vehicle(id=437, type=regular),Vehicle(id=438, type=regular),Vehicle(id=439, type=two-tone),Vehicle(id=441, type=regular),Vehicle(id=440, type=regular),Vehicle(id=442, type=regular),Vehicle(id=443, type=regular),Vehicle(id=444, type=two-tone),Vehicle(id=445, type=two-tone),Vehicle(id=446, type=regular),Vehicle(id=447, type=regular),Vehicle(id=448, type=two-tone),Vehicle(id=449, type=two-tone),Vehicle(id=450, type=regular),Vehicle(id=451, type=regular),Vehicle(id=452, type=regular),Vehicle(id=453, type=two-tone),Vehicle(id=454, type=two-tone),Vehicle(id=455, type=regular),Vehicle(id=456, type=regular),Vehicle(id=457, type=two-tone),Vehicle(id=458, type=regular),Vehicle(id=459, type=regular),Vehicle(id=460, type=two-tone),Vehicle(id=461, type=two-tone),Vehicle(id=462, type=two-tone),Vehicle(id=463, type=regular),Vehicle(id=464, type=two-tone),Vehicle(id=465, type=regular),Vehicle(id=466, type=regular),Vehicle(id=467, type=regular),Vehicle(id=468, type=two-tone),Vehicle(id=469, type=two-tone),Vehicle(id=470, type=two-tone),Vehicle(id=473, type=two-tone),Vehicle(id=472, type=regular),Vehicle(id=471, type=two-tone),Vehicle(id=474, type=regular),Vehicle(id=475, type=two-tone),Vehicle(id=476, type=two-tone),Vehicle(id=477, type=two-tone),Vehicle(id=478, type=regular),Vehicle(id=479, type=regular),Vehicle(id=480, type=regular),Vehicle(id=481, type=two-tone),Vehicle(id=482, type=two-tone),Vehicle(id=483, type=two-tone),Vehicle(id=484, type=regular),Vehicle(id=485, type=two-tone),Vehicle(id=486, type=two-tone),Vehicle(id=487, type=two-tone),Vehicle(id=488, type=regular),Vehicle(id=489, type=two-tone),Vehicle(id=490, type=two-tone),Vehicle(id=491, type=two-tone),Vehicle(id=492, type=two-tone),Vehicle(id=493, type=regular),Vehicle(id=494, type=regular),Vehicle(id=495, type=regular),Vehicle(id=496, type=two-tone),Vehicle(id=497, type=two-tone),Vehicle(id=498, type=two-tone),Vehicle(id=499, type=two-tone),Vehicle(id=500, type=regular),Vehicle(id=501, type=two-tone),Vehicle(id=502, type=regular),Vehicle(id=503, type=two-tone),Vehicle(id=504, type=two-tone),Vehicle(id=505, type=two-tone),Vehicle(id=506, type=regular),Vehicle(id=507, type=two-tone),Vehicle(id=508, type=regular),Vehicle(id=509, type=two-tone),Vehicle(id=510, type=two-tone),Vehicle(id=511, type=regular),Vehicle(id=512, type=two-tone),Vehicle(id=513, type=two-tone),Vehicle(id=514, type=two-tone)],\n",
       "shops = [Shop(name = body,\n",
       "\tisPaint = false,\n",
       "\tresequencingLag = 0,\n",
       "\tresequencingCost = 10000.0,\n",
       "\tbatchSizes (0) = [],\n",
       "\tlotChanges (0) = [],\n",
       "\trollingWindows (0) = []\n",
       "),\n",
       "Shop(name = paint,\n",
       "\tisPaint = true,\n",
       "\tresequencingLag = 0,\n",
       "\tresequencingCost = 10000.0,\n",
       "\tbatchSizes (0) = [],\n",
       "\tlotChanges (1) = [LotChange(id=14, cost=3000.0, partition=[[31, 40, 70, 84, 111, 125, 141, 149, 150, 162, 186, 199, 206, 208, 227, 228, 231, 234, 250, 270, 314, 316, 327, 350, 359, 377, 389, 398, 411, 413, 452, 467, 478, 480], [2, 85, 89, 176, 185, 192, 232, 304, 410, 414, 435, 458], [3, 11, 44, 45, 46, 47, 61, 62, 71, 79, 103, 106, 109, 121, 124, 132, 136, 137, 158, 161, 163, 166, 194, 211, 213, 223, 239, 243, 245, 256, 262, 273, 283, 287, 305, 320, 333, 336, 365, 372, 378, 379, 382, 387, 390, 399, 400, 408, 423, 453, 462, 464, 470, 473, 476, 482, 487, 490, 492, 503, 512], [7, 49, 57, 63, 69, 74, 75, 78, 83, 113, 159, 167, 171, 195, 235, 285, 297, 298, 303, 355, 366, 367, 403, 424, 436, 444, 469], [1, 20, 21, 26, 36, 39, 41, 76, 82, 86, 88, 105, 116, 117, 133, 134, 139, 154, 165, 170, 173, 181, 219, 221, 222, 229, 233, 267, 274, 277, 282, 289, 295, 308, 311, 315, 323, 326, 328, 341, 348, 360, 363, 371, 381, 383, 388, 391, 394, 415, 426, 428, 433, 439, 448, 489, 497, 499, 505, 510, 514], [6, 8, 18, 23, 30, 37, 38, 43, 51, 53, 77, 81, 99, 107, 119, 135, 138, 142, 145, 147, 148, 153, 160, 172, 174, 189, 200, 201, 203, 204, 210, 212, 214, 220, 224, 230, 240, 252, 257, 259, 260, 261, 265, 268, 269, 278, 281, 284, 291, 307, 310, 313, 324, 332, 335, 337, 338, 354, 356, 358, 362, 369, 373, 374, 376, 397, 425, 429, 431, 432, 449, 454, 457, 460, 468, 471, 475, 477, 481, 483, 485, 486, 496, 498, 501, 504, 507, 509, 513], [4, 5, 9, 14, 17, 33, 34, 48, 56, 58, 59, 60, 64, 66, 73, 80, 91, 92, 94, 96, 97, 110, 115, 120, 123, 126, 127, 128, 130, 131, 143, 151, 152, 156, 157, 164, 168, 175, 180, 182, 183, 188, 190, 197, 207, 217, 236, 237, 241, 242, 244, 246, 248, 249, 266, 271, 275, 279, 290, 292, 294, 296, 302, 306, 309, 312, 317, 319, 331, 334, 339, 343, 344, 347, 349, 370, 380, 386, 392, 404, 407, 416, 417, 418, 419, 420, 422, 430, 437, 438, 440, 441, 442, 443, 446, 450, 451, 455, 456, 465, 472, 474, 479, 488, 493, 494, 500], [15, 27, 32, 52, 65, 87, 95, 118, 187, 251, 253, 288, 330, 375, 412, 459, 511], [24, 101, 196, 218, 225, 321, 385], [22, 28, 54, 68, 114, 140, 146, 191, 205, 238, 247, 263, 272, 286, 393, 402, 406, 427, 508], [216, 405, 445, 461], [12, 25, 29, 42, 50, 67, 98, 100, 102, 104, 108, 122, 177, 215, 264, 280, 300, 318, 329, 342, 346, 357, 368, 384, 396, 401, 409, 434, 463, 484, 502, 506], [13, 93, 144, 193, 198, 255, 258, 301, 345, 353, 447], [35, 72, 129, 178, 202, 226, 293, 351], [169, 179, 184, 209, 299, 325, 361, 395], [55, 155, 276, 322, 364, 466, 495], [10, 16, 19, 112, 254, 340, 352, 491], [90, 421]])],\n",
       "\trollingWindows (1) = [RollingWindow(id=5, cost=2000.0, window_size=5, max_vehicles=1, vehicles=[216, 405, 445, 461])]\n",
       "),\n",
       "Shop(name = assembly,\n",
       "\tisPaint = false,\n",
       "\tresequencingLag = 10,\n",
       "\tresequencingCost = 10000.0,\n",
       "\tbatchSizes (0) = [],\n",
       "\tlotChanges (1) = [LotChange(id=12, cost=2000.0, partition=[[1, 4, 13, 24, 89, 101, 169, 182, 184, 185, 196, 207, 209, 218, 225, 255, 275, 299, 304, 321, 322, 325, 350, 361, 395, 418, 472, 495, 512, 513, 514], [2, 5, 10, 15, 16, 17, 19, 20, 21, 22, 26, 28, 54, 58, 68, 85, 94, 95, 111, 112, 115, 126, 127, 140, 141, 146, 151, 176, 183, 190, 192, 205, 216, 232, 234, 237, 242, 244, 254, 263, 272, 279, 288, 306, 312, 331, 334, 340, 352, 363, 405, 406, 407, 410, 411, 412, 414, 426, 427, 435, 441, 445, 458, 461, 465, 491, 492, 511], [3, 6, 7, 8, 9, 11, 12, 14, 18, 23, 25, 27, 29, 30, 31, 32, 33, 34, 35, 36, 37, 38, 39, 40, 41, 42, 43, 44, 45, 46, 47, 48, 49, 50, 51, 52, 53, 55, 56, 57, 59, 60, 61, 62, 63, 64, 65, 66, 67, 69, 70, 71, 72, 73, 74, 75, 76, 77, 78, 79, 80, 81, 82, 83, 84, 86, 87, 88, 90, 91, 92, 93, 96, 97, 98, 99, 100, 102, 103, 104, 105, 106, 107, 108, 109, 110, 113, 114, 116, 117, 118, 119, 120, 121, 122, 123, 124, 125, 128, 129, 130, 131, 132, 133, 134, 135, 136, 137, 138, 139, 142, 143, 144, 145, 147, 148, 149, 150, 152, 153, 154, 155, 156, 157, 158, 159, 160, 161, 162, 163, 164, 165, 166, 167, 168, 170, 171, 172, 173, 174, 175, 177, 178, 179, 180, 181, 186, 187, 188, 189, 191, 193, 194, 195, 197, 198, 199, 200, 201, 202, 203, 204, 206, 208, 210, 211, 212, 213, 214, 215, 217, 219, 220, 221, 222, 223, 224, 226, 227, 228, 229, 230, 231, 233, 235, 236, 238, 239, 240, 241, 243, 245, 246, 247, 248, 249, 250, 251, 252, 253, 256, 257, 258, 259, 260, 261, 262, 264, 265, 266, 267, 268, 269, 270, 271, 273, 274, 276, 277, 278, 280, 281, 282, 283, 284, 285, 286, 287, 289, 290, 291, 292, 293, 294, 295, 296, 297, 298, 300, 301, 302, 303, 305, 307, 308, 309, 310, 311, 313, 314, 315, 316, 317, 318, 319, 320, 323, 324, 326, 327, 328, 329, 330, 332, 333, 335, 336, 337, 338, 339, 341, 342, 343, 344, 345, 346, 347, 348, 349, 351, 353, 354, 355, 356, 357, 358, 359, 360, 362, 364, 365, 366, 367, 368, 369, 370, 371, 372, 373, 374, 375, 376, 377, 378, 379, 380, 381, 382, 383, 384, 385, 386, 387, 388, 389, 390, 391, 392, 393, 394, 396, 397, 398, 399, 400, 401, 402, 403, 404, 408, 409, 413, 415, 416, 417, 419, 420, 421, 422, 423, 424, 425, 428, 429, 430, 431, 432, 433, 434, 436, 437, 438, 439, 440, 442, 443, 444, 446, 447, 448, 449, 450, 451, 452, 453, 454, 455, 456, 457, 459, 460, 462, 463, 464, 466, 467, 468, 469, 470, 471, 473, 474, 475, 476, 477, 478, 479, 480, 481, 482, 483, 484, 485, 486, 487, 488, 489, 490, 493, 494, 496, 497, 498, 499, 500, 501, 502, 503, 504, 505, 506, 507, 508, 509, 510]])],\n",
       "\trollingWindows (8) = [RollingWindow(id=1, cost=7000.0, window_size=4, max_vehicles=3, vehicles=[2, 5, 10, 15, 16, 17, 19, 20, 21, 22, 26, 28, 54, 58, 68, 85, 94, 95, 111, 112, 115, 126, 127, 140, 141, 146, 151, 176, 183, 190, 192, 205, 216, 232, 234, 237, 242, 244, 254, 263, 272, 279, 288, 306, 312, 331, 334, 340, 352, 363, 405, 406, 407, 410, 411, 412, 414, 426, 427, 435, 441, 445, 458, 461, 465, 491, 492, 511]),RollingWindow(id=2, cost=4000.0, window_size=52, max_vehicles=21, vehicles=[4, 13, 24, 45, 55, 89, 90, 93, 101, 114, 144, 155, 169, 179, 182, 184, 185, 191, 193, 196, 198, 207, 209, 218, 225, 238, 247, 255, 258, 275, 276, 286, 296, 299, 301, 304, 317, 321, 322, 325, 345, 350, 353, 361, 364, 385, 393, 395, 402, 418, 421, 443, 447, 456, 466, 472, 495, 508]),RollingWindow(id=3, cost=5000.0, window_size=2, max_vehicles=1, vehicles=[15, 24, 45, 54, 90, 95, 101, 111, 126, 141, 146, 169, 176, 184, 192, 196, 205, 209, 218, 225, 242, 299, 306, 321, 325, 334, 361, 385, 395, 406, 412, 421, 427, 441, 492]),RollingWindow(id=8, cost=5000.0, window_size=4, max_vehicles=1, vehicles=[4, 10, 13, 16, 19, 20, 21, 24, 26, 89, 101, 112, 169, 182, 184, 185, 196, 207, 209, 216, 218, 225, 254, 255, 275, 299, 304, 321, 322, 325, 340, 350, 352, 361, 363, 395, 405, 418, 426, 441, 445, 461, 472, 491, 492, 495]),RollingWindow(id=9, cost=4000.0, window_size=5, max_vehicles=2, vehicles=[4, 13, 24, 45, 55, 89, 90, 93, 101, 114, 144, 155, 169, 179, 182, 184, 185, 191, 193, 196, 198, 207, 209, 218, 225, 238, 247, 255, 258, 275, 276, 286, 296, 299, 301, 304, 317, 321, 322, 325, 345, 350, 353, 361, 364, 385, 393, 395, 402, 418, 421, 443, 447, 456, 466, 472, 495, 508]),RollingWindow(id=10, cost=5000.0, window_size=3, max_vehicles=1, vehicles=[45, 90, 385, 421]),RollingWindow(id=11, cost=10000.0, window_size=3, max_vehicles=1, vehicles=[1, 3, 6, 7, 8, 9, 11, 12, 14, 18, 23, 25, 27, 29, 30, 31, 32, 33, 34, 35, 36, 37, 38, 39, 40, 41, 42, 43, 44, 46, 47, 48, 49, 50, 51, 52, 53, 56, 57, 59, 60, 61, 62, 63, 64, 65, 66, 67, 69, 70, 71, 72, 73, 74, 75, 76, 77, 78, 79, 80, 81, 82, 83, 84, 86, 87, 88, 91, 92, 96, 97, 98, 99, 100, 102, 103, 104, 105, 106, 107, 108, 109, 110, 113, 116, 117, 118, 119, 120, 121, 122, 123, 124, 125, 128, 129, 130, 131, 132, 133, 134, 135, 136, 137, 138, 139, 142, 143, 145, 147, 148, 149, 150, 152, 153, 154, 156, 157, 158, 159, 160, 161, 162, 163, 164, 165, 166, 167, 168, 170, 171, 172, 173, 174, 175, 177, 178, 180, 181, 186, 187, 188, 189, 194, 195, 197, 199, 200, 201, 202, 203, 204, 206, 208, 210, 211, 212, 213, 214, 215, 217, 219, 220, 221, 222, 223, 224, 226, 227, 228, 229, 230, 231, 233, 235, 236, 239, 240, 241, 243, 245, 246, 248, 249, 250, 251, 252, 253, 256, 257, 259, 260, 261, 262, 264, 265, 266, 267, 268, 269, 270, 271, 273, 274, 277, 278, 280, 281, 282, 283, 284, 285, 287, 289, 290, 291, 292, 293, 294, 295, 297, 298, 300, 302, 303, 305, 307, 308, 309, 310, 311, 313, 314, 315, 316, 318, 319, 320, 323, 324, 326, 327, 328, 329, 330, 332, 333, 335, 336, 337, 338, 339, 341, 342, 343, 344, 346, 347, 348, 349, 351, 354, 355, 356, 357, 358, 359, 360, 362, 365, 366, 367, 368, 369, 370, 371, 372, 373, 374, 375, 376, 377, 378, 379, 380, 381, 382, 383, 384, 386, 387, 388, 389, 390, 391, 392, 394, 396, 397, 398, 399, 400, 401, 403, 404, 408, 409, 413, 415, 416, 417, 419, 420, 422, 423, 424, 425, 428, 429, 430, 431, 432, 433, 434, 436, 437, 438, 439, 440, 442, 444, 446, 448, 449, 450, 451, 452, 453, 454, 455, 457, 459, 460, 462, 463, 464, 467, 468, 469, 470, 471, 473, 474, 475, 476, 477, 478, 479, 480, 481, 482, 483, 484, 485, 486, 487, 488, 489, 490, 493, 494, 496, 497, 498, 499, 500, 501, 502, 503, 504, 505, 506, 507, 509, 510, 512, 513, 514]),RollingWindow(id=15, cost=8000.0, window_size=52, max_vehicles=34, vehicles=[2, 5, 10, 15, 16, 17, 19, 20, 21, 22, 26, 28, 54, 58, 68, 85, 94, 95, 111, 112, 115, 126, 127, 140, 141, 146, 151, 176, 183, 190, 192, 205, 216, 232, 234, 237, 242, 244, 254, 263, 272, 279, 288, 306, 312, 331, 334, 340, 352, 363, 405, 406, 407, 410, 411, 412, 414, 426, 427, 435, 441, 445, 458, 461, 465, 491, 492, 511])]\n",
       ")],\n",
       ")"
      ]
     },
     "metadata": {},
     "output_type": "display_data"
    }
   ],
   "source": [
    "using Kiro24Base\n",
    "filename = \"large_2.json\"\n",
    "instance = Kiro24Base.read_instance(filename, verbose=true)"
   ]
  },
  {
   "cell_type": "code",
   "execution_count": 449,
   "metadata": {},
   "outputs": [
    {
     "data": {
      "text/plain": [
       "transform_filename (generic function with 1 method)"
      ]
     },
     "metadata": {},
     "output_type": "display_data"
    }
   ],
   "source": [
    "function transform_filename(input::String)::String\n",
    "    # Extract the base name without the .json extension\n",
    "    base_name = replace(input, \".json\" => \"\")\n",
    "    \n",
    "    # Append \"_sol\" to the base name\n",
    "    transformed_name = base_name * \"_sol.json\"\n",
    "    \n",
    "    # Prepend \"data/\" to the transformed name\n",
    "    return \"data/\" * transformed_name\n",
    "end\n"
   ]
  },
  {
   "cell_type": "code",
   "execution_count": 450,
   "metadata": {},
   "outputs": [
    {
     "data": {
      "text/plain": [
       "\"data/large_2_sol.json\""
      ]
     },
     "metadata": {},
     "output_type": "display_data"
    }
   ],
   "source": [
    "file_path = transform_filename(filename)\n"
   ]
  },
  {
   "cell_type": "code",
   "execution_count": 451,
   "metadata": {},
   "outputs": [],
   "source": [
    "using JSON,Random\n",
    "using OrderedCollections\n",
    "\n",
    "# Specify the file name and location\n",
    "# Read the JSON file\n",
    "data = JSON.parsefile(filename)\n",
    "\n",
    "# Extract the details from the JSON\n",
    "# For example, extract all shops\n",
    "linear_model = false  # Set to false if you don't want a linear model\n",
    "shops = data[\"shops\"]\n",
    "println(\"Shops:\")\n",
    "println(shops)\n",
    "\n",
    "# Extract vehicles\n",
    "vehicles = data[\"vehicles\"]\n",
    "shops = data[\"shops\"]\n",
    "parameters = data[\"parameters\"]\n",
    "constraints = data[\"constraints\"]\n",
    "two_tone_vehicle = []\n",
    "i = 0\n",
    "for vehicle in vehicles\n",
    "    i+=1\n",
    "    if linear_model\n",
    "        # Set all vehicles to regular if linear_model is true\n",
    "        println(\"Vehicle Type: \")\n",
    "    else\n",
    "        # Otherwise, print the actual vehicle type\n",
    "        if vehicle[\"type\"] == \"two-tone\"\n",
    "            push!(two_tone_vehicle,i)\n",
    "        end\n",
    "    end\n",
    "end\n",
    "for constraint in constraints\n",
    "    println(\"Constraint: \", constraint)\n",
    "end\n",
    "for parameter in parameters\n",
    "    println(\"Parameter: \", parameter)\n",
    "end\n",
    "for shop in shops\n",
    "    println(\"Shop: \", shop)\n",
    "end\n",
    "\n"
   ]
  },
  {
   "cell_type": "code",
   "execution_count": 452,
   "metadata": {},
   "outputs": [],
   "source": [
    "cs = parameters[\"resequencing_cost\"]\n",
    "number_of_shops = length(shops)    \n",
    "δ = parameters[\"two_tone_delta\"]\n",
    "println(δ)\n",
    "i=0 \n",
    "for shop in shops\n",
    "    i+=1\n",
    "    \n",
    "    println(\"Shop: \",i,\"  \", shop)\n",
    "end\n",
    "println(\"Number of shops: \", number_of_shops)\n",
    "number_of_vehicles = length(vehicles)\n",
    "println(\"number_of_vehicles, \",number_of_vehicles)"
   ]
  },
  {
   "cell_type": "code",
   "execution_count": 453,
   "metadata": {},
   "outputs": [
    {
     "data": {
      "text/plain": [
       "OrderedDict{String, Integer} with 3 entries:\n",
       "  \"body\"     => 0\n",
       "  \"paint\"    => 0\n",
       "  \"assembly\" => 10"
      ]
     },
     "metadata": {},
     "output_type": "display_data"
    }
   ],
   "source": [
    "\n",
    "# Initialize an empty dictionary to store the mapping\n",
    "shop_map = OrderedDict{String, Vector{Any}}()\n",
    "\"\"\" In shop_map, every shop name is a key, and the value is a vector of constraints associated with that shop. \"\"\"\n",
    "lag_map = OrderedDict{String, Integer}()\n",
    "\"\"\" In shop_map, every shop name is a key, and the value is a vector of constraints associated with that shop. \"\"\"\n",
    "# Populate the shop_map with shop names as keys and empty arrays as values\n",
    "i = 0\n",
    "for shop in shops\n",
    "    i+=1\n",
    "    shop_map[shop[\"name\"]] = []\n",
    "    lag_map[shop[\"name\"]] = shop[\"resequencing_lag\"]\n",
    "    println(shop[\"name\"],\"i :\",i)\n",
    "end\n",
    "n = number_of_vehicles\n",
    "println(\"n: \", n)\n",
    "# Initialize counters or variables if needed\n",
    "\n",
    "# Assume `model` is defined somewhere before this loop (like in JuMP)\n",
    "# Example: model = Model(Ipopt.Optimizer)\n",
    "\n",
    "# Iterate through constraints and associate them with the corresponding shop in shop_map\n",
    "\n",
    "for constraint in constraints\n",
    "    name = constraint[\"shop\"]\n",
    "    if haskey(shop_map, name)\n",
    "        push!(shop_map[name], constraint)\n",
    "    else\n",
    "        println(\"Warning: Shop name $name in constraints does not exist in shops.\")\n",
    "    end\n",
    "end\n",
    "\n",
    "(lag_map)\n"
   ]
  },
  {
   "cell_type": "code",
   "execution_count": 454,
   "metadata": {},
   "outputs": [
    {
     "data": {
      "text/plain": [
       "514"
      ]
     },
     "metadata": {},
     "output_type": "display_data"
    }
   ],
   "source": [
    "n"
   ]
  },
  {
   "cell_type": "code",
   "execution_count": 455,
   "metadata": {},
   "outputs": [
    {
     "data": {
      "text/plain": [
       "random_perturbation (generic function with 1 method)"
      ]
     },
     "metadata": {},
     "output_type": "display_data"
    }
   ],
   "source": [
    "# Function to generate targeted neighbors\n",
    "function generate_targeted_neighbors0(perm, Vr, Ul,Vb,Mb,mb)\n",
    "    # Start with a random perturbation as a fallback\n",
    "\n",
    "    perturbed_perm = random_perturbation(perm)\n",
    "    n = length(perturbed_perm)\n",
    "    k = 0\n",
    "\n",
    "    # Handle perturbation based on Ul\n",
    "    l = length(Ul)\n",
    "    if l>0 \n",
    "        for j in 1:l\n",
    "            ul = Ul[j]\n",
    "            for i in 1:(n-1)\n",
    "                # Check if the consecutive elements are not in the same sublist in Ul\n",
    "                if !in_same_lot(perturbed_perm[i], perturbed_perm[i + 1], ul)\n",
    "                    # Replace one of the elements with a random element from perm\n",
    "                    for j in i+1:n\n",
    "                        if j != i && j != i + 1 && in_same_lot(perturbed_perm[i], perturbed_perm[j], ul)\n",
    "                            # Replace element at index i with the one at index j\n",
    "                            perturbed_perm[i],perturbed_perm[j] = perturbed_perm[j],perturbed_perm[i]\n",
    "                            break  # Exit loop once a change has been made\n",
    "                        end\n",
    "                    end\n",
    "                end\n",
    "            end\n",
    "        end\n",
    "    end\n",
    "    return perturbed_perm\n",
    "end\n",
    "function generate_targeted_neighbors1(perm, Vr, Ul,Vb,Mb,mb)\n",
    "    perturbed_perm = random_perturbation(perm)\n",
    "    n = length(perturbed_perm)\n",
    "    r = length(Vr)\n",
    "    k = 0\n",
    "    n = length(perturbed_perm)\n",
    "    if r > 0\n",
    "        for j in 1:r\n",
    "            vr = Set(Vr[j])\n",
    "            for i in 1:n \n",
    "                if perturbed_perm[i] in vr\n",
    "                    k += 1\n",
    "                else\n",
    "                    k = 0\n",
    "                end\n",
    "\n",
    "                if k == r && i < n\n",
    "                    # Find the next element not in Vr\n",
    "                    for j in i+1:n\n",
    "                        if perturbed_perm[j] ∉ vr\n",
    "                            # Swap the i-th element with the j-th element\n",
    "                            \n",
    "                            perturbed_perm[i], perturbed_perm[j] = perturbed_perm[j], perturbed_perm[i]\n",
    "                            break\n",
    "                        end\n",
    "                    end\n",
    "                    k = 0  # Reset k after the swap\n",
    "                end\n",
    "            end\n",
    "        end\n",
    "    end\n",
    "    return perturbed_perm\n",
    "end\n",
    "function generate_targeted_neighbors2(perm, Vr, Ul,Vb,Mb,mb)\n",
    "    perturbed_perm = random_perturbation(perm)\n",
    "    n = length(perturbed_perm)\n",
    "    r = length(Vr)\n",
    "    k = 0\n",
    "    n = length(perturbed_perm)\n",
    "    # Batch size constraints (Vb, mb, Mb, cb)\n",
    "    if !isempty(Vb) \n",
    "        for i in 1:length(Vb)\n",
    "            vb = Set(Vb[i])\n",
    "            Mb0 = Mb[i]\n",
    "            mb0 = mb[i]\n",
    "            \n",
    "            for t in 1:n-1\n",
    "                b = true\n",
    "                if t > 1\n",
    "                    b = !(perturbed_perm[t-1] in vb) && b\n",
    "                end\n",
    "                b  = perturbed_perm[t] in vb && b\n",
    "                if !b \n",
    "                    continue\n",
    "                end\n",
    "                for t0 in t:n\n",
    "                    for k in t:t0\n",
    "                        b = (perturbed_perm[k] in vb) && b\n",
    "                    end\n",
    "                    if !b \n",
    "                        continue\n",
    "                    end\n",
    "                    if t0 <= n-1\n",
    "                        b = !(perturbed_perm[t0+1] in vb) && b\n",
    "                    end\n",
    "                    if b\n",
    "                        s = (t0-t) ÷ 2\n",
    "\n",
    "                        if (t > 1 && ((t0 - t + 1) < mb0 || (t0 - t + 1) > Mb0))\n",
    "                            perturbed_perm[t-1], perturbed_perm[t+s] = perturbed_perm[t+s], perturbed_perm[t-1];\n",
    "                        elseif (t0 < n && ((t0 - t + 1) < mb0 || (t0 - t + 1) > Mb0)) \n",
    "                            perturbed_perm[t0+1], perturbed_perm[t+s] = perturbed_perm[t+s], perturbed_perm[t0+1];\n",
    "                        end\n",
    "                        \n",
    "                    \n",
    "                    end\n",
    "                end\n",
    "            end\n",
    "        end\n",
    "    end\n",
    "\n",
    "    return perturbed_perm\n",
    "end\n",
    "\n",
    "# Helper function to check if two elements are in the same sublist in Ul\n",
    "function in_same_lot(elem1, elem2, Ul)\n",
    "    for lot in Ul\n",
    "        if elem1 in lot && elem2 in lot\n",
    "            return true\n",
    "        end\n",
    "    end\n",
    "    return false\n",
    "end\n",
    "\n",
    "\n",
    "# Helper function to apply a random perturbation\n",
    "function random_perturbation(perm)\n",
    "    # Randomly choose two indices to swap\n",
    "    copy_perm = copy(perm)\n",
    "    idx1, idx2 = rand(1:length(perm)), rand(1:length(perm))\n",
    "    copy_perm[idx1], copy_perm[idx2] = copy_perm[idx2], copy_perm[idx1]\n",
    "    return copy_perm\n",
    "end\n"
   ]
  },
  {
   "cell_type": "code",
   "execution_count": 456,
   "metadata": {},
   "outputs": [],
   "source": [
    "# Initialize result and Δs lists\n",
    "result = []\n",
    "Δs = []\n",
    "\n",
    "# Initialize global constraint lists for all shops\n",
    "Cl = []          # Cost list (Ints)\n",
    "Ul = []  # Partitions (Array of arrays of Ints)\n",
    "Vr = []  # Vehicles (Array of arrays of Ints)\n",
    "Mr = []          # Max vehicles (Ints)\n",
    "wr = []          # Window size (Ints)\n",
    "cr = []          # Cost (Ints)\n",
    "mb = []          # Min vehicles (Ints)\n",
    "Mb = []          # Max vehicles (Ints)\n",
    "cb = []          # Cost (Ints)\n",
    "Vb = []  # Vehicles (Array of Ints)\n",
    "\n",
    "# Loop through each shop and its constraints\n",
    "for (shop, constraints) in shop_map\n",
    "    println(\"shop: \", shop)\n",
    "    \n",
    "    # Initialize shop-specific constraint lists\n",
    "    Cl0 = Int[]          # Cost list (Ints)\n",
    "    Ul0 = Vector{Vector{Int}}[]  # Partitions (Array of arrays of Ints)\n",
    "    Vr0 = Vector{Int}[]  # Vehicles (Array of arrays of Ints)\n",
    "    Mr0 = Int[]          # Max vehicles (Ints)\n",
    "    wr0 = Int[]          # Window size (Ints)\n",
    "    cr0 = Int[]          # Cost (Ints)\n",
    "    mb0 = Int[]          # Min vehicles (Ints)\n",
    "    Mb0 = Int[]          # Max vehicles (Ints)\n",
    "    cb0 = Int[]          # Cost (Ints)\n",
    "    Vb0 = []  # Vehicles (Array of Ints)\n",
    "    \n",
    "    # Add the lag for the current shop\n",
    "    push!(Δs, lag_map[shop])\n",
    "    \n",
    "    # Loop through constraints and separate them by type\n",
    "    for constraint in constraints\n",
    "        if constraint[\"type\"] == \"lot_change\"\n",
    "            cl = constraint[\"cost\"]\n",
    "            Ul_0 = constraint[\"partition\"]\n",
    "            push!(Ul0, Ul_0)  # Ensure Ul_0 is an array of Int\n",
    "            push!(Cl0, cl)\n",
    "        end\n",
    "\n",
    "        if constraint[\"type\"] == \"rolling_window\"\n",
    "            Vr_0 = constraint[\"vehicles\"]\n",
    "            Mr_0 = constraint[\"max_vehicles\"]\n",
    "            wr_0 = constraint[\"window_size\"]\n",
    "            cr_0 = constraint[\"cost\"]\n",
    "            push!(Vr0, Vr_0)  # Ensure Vr_0 is an array of Int\n",
    "            push!(Mr0, Mr_0)\n",
    "            push!(wr0, wr_0)\n",
    "            push!(cr0, cr_0)\n",
    "        end\n",
    "\n",
    "        if constraint[\"type\"] == \"batch_size\"\n",
    "            mb_0 = constraint[\"min_vehicles\"]\n",
    "            Mb_0 = constraint[\"max_vehicles\"]\n",
    "            Vb_0 = constraint[\"vehicles\"]\n",
    "            cb_0 = constraint[\"cost\"]\n",
    "            push!(mb0, mb_0)\n",
    "            push!(Mb0, Mb_0)\n",
    "            push!(Vb0, Vb_0)  # Ensure Vb_0 is an array of Int\n",
    "            push!(cb0, cb_0)\n",
    "        end\n",
    "    end\n",
    "\n",
    "    # Push all constraint lists (even if they are empty) to the global lists\n",
    "    push!(Cl, Cl0)\n",
    "    push!(Ul, Ul0)\n",
    "    push!(Vr, Vr0)\n",
    "    push!(Mr, Mr0)\n",
    "    push!(wr, wr0)\n",
    "    push!(cr, cr0)\n",
    "    push!(mb, mb0)\n",
    "    push!(Mb, Mb0)\n",
    "    push!(cb, cb0)\n",
    "    push!(Vb, Vb0)\n",
    "end\n"
   ]
  },
  {
   "cell_type": "code",
   "execution_count": 457,
   "metadata": {},
   "outputs": [
    {
     "data": {
      "text/plain": [
       "18-element Vector{Vector{Int64}}:\n",
       " [31, 40, 70, 84, 111, 125, 141, 149, 150, 162  …  359, 377, 389, 398, 411, 413, 452, 467, 478, 480]\n",
       " [2, 85, 89, 176, 185, 192, 232, 304, 410, 414, 435, 458]\n",
       " [3, 11, 44, 45, 46, 47, 61, 62, 71, 79  …  464, 470, 473, 476, 482, 487, 490, 492, 503, 512]\n",
       " [7, 49, 57, 63, 69, 74, 75, 78, 83, 113  …  298, 303, 355, 366, 367, 403, 424, 436, 444, 469]\n",
       " [1, 20, 21, 26, 36, 39, 41, 76, 82, 86  …  428, 433, 439, 448, 489, 497, 499, 505, 510, 514]\n",
       " [6, 8, 18, 23, 30, 37, 38, 43, 51, 53  …  483, 485, 486, 496, 498, 501, 504, 507, 509, 513]\n",
       " [4, 5, 9, 14, 17, 33, 34, 48, 56, 58  …  455, 456, 465, 472, 474, 479, 488, 493, 494, 500]\n",
       " [15, 27, 32, 52, 65, 87, 95, 118, 187, 251, 253, 288, 330, 375, 412, 459, 511]\n",
       " [24, 101, 196, 218, 225, 321, 385]\n",
       " [22, 28, 54, 68, 114, 140, 146, 191, 205, 238, 247, 263, 272, 286, 393, 402, 406, 427, 508]\n",
       " [216, 405, 445, 461]\n",
       " [12, 25, 29, 42, 50, 67, 98, 100, 102, 104  …  368, 384, 396, 401, 409, 434, 463, 484, 502, 506]\n",
       " [13, 93, 144, 193, 198, 255, 258, 301, 345, 353, 447]\n",
       " [35, 72, 129, 178, 202, 226, 293, 351]\n",
       " [169, 179, 184, 209, 299, 325, 361, 395]\n",
       " [55, 155, 276, 322, 364, 466, 495]\n",
       " [10, 16, 19, 112, 254, 340, 352, 491]\n",
       " [90, 421]"
      ]
     },
     "metadata": {},
     "output_type": "display_data"
    }
   ],
   "source": [
    "Ul[2][1]\n"
   ]
  },
  {
   "cell_type": "code",
   "execution_count": 458,
   "metadata": {},
   "outputs": [
    {
     "data": {
      "text/plain": [
       "1.2143e7"
      ]
     },
     "metadata": {},
     "output_type": "display_data"
    }
   ],
   "source": [
    "file_path = transform_filename(filename)\n",
    "solution = read_solution(instance::Instance,file_path)\n",
    "current_cost = compute_cost(instance, solution, verbose=true)\n",
    "# Compute the cost of the solution\n",
    "total_cost = compute_cost(instance, solution, verbose=true)\n",
    "println(\"Total Cost: \", total_cost)\n",
    "is_feasible(instance, solution,verbose = true)\n",
    "total_cost"
   ]
  },
  {
   "cell_type": "code",
   "execution_count": 459,
   "metadata": {},
   "outputs": [],
   "source": [
    "\n"
   ]
  },
  {
   "cell_type": "code",
   "execution_count": 460,
   "metadata": {},
   "outputs": [
    {
     "data": {
      "text/plain": [
       "simulated_annealing (generic function with 1 method)"
      ]
     },
     "metadata": {},
     "output_type": "display_data"
    }
   ],
   "source": [
    "function simulated_annealing(solution, Cl, Ul, Vr, Mr, wr, cr, mb, Mb, cb, Vb, Δs, cs; T0, alpha, max_iter)\n",
    "    # Initialize variables\n",
    "    current_cost = compute_cost(instance, solution, verbose=true)\n",
    "    best_perms = transpose(copy(solution.entries))  # Best solution found\n",
    "    best_cost = current_cost  # Best cost found\n",
    "    T = T0  # Initial temperature\n",
    "    counter = 0\n",
    "    perms = transpose(copy(solution.entries))\n",
    "\n",
    "    # Check matrix size to ensure valid indexing\n",
    "    println(\"Matrix size: \", size(perms))  # Debugging step\n",
    "\n",
    "    for iter in 1:max_iter\n",
    "        if (T < 1e-100)\n",
    "            break\n",
    "        end\n",
    "        neighbor_costs = []\n",
    "        neighbor_perms = []\n",
    "        # Generate a set of neighboring solutions (perturbations)\n",
    "        for i in 1:size(perms, 1)\n",
    "            perm_copy = copy(perms)\n",
    "            perm = perms[i, :]\n",
    "            \n",
    "            \"\"\"perturbed_perm0 = generate_targeted_neighbors0(perm, Vr[i], Ul[i], Vb[i], Mb[i], mb[i])\n",
    "            perturbed_perm1 = generate_targeted_neighbors1(perm, Vr[i], Ul[i], Vb[i], Mb[i], mb[i])\"\"\"\n",
    "            perturbed_perm2 = generate_targeted_neighbors2(perm, Vr[i], Ul[i], Vb[i], Mb[i], mb[i])\n",
    "            perturbed_perm0 = random_perturbation(perm)\n",
    "            perturbed_perm1 = random_perturbation(perm)\n",
    "            \"\"\"perturbed_perm2 = random_perturbation(perm)\"\"\"\n",
    "            \n",
    "            perm_copy0 = copy(perm_copy)\n",
    "            perm_copy1 = copy(perm_copy)\n",
    "            perm_copy2 = copy(perm_copy)\n",
    "            \n",
    "            perm_copy0[i, :] = perturbed_perm0\n",
    "            perm_copy1[i, :] = perturbed_perm1\n",
    "            perm_copy2[i, :] = perturbed_perm2\n",
    "        \n",
    "            # Initialize the minimum cost and the corresponding permutation\n",
    "            min_cost = Inf\n",
    "            best_perm = perm_copy0\n",
    "            \n",
    "            # Function to update the minimum cost and best permutation\n",
    "            function update_best_perm(perm_copy, entry)\n",
    "                sexit = Solution(instance::Instance, entry).exits\n",
    "                solution = Solution(entry, sexit)\n",
    "                cost = compute_cost(instance, solution, verbose=true)\n",
    "                if is_feasible(instance, solution, verbose=true) && cost < min_cost\n",
    "                    min_cost = cost\n",
    "                    best_perm = perm_copy\n",
    "                end\n",
    "            end\n",
    "            \n",
    "            # Check each perturbed permutation\n",
    "            entry0 = hcat(perm_copy0[1, :], perm_copy0[2, :], perm_copy0[3, :])\n",
    "            update_best_perm(perm_copy0, entry0)\n",
    "        \n",
    "            entry1 = hcat(perm_copy1[1, :], perm_copy1[2, :], perm_copy1[3, :])\n",
    "            update_best_perm(perm_copy1, entry1)\n",
    "            \n",
    "            entry2 = hcat(perm_copy2[1, :], perm_copy2[2, :], perm_copy2[3, :])\n",
    "            update_best_perm(perm_copy2, entry2)\n",
    "        \n",
    "            # If a feasible permutation with a finite cost was found, push it to the arrays\n",
    "            if min_cost < Inf\n",
    "                push!(neighbor_perms, best_perm)\n",
    "                push!(neighbor_costs, min_cost)\n",
    "            else\n",
    "                return -1, -1\n",
    "            end\n",
    "        end\n",
    "        \n",
    "        \n",
    "\n",
    "        # Find the best neighboring solution\n",
    "        min_cost_idx = argmin(neighbor_costs)\n",
    "        best_neighbor = neighbor_perms[min_cost_idx]\n",
    "        best_neighbor_cost = neighbor_costs[min_cost_idx]\n",
    "\n",
    "        # If the best neighboring solution is better, update the current solution\n",
    "        if best_neighbor_cost < current_cost\n",
    "            counter = 0\n",
    "            perms = best_neighbor\n",
    "            current_cost = best_neighbor_cost\n",
    "\n",
    "            # If the new solution is the best, update the best solution\n",
    "            if best_neighbor_cost < best_cost\n",
    "                best_perms = copy(best_neighbor)\n",
    "                best_cost = best_neighbor_cost\n",
    "            end\n",
    "        else\n",
    "            # If the new solution is worse, accept it with a certain probability based on temperature\n",
    "            counter += 1\n",
    "            if true\n",
    "                acceptance_probability = exp(-(best_neighbor_cost - current_cost) / T)\n",
    "                if rand() < acceptance_probability\n",
    "                    perms = copy(best_neighbor)\n",
    "                    current_cost = best_neighbor_cost\n",
    "                end\n",
    "\n",
    "            end\n",
    "        end\n",
    "\n",
    "        # Reduce the temperature (cooling schedule)\n",
    "        T *= alpha\n",
    "\n",
    "        # Optionally print progress\n",
    "        if iter % 10 == 0\n",
    "            println(\"Iteration: $iter, Best Cost: $best_cost, Temperature: $T\")\n",
    "        end\n",
    "    end\n",
    "\n",
    "    return best_perms, best_cost\n",
    "end\n",
    "\n"
   ]
  },
  {
   "cell_type": "code",
   "execution_count": null,
   "metadata": {},
   "outputs": [],
   "source": [
    "a, b = simulated_annealing(solution, Cl, Ul, Vr, Mr, wr, cr, mb, Mb, cb, Vb, Δs, cs; T0=10000000, alpha=0.99, max_iter=500)\n",
    "b"
   ]
  },
  {
   "cell_type": "code",
   "execution_count": null,
   "metadata": {},
   "outputs": [],
   "source": [
    "for i in 1:1\n",
    "    perm_copy = a \n",
    "    entry = hcat(perm_copy[1, :], perm_copy[2, :], perm_copy[3, :])  # Concatenate columns to create the matrix\n",
    "    sexit = (Solution(instance::Instance, entry)).exits\n",
    "    solution = Solution(entry, sexit)\n",
    "    a, b=simulated_annealing(solution, Cl, Ul, Vr, Mr, wr, cr, mb, Mb, cb, Vb, Δs, cs; T0=10000000, alpha=0.99, max_iter=500)\n",
    "end\n",
    "b"
   ]
  },
  {
   "cell_type": "markdown",
   "metadata": {},
   "source": []
  },
  {
   "cell_type": "code",
   "execution_count": null,
   "metadata": {},
   "outputs": [],
   "source": [
    "b"
   ]
  },
  {
   "cell_type": "code",
   "execution_count": 441,
   "metadata": {},
   "outputs": [],
   "source": [
    "#here write your results we will compare them and put the best at the end\n",
    "#small_1 376600.0\n",
    "#small_2 357500.0\n",
    "#medium_1 5.87414e6\n",
    "#medium_2 5.11975e6\n",
    "#large_1 23140770\n",
    "#large_2 1.2143e7"
   ]
  },
  {
   "cell_type": "code",
   "execution_count": null,
   "metadata": {},
   "outputs": [],
   "source": [
    "perm_copy = a \n",
    "entry = hcat(perm_copy[1, :], perm_copy[2, :], perm_copy[3, :])  # Concatenate columns to create the matrix\n",
    "sexit = (Solution(instance::Instance, entry)).exits\n",
    "solution = Solution(entry, sexit)\n",
    "perturbed_cost = compute_cost(instance, solution, verbose=true)\n",
    "c = false\n",
    "if !(is_feasible(instance, solution,verbose = true))\n",
    "    c = true\n",
    "end\n",
    "solution.entries\n"
   ]
  },
  {
   "cell_type": "code",
   "execution_count": null,
   "metadata": {},
   "outputs": [],
   "source": [
    "current_cost = compute_cost(instance, solution, verbose=true)\n"
   ]
  },
  {
   "cell_type": "code",
   "execution_count": null,
   "metadata": {},
   "outputs": [],
   "source": [
    "(is_feasible(instance, solution,verbose=true))\n"
   ]
  },
  {
   "cell_type": "code",
   "execution_count": null,
   "metadata": {},
   "outputs": [],
   "source": [
    "file_path = transform_filename(filename)\n"
   ]
  },
  {
   "cell_type": "code",
   "execution_count": 446,
   "metadata": {},
   "outputs": [],
   "source": [
    "using JSON\n",
    "# Define the path to the JSON file\n",
    "###you need to change the file here too.\n",
    "# Create an empty JSON object\n",
    "empty_json = Dict()\n",
    "\n",
    "# Write the empty JSON object to the file\n",
    "open(file_path, \"w\") do file\n",
    "    JSON.print(file, empty_json)\n",
    "end\n",
    "\n",
    "println(\"Empty JSON file created at $file_path\")\n",
    "write_solution(instance::Instance, solution::Solution)"
   ]
  },
  {
   "cell_type": "code",
   "execution_count": 447,
   "metadata": {},
   "outputs": [],
   "source": []
  }
 ],
 "metadata": {
  "kernelspec": {
   "display_name": "Julia 1.11.2",
   "language": "julia",
   "name": "julia-1.11"
  },
  "language_info": {
   "file_extension": ".jl",
   "mimetype": "application/julia",
   "name": "julia",
   "version": "1.11.2"
  }
 },
 "nbformat": 4,
 "nbformat_minor": 2
}
