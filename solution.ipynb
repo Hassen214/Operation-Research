{
 "cells": [
  {
   "cell_type": "code",
   "execution_count": 504,
   "metadata": {},
   "outputs": [
    {
     "data": {
      "text/plain": [
       "Instance(name = medium_2,\n",
       "two-tone delta = 55,\n",
       "vehicles (259) = [Vehicle(id=1, type=two-tone),Vehicle(id=2, type=two-tone),Vehicle(id=3, type=two-tone),Vehicle(id=6, type=regular),Vehicle(id=5, type=regular),Vehicle(id=4, type=regular),Vehicle(id=7, type=regular),Vehicle(id=8, type=regular),Vehicle(id=9, type=two-tone),Vehicle(id=10, type=regular),Vehicle(id=11, type=two-tone),Vehicle(id=12, type=two-tone),Vehicle(id=14, type=two-tone),Vehicle(id=13, type=regular),Vehicle(id=15, type=two-tone),Vehicle(id=16, type=two-tone),Vehicle(id=17, type=two-tone),Vehicle(id=18, type=regular),Vehicle(id=19, type=two-tone),Vehicle(id=21, type=regular),Vehicle(id=20, type=regular),Vehicle(id=22, type=two-tone),Vehicle(id=23, type=regular),Vehicle(id=24, type=two-tone),Vehicle(id=25, type=regular),Vehicle(id=26, type=regular),Vehicle(id=28, type=two-tone),Vehicle(id=27, type=two-tone),Vehicle(id=29, type=two-tone),Vehicle(id=30, type=two-tone),Vehicle(id=31, type=regular),Vehicle(id=32, type=regular),Vehicle(id=33, type=regular),Vehicle(id=34, type=two-tone),Vehicle(id=35, type=regular),Vehicle(id=36, type=regular),Vehicle(id=37, type=two-tone),Vehicle(id=38, type=two-tone),Vehicle(id=39, type=regular),Vehicle(id=40, type=two-tone),Vehicle(id=42, type=two-tone),Vehicle(id=41, type=regular),Vehicle(id=43, type=regular),Vehicle(id=44, type=regular),Vehicle(id=45, type=two-tone),Vehicle(id=46, type=regular),Vehicle(id=47, type=regular),Vehicle(id=48, type=regular),Vehicle(id=49, type=two-tone),Vehicle(id=50, type=two-tone),Vehicle(id=51, type=two-tone),Vehicle(id=52, type=two-tone),Vehicle(id=53, type=two-tone),Vehicle(id=54, type=regular),Vehicle(id=55, type=two-tone),Vehicle(id=56, type=regular),Vehicle(id=58, type=regular),Vehicle(id=59, type=regular),Vehicle(id=57, type=regular),Vehicle(id=60, type=two-tone),Vehicle(id=61, type=two-tone),Vehicle(id=62, type=two-tone),Vehicle(id=63, type=regular),Vehicle(id=64, type=two-tone),Vehicle(id=65, type=two-tone),Vehicle(id=66, type=two-tone),Vehicle(id=67, type=regular),Vehicle(id=68, type=two-tone),Vehicle(id=69, type=two-tone),Vehicle(id=70, type=regular),Vehicle(id=71, type=regular),Vehicle(id=73, type=two-tone),Vehicle(id=72, type=regular),Vehicle(id=74, type=two-tone),Vehicle(id=75, type=two-tone),Vehicle(id=76, type=two-tone),Vehicle(id=77, type=two-tone),Vehicle(id=78, type=two-tone),Vehicle(id=79, type=regular),Vehicle(id=80, type=regular),Vehicle(id=81, type=regular),Vehicle(id=82, type=regular),Vehicle(id=83, type=two-tone),Vehicle(id=85, type=two-tone),Vehicle(id=84, type=two-tone),Vehicle(id=86, type=regular),Vehicle(id=88, type=regular),Vehicle(id=87, type=regular),Vehicle(id=89, type=regular),Vehicle(id=90, type=regular),Vehicle(id=91, type=regular),Vehicle(id=92, type=regular),Vehicle(id=93, type=two-tone),Vehicle(id=94, type=two-tone),Vehicle(id=95, type=regular),Vehicle(id=96, type=two-tone),Vehicle(id=97, type=two-tone),Vehicle(id=98, type=two-tone),Vehicle(id=99, type=regular),Vehicle(id=100, type=regular),Vehicle(id=101, type=regular),Vehicle(id=102, type=regular),Vehicle(id=103, type=regular),Vehicle(id=104, type=two-tone),Vehicle(id=105, type=regular),Vehicle(id=106, type=regular),Vehicle(id=107, type=regular),Vehicle(id=108, type=two-tone),Vehicle(id=109, type=two-tone),Vehicle(id=110, type=regular),Vehicle(id=111, type=two-tone),Vehicle(id=112, type=two-tone),Vehicle(id=113, type=regular),Vehicle(id=114, type=two-tone),Vehicle(id=115, type=two-tone),Vehicle(id=117, type=two-tone),Vehicle(id=116, type=two-tone),Vehicle(id=118, type=two-tone),Vehicle(id=119, type=two-tone),Vehicle(id=120, type=two-tone),Vehicle(id=122, type=regular),Vehicle(id=121, type=two-tone),Vehicle(id=123, type=regular),Vehicle(id=124, type=regular),Vehicle(id=125, type=regular),Vehicle(id=126, type=regular),Vehicle(id=127, type=regular),Vehicle(id=128, type=two-tone),Vehicle(id=129, type=regular),Vehicle(id=130, type=two-tone),Vehicle(id=131, type=regular),Vehicle(id=132, type=two-tone),Vehicle(id=133, type=two-tone),Vehicle(id=134, type=two-tone),Vehicle(id=135, type=regular),Vehicle(id=136, type=two-tone),Vehicle(id=137, type=two-tone),Vehicle(id=139, type=two-tone),Vehicle(id=138, type=two-tone),Vehicle(id=140, type=regular),Vehicle(id=141, type=regular),Vehicle(id=142, type=two-tone),Vehicle(id=143, type=two-tone),Vehicle(id=144, type=two-tone),Vehicle(id=145, type=two-tone),Vehicle(id=146, type=two-tone),Vehicle(id=147, type=two-tone),Vehicle(id=148, type=regular),Vehicle(id=149, type=regular),Vehicle(id=150, type=two-tone),Vehicle(id=151, type=regular),Vehicle(id=152, type=regular),Vehicle(id=153, type=two-tone),Vehicle(id=154, type=regular),Vehicle(id=155, type=regular),Vehicle(id=156, type=regular),Vehicle(id=157, type=regular),Vehicle(id=158, type=two-tone),Vehicle(id=159, type=two-tone),Vehicle(id=160, type=two-tone),Vehicle(id=161, type=two-tone),Vehicle(id=162, type=two-tone),Vehicle(id=163, type=regular),Vehicle(id=164, type=two-tone),Vehicle(id=165, type=two-tone),Vehicle(id=166, type=two-tone),Vehicle(id=167, type=two-tone),Vehicle(id=168, type=regular),Vehicle(id=169, type=two-tone),Vehicle(id=170, type=two-tone),Vehicle(id=171, type=regular),Vehicle(id=172, type=two-tone),Vehicle(id=173, type=two-tone),Vehicle(id=174, type=regular),Vehicle(id=175, type=regular),Vehicle(id=176, type=regular),Vehicle(id=177, type=two-tone),Vehicle(id=178, type=regular),Vehicle(id=179, type=regular),Vehicle(id=180, type=regular),Vehicle(id=181, type=regular),Vehicle(id=182, type=regular),Vehicle(id=183, type=two-tone),Vehicle(id=184, type=two-tone),Vehicle(id=185, type=two-tone),Vehicle(id=186, type=regular),Vehicle(id=187, type=two-tone),Vehicle(id=188, type=two-tone),Vehicle(id=189, type=regular),Vehicle(id=191, type=two-tone),Vehicle(id=190, type=two-tone),Vehicle(id=192, type=two-tone),Vehicle(id=193, type=two-tone),Vehicle(id=194, type=regular),Vehicle(id=195, type=two-tone),Vehicle(id=196, type=regular),Vehicle(id=197, type=two-tone),Vehicle(id=198, type=two-tone),Vehicle(id=199, type=two-tone),Vehicle(id=200, type=two-tone),Vehicle(id=201, type=regular),Vehicle(id=202, type=regular),Vehicle(id=203, type=two-tone),Vehicle(id=204, type=two-tone),Vehicle(id=205, type=regular),Vehicle(id=206, type=regular),Vehicle(id=207, type=regular),Vehicle(id=208, type=two-tone),Vehicle(id=211, type=two-tone),Vehicle(id=210, type=regular),Vehicle(id=209, type=regular),Vehicle(id=213, type=two-tone),Vehicle(id=212, type=two-tone),Vehicle(id=214, type=two-tone),Vehicle(id=217, type=two-tone),Vehicle(id=218, type=two-tone),Vehicle(id=219, type=regular),Vehicle(id=216, type=regular),Vehicle(id=215, type=regular),Vehicle(id=220, type=regular),Vehicle(id=221, type=two-tone),Vehicle(id=222, type=regular),Vehicle(id=223, type=regular),Vehicle(id=224, type=two-tone),Vehicle(id=225, type=regular),Vehicle(id=226, type=two-tone),Vehicle(id=227, type=regular),Vehicle(id=228, type=regular),Vehicle(id=229, type=regular),Vehicle(id=230, type=regular),Vehicle(id=231, type=regular),Vehicle(id=232, type=two-tone),Vehicle(id=233, type=two-tone),Vehicle(id=234, type=two-tone),Vehicle(id=235, type=two-tone),Vehicle(id=236, type=two-tone),Vehicle(id=237, type=two-tone),Vehicle(id=238, type=two-tone),Vehicle(id=239, type=two-tone),Vehicle(id=240, type=two-tone),Vehicle(id=241, type=regular),Vehicle(id=242, type=two-tone),Vehicle(id=243, type=two-tone),Vehicle(id=244, type=two-tone),Vehicle(id=245, type=two-tone),Vehicle(id=246, type=two-tone),Vehicle(id=247, type=regular),Vehicle(id=248, type=regular),Vehicle(id=249, type=two-tone),Vehicle(id=250, type=regular),Vehicle(id=251, type=two-tone),Vehicle(id=252, type=two-tone),Vehicle(id=253, type=regular),Vehicle(id=254, type=two-tone),Vehicle(id=255, type=two-tone),Vehicle(id=256, type=regular),Vehicle(id=257, type=two-tone),Vehicle(id=258, type=two-tone),Vehicle(id=259, type=regular)],\n",
       "shops = [Shop(name = body,\n",
       "\tisPaint = false,\n",
       "\tresequencingLag = 0,\n",
       "\tresequencingCost = 10000.0,\n",
       "\tbatchSizes (0) = [],\n",
       "\tlotChanges (0) = [],\n",
       "\trollingWindows (0) = []\n",
       "),\n",
       "Shop(name = paint,\n",
       "\tisPaint = true,\n",
       "\tresequencingLag = 10,\n",
       "\tresequencingCost = 10000.0,\n",
       "\tbatchSizes (2) = [BatchSize(id=6, cost=3500.0, min_size=0, max_size=999, vehicles=[40]),BatchSize(id=7, cost=2400.0, min_size=0, max_size=6, vehicles=[40])],\n",
       "\tlotChanges (1) = [LotChange(id=14, cost=3600.0, partition=[[10, 18, 56, 86, 125, 126, 129, 155, 171, 176, 181, 219, 248], [11, 15, 28, 45, 50, 51, 65, 76, 78, 93, 96, 97, 108, 117, 150, 164, 183, 184, 187, 191, 193, 203, 204, 214, 217, 221, 232, 233, 236, 242, 252, 258], [71, 91, 152, 163, 175], [37, 52, 77, 98, 130, 132, 139, 161, 177, 192, 200, 257], [1, 2, 24, 27, 34, 42, 49, 61, 62, 64, 66, 74, 83, 85, 111, 112, 137, 144, 146, 153, 158, 160, 166, 172, 173, 195, 208, 211, 213, 234, 237, 238, 243, 245, 254], [3, 9, 12, 14, 16, 19, 29, 38, 60, 68, 69, 73, 75, 84, 104, 114, 115, 116, 118, 119, 120, 121, 128, 133, 134, 136, 138, 142, 145, 159, 162, 165, 167, 170, 185, 188, 190, 199, 212, 218, 224, 226, 235, 239, 240, 244, 249, 251, 255], [4, 7, 8, 13, 23, 25, 31, 32, 33, 35, 39, 41, 46, 47, 48, 54, 59, 67, 70, 79, 80, 81, 82, 88, 99, 100, 101, 103, 110, 123, 127, 131, 141, 154, 156, 168, 178, 179, 180, 194, 201, 202, 205, 206, 216, 220, 222, 227, 229, 230], [21, 36, 43, 57, 87, 95, 102, 135, 157, 209, 225, 256], [94, 109], [6, 44, 63, 89, 105, 122, 207, 250, 253, 259], [147], [26, 72, 92, 113, 140, 149, 151, 174, 182, 186, 189, 196, 215, 228, 247], [5, 20, 58, 106, 107, 148, 231, 241], [53, 55, 169, 246], [124, 223], [90, 210], [17, 22, 30, 143, 197, 198], [40]])],\n",
       "\trollingWindows (1) = [RollingWindow(id=5, cost=3400.0, window_size=5, max_vehicles=1, vehicles=[147])]\n",
       "),\n",
       "Shop(name = assembly,\n",
       "\tisPaint = false,\n",
       "\tresequencingLag = 0,\n",
       "\tresequencingCost = 10000.0,\n",
       "\tbatchSizes (0) = [],\n",
       "\tlotChanges (2) = [LotChange(id=12, cost=3300.0, partition=[[1, 2, 3, 4, 5, 6, 7, 247, 248, 249, 250, 251, 252, 253, 254, 255, 256, 257, 258, 259, 17, 20, 22, 30, 34, 53, 55, 62, 82, 91, 94, 109, 143, 147, 163, 168, 169, 173, 197, 198, 204, 210, 231, 246], [8, 9, 10, 11, 12, 13, 14, 15, 16, 18, 19, 21, 23, 24, 25, 26, 27, 28, 29, 31, 32, 33, 35, 36, 37, 38, 39, 40, 41, 42, 43, 44, 45, 46, 47, 48, 49, 50, 51, 52, 54, 56, 57, 58, 59, 60, 61, 63, 64, 65, 66, 67, 68, 69, 70, 71, 72, 73, 74, 75, 76, 77, 78, 79, 80, 81, 83, 84, 85, 86, 87, 88, 89, 90, 92, 93, 95, 96, 97, 98, 99, 100, 101, 102, 103, 104, 105, 106, 107, 108, 110, 111, 112, 113, 114, 115, 116, 117, 118, 119, 120, 121, 122, 123, 124, 125, 126, 127, 128, 129, 130, 131, 132, 133, 134, 135, 136, 137, 138, 139, 140, 141, 142, 144, 145, 146, 148, 149, 150, 151, 152, 153, 154, 155, 156, 157, 158, 159, 160, 161, 162, 164, 165, 166, 167, 170, 171, 172, 174, 175, 176, 177, 178, 179, 180, 181, 182, 183, 184, 185, 186, 187, 188, 189, 190, 191, 192, 193, 194, 195, 196, 199, 200, 201, 202, 203, 205, 206, 207, 208, 209, 211, 212, 213, 214, 215, 216, 217, 218, 219, 220, 221, 222, 223, 224, 225, 226, 227, 228, 229, 230, 232, 233, 234, 235, 236, 237, 238, 239, 240, 241, 242, 243, 244, 245]]),LotChange(id=13, cost=3350.0, partition=[[1, 2, 3, 4, 5, 6, 8, 17, 18, 21, 22, 23, 25, 30, 34, 36, 44, 62, 63, 67, 71, 80, 89, 103, 122, 143, 147, 152, 173, 175, 176, 179, 197, 198, 201, 204, 206, 220, 253, 256, 259], [7, 9, 10, 11, 12, 13, 14, 15, 16, 19, 20, 24, 26, 27, 28, 29, 31, 32, 33, 35, 37, 38, 39, 40, 41, 42, 43, 45, 46, 47, 48, 49, 50, 51, 52, 53, 54, 55, 56, 57, 58, 59, 60, 61, 64, 65, 66, 68, 69, 70, 72, 73, 74, 75, 76, 77, 78, 79, 81, 82, 83, 84, 85, 86, 87, 88, 90, 91, 92, 93, 94, 95, 96, 97, 98, 99, 100, 101, 102, 104, 105, 106, 107, 108, 109, 110, 111, 112, 113, 114, 115, 116, 117, 118, 119, 120, 121, 123, 124, 125, 126, 127, 128, 129, 130, 131, 132, 133, 134, 135, 136, 137, 138, 139, 140, 141, 142, 144, 145, 146, 148, 149, 150, 151, 153, 154, 155, 156, 157, 158, 159, 160, 161, 162, 163, 164, 165, 166, 167, 168, 169, 170, 171, 172, 174, 177, 178, 180, 181, 182, 183, 184, 185, 186, 187, 188, 189, 190, 191, 192, 193, 194, 195, 196, 199, 200, 202, 203, 205, 207, 208, 209, 210, 211, 212, 213, 214, 215, 216, 217, 218, 219, 221, 222, 223, 224, 225, 226, 227, 228, 229, 230, 231, 232, 233, 234, 235, 236, 237, 238, 239, 240, 241, 242, 243, 244, 245, 246, 247, 248, 249, 250, 251, 252, 254, 255, 257, 258]])],\n",
       "\trollingWindows (8) = [RollingWindow(id=1, cost=4500.0, window_size=4, max_vehicles=3, vehicles=[6, 8, 17, 18, 21, 22, 23, 25, 30, 34, 36, 44, 62, 63, 67, 71, 80, 89, 103, 122, 143, 147, 152, 173, 175, 176, 179, 197, 198, 201, 204, 206, 220, 253, 256, 259]),RollingWindow(id=2, cost=4500.0, window_size=52, max_vehicles=21, vehicles=[5, 7, 20, 40, 53, 55, 58, 82, 88, 90, 91, 94, 99, 105, 106, 107, 109, 131, 148, 163, 168, 169, 207, 210, 231, 241, 246, 250]),RollingWindow(id=3, cost=5500.0, window_size=2, max_vehicles=1, vehicles=[6, 21, 40, 53, 55, 63, 67, 71, 89, 94, 109, 122, 169, 204, 246]),RollingWindow(id=8, cost=5200.0, window_size=4, max_vehicles=1, vehicles=[7, 17, 20, 22, 30, 34, 53, 55, 62, 82, 91, 94, 109, 143, 147, 163, 168, 169, 173, 197, 198, 204, 210, 231, 246]),RollingWindow(id=9, cost=3800.0, window_size=5, max_vehicles=2, vehicles=[5, 7, 20, 40, 53, 55, 58, 82, 88, 90, 91, 94, 99, 105, 106, 107, 109, 131, 148, 163, 168, 169, 207, 210, 231, 241, 246, 250]),RollingWindow(id=10, cost=6500.0, window_size=3, max_vehicles=1, vehicles=[40]),RollingWindow(id=11, cost=8400.0, window_size=3, max_vehicles=1, vehicles=[1, 2, 3, 4, 9, 10, 11, 12, 13, 14, 15, 16, 19, 24, 26, 27, 28, 29, 31, 32, 33, 35, 37, 38, 39, 41, 42, 43, 45, 46, 47, 48, 49, 50, 51, 52, 54, 56, 57, 59, 60, 61, 64, 65, 66, 68, 69, 70, 72, 73, 74, 75, 76, 77, 78, 79, 81, 83, 84, 85, 86, 87, 92, 93, 95, 96, 97, 98, 100, 101, 102, 104, 108, 110, 111, 112, 113, 114, 115, 116, 117, 118, 119, 120, 121, 123, 124, 125, 126, 127, 128, 129, 130, 132, 133, 134, 135, 136, 137, 138, 139, 140, 141, 142, 144, 145, 146, 149, 150, 151, 153, 154, 155, 156, 157, 158, 159, 160, 161, 162, 164, 165, 166, 167, 170, 171, 172, 174, 177, 178, 180, 181, 182, 183, 184, 185, 186, 187, 188, 189, 190, 191, 192, 193, 194, 195, 196, 199, 200, 202, 203, 205, 208, 209, 211, 212, 213, 214, 215, 216, 217, 218, 219, 221, 222, 223, 224, 225, 226, 227, 228, 229, 230, 232, 233, 234, 235, 236, 237, 238, 239, 240, 242, 243, 244, 245, 247, 248, 249, 251, 252, 254, 255, 257, 258]),RollingWindow(id=15, cost=4200.0, window_size=52, max_vehicles=34, vehicles=[6, 8, 17, 18, 21, 22, 23, 25, 30, 34, 36, 44, 62, 63, 67, 71, 80, 89, 103, 122, 143, 147, 152, 173, 175, 176, 179, 197, 198, 201, 204, 206, 220, 253, 256, 259])]\n",
       ")],\n",
       ")"
      ]
     },
     "metadata": {},
     "output_type": "display_data"
    }
   ],
   "source": [
    "using Kiro24Base\n",
    "filename = \"medium_2.json\"\n",
    "instance = Kiro24Base.read_instance(filename, verbose=true)"
   ]
  },
  {
   "cell_type": "code",
   "execution_count": 505,
   "metadata": {},
   "outputs": [
    {
     "data": {
      "text/plain": [
       "transform_filename (generic function with 1 method)"
      ]
     },
     "metadata": {},
     "output_type": "display_data"
    }
   ],
   "source": [
    "function transform_filename(input::String)::String\n",
    "    # Extract the base name without the .json extension\n",
    "    base_name = replace(input, \".json\" => \"\")\n",
    "    \n",
    "    # Append \"_sol\" to the base name\n",
    "    transformed_name = base_name * \"_sol.json\"\n",
    "    \n",
    "    # Prepend \"data/\" to the transformed name\n",
    "    return \"data/\" * transformed_name\n",
    "end\n"
   ]
  },
  {
   "cell_type": "code",
   "execution_count": 506,
   "metadata": {},
   "outputs": [
    {
     "data": {
      "text/plain": [
       "\"data/medium_2_sol.json\""
      ]
     },
     "metadata": {},
     "output_type": "display_data"
    }
   ],
   "source": [
    "file_path = transform_filename(filename)\n"
   ]
  },
  {
   "cell_type": "code",
   "execution_count": 507,
   "metadata": {},
   "outputs": [],
   "source": [
    "using JSON,Random\n",
    "using OrderedCollections\n",
    "\n",
    "# Specify the file name and location\n",
    "# Read the JSON file\n",
    "data = JSON.parsefile(filename)\n",
    "\n",
    "# Extract the details from the JSON\n",
    "# For example, extract all shops\n",
    "linear_model = false  # Set to false if you don't want a linear model\n",
    "shops = data[\"shops\"]\n",
    "println(\"Shops:\")\n",
    "println(shops)\n",
    "\n",
    "# Extract vehicles\n",
    "vehicles = data[\"vehicles\"]\n",
    "shops = data[\"shops\"]\n",
    "parameters = data[\"parameters\"]\n",
    "constraints = data[\"constraints\"]\n",
    "two_tone_vehicle = []\n",
    "i = 0\n",
    "for vehicle in vehicles\n",
    "    i+=1\n",
    "    if linear_model\n",
    "        # Set all vehicles to regular if linear_model is true\n",
    "        println(\"Vehicle Type: \")\n",
    "    else\n",
    "        # Otherwise, print the actual vehicle type\n",
    "        if vehicle[\"type\"] == \"two-tone\"\n",
    "            push!(two_tone_vehicle,i)\n",
    "        end\n",
    "    end\n",
    "end\n",
    "for constraint in constraints\n",
    "    println(\"Constraint: \", constraint)\n",
    "end\n",
    "for parameter in parameters\n",
    "    println(\"Parameter: \", parameter)\n",
    "end\n",
    "for shop in shops\n",
    "    println(\"Shop: \", shop)\n",
    "end\n",
    "\n"
   ]
  },
  {
   "cell_type": "code",
   "execution_count": 508,
   "metadata": {},
   "outputs": [],
   "source": [
    "cs = parameters[\"resequencing_cost\"]\n",
    "number_of_shops = length(shops)    \n",
    "δ = parameters[\"two_tone_delta\"]\n",
    "println(δ)\n",
    "i=0 \n",
    "for shop in shops\n",
    "    i+=1\n",
    "    \n",
    "    println(\"Shop: \",i,\"  \", shop)\n",
    "end\n",
    "println(\"Number of shops: \", number_of_shops)\n",
    "number_of_vehicles = length(vehicles)\n",
    "println(\"number_of_vehicles, \",number_of_vehicles)"
   ]
  },
  {
   "cell_type": "code",
   "execution_count": 509,
   "metadata": {},
   "outputs": [
    {
     "data": {
      "text/plain": [
       "OrderedDict{String, Integer} with 3 entries:\n",
       "  \"body\"     => 0\n",
       "  \"paint\"    => 10\n",
       "  \"assembly\" => 0"
      ]
     },
     "metadata": {},
     "output_type": "display_data"
    }
   ],
   "source": [
    "\n",
    "# Initialize an empty dictionary to store the mapping\n",
    "shop_map = OrderedDict{String, Vector{Any}}()\n",
    "\"\"\" In shop_map, every shop name is a key, and the value is a vector of constraints associated with that shop. \"\"\"\n",
    "lag_map = OrderedDict{String, Integer}()\n",
    "\"\"\" In shop_map, every shop name is a key, and the value is a vector of constraints associated with that shop. \"\"\"\n",
    "# Populate the shop_map with shop names as keys and empty arrays as values\n",
    "i = 0\n",
    "for shop in shops\n",
    "    i+=1\n",
    "    shop_map[shop[\"name\"]] = []\n",
    "    lag_map[shop[\"name\"]] = shop[\"resequencing_lag\"]\n",
    "    println(shop[\"name\"],\"i :\",i)\n",
    "end\n",
    "n = number_of_vehicles\n",
    "println(\"n: \", n)\n",
    "# Initialize counters or variables if needed\n",
    "\n",
    "# Assume `model` is defined somewhere before this loop (like in JuMP)\n",
    "# Example: model = Model(Ipopt.Optimizer)\n",
    "\n",
    "# Iterate through constraints and associate them with the corresponding shop in shop_map\n",
    "\n",
    "for constraint in constraints\n",
    "    name = constraint[\"shop\"]\n",
    "    if haskey(shop_map, name)\n",
    "        push!(shop_map[name], constraint)\n",
    "    else\n",
    "        println(\"Warning: Shop name $name in constraints does not exist in shops.\")\n",
    "    end\n",
    "end\n",
    "\n",
    "(lag_map)\n"
   ]
  },
  {
   "cell_type": "code",
   "execution_count": 510,
   "metadata": {},
   "outputs": [
    {
     "data": {
      "text/plain": [
       "259"
      ]
     },
     "metadata": {},
     "output_type": "display_data"
    }
   ],
   "source": [
    "n"
   ]
  },
  {
   "cell_type": "code",
   "execution_count": 511,
   "metadata": {},
   "outputs": [
    {
     "data": {
      "text/plain": [
       "random_perturbation (generic function with 1 method)"
      ]
     },
     "metadata": {},
     "output_type": "display_data"
    }
   ],
   "source": [
    "# Function to generate targeted neighbors\n",
    "function generate_targeted_neighbors0(perm, Vr, Ul,Vb,Mb,mb)\n",
    "    # Start with a random perturbation as a fallback\n",
    "\n",
    "    perturbed_perm = random_perturbation(perm)\n",
    "    n = length(perturbed_perm)\n",
    "    k = 0\n",
    "\n",
    "    # Handle perturbation based on Ul\n",
    "    l = length(Ul)\n",
    "    if l>0 \n",
    "        for j in 1:l\n",
    "            ul = Ul[j]\n",
    "            for i in 1:(n-1)\n",
    "                # Check if the consecutive elements are not in the same sublist in Ul\n",
    "                if !in_same_lot(perturbed_perm[i], perturbed_perm[i + 1], ul)\n",
    "                    # Replace one of the elements with a random element from perm\n",
    "                    for j in i+1:n\n",
    "                        if j != i && j != i + 1 && in_same_lot(perturbed_perm[i], perturbed_perm[j], ul)\n",
    "                            # Replace element at index i with the one at index j\n",
    "                            perturbed_perm[i],perturbed_perm[j] = perturbed_perm[j],perturbed_perm[i]\n",
    "                            break  # Exit loop once a change has been made\n",
    "                        end\n",
    "                    end\n",
    "                end\n",
    "            end\n",
    "        end\n",
    "    end\n",
    "    return perturbed_perm\n",
    "end\n",
    "function generate_targeted_neighbors1(perm, Vr, Ul,Vb,Mb,mb)\n",
    "    perturbed_perm = random_perturbation(perm)\n",
    "    n = length(perturbed_perm)\n",
    "    r = length(Vr)\n",
    "    k = 0\n",
    "    n = length(perturbed_perm)\n",
    "    if r > 0\n",
    "        for j in 1:r\n",
    "            vr = Set(Vr[j])\n",
    "            for i in 1:n \n",
    "                if perturbed_perm[i] in vr\n",
    "                    k += 1\n",
    "                else\n",
    "                    k = 0\n",
    "                end\n",
    "\n",
    "                if k == r && i < n\n",
    "                    # Find the next element not in Vr\n",
    "                    for j in i+1:n\n",
    "                        if perturbed_perm[j] ∉ vr\n",
    "                            # Swap the i-th element with the j-th element\n",
    "                            \n",
    "                            perturbed_perm[i], perturbed_perm[j] = perturbed_perm[j], perturbed_perm[i]\n",
    "                            break\n",
    "                        end\n",
    "                    end\n",
    "                    k = 0  # Reset k after the swap\n",
    "                end\n",
    "            end\n",
    "        end\n",
    "    end\n",
    "    return perturbed_perm\n",
    "end\n",
    "function generate_targeted_neighbors2(perm, Vr, Ul,Vb,Mb,mb)\n",
    "    perturbed_perm = random_perturbation(perm)\n",
    "    n = length(perturbed_perm)\n",
    "    r = length(Vr)\n",
    "    k = 0\n",
    "    n = length(perturbed_perm)\n",
    "    # Batch size constraints (Vb, mb, Mb, cb)\n",
    "    if !isempty(Vb) \n",
    "        for i in 1:length(Vb)\n",
    "            vb = Set(Vb[i])\n",
    "            Mb0 = Mb[i]\n",
    "            mb0 = mb[i]\n",
    "            \n",
    "            for t in 1:n-1\n",
    "                b = true\n",
    "                if t > 1\n",
    "                    b = !(perturbed_perm[t-1] in vb) && b\n",
    "                end\n",
    "                b  = perturbed_perm[t] in vb && b\n",
    "                if !b \n",
    "                    continue\n",
    "                end\n",
    "                for t0 in t:n\n",
    "                    for k in t:t0\n",
    "                        b = (perturbed_perm[k] in vb) && b\n",
    "                    end\n",
    "                    if !b \n",
    "                        continue\n",
    "                    end\n",
    "                    if t0 <= n-1\n",
    "                        b = !(perturbed_perm[t0+1] in vb) && b\n",
    "                    end\n",
    "                    if b\n",
    "                        s = (t0-t) ÷ 2\n",
    "\n",
    "                        if (t > 1 && ((t0 - t + 1) < mb0 || (t0 - t + 1) > Mb0))\n",
    "                            perturbed_perm[t-1], perturbed_perm[t+s] = perturbed_perm[t+s], perturbed_perm[t-1];\n",
    "                        elseif (t0 < n && ((t0 - t + 1) < mb0 || (t0 - t + 1) > Mb0)) \n",
    "                            perturbed_perm[t0+1], perturbed_perm[t+s] = perturbed_perm[t+s], perturbed_perm[t0+1];\n",
    "                        end\n",
    "                        \n",
    "                    \n",
    "                    end\n",
    "                end\n",
    "            end\n",
    "        end\n",
    "    end\n",
    "\n",
    "    return perturbed_perm\n",
    "end\n",
    "\n",
    "# Helper function to check if two elements are in the same sublist in Ul\n",
    "function in_same_lot(elem1, elem2, Ul)\n",
    "    for lot in Ul\n",
    "        if elem1 in lot && elem2 in lot\n",
    "            return true\n",
    "        end\n",
    "    end\n",
    "    return false\n",
    "end\n",
    "\n",
    "\n",
    "# Helper function to apply a random perturbation\n",
    "function random_perturbation(perm)\n",
    "    # Randomly choose two indices to swap\n",
    "    copy_perm = copy(perm)\n",
    "    idx1, idx2 = rand(1:length(perm)), rand(1:length(perm))\n",
    "    copy_perm[idx1], copy_perm[idx2] = copy_perm[idx2], copy_perm[idx1]\n",
    "    return copy_perm\n",
    "end\n"
   ]
  },
  {
   "cell_type": "code",
   "execution_count": 512,
   "metadata": {},
   "outputs": [],
   "source": [
    "# Initialize result and Δs lists\n",
    "result = []\n",
    "Δs = []\n",
    "\n",
    "# Initialize global constraint lists for all shops\n",
    "Cl = []          # Cost list (Ints)\n",
    "Ul = []  # Partitions (Array of arrays of Ints)\n",
    "Vr = []  # Vehicles (Array of arrays of Ints)\n",
    "Mr = []          # Max vehicles (Ints)\n",
    "wr = []          # Window size (Ints)\n",
    "cr = []          # Cost (Ints)\n",
    "mb = []          # Min vehicles (Ints)\n",
    "Mb = []          # Max vehicles (Ints)\n",
    "cb = []          # Cost (Ints)\n",
    "Vb = []  # Vehicles (Array of Ints)\n",
    "\n",
    "# Loop through each shop and its constraints\n",
    "for (shop, constraints) in shop_map\n",
    "    println(\"shop: \", shop)\n",
    "    \n",
    "    # Initialize shop-specific constraint lists\n",
    "    Cl0 = Int[]          # Cost list (Ints)\n",
    "    Ul0 = Vector{Vector{Int}}[]  # Partitions (Array of arrays of Ints)\n",
    "    Vr0 = Vector{Int}[]  # Vehicles (Array of arrays of Ints)\n",
    "    Mr0 = Int[]          # Max vehicles (Ints)\n",
    "    wr0 = Int[]          # Window size (Ints)\n",
    "    cr0 = Int[]          # Cost (Ints)\n",
    "    mb0 = Int[]          # Min vehicles (Ints)\n",
    "    Mb0 = Int[]          # Max vehicles (Ints)\n",
    "    cb0 = Int[]          # Cost (Ints)\n",
    "    Vb0 = []  # Vehicles (Array of Ints)\n",
    "    \n",
    "    # Add the lag for the current shop\n",
    "    push!(Δs, lag_map[shop])\n",
    "    \n",
    "    # Loop through constraints and separate them by type\n",
    "    for constraint in constraints\n",
    "        if constraint[\"type\"] == \"lot_change\"\n",
    "            cl = constraint[\"cost\"]\n",
    "            Ul_0 = constraint[\"partition\"]\n",
    "            push!(Ul0, Ul_0)  # Ensure Ul_0 is an array of Int\n",
    "            push!(Cl0, cl)\n",
    "        end\n",
    "\n",
    "        if constraint[\"type\"] == \"rolling_window\"\n",
    "            Vr_0 = constraint[\"vehicles\"]\n",
    "            Mr_0 = constraint[\"max_vehicles\"]\n",
    "            wr_0 = constraint[\"window_size\"]\n",
    "            cr_0 = constraint[\"cost\"]\n",
    "            push!(Vr0, Vr_0)  # Ensure Vr_0 is an array of Int\n",
    "            push!(Mr0, Mr_0)\n",
    "            push!(wr0, wr_0)\n",
    "            push!(cr0, cr_0)\n",
    "        end\n",
    "\n",
    "        if constraint[\"type\"] == \"batch_size\"\n",
    "            mb_0 = constraint[\"min_vehicles\"]\n",
    "            Mb_0 = constraint[\"max_vehicles\"]\n",
    "            Vb_0 = constraint[\"vehicles\"]\n",
    "            cb_0 = constraint[\"cost\"]\n",
    "            push!(mb0, mb_0)\n",
    "            push!(Mb0, Mb_0)\n",
    "            push!(Vb0, Vb_0)  # Ensure Vb_0 is an array of Int\n",
    "            push!(cb0, cb_0)\n",
    "        end\n",
    "    end\n",
    "\n",
    "    # Push all constraint lists (even if they are empty) to the global lists\n",
    "    push!(Cl, Cl0)\n",
    "    push!(Ul, Ul0)\n",
    "    push!(Vr, Vr0)\n",
    "    push!(Mr, Mr0)\n",
    "    push!(wr, wr0)\n",
    "    push!(cr, cr0)\n",
    "    push!(mb, mb0)\n",
    "    push!(Mb, Mb0)\n",
    "    push!(cb, cb0)\n",
    "    push!(Vb, Vb0)\n",
    "end\n"
   ]
  },
  {
   "cell_type": "code",
   "execution_count": 513,
   "metadata": {},
   "outputs": [
    {
     "data": {
      "text/plain": [
       "18-element Vector{Vector{Int64}}:\n",
       " [10, 18, 56, 86, 125, 126, 129, 155, 171, 176, 181, 219, 248]\n",
       " [11, 15, 28, 45, 50, 51, 65, 76, 78, 93  …  204, 214, 217, 221, 232, 233, 236, 242, 252, 258]\n",
       " [71, 91, 152, 163, 175]\n",
       " [37, 52, 77, 98, 130, 132, 139, 161, 177, 192, 200, 257]\n",
       " [1, 2, 24, 27, 34, 42, 49, 61, 62, 64  …  195, 208, 211, 213, 234, 237, 238, 243, 245, 254]\n",
       " [3, 9, 12, 14, 16, 19, 29, 38, 60, 68  …  218, 224, 226, 235, 239, 240, 244, 249, 251, 255]\n",
       " [4, 7, 8, 13, 23, 25, 31, 32, 33, 35  …  201, 202, 205, 206, 216, 220, 222, 227, 229, 230]\n",
       " [21, 36, 43, 57, 87, 95, 102, 135, 157, 209, 225, 256]\n",
       " [94, 109]\n",
       " [6, 44, 63, 89, 105, 122, 207, 250, 253, 259]\n",
       " [147]\n",
       " [26, 72, 92, 113, 140, 149, 151, 174, 182, 186, 189, 196, 215, 228, 247]\n",
       " [5, 20, 58, 106, 107, 148, 231, 241]\n",
       " [53, 55, 169, 246]\n",
       " [124, 223]\n",
       " [90, 210]\n",
       " [17, 22, 30, 143, 197, 198]\n",
       " [40]"
      ]
     },
     "metadata": {},
     "output_type": "display_data"
    }
   ],
   "source": [
    "Ul[2][1]\n"
   ]
  },
  {
   "cell_type": "code",
   "execution_count": 514,
   "metadata": {},
   "outputs": [
    {
     "data": {
      "text/plain": [
       "5.12975e6"
      ]
     },
     "metadata": {},
     "output_type": "display_data"
    }
   ],
   "source": [
    "file_path = transform_filename(filename)\n",
    "solution = read_solution(instance::Instance,file_path)\n",
    "current_cost = compute_cost(instance, solution, verbose=true)\n",
    "# Compute the cost of the solution\n",
    "total_cost = compute_cost(instance, solution, verbose=true)\n",
    "println(\"Total Cost: \", total_cost)\n",
    "is_feasible(instance, solution,verbose = true)\n",
    "total_cost"
   ]
  },
  {
   "cell_type": "code",
   "execution_count": 515,
   "metadata": {},
   "outputs": [],
   "source": [
    "\n"
   ]
  },
  {
   "cell_type": "code",
   "execution_count": 516,
   "metadata": {},
   "outputs": [
    {
     "data": {
      "text/plain": [
       "simulated_annealing (generic function with 1 method)"
      ]
     },
     "metadata": {},
     "output_type": "display_data"
    }
   ],
   "source": [
    "function simulated_annealing(solution, Cl, Ul, Vr, Mr, wr, cr, mb, Mb, cb, Vb, Δs, cs; T0, alpha, max_iter)\n",
    "    # Initialize variables\n",
    "    current_cost = compute_cost(instance, solution, verbose=true)\n",
    "    best_perms = transpose(copy(solution.entries))  # Best solution found\n",
    "    best_cost = current_cost  # Best cost found\n",
    "    T = T0  # Initial temperature\n",
    "    counter = 0\n",
    "    perms = transpose(copy(solution.entries))\n",
    "\n",
    "    # Check matrix size to ensure valid indexing\n",
    "    println(\"Matrix size: \", size(perms))  # Debugging step\n",
    "\n",
    "    for iter in 1:max_iter\n",
    "        if (T < 1e-100)\n",
    "            break\n",
    "        end\n",
    "        neighbor_costs = []\n",
    "        neighbor_perms = []\n",
    "        # Generate a set of neighboring solutions (perturbations)\n",
    "        for i in 1:size(perms, 1)\n",
    "            perm_copy = copy(perms)\n",
    "            perm = perms[i, :]\n",
    "            \n",
    "            \"\"\"perturbed_perm0 = generate_targeted_neighbors0(perm, Vr[i], Ul[i], Vb[i], Mb[i], mb[i])\n",
    "            perturbed_perm1 = generate_targeted_neighbors1(perm, Vr[i], Ul[i], Vb[i], Mb[i], mb[i])\n",
    "            perturbed_perm2 = generate_targeted_neighbors2(perm, Vr[i], Ul[i], Vb[i], Mb[i], mb[i])\"\"\"\n",
    "            perturbed_perm0 = random_perturbation(perm)\n",
    "            perturbed_perm1 = random_perturbation(perm)\n",
    "            perturbed_perm2 = random_perturbation(perm)\n",
    "            \n",
    "            perm_copy0 = copy(perm_copy)\n",
    "            perm_copy1 = copy(perm_copy)\n",
    "            perm_copy2 = copy(perm_copy)\n",
    "            \n",
    "            perm_copy0[i, :] = perturbed_perm0\n",
    "            perm_copy1[i, :] = perturbed_perm1\n",
    "            perm_copy2[i, :] = perturbed_perm2\n",
    "        \n",
    "            # Initialize the minimum cost and the corresponding permutation\n",
    "            min_cost = Inf\n",
    "            best_perm = perm_copy0\n",
    "            \n",
    "            # Function to update the minimum cost and best permutation\n",
    "            function update_best_perm(perm_copy, entry)\n",
    "                sexit = Solution(instance::Instance, entry).exits\n",
    "                solution = Solution(entry, sexit)\n",
    "                cost = compute_cost(instance, solution, verbose=true)\n",
    "                if is_feasible(instance, solution, verbose=true) && cost < min_cost\n",
    "                    min_cost = cost\n",
    "                    best_perm = perm_copy\n",
    "                end\n",
    "            end\n",
    "            \n",
    "            # Check each perturbed permutation\n",
    "            entry0 = hcat(perm_copy0[1, :], perm_copy0[2, :], perm_copy0[3, :])\n",
    "            update_best_perm(perm_copy0, entry0)\n",
    "        \n",
    "            entry1 = hcat(perm_copy1[1, :], perm_copy1[2, :], perm_copy1[3, :])\n",
    "            update_best_perm(perm_copy1, entry1)\n",
    "            \n",
    "            entry2 = hcat(perm_copy2[1, :], perm_copy2[2, :], perm_copy2[3, :])\n",
    "            update_best_perm(perm_copy2, entry2)\n",
    "        \n",
    "            # If a feasible permutation with a finite cost was found, push it to the arrays\n",
    "            if min_cost < Inf\n",
    "                push!(neighbor_perms, best_perm)\n",
    "                push!(neighbor_costs, min_cost)\n",
    "            else\n",
    "                return -1, -1\n",
    "            end\n",
    "        end\n",
    "        \n",
    "        \n",
    "\n",
    "        # Find the best neighboring solution\n",
    "        min_cost_idx = argmin(neighbor_costs)\n",
    "        best_neighbor = neighbor_perms[min_cost_idx]\n",
    "        best_neighbor_cost = neighbor_costs[min_cost_idx]\n",
    "\n",
    "        # If the best neighboring solution is better, update the current solution\n",
    "        if best_neighbor_cost < current_cost\n",
    "            counter = 0\n",
    "            perms = best_neighbor\n",
    "            current_cost = best_neighbor_cost\n",
    "\n",
    "            # If the new solution is the best, update the best solution\n",
    "            if best_neighbor_cost < best_cost\n",
    "                best_perms = copy(best_neighbor)\n",
    "                best_cost = best_neighbor_cost\n",
    "            end\n",
    "        else\n",
    "            # If the new solution is worse, accept it with a certain probability based on temperature\n",
    "            counter += 1\n",
    "            if true\n",
    "                acceptance_probability = exp(-(best_neighbor_cost - current_cost) / T)\n",
    "                if rand() < acceptance_probability\n",
    "                    perms = copy(best_neighbor)\n",
    "                    current_cost = best_neighbor_cost\n",
    "                end\n",
    "\n",
    "            end\n",
    "        end\n",
    "\n",
    "        # Reduce the temperature (cooling schedule)\n",
    "        T *= alpha\n",
    "\n",
    "        # Optionally print progress\n",
    "        if iter % 10 == 0\n",
    "            println(\"Iteration: $iter, Best Cost: $best_cost, Temperature: $T\")\n",
    "        end\n",
    "    end\n",
    "\n",
    "    return best_perms, best_cost\n",
    "end\n",
    "\n"
   ]
  },
  {
   "cell_type": "code",
   "execution_count": 517,
   "metadata": {},
   "outputs": [
    {
     "data": {
      "text/plain": [
       "5.12975e6"
      ]
     },
     "metadata": {},
     "output_type": "display_data"
    }
   ],
   "source": [
    "a, b = simulated_annealing(solution, Cl, Ul, Vr, Mr, wr, cr, mb, Mb, cb, Vb, Δs, cs; T0=1000, alpha=0.99, max_iter=100)\n",
    "b"
   ]
  },
  {
   "cell_type": "code",
   "execution_count": 518,
   "metadata": {},
   "outputs": [
    {
     "data": {
      "text/plain": [
       "5.11975e6"
      ]
     },
     "metadata": {},
     "output_type": "display_data"
    }
   ],
   "source": [
    "for i in 1:10\n",
    "    println(i)\n",
    "    perm_copy = a \n",
    "    entry = hcat(perm_copy[1, :], perm_copy[2, :], perm_copy[3, :])  # Concatenate columns to create the matrix\n",
    "    sexit = (Solution(instance::Instance, entry)).exits\n",
    "    solution = Solution(entry, sexit)\n",
    "    a, b=simulated_annealing(solution, Cl, Ul, Vr, Mr, wr, cr, mb, Mb, cb, Vb, Δs, cs; T0=1000, alpha=0.99, max_iter=1000)\n",
    "end\n",
    "b"
   ]
  },
  {
   "cell_type": "code",
   "execution_count": 519,
   "metadata": {},
   "outputs": [
    {
     "data": {
      "text/plain": [
       "5.11975e6"
      ]
     },
     "metadata": {},
     "output_type": "display_data"
    }
   ],
   "source": [
    "b"
   ]
  },
  {
   "cell_type": "code",
   "execution_count": 520,
   "metadata": {},
   "outputs": [],
   "source": [
    "#here write your results we will compare them and put the best at the end\n",
    "#small_1 376600.0\n",
    "#small_2 357500.0\n",
    "#medium_1 5.89414e6\n",
    "#medium_2 5.12975e6\n",
    "#large_1 7.01 1e7\n",
    "#large_2 1.373e7"
   ]
  },
  {
   "cell_type": "code",
   "execution_count": 521,
   "metadata": {},
   "outputs": [
    {
     "data": {
      "text/plain": [
       "259×3 Matrix{Int64}:\n",
       "   1    1    4\n",
       "   2    2    5\n",
       "   3    3    6\n",
       "   4    4   26\n",
       "   5    5   14\n",
       "   6    6   20\n",
       "   7    7   32\n",
       "   8    8   35\n",
       "   9    9    8\n",
       "  10   10   31\n",
       "   ⋮       \n",
       " 251  251  257\n",
       " 252  252  258\n",
       " 254  254  198\n",
       " 253  253  254\n",
       " 255  255  249\n",
       " 256  256  250\n",
       " 257  257  255\n",
       " 258  258  251\n",
       " 259  259  252"
      ]
     },
     "metadata": {},
     "output_type": "display_data"
    }
   ],
   "source": [
    "perm_copy = a \n",
    "entry = hcat(perm_copy[1, :], perm_copy[2, :], perm_copy[3, :])  # Concatenate columns to create the matrix\n",
    "sexit = (Solution(instance::Instance, entry)).exits\n",
    "solution = Solution(entry, sexit)\n",
    "perturbed_cost = compute_cost(instance, solution, verbose=true)\n",
    "c = false\n",
    "if !(is_feasible(instance, solution,verbose = true))\n",
    "    c = true\n",
    "end\n",
    "solution.entries\n"
   ]
  },
  {
   "cell_type": "code",
   "execution_count": 522,
   "metadata": {},
   "outputs": [
    {
     "data": {
      "text/plain": [
       "5.11975e6"
      ]
     },
     "metadata": {},
     "output_type": "display_data"
    }
   ],
   "source": [
    "current_cost = compute_cost(instance, solution, verbose=true)\n"
   ]
  },
  {
   "cell_type": "code",
   "execution_count": 523,
   "metadata": {},
   "outputs": [
    {
     "data": {
      "text/plain": [
       "true"
      ]
     },
     "metadata": {},
     "output_type": "display_data"
    }
   ],
   "source": [
    "(is_feasible(instance, solution,verbose=true))\n"
   ]
  },
  {
   "cell_type": "code",
   "execution_count": 524,
   "metadata": {},
   "outputs": [
    {
     "data": {
      "text/plain": [
       "\"data/medium_2_sol.json\""
      ]
     },
     "metadata": {},
     "output_type": "display_data"
    }
   ],
   "source": [
    "file_path = transform_filename(filename)\n"
   ]
  },
  {
   "cell_type": "code",
   "execution_count": 525,
   "metadata": {},
   "outputs": [],
   "source": [
    "using JSON\n",
    "# Define the path to the JSON file\n",
    "###you need to change the file here too.\n",
    "# Create an empty JSON object\n",
    "empty_json = Dict()\n",
    "\n",
    "# Write the empty JSON object to the file\n",
    "open(file_path, \"w\") do file\n",
    "    JSON.print(file, empty_json)\n",
    "end\n",
    "\n",
    "println(\"Empty JSON file created at $file_path\")\n",
    "write_solution(instance::Instance, solution::Solution)"
   ]
  },
  {
   "cell_type": "code",
   "execution_count": 526,
   "metadata": {},
   "outputs": [],
   "source": []
  }
 ],
 "metadata": {
  "kernelspec": {
   "display_name": "Julia 1.11.2",
   "language": "julia",
   "name": "julia-1.11"
  },
  "language_info": {
   "file_extension": ".jl",
   "mimetype": "application/julia",
   "name": "julia",
   "version": "1.11.2"
  }
 },
 "nbformat": 4,
 "nbformat_minor": 2
}
