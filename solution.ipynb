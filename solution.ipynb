{
 "cells": [
  {
   "cell_type": "code",
   "execution_count": 139,
   "metadata": {},
   "outputs": [
    {
     "data": {
      "text/plain": [
       "Instance(name = medium_1,\n",
       "two-tone delta = 115,\n",
       "vehicles (297) = [Vehicle(id=1, type=regular),Vehicle(id=2, type=regular),Vehicle(id=3, type=regular),Vehicle(id=4, type=regular),Vehicle(id=5, type=two-tone),Vehicle(id=6, type=regular),Vehicle(id=7, type=regular),Vehicle(id=8, type=two-tone),Vehicle(id=9, type=regular),Vehicle(id=10, type=two-tone),Vehicle(id=11, type=regular),Vehicle(id=12, type=regular),Vehicle(id=13, type=two-tone),Vehicle(id=14, type=regular),Vehicle(id=15, type=regular),Vehicle(id=16, type=regular),Vehicle(id=17, type=regular),Vehicle(id=18, type=two-tone),Vehicle(id=19, type=regular),Vehicle(id=20, type=two-tone),Vehicle(id=21, type=regular),Vehicle(id=22, type=regular),Vehicle(id=23, type=two-tone),Vehicle(id=24, type=regular),Vehicle(id=25, type=two-tone),Vehicle(id=26, type=regular),Vehicle(id=27, type=regular),Vehicle(id=28, type=regular),Vehicle(id=29, type=two-tone),Vehicle(id=30, type=regular),Vehicle(id=31, type=regular),Vehicle(id=32, type=two-tone),Vehicle(id=33, type=two-tone),Vehicle(id=34, type=two-tone),Vehicle(id=35, type=regular),Vehicle(id=36, type=regular),Vehicle(id=37, type=regular),Vehicle(id=38, type=regular),Vehicle(id=39, type=two-tone),Vehicle(id=40, type=two-tone),Vehicle(id=41, type=two-tone),Vehicle(id=42, type=two-tone),Vehicle(id=43, type=two-tone),Vehicle(id=44, type=regular),Vehicle(id=45, type=regular),Vehicle(id=46, type=two-tone),Vehicle(id=47, type=two-tone),Vehicle(id=48, type=regular),Vehicle(id=49, type=two-tone),Vehicle(id=50, type=regular),Vehicle(id=51, type=two-tone),Vehicle(id=52, type=two-tone),Vehicle(id=53, type=regular),Vehicle(id=54, type=regular),Vehicle(id=55, type=two-tone),Vehicle(id=56, type=regular),Vehicle(id=57, type=regular),Vehicle(id=58, type=regular),Vehicle(id=59, type=regular),Vehicle(id=60, type=regular),Vehicle(id=61, type=regular),Vehicle(id=62, type=regular),Vehicle(id=63, type=regular),Vehicle(id=64, type=two-tone),Vehicle(id=65, type=regular),Vehicle(id=66, type=two-tone),Vehicle(id=67, type=regular),Vehicle(id=68, type=regular),Vehicle(id=69, type=regular),Vehicle(id=70, type=two-tone),Vehicle(id=71, type=regular),Vehicle(id=72, type=regular),Vehicle(id=73, type=regular),Vehicle(id=74, type=regular),Vehicle(id=75, type=regular),Vehicle(id=76, type=regular),Vehicle(id=77, type=two-tone),Vehicle(id=78, type=regular),Vehicle(id=79, type=regular),Vehicle(id=80, type=regular),Vehicle(id=81, type=regular),Vehicle(id=82, type=regular),Vehicle(id=83, type=regular),Vehicle(id=84, type=regular),Vehicle(id=85, type=regular),Vehicle(id=86, type=two-tone),Vehicle(id=87, type=regular),Vehicle(id=88, type=regular),Vehicle(id=89, type=regular),Vehicle(id=90, type=two-tone),Vehicle(id=91, type=regular),Vehicle(id=93, type=two-tone),Vehicle(id=92, type=two-tone),Vehicle(id=94, type=regular),Vehicle(id=95, type=regular),Vehicle(id=96, type=regular),Vehicle(id=97, type=two-tone),Vehicle(id=98, type=regular),Vehicle(id=99, type=regular),Vehicle(id=100, type=two-tone),Vehicle(id=101, type=regular),Vehicle(id=102, type=two-tone),Vehicle(id=103, type=two-tone),Vehicle(id=104, type=regular),Vehicle(id=105, type=regular),Vehicle(id=106, type=regular),Vehicle(id=107, type=regular),Vehicle(id=108, type=two-tone),Vehicle(id=109, type=two-tone),Vehicle(id=110, type=regular),Vehicle(id=111, type=regular),Vehicle(id=112, type=two-tone),Vehicle(id=113, type=two-tone),Vehicle(id=114, type=regular),Vehicle(id=115, type=two-tone),Vehicle(id=116, type=two-tone),Vehicle(id=117, type=regular),Vehicle(id=118, type=two-tone),Vehicle(id=119, type=regular),Vehicle(id=120, type=regular),Vehicle(id=121, type=regular),Vehicle(id=122, type=two-tone),Vehicle(id=123, type=regular),Vehicle(id=124, type=regular),Vehicle(id=125, type=regular),Vehicle(id=126, type=two-tone),Vehicle(id=127, type=regular),Vehicle(id=128, type=regular),Vehicle(id=129, type=regular),Vehicle(id=130, type=two-tone),Vehicle(id=131, type=two-tone),Vehicle(id=132, type=regular),Vehicle(id=133, type=regular),Vehicle(id=134, type=regular),Vehicle(id=135, type=regular),Vehicle(id=136, type=regular),Vehicle(id=137, type=regular),Vehicle(id=138, type=regular),Vehicle(id=139, type=regular),Vehicle(id=140, type=regular),Vehicle(id=141, type=regular),Vehicle(id=143, type=regular),Vehicle(id=142, type=regular),Vehicle(id=144, type=two-tone),Vehicle(id=145, type=regular),Vehicle(id=146, type=regular),Vehicle(id=147, type=two-tone),Vehicle(id=148, type=two-tone),Vehicle(id=149, type=regular),Vehicle(id=150, type=two-tone),Vehicle(id=151, type=regular),Vehicle(id=152, type=two-tone),Vehicle(id=153, type=regular),Vehicle(id=154, type=two-tone),Vehicle(id=155, type=two-tone),Vehicle(id=156, type=regular),Vehicle(id=157, type=two-tone),Vehicle(id=158, type=two-tone),Vehicle(id=159, type=regular),Vehicle(id=160, type=regular),Vehicle(id=161, type=regular),Vehicle(id=162, type=regular),Vehicle(id=163, type=regular),Vehicle(id=164, type=regular),Vehicle(id=165, type=regular),Vehicle(id=166, type=two-tone),Vehicle(id=167, type=two-tone),Vehicle(id=168, type=regular),Vehicle(id=170, type=two-tone),Vehicle(id=169, type=regular),Vehicle(id=171, type=regular),Vehicle(id=172, type=regular),Vehicle(id=173, type=regular),Vehicle(id=174, type=regular),Vehicle(id=175, type=regular),Vehicle(id=176, type=regular),Vehicle(id=177, type=two-tone),Vehicle(id=178, type=regular),Vehicle(id=179, type=regular),Vehicle(id=180, type=two-tone),Vehicle(id=181, type=regular),Vehicle(id=182, type=regular),Vehicle(id=183, type=regular),Vehicle(id=184, type=regular),Vehicle(id=185, type=regular),Vehicle(id=186, type=regular),Vehicle(id=187, type=regular),Vehicle(id=188, type=two-tone),Vehicle(id=189, type=regular),Vehicle(id=190, type=regular),Vehicle(id=191, type=two-tone),Vehicle(id=192, type=two-tone),Vehicle(id=193, type=regular),Vehicle(id=194, type=regular),Vehicle(id=195, type=regular),Vehicle(id=196, type=regular),Vehicle(id=197, type=two-tone),Vehicle(id=198, type=regular),Vehicle(id=199, type=regular),Vehicle(id=200, type=regular),Vehicle(id=201, type=two-tone),Vehicle(id=203, type=two-tone),Vehicle(id=202, type=regular),Vehicle(id=204, type=regular),Vehicle(id=205, type=regular),Vehicle(id=206, type=two-tone),Vehicle(id=207, type=regular),Vehicle(id=208, type=two-tone),Vehicle(id=209, type=regular),Vehicle(id=210, type=regular),Vehicle(id=211, type=regular),Vehicle(id=212, type=regular),Vehicle(id=213, type=two-tone),Vehicle(id=214, type=regular),Vehicle(id=215, type=two-tone),Vehicle(id=216, type=two-tone),Vehicle(id=217, type=regular),Vehicle(id=218, type=regular),Vehicle(id=219, type=regular),Vehicle(id=220, type=two-tone),Vehicle(id=221, type=regular),Vehicle(id=222, type=two-tone),Vehicle(id=223, type=two-tone),Vehicle(id=224, type=regular),Vehicle(id=225, type=regular),Vehicle(id=226, type=regular),Vehicle(id=227, type=two-tone),Vehicle(id=228, type=regular),Vehicle(id=229, type=regular),Vehicle(id=230, type=two-tone),Vehicle(id=231, type=regular),Vehicle(id=232, type=regular),Vehicle(id=233, type=regular),Vehicle(id=234, type=regular),Vehicle(id=235, type=regular),Vehicle(id=236, type=regular),Vehicle(id=237, type=two-tone),Vehicle(id=238, type=two-tone),Vehicle(id=239, type=regular),Vehicle(id=240, type=regular),Vehicle(id=241, type=two-tone),Vehicle(id=242, type=regular),Vehicle(id=243, type=regular),Vehicle(id=244, type=two-tone),Vehicle(id=245, type=two-tone),Vehicle(id=246, type=two-tone),Vehicle(id=247, type=regular),Vehicle(id=248, type=regular),Vehicle(id=249, type=regular),Vehicle(id=250, type=regular),Vehicle(id=251, type=regular),Vehicle(id=252, type=regular),Vehicle(id=253, type=two-tone),Vehicle(id=254, type=regular),Vehicle(id=255, type=regular),Vehicle(id=256, type=two-tone),Vehicle(id=257, type=regular),Vehicle(id=258, type=regular),Vehicle(id=259, type=two-tone),Vehicle(id=260, type=regular),Vehicle(id=261, type=regular),Vehicle(id=262, type=two-tone),Vehicle(id=265, type=regular),Vehicle(id=263, type=regular),Vehicle(id=264, type=regular),Vehicle(id=266, type=regular),Vehicle(id=267, type=two-tone),Vehicle(id=268, type=regular),Vehicle(id=269, type=two-tone),Vehicle(id=270, type=regular),Vehicle(id=272, type=two-tone),Vehicle(id=271, type=regular),Vehicle(id=273, type=regular),Vehicle(id=274, type=two-tone),Vehicle(id=275, type=regular),Vehicle(id=276, type=regular),Vehicle(id=277, type=regular),Vehicle(id=279, type=regular),Vehicle(id=278, type=regular),Vehicle(id=280, type=regular),Vehicle(id=281, type=regular),Vehicle(id=282, type=regular),Vehicle(id=283, type=two-tone),Vehicle(id=285, type=regular),Vehicle(id=284, type=regular),Vehicle(id=286, type=regular),Vehicle(id=287, type=regular),Vehicle(id=288, type=regular),Vehicle(id=289, type=regular),Vehicle(id=290, type=regular),Vehicle(id=291, type=regular),Vehicle(id=292, type=regular),Vehicle(id=293, type=regular),Vehicle(id=294, type=regular),Vehicle(id=295, type=regular),Vehicle(id=296, type=regular),Vehicle(id=297, type=two-tone)],\n",
       "shops = [Shop(name = body,\n",
       "\tisPaint = false,\n",
       "\tresequencingLag = 0,\n",
       "\tresequencingCost = 10000.0,\n",
       "\tbatchSizes (2) = [BatchSize(id=3, cost=700.0, min_size=1, max_size=5, vehicles=[1, 2, 3, 4, 6, 7, 8, 9, 10, 11, 12, 14, 15, 16, 17, 18, 19, 20, 22, 23, 24, 25, 26, 28, 29, 31, 32, 33, 35, 37, 38, 40, 41, 42, 43, 44, 45, 46, 47, 48, 49, 51, 52, 53, 54, 55, 56, 57, 58, 59, 60, 61, 62, 64, 65, 66, 67, 68, 69, 71, 73, 74, 75, 77, 78, 79, 80, 81, 82, 83, 84, 85, 86, 87, 88, 90, 91, 92, 94, 96, 97, 98, 99, 101, 102, 103, 104, 105, 106, 107, 108, 109, 110, 111, 112, 113, 114, 115, 116, 117, 118, 119, 120, 121, 124, 126, 127, 128, 129, 131, 132, 133, 134, 135, 136, 137, 139, 140, 141, 143, 144, 146, 147, 149, 150, 151, 154, 155, 156, 157, 158, 159, 160, 161, 162, 163, 164, 165, 166, 167, 168, 170, 171, 172, 173, 174, 175, 176, 177, 179, 180, 181, 182, 183, 185, 186, 187, 188, 189, 190, 191, 192, 193, 194, 195, 196, 197, 198, 200, 201, 203, 204, 205, 206, 207, 210, 212, 213, 214, 215, 216, 217, 218, 220, 221, 222, 224, 225, 227, 228, 229, 230, 231, 232, 233, 234, 235, 236, 237, 238, 239, 241, 242, 243, 244, 245, 248, 249, 251, 252, 253, 254, 256, 257, 258, 259, 260, 261, 262, 263, 264, 266, 267, 268, 269, 270, 272, 273, 274, 275, 278, 280, 281, 282, 283, 285, 287, 288, 289, 290, 291, 292, 293, 295, 296, 297]),BatchSize(id=17, cost=700.0, min_size=1, max_size=5, vehicles=[5, 13, 21, 27, 30, 34, 36, 39, 50, 63, 70, 72, 76, 89, 93, 95, 100, 122, 123, 125, 130, 138, 142, 145, 148, 152, 153, 169, 178, 184, 199, 202, 208, 209, 211, 219, 223, 226, 240, 246, 247, 250, 255, 265, 271, 276, 277, 279, 284, 286, 294])],\n",
       "\tlotChanges (2) = [LotChange(id=9, cost=70.0, partition=[[1, 2, 3, 4, 6, 7, 8, 9, 10, 11, 12, 14, 15, 16, 17, 18, 19, 20, 22, 23, 24, 25, 26, 28, 29, 31, 32, 33, 35, 37, 38, 40, 41, 42, 43, 44, 45, 46, 47, 48, 49, 51, 52, 53, 54, 55, 56, 57, 58, 59, 60, 61, 62, 64, 65, 66, 67, 68, 69, 71, 73, 74, 75, 77, 78, 79, 80, 81, 82, 83, 84, 85, 86, 87, 88, 90, 91, 92, 94, 96, 97, 98, 99, 101, 102, 103, 104, 105, 106, 107, 108, 109, 110, 111, 112, 113, 114, 115, 116, 117, 118, 119, 120, 121, 124, 126, 127, 128, 129, 131, 132, 133, 134, 135, 136, 137, 139, 140, 141, 143, 144, 146, 147, 149, 150, 151, 154, 155, 156, 157, 158, 159, 160, 161, 162, 163, 164, 165, 166, 167, 168, 170, 171, 172, 173, 174, 175, 176, 177, 179, 180, 181, 182, 183, 185, 186, 187, 188, 189, 190, 191, 192, 193, 194, 195, 196, 197, 198, 200, 201, 203, 204, 205, 206, 207, 210, 212, 213, 214, 215, 216, 217, 218, 220, 221, 222, 224, 225, 227, 228, 229, 230, 231, 232, 233, 234, 235, 236, 237, 238, 239, 241, 242, 243, 244, 245, 248, 249, 251, 252, 253, 254, 256, 257, 258, 259, 260, 261, 262, 263, 264, 266, 267, 268, 269, 270, 272, 273, 274, 275, 278, 280, 281, 282, 283, 285, 287, 288, 289, 290, 291, 292, 293, 295, 296, 297], [5, 13, 21, 27, 30, 34, 36, 39, 50, 63, 70, 72, 76, 89, 93, 95, 100, 122, 123, 125, 130, 138, 142, 145, 148, 152, 153, 169, 178, 184, 199, 202, 208, 209, 211, 219, 223, 226, 240, 246, 247, 250, 255, 265, 271, 276, 277, 279, 284, 286, 294]]),LotChange(id=13, cost=70.0, partition=[[1, 2, 3, 4, 5, 295, 296, 297, 13, 21, 27, 30, 34, 36, 39, 50, 63, 70, 72, 76, 89, 93, 95, 100, 122, 123, 125, 130, 138, 142, 145, 148, 152, 153, 169, 178, 184, 199, 202, 208, 209, 211, 219, 223, 226, 240, 246, 247, 250, 255, 265, 271, 276, 277, 279, 284, 286, 294], [6, 7, 8, 9, 10, 11, 12, 14, 15, 16, 17, 18, 19, 20, 22, 23, 24, 25, 26, 28, 29, 31, 32, 33, 35, 37, 38, 40, 41, 42, 43, 44, 45, 46, 47, 48, 49, 51, 52, 53, 54, 55, 56, 57, 58, 59, 60, 61, 62, 64, 65, 66, 67, 68, 69, 71, 73, 74, 75, 77, 78, 79, 80, 81, 82, 83, 84, 85, 86, 87, 88, 90, 91, 92, 94, 96, 97, 98, 99, 101, 102, 103, 104, 105, 106, 107, 108, 109, 110, 111, 112, 113, 114, 115, 116, 117, 118, 119, 120, 121, 124, 126, 127, 128, 129, 131, 132, 133, 134, 135, 136, 137, 139, 140, 141, 143, 144, 146, 147, 149, 150, 151, 154, 155, 156, 157, 158, 159, 160, 161, 162, 163, 164, 165, 166, 167, 168, 170, 171, 172, 173, 174, 175, 176, 177, 179, 180, 181, 182, 183, 185, 186, 187, 188, 189, 190, 191, 192, 193, 194, 195, 196, 197, 198, 200, 201, 203, 204, 205, 206, 207, 210, 212, 213, 214, 215, 216, 217, 218, 220, 221, 222, 224, 225, 227, 228, 229, 230, 231, 232, 233, 234, 235, 236, 237, 238, 239, 241, 242, 243, 244, 245, 248, 249, 251, 252, 253, 254, 256, 257, 258, 259, 260, 261, 262, 263, 264, 266, 267, 268, 269, 270, 272, 273, 274, 275, 278, 280, 281, 282, 283, 285, 287, 288, 289, 290, 291, 292, 293]])],\n",
       "\trollingWindows (3) = [RollingWindow(id=7, cost=300.0, window_size=5, max_vehicles=3, vehicles=[1, 2, 3, 5, 12, 13, 14, 15, 17, 19, 21, 22, 24, 25, 26, 27, 30, 31, 34, 35, 36, 37, 39, 40, 41, 50, 51, 54, 56, 57, 58, 59, 60, 61, 63, 67, 69, 70, 71, 72, 73, 75, 76, 80, 81, 88, 89, 92, 93, 95, 98, 100, 101, 102, 107, 110, 120, 122, 123, 124, 125, 129, 130, 136, 138, 139, 142, 143, 145, 148, 151, 152, 153, 156, 160, 161, 162, 164, 165, 168, 169, 172, 173, 174, 175, 178, 184, 185, 187, 198, 199, 202, 204, 208, 209, 210, 211, 212, 214, 219, 221, 222, 223, 225, 226, 228, 234, 236, 240, 242, 245, 246, 247, 248, 250, 252, 255, 257, 260, 261, 265, 271, 273, 275, 276, 277, 278, 279, 282, 284, 286, 287, 289, 292, 294]),RollingWindow(id=10, cost=500.0, window_size=2, max_vehicles=1, vehicles=[5, 13, 21, 27, 30, 34, 36, 39, 50, 63, 70, 72, 76, 89, 93, 95, 100, 122, 123, 125, 130, 138, 142, 145, 148, 152, 153, 169, 178, 184, 199, 202, 208, 209, 211, 219, 223, 226, 240, 246, 247, 250, 255, 265, 271, 276, 277, 279, 284, 286, 294]),RollingWindow(id=24, cost=400.0, window_size=2, max_vehicles=1, vehicles=[4, 7, 9, 38, 44, 45, 48, 53, 62, 65, 68, 74, 78, 79, 82, 84, 87, 94, 104, 105, 114, 121, 132, 133, 135, 140, 141, 146, 149, 163, 171, 179, 181, 182, 183, 189, 190, 193, 195, 200, 205, 218, 224, 229, 231, 232, 235, 243, 251, 263, 264, 280, 281, 290, 293, 295])]\n",
       "),\n",
       "Shop(name = paint,\n",
       "\tisPaint = true,\n",
       "\tresequencingLag = 10,\n",
       "\tresequencingCost = 10000.0,\n",
       "\tbatchSizes (0) = [],\n",
       "\tlotChanges (3) = [LotChange(id=16, cost=2000.0, partition=[[10, 23, 29, 33, 42, 47, 49, 55, 64, 77, 90, 97, 131, 144, 147, 158, 167, 177, 180, 188, 191, 192, 197, 203, 216, 227, 230, 237, 244, 253, 259, 262, 267, 274, 283], [20, 25, 40, 41, 43, 46, 51, 52, 66, 86, 92, 102, 103, 108, 112, 113, 115, 116, 118, 126, 150, 154, 166, 201, 213, 215, 220, 245, 269, 272, 297], [5, 100, 152, 208, 223], [105, 121, 218], [148], [153, 195], [12, 16, 37, 62, 82, 83, 87, 91, 94, 106, 127, 132, 133, 140, 171, 176, 181, 182, 186, 205, 207, 224, 229, 231, 232, 236, 257, 280, 289, 290], [1, 2, 3, 4, 6, 7, 9, 11, 14, 15, 17, 19, 21, 22, 26, 28, 31, 36, 38, 44, 45, 48, 53, 54, 56, 57, 58, 61, 63, 65, 67, 68, 69, 72, 73, 74, 75, 76, 78, 79, 80, 81, 84, 85, 88, 89, 96, 98, 99, 101, 104, 107, 110, 111, 114, 117, 119, 120, 124, 125, 128, 129, 134, 135, 136, 137, 138, 141, 142, 145, 146, 149, 159, 162, 163, 164, 165, 168, 172, 173, 175, 179, 183, 187, 189, 190, 193, 194, 196, 198, 199, 200, 204, 209, 210, 211, 212, 214, 217, 225, 226, 228, 233, 234, 235, 239, 242, 243, 247, 248, 249, 251, 252, 254, 255, 258, 260, 261, 263, 264, 265, 266, 268, 270, 273, 275, 277, 279, 281, 282, 285, 287, 288, 291, 294, 295, 296], [27, 30, 143, 250, 293], [24, 35, 59, 60, 71, 139, 151, 156, 160, 161, 174, 185, 221, 278, 292], [34, 93], [50, 123, 169, 178, 184, 219, 240, 271, 276, 284, 286], [8, 13, 18, 32, 39, 70, 109, 122, 130, 155, 157, 170, 206, 222, 238, 241, 246, 256], [95, 202]]),LotChange(id=27, cost=100.0, partition=[[10, 23, 29, 33, 42, 47, 49, 55, 64, 77, 90, 97, 131, 144, 147, 158, 167, 177, 180, 188, 191, 192, 197, 203, 216, 227, 230, 237, 244, 253, 259, 262, 267, 274, 283], [20, 25, 40, 41, 43, 46, 51, 52, 66, 86, 92, 102, 103, 108, 112, 113, 115, 116, 118, 126, 150, 154, 166, 201, 213, 215, 220, 245, 269, 272, 297], [5, 100, 152, 208, 223], [105, 121, 218], [148], [153, 195], [12, 16, 37, 62, 82, 83, 87, 91, 94, 106, 127, 132, 133, 140, 171, 176, 181, 182, 186, 205, 207, 224, 229, 231, 232, 236, 257, 280, 289, 290], [1, 2, 3, 4, 6, 7, 9, 11, 14, 15, 17, 19, 21, 22, 26, 28, 31, 36, 38, 44, 45, 48, 53, 54, 56, 57, 58, 61, 63, 65, 67, 68, 69, 72, 73, 74, 75, 76, 78, 79, 80, 81, 84, 85, 88, 89, 96, 98, 99, 101, 104, 107, 110, 111, 114, 117, 119, 120, 124, 125, 128, 129, 134, 135, 136, 137, 138, 141, 142, 145, 146, 149, 159, 162, 163, 164, 165, 168, 172, 173, 175, 179, 183, 187, 189, 190, 193, 194, 196, 198, 199, 200, 204, 209, 210, 211, 212, 214, 217, 225, 226, 228, 233, 234, 235, 239, 242, 243, 247, 248, 249, 251, 252, 254, 255, 258, 260, 261, 263, 264, 265, 266, 268, 270, 273, 275, 277, 279, 281, 282, 285, 287, 288, 291, 294, 295, 296], [27, 30, 143, 250, 293], [24, 35, 59, 60, 71, 139, 151, 156, 160, 161, 174, 185, 221, 278, 292], [34, 93], [50, 123, 169, 178, 184, 219, 240, 271, 276, 284, 286], [8, 13, 18, 32, 39, 70, 109, 122, 130, 155, 157, 170, 206, 222, 238, 241, 246, 256], [95, 202]]),LotChange(id=29, cost=10000.0, partition=[[10, 23, 29, 33, 42, 47, 49, 55, 64, 77, 90, 97, 131, 144, 147, 158, 167, 177, 180, 188, 191, 192, 197, 203, 216, 227, 230, 237, 244, 253, 259, 262, 267, 274, 283], [20, 25, 40, 41, 43, 46, 51, 52, 66, 86, 92, 102, 103, 108, 112, 113, 115, 116, 118, 126, 150, 154, 166, 201, 213, 215, 220, 245, 269, 272, 297], [5, 100, 152, 208, 223], [105, 121, 218], [148], [153, 195], [12, 16, 37, 62, 82, 83, 87, 91, 94, 106, 127, 132, 133, 140, 171, 176, 181, 182, 186, 205, 207, 224, 229, 231, 232, 236, 257, 280, 289, 290], [1, 2, 3, 4, 6, 7, 9, 11, 14, 15, 17, 19, 21, 22, 26, 28, 31, 36, 38, 44, 45, 48, 53, 54, 56, 57, 58, 61, 63, 65, 67, 68, 69, 72, 73, 74, 75, 76, 78, 79, 80, 81, 84, 85, 88, 89, 96, 98, 99, 101, 104, 107, 110, 111, 114, 117, 119, 120, 124, 125, 128, 129, 134, 135, 136, 137, 138, 141, 142, 145, 146, 149, 159, 162, 163, 164, 165, 168, 172, 173, 175, 179, 183, 187, 189, 190, 193, 194, 196, 198, 199, 200, 204, 209, 210, 211, 212, 214, 217, 225, 226, 228, 233, 234, 235, 239, 242, 243, 247, 248, 249, 251, 252, 254, 255, 258, 260, 261, 263, 264, 265, 266, 268, 270, 273, 275, 277, 279, 281, 282, 285, 287, 288, 291, 294, 295, 296], [27, 30, 143, 250, 293], [24, 35, 59, 60, 71, 139, 151, 156, 160, 161, 174, 185, 221, 278, 292], [34, 93], [50, 123, 169, 178, 184, 219, 240, 271, 276, 284, 286], [8, 13, 18, 32, 39, 70, 109, 122, 130, 155, 157, 170, 206, 222, 238, 241, 246, 256], [95, 202]])],\n",
       "\trollingWindows (4) = [RollingWindow(id=6, cost=4000.0, window_size=6, max_vehicles=3, vehicles=[5, 9, 18, 23, 29, 32, 33, 34, 42, 43, 46, 49, 50, 55, 63, 64, 70, 77, 79, 84, 90, 93, 94, 97, 99, 100, 103, 105, 108, 109, 112, 113, 114, 115, 122, 123, 127, 135, 137, 141, 142, 144, 145, 148, 154, 155, 157, 158, 166, 176, 179, 180, 188, 197, 201, 203, 205, 207, 208, 213, 215, 216, 217, 227, 230, 233, 235, 239, 240, 243, 251, 253, 256, 258, 259, 265, 266, 269, 274, 279, 288, 294, 296, 95, 202]),RollingWindow(id=11, cost=4000.0, window_size=30, max_vehicles=5, vehicles=[10, 23, 29, 33, 42, 47, 49, 55, 64, 77, 90, 95, 97, 105, 121, 131, 144, 147, 158, 167, 177, 180, 188, 191, 192, 197, 202, 203, 216, 218, 227, 230, 237, 244, 253, 259, 262, 267, 274, 283]),RollingWindow(id=19, cost=5000.0, window_size=12, max_vehicles=5, vehicles=[5, 8, 10, 13, 18, 20, 23, 25, 29, 32, 33, 34, 39, 40, 41, 42, 43, 46, 47, 49, 51, 52, 55, 64, 66, 70, 77, 86, 90, 92, 93, 97, 100, 102, 103, 108, 109, 112, 113, 115, 116, 118, 122, 126, 130, 131, 144, 147, 148, 150, 152, 154, 155, 157, 158, 166, 167, 170, 177, 180, 188, 191, 192, 197, 201, 203, 206, 208, 213, 215, 216, 220, 222, 223, 227, 230, 237, 238, 241, 244, 245, 246, 253, 256, 259, 262, 267, 269, 272, 274, 283, 297]),RollingWindow(id=20, cost=200.0, window_size=60, max_vehicles=25, vehicles=[5, 8, 10, 13, 18, 20, 23, 25, 29, 32, 33, 34, 39, 40, 41, 42, 43, 46, 47, 49, 51, 52, 55, 64, 66, 70, 77, 86, 90, 92, 93, 97, 100, 102, 103, 108, 109, 112, 113, 115, 116, 118, 122, 126, 130, 131, 144, 147, 148, 150, 152, 154, 155, 157, 158, 166, 167, 170, 177, 180, 188, 191, 192, 197, 201, 203, 206, 208, 213, 215, 216, 220, 222, 223, 227, 230, 237, 238, 241, 244, 245, 246, 253, 256, 259, 262, 267, 269, 272, 274, 283, 297])]\n",
       "),\n",
       "Shop(name = assembly,\n",
       "\tisPaint = false,\n",
       "\tresequencingLag = 15,\n",
       "\tresequencingCost = 10000.0,\n",
       "\tbatchSizes (0) = [],\n",
       "\tlotChanges (0) = [],\n",
       "\trollingWindows (16) = [RollingWindow(id=1, cost=5000.0, window_size=3, max_vehicles=2, vehicles=[4, 5, 8, 9, 11, 16, 18, 23, 26, 29, 30, 33, 34, 36, 37, 38, 41, 42, 45, 46, 49, 50, 53, 55, 64, 70, 76, 77, 79, 84, 85, 86, 89, 90, 91, 93, 94, 96, 97, 100, 103, 104, 106, 108, 109, 111, 112, 113, 114, 115, 116, 117, 122, 123, 125, 127, 128, 134, 135, 138, 141, 144, 146, 148, 149, 150, 152, 154, 155, 157, 158, 159, 165, 166, 170, 171, 178, 179, 180, 181, 184, 188, 190, 191, 192, 195, 196, 197, 199, 201, 203, 204, 205, 211, 213, 215, 216, 217, 218, 219, 220, 223, 225, 226, 227, 230, 231, 233, 235, 237, 239, 240, 241, 243, 250, 253, 255, 256, 257, 258, 259, 265, 266, 268, 269, 272, 274, 276, 277, 279, 280, 281, 283, 285, 286, 291, 293, 294, 297]),RollingWindow(id=2, cost=2000.0, window_size=9, max_vehicles=5, vehicles=[4, 5, 8, 9, 11, 16, 18, 23, 29, 30, 33, 34, 38, 42, 46, 49, 50, 53, 55, 64, 70, 77, 79, 84, 85, 90, 91, 93, 94, 96, 97, 100, 103, 104, 106, 108, 109, 111, 112, 113, 114, 115, 116, 122, 123, 128, 134, 135, 141, 144, 146, 148, 149, 152, 155, 157, 158, 159, 166, 170, 171, 179, 180, 181, 188, 190, 195, 197, 201, 203, 205, 213, 215, 216, 217, 218, 220, 226, 227, 230, 231, 233, 235, 237, 239, 240, 243, 250, 253, 256, 258, 259, 265, 266, 268, 269, 274, 279, 281, 283, 291, 293, 294, 297]),RollingWindow(id=4, cost=6000.0, window_size=5, max_vehicles=3, vehicles=[4, 5, 8, 9, 11, 16, 18, 23, 26, 29, 30, 33, 34, 36, 37, 38, 41, 42, 45, 46, 49, 50, 53, 55, 64, 70, 76, 77, 79, 84, 85, 86, 89, 90, 91, 93, 94, 96, 97, 100, 103, 104, 106, 108, 109, 111, 112, 113, 114, 115, 116, 117, 122, 123, 125, 127, 128, 134, 135, 138, 141, 144, 146, 148, 149, 150, 152, 154, 155, 157, 158, 159, 165, 166, 170, 171, 178, 179, 180, 181, 184, 188, 190, 191, 192, 195, 196, 197, 199, 201, 203, 204, 205, 211, 213, 215, 216, 217, 218, 219, 220, 223, 225, 226, 227, 230, 231, 233, 235, 237, 239, 240, 241, 243, 250, 253, 255, 256, 257, 258, 259, 265, 266, 268, 269, 272, 274, 276, 277, 279, 280, 281, 283, 285, 286, 291, 293, 294, 297]),RollingWindow(id=5, cost=5000.0, window_size=10, max_vehicles=1, vehicles=[9, 38, 53, 104, 141, 149, 179, 181, 190, 205, 235, 281, 293]),RollingWindow(id=8, cost=5000.0, window_size=3, max_vehicles=1, vehicles=[4, 9, 44, 45, 62, 65, 68, 74, 79, 82, 87, 104, 114, 133, 135, 140, 141, 146, 149, 163, 179, 181, 182, 183, 189, 190, 193, 224, 229, 231, 232, 251, 263, 264, 280, 281, 290, 293]),RollingWindow(id=12, cost=30000.0, window_size=2, max_vehicles=1, vehicles=[5, 9, 18, 23, 29, 32, 33, 34, 42, 43, 46, 49, 50, 55, 63, 64, 70, 77, 79, 84, 90, 93, 94, 97, 99, 100, 103, 105, 108, 109, 112, 113, 114, 115, 122, 123, 127, 135, 137, 141, 142, 144, 145, 148, 154, 155, 157, 158, 166, 176, 179, 180, 188, 197, 201, 203, 205, 207, 208, 213, 215, 216, 217, 227, 230, 233, 235, 239, 240, 243, 251, 253, 256, 258, 259, 265, 266, 269, 274, 279, 288, 294, 296, 95, 202]),RollingWindow(id=14, cost=5000.0, window_size=3, max_vehicles=1, vehicles=[5, 13, 30, 36, 50, 63, 70, 72, 76, 89, 100, 122, 123, 125, 130, 138, 145, 152, 153, 169, 178, 184, 199, 208, 209, 211, 219, 223, 226, 240, 246, 250, 255, 265, 271, 276, 277, 279, 284, 286, 294]),RollingWindow(id=15, cost=2000.0, window_size=4, max_vehicles=2, vehicles=[4, 5, 8, 9, 10, 13, 16, 25, 29, 32, 34, 38, 40, 44, 47, 48, 50, 51, 53, 68, 72, 73, 79, 84, 85, 86, 92, 93, 96, 100, 104, 105, 106, 111, 116, 117, 118, 123, 126, 127, 133, 134, 140, 141, 145, 148, 149, 152, 154, 157, 167, 169, 170, 179, 181, 182, 189, 190, 193, 195, 196, 203, 205, 208, 209, 217, 218, 222, 225, 226, 228, 235, 237, 238, 239, 240, 241, 244, 253, 258, 261, 262, 263, 265, 266, 267, 268, 271, 274, 278, 279, 281, 283, 284, 285, 287, 291, 293, 294, 297]),RollingWindow(id=18, cost=70000.0, window_size=2, max_vehicles=1, vehicles=[4, 5, 5, 9, 13, 13, 21, 21, 27, 27, 30, 30, 34, 34, 36, 36, 38, 39, 39, 50, 50, 52, 53, 63, 63, 70, 70, 72, 72, 76, 76, 79, 84, 89, 89, 93, 93, 94, 95, 95, 96, 100, 100, 104, 105, 106, 114, 121, 122, 122, 123, 123, 125, 125, 130, 130, 133, 135, 138, 138, 141, 142, 142, 145, 145, 146, 148, 148, 149, 152, 152, 153, 153, 169, 169, 171, 178, 178, 179, 181, 184, 184, 190, 195, 199, 199, 202, 202, 203, 205, 208, 208, 209, 209, 211, 211, 218, 219, 219, 223, 223, 224, 226, 226, 229, 231, 232, 235, 238, 240, 240, 243, 246, 246, 247, 247, 250, 250, 253, 255, 255, 258, 263, 265, 265, 271, 271, 274, 276, 276, 277, 277, 279, 279, 281, 284, 284, 286, 286, 293, 294, 294]),RollingWindow(id=21, cost=15000.0, window_size=2, max_vehicles=1, vehicles=[4, 7, 9, 34, 38, 44, 45, 48, 53, 62, 65, 68, 74, 78, 79, 82, 84, 87, 93, 94, 104, 105, 114, 121, 132, 133, 135, 140, 141, 146, 148, 149, 163, 171, 179, 181, 182, 183, 189, 190, 193, 195, 200, 205, 218, 224, 229, 231, 232, 235, 243, 246, 251, 263, 264, 280, 281, 290, 293, 295]),RollingWindow(id=22, cost=20000.0, window_size=4, max_vehicles=1, vehicles=[5, 9, 18, 23, 29, 32, 33, 34, 42, 43, 46, 49, 50, 55, 63, 64, 70, 77, 79, 84, 90, 93, 94, 97, 99, 100, 103, 105, 108, 109, 112, 113, 114, 115, 122, 123, 127, 135, 137, 141, 142, 144, 145, 148, 154, 155, 157, 158, 166, 176, 179, 180, 188, 197, 201, 203, 205, 207, 208, 213, 215, 216, 217, 227, 230, 233, 235, 239, 240, 243, 251, 253, 256, 258, 259, 265, 266, 269, 274, 279, 288, 294, 296, 95, 202]),RollingWindow(id=25, cost=15000.0, window_size=6, max_vehicles=1, vehicles=[6, 36, 76, 83, 89, 125, 138, 150, 178, 184, 186, 191, 192, 199, 211, 219, 223, 254, 255, 272, 276, 277, 286]),RollingWindow(id=26, cost=5000.0, window_size=4, max_vehicles=3, vehicles=[4, 5, 8, 9, 11, 13, 16, 18, 23, 26, 29, 30, 33, 34, 36, 37, 38, 41, 42, 45, 46, 49, 50, 53, 55, 63, 64, 70, 72, 76, 77, 79, 84, 85, 86, 89, 90, 91, 93, 94, 96, 97, 100, 103, 104, 106, 108, 109, 111, 112, 113, 114, 115, 116, 117, 122, 123, 125, 127, 128, 130, 134, 135, 138, 141, 144, 145, 146, 148, 149, 150, 151, 152, 153, 154, 155, 157, 158, 159, 165, 166, 169, 170, 171, 172, 178, 179, 180, 181, 184, 188, 190, 191, 192, 195, 196, 197, 199, 201, 203, 204, 205, 208, 209, 211, 213, 215, 216, 217, 218, 219, 220, 223, 225, 226, 227, 230, 231, 233, 235, 237, 239, 240, 241, 243, 246, 250, 253, 255, 256, 257, 258, 259, 265, 266, 268, 269, 271, 272, 274, 276, 277, 279, 280, 281, 283, 284, 285, 286, 291, 293, 294, 297]),RollingWindow(id=30, cost=2000.0, window_size=10, max_vehicles=1, vehicles=[34, 93, 148, 246]),RollingWindow(id=32, cost=5000.0, window_size=3, max_vehicles=1, vehicles=[5, 13, 21, 27, 30, 34, 36, 39, 50, 63, 70, 72, 76, 89, 93, 95, 100, 122, 123, 125, 130, 138, 142, 145, 148, 152, 153, 169, 178, 184, 199, 202, 208, 209, 211, 219, 223, 226, 240, 246, 247, 250, 255, 265, 271, 276, 277, 279, 284, 286, 294]),RollingWindow(id=34, cost=35000.0, window_size=3, max_vehicles=1, vehicles=[4, 5, 5, 9, 13, 13, 21, 21, 27, 27, 30, 30, 34, 34, 36, 36, 38, 39, 39, 50, 50, 52, 53, 63, 63, 70, 70, 72, 72, 76, 76, 79, 84, 89, 89, 93, 93, 94, 95, 95, 96, 100, 100, 104, 105, 106, 114, 121, 122, 122, 123, 123, 125, 125, 130, 130, 133, 135, 138, 138, 141, 142, 142, 145, 145, 146, 148, 148, 149, 152, 152, 153, 153, 169, 169, 171, 178, 178, 179, 181, 184, 184, 190, 195, 199, 199, 202, 202, 203, 205, 208, 208, 209, 209, 211, 211, 218, 219, 219, 223, 223, 224, 226, 226, 229, 231, 232, 235, 238, 240, 240, 243, 246, 246, 247, 247, 250, 250, 253, 255, 255, 258, 263, 265, 265, 271, 271, 274, 276, 276, 277, 277, 279, 279, 281, 284, 284, 286, 286, 293, 294, 294])]\n",
       ")],\n",
       ")"
      ]
     },
     "metadata": {},
     "output_type": "display_data"
    }
   ],
   "source": [
    "using Kiro24Base\n",
    "filename = \"medium_1.json\"\n",
    "instance = Kiro24Base.read_instance(filename, verbose=true)"
   ]
  },
  {
   "cell_type": "code",
   "execution_count": 140,
   "metadata": {},
   "outputs": [
    {
     "data": {
      "text/plain": [
       "transform_filename (generic function with 1 method)"
      ]
     },
     "metadata": {},
     "output_type": "display_data"
    }
   ],
   "source": [
    "function transform_filename(input::String)::String\n",
    "    # Extract the base name without the .json extension\n",
    "    base_name = replace(input, \".json\" => \"\")\n",
    "    \n",
    "    # Append \"_sol\" to the base name\n",
    "    transformed_name = base_name * \"_sol.json\"\n",
    "    \n",
    "    # Prepend \"data/\" to the transformed name\n",
    "    return \"data/\" * transformed_name\n",
    "end\n"
   ]
  },
  {
   "cell_type": "code",
   "execution_count": 141,
   "metadata": {},
   "outputs": [
    {
     "data": {
      "text/plain": [
       "\"data/medium_1_sol.json\""
      ]
     },
     "metadata": {},
     "output_type": "display_data"
    }
   ],
   "source": [
    "file_path = transform_filename(filename)\n"
   ]
  },
  {
   "cell_type": "code",
   "execution_count": 142,
   "metadata": {},
   "outputs": [],
   "source": [
    "using JSON,Random\n",
    "using OrderedCollections\n",
    "\n",
    "# Specify the file name and location\n",
    "# Read the JSON file\n",
    "data = JSON.parsefile(filename)\n",
    "\n",
    "# Extract the details from the JSON\n",
    "# For example, extract all shops\n",
    "linear_model = false  # Set to false if you don't want a linear model\n",
    "shops = data[\"shops\"]\n",
    "println(\"Shops:\")\n",
    "println(shops)\n",
    "\n",
    "# Extract vehicles\n",
    "vehicles = data[\"vehicles\"]\n",
    "shops = data[\"shops\"]\n",
    "parameters = data[\"parameters\"]\n",
    "constraints = data[\"constraints\"]\n",
    "two_tone_vehicle = []\n",
    "i = 0\n",
    "for vehicle in vehicles\n",
    "    i+=1\n",
    "    if linear_model\n",
    "        # Set all vehicles to regular if linear_model is true\n",
    "        println(\"Vehicle Type: \")\n",
    "    else\n",
    "        # Otherwise, print the actual vehicle type\n",
    "        if vehicle[\"type\"] == \"two-tone\"\n",
    "            push!(two_tone_vehicle,i)\n",
    "        end\n",
    "    end\n",
    "end\n",
    "for constraint in constraints\n",
    "    println(\"Constraint: \", constraint)\n",
    "end\n",
    "for parameter in parameters\n",
    "    println(\"Parameter: \", parameter)\n",
    "end\n",
    "for shop in shops\n",
    "    println(\"Shop: \", shop)\n",
    "end\n",
    "\n"
   ]
  },
  {
   "cell_type": "code",
   "execution_count": 143,
   "metadata": {},
   "outputs": [],
   "source": [
    "cs = parameters[\"resequencing_cost\"]\n",
    "number_of_shops = length(shops)    \n",
    "δ = parameters[\"two_tone_delta\"]\n",
    "println(δ)\n",
    "i=0 \n",
    "for shop in shops\n",
    "    i+=1\n",
    "    \n",
    "    println(\"Shop: \",i,\"  \", shop)\n",
    "end\n",
    "println(\"Number of shops: \", number_of_shops)\n",
    "number_of_vehicles = length(vehicles)\n",
    "println(\"number_of_vehicles, \",number_of_vehicles)"
   ]
  },
  {
   "cell_type": "code",
   "execution_count": 144,
   "metadata": {},
   "outputs": [
    {
     "data": {
      "text/plain": [
       "OrderedDict{String, Integer} with 3 entries:\n",
       "  \"body\"     => 0\n",
       "  \"paint\"    => 10\n",
       "  \"assembly\" => 15"
      ]
     },
     "metadata": {},
     "output_type": "display_data"
    }
   ],
   "source": [
    "\n",
    "# Initialize an empty dictionary to store the mapping\n",
    "shop_map = OrderedDict{String, Vector{Any}}()\n",
    "\"\"\" In shop_map, every shop name is a key, and the value is a vector of constraints associated with that shop. \"\"\"\n",
    "lag_map = OrderedDict{String, Integer}()\n",
    "\"\"\" In shop_map, every shop name is a key, and the value is a vector of constraints associated with that shop. \"\"\"\n",
    "# Populate the shop_map with shop names as keys and empty arrays as values\n",
    "i = 0\n",
    "for shop in shops\n",
    "    i+=1\n",
    "    shop_map[shop[\"name\"]] = []\n",
    "    lag_map[shop[\"name\"]] = shop[\"resequencing_lag\"]\n",
    "    println(shop[\"name\"],\"i :\",i)\n",
    "end\n",
    "n = number_of_vehicles\n",
    "println(\"n: \", n)\n",
    "# Initialize counters or variables if needed\n",
    "\n",
    "# Assume `model` is defined somewhere before this loop (like in JuMP)\n",
    "# Example: model = Model(Ipopt.Optimizer)\n",
    "\n",
    "# Iterate through constraints and associate them with the corresponding shop in shop_map\n",
    "\n",
    "for constraint in constraints\n",
    "    name = constraint[\"shop\"]\n",
    "    if haskey(shop_map, name)\n",
    "        push!(shop_map[name], constraint)\n",
    "    else\n",
    "        println(\"Warning: Shop name $name in constraints does not exist in shops.\")\n",
    "    end\n",
    "end\n",
    "\n",
    "(lag_map)\n"
   ]
  },
  {
   "cell_type": "code",
   "execution_count": 145,
   "metadata": {},
   "outputs": [
    {
     "data": {
      "text/plain": [
       "297"
      ]
     },
     "metadata": {},
     "output_type": "display_data"
    }
   ],
   "source": [
    "n"
   ]
  },
  {
   "cell_type": "code",
   "execution_count": 146,
   "metadata": {},
   "outputs": [
    {
     "data": {
      "text/plain": [
       "random_perturbation (generic function with 1 method)"
      ]
     },
     "metadata": {},
     "output_type": "display_data"
    }
   ],
   "source": [
    "# Function to generate targeted neighbors\n",
    "function generate_targeted_neighbors0(perm, Vr, Ul,Vb,Mb,mb)\n",
    "    # Start with a random perturbation as a fallback\n",
    "\n",
    "    perturbed_perm = random_perturbation(perm)\n",
    "    n = length(perturbed_perm)\n",
    "    k = 0\n",
    "\n",
    "    # Handle perturbation based on Ul\n",
    "    l = length(Ul)\n",
    "    if l>0 \n",
    "        for j in 1:l\n",
    "            ul = Ul[j]\n",
    "            for i in 1:(n-1)\n",
    "                # Check if the consecutive elements are not in the same sublist in Ul\n",
    "                if !in_same_lot(perturbed_perm[i], perturbed_perm[i + 1], ul)\n",
    "                    # Replace one of the elements with a random element from perm\n",
    "                    for j in i+1:n\n",
    "                        if j != i && j != i + 1 && in_same_lot(perturbed_perm[i], perturbed_perm[j], ul)\n",
    "                            # Replace element at index i with the one at index j\n",
    "                            perturbed_perm[i],perturbed_perm[j] = perturbed_perm[j],perturbed_perm[i]\n",
    "                            break  # Exit loop once a change has been made\n",
    "                        end\n",
    "                    end\n",
    "                end\n",
    "            end\n",
    "        end\n",
    "    end\n",
    "    return perturbed_perm\n",
    "end\n",
    "function generate_targeted_neighbors1(perm, Vr, Ul,Vb,Mb,mb)\n",
    "    perturbed_perm = random_perturbation(perm)\n",
    "    n = length(perturbed_perm)\n",
    "    r = length(Vr)\n",
    "    k = 0\n",
    "    n = length(perturbed_perm)\n",
    "    if r > 0\n",
    "        for j in 1:r\n",
    "            vr = Set(Vr[j])\n",
    "            for i in 1:n \n",
    "                if perturbed_perm[i] in vr\n",
    "                    k += 1\n",
    "                else\n",
    "                    k = 0\n",
    "                end\n",
    "\n",
    "                if k == r && i < n\n",
    "                    # Find the next element not in Vr\n",
    "                    for j in i+1:n\n",
    "                        if perturbed_perm[j] ∉ vr\n",
    "                            # Swap the i-th element with the j-th element\n",
    "                            \n",
    "                            perturbed_perm[i], perturbed_perm[j] = perturbed_perm[j], perturbed_perm[i]\n",
    "                            break\n",
    "                        end\n",
    "                    end\n",
    "                    k = 0  # Reset k after the swap\n",
    "                end\n",
    "            end\n",
    "        end\n",
    "    end\n",
    "    return perturbed_perm\n",
    "end\n",
    "function generate_targeted_neighbors2(perm, Vr, Ul,Vb,Mb,mb)\n",
    "    perturbed_perm = random_perturbation(perm)\n",
    "    n = length(perturbed_perm)\n",
    "    r = length(Vr)\n",
    "    k = 0\n",
    "    n = length(perturbed_perm)\n",
    "    # Batch size constraints (Vb, mb, Mb, cb)\n",
    "    if !isempty(Vb) \n",
    "        for i in 1:length(Vb)\n",
    "            vb = Set(Vb[i])\n",
    "            Mb0 = Mb[i]\n",
    "            mb0 = mb[i]\n",
    "            \n",
    "            for t in 1:n-1\n",
    "                b = true\n",
    "                if t > 1\n",
    "                    b = !(perturbed_perm[t-1] in vb) && b\n",
    "                end\n",
    "                b  = perturbed_perm[t] in vb && b\n",
    "                if !b \n",
    "                    continue\n",
    "                end\n",
    "                for t0 in t:n\n",
    "                    for k in t:t0\n",
    "                        b = (perturbed_perm[k] in vb) && b\n",
    "                    end\n",
    "                    if !b \n",
    "                        continue\n",
    "                    end\n",
    "                    if t0 <= n-1\n",
    "                        b = !(perturbed_perm[t0+1] in vb) && b\n",
    "                    end\n",
    "                    if b\n",
    "                        s = (t0-t) ÷ 2\n",
    "\n",
    "                        if (t > 1 && ((t0 - t + 1) < mb0 || (t0 - t + 1) > Mb0))\n",
    "                            perturbed_perm[t-1], perturbed_perm[t+s] = perturbed_perm[t+s], perturbed_perm[t-1];\n",
    "                        elseif (t0 < n && ((t0 - t + 1) < mb0 || (t0 - t + 1) > Mb0)) \n",
    "                            perturbed_perm[t0+1], perturbed_perm[t+s] = perturbed_perm[t+s], perturbed_perm[t0+1];\n",
    "                        end\n",
    "                        \n",
    "                    \n",
    "                    end\n",
    "                end\n",
    "            end\n",
    "        end\n",
    "    end\n",
    "\n",
    "    return perturbed_perm\n",
    "end\n",
    "\n",
    "# Helper function to check if two elements are in the same sublist in Ul\n",
    "function in_same_lot(elem1, elem2, Ul)\n",
    "    for lot in Ul\n",
    "        if elem1 in lot && elem2 in lot\n",
    "            return true\n",
    "        end\n",
    "    end\n",
    "    return false\n",
    "end\n",
    "\n",
    "\n",
    "# Helper function to apply a random perturbation\n",
    "function random_perturbation(perm)\n",
    "    # Randomly choose two indices to swap\n",
    "    copy_perm = copy(perm)\n",
    "    idx1, idx2 = rand(1:length(perm)), rand(1:length(perm))\n",
    "    copy_perm[idx1], copy_perm[idx2] = copy_perm[idx2], copy_perm[idx1]\n",
    "    return copy_perm\n",
    "end\n"
   ]
  },
  {
   "cell_type": "code",
   "execution_count": 147,
   "metadata": {},
   "outputs": [],
   "source": [
    "# Initialize result and Δs lists\n",
    "result = []\n",
    "Δs = []\n",
    "\n",
    "# Initialize global constraint lists for all shops\n",
    "Cl = []          # Cost list (Ints)\n",
    "Ul = []  # Partitions (Array of arrays of Ints)\n",
    "Vr = []  # Vehicles (Array of arrays of Ints)\n",
    "Mr = []          # Max vehicles (Ints)\n",
    "wr = []          # Window size (Ints)\n",
    "cr = []          # Cost (Ints)\n",
    "mb = []          # Min vehicles (Ints)\n",
    "Mb = []          # Max vehicles (Ints)\n",
    "cb = []          # Cost (Ints)\n",
    "Vb = []  # Vehicles (Array of Ints)\n",
    "\n",
    "# Loop through each shop and its constraints\n",
    "for (shop, constraints) in shop_map\n",
    "    println(\"shop: \", shop)\n",
    "    \n",
    "    # Initialize shop-specific constraint lists\n",
    "    Cl0 = Int[]          # Cost list (Ints)\n",
    "    Ul0 = Vector{Vector{Int}}[]  # Partitions (Array of arrays of Ints)\n",
    "    Vr0 = Vector{Int}[]  # Vehicles (Array of arrays of Ints)\n",
    "    Mr0 = Int[]          # Max vehicles (Ints)\n",
    "    wr0 = Int[]          # Window size (Ints)\n",
    "    cr0 = Int[]          # Cost (Ints)\n",
    "    mb0 = Int[]          # Min vehicles (Ints)\n",
    "    Mb0 = Int[]          # Max vehicles (Ints)\n",
    "    cb0 = Int[]          # Cost (Ints)\n",
    "    Vb0 = []  # Vehicles (Array of Ints)\n",
    "    \n",
    "    # Add the lag for the current shop\n",
    "    push!(Δs, lag_map[shop])\n",
    "    \n",
    "    # Loop through constraints and separate them by type\n",
    "    for constraint in constraints\n",
    "        if constraint[\"type\"] == \"lot_change\"\n",
    "            cl = constraint[\"cost\"]\n",
    "            Ul_0 = constraint[\"partition\"]\n",
    "            push!(Ul0, Ul_0)  # Ensure Ul_0 is an array of Int\n",
    "            push!(Cl0, cl)\n",
    "        end\n",
    "\n",
    "        if constraint[\"type\"] == \"rolling_window\"\n",
    "            Vr_0 = constraint[\"vehicles\"]\n",
    "            Mr_0 = constraint[\"max_vehicles\"]\n",
    "            wr_0 = constraint[\"window_size\"]\n",
    "            cr_0 = constraint[\"cost\"]\n",
    "            push!(Vr0, Vr_0)  # Ensure Vr_0 is an array of Int\n",
    "            push!(Mr0, Mr_0)\n",
    "            push!(wr0, wr_0)\n",
    "            push!(cr0, cr_0)\n",
    "        end\n",
    "\n",
    "        if constraint[\"type\"] == \"batch_size\"\n",
    "            mb_0 = constraint[\"min_vehicles\"]\n",
    "            Mb_0 = constraint[\"max_vehicles\"]\n",
    "            Vb_0 = constraint[\"vehicles\"]\n",
    "            cb_0 = constraint[\"cost\"]\n",
    "            push!(mb0, mb_0)\n",
    "            push!(Mb0, Mb_0)\n",
    "            push!(Vb0, Vb_0)  # Ensure Vb_0 is an array of Int\n",
    "            push!(cb0, cb_0)\n",
    "        end\n",
    "    end\n",
    "\n",
    "    # Push all constraint lists (even if they are empty) to the global lists\n",
    "    push!(Cl, Cl0)\n",
    "    push!(Ul, Ul0)\n",
    "    push!(Vr, Vr0)\n",
    "    push!(Mr, Mr0)\n",
    "    push!(wr, wr0)\n",
    "    push!(cr, cr0)\n",
    "    push!(mb, mb0)\n",
    "    push!(Mb, Mb0)\n",
    "    push!(cb, cb0)\n",
    "    push!(Vb, Vb0)\n",
    "end\n"
   ]
  },
  {
   "cell_type": "code",
   "execution_count": 148,
   "metadata": {},
   "outputs": [
    {
     "data": {
      "text/plain": [
       "14-element Vector{Vector{Int64}}:\n",
       " [10, 23, 29, 33, 42, 47, 49, 55, 64, 77  …  227, 230, 237, 244, 253, 259, 262, 267, 274, 283]\n",
       " [20, 25, 40, 41, 43, 46, 51, 52, 66, 86  …  154, 166, 201, 213, 215, 220, 245, 269, 272, 297]\n",
       " [5, 100, 152, 208, 223]\n",
       " [105, 121, 218]\n",
       " [148]\n",
       " [153, 195]\n",
       " [12, 16, 37, 62, 82, 83, 87, 91, 94, 106  …  207, 224, 229, 231, 232, 236, 257, 280, 289, 290]\n",
       " [1, 2, 3, 4, 6, 7, 9, 11, 14, 15  …  279, 281, 282, 285, 287, 288, 291, 294, 295, 296]\n",
       " [27, 30, 143, 250, 293]\n",
       " [24, 35, 59, 60, 71, 139, 151, 156, 160, 161, 174, 185, 221, 278, 292]\n",
       " [34, 93]\n",
       " [50, 123, 169, 178, 184, 219, 240, 271, 276, 284, 286]\n",
       " [8, 13, 18, 32, 39, 70, 109, 122, 130, 155, 157, 170, 206, 222, 238, 241, 246, 256]\n",
       " [95, 202]"
      ]
     },
     "metadata": {},
     "output_type": "display_data"
    }
   ],
   "source": [
    "Ul[2][1]\n"
   ]
  },
  {
   "cell_type": "code",
   "execution_count": 149,
   "metadata": {},
   "outputs": [
    {
     "data": {
      "text/plain": [
       "4.72352e6"
      ]
     },
     "metadata": {},
     "output_type": "display_data"
    }
   ],
   "source": [
    "file_path = transform_filename(filename)\n",
    "solution = read_solution(instance::Instance,file_path)\n",
    "current_cost = compute_cost(instance, solution, verbose=true)\n",
    "# Compute the cost of the solution\n",
    "total_cost = compute_cost(instance, solution, verbose=true)\n",
    "println(\"Total Cost: \", total_cost)\n",
    "is_feasible(instance, solution,verbose = true)\n",
    "total_cost"
   ]
  },
  {
   "cell_type": "code",
   "execution_count": 150,
   "metadata": {},
   "outputs": [
    {
     "data": {
      "text/plain": [
       "4.72352e6"
      ]
     },
     "metadata": {},
     "output_type": "display_data"
    }
   ],
   "source": [
    "\n",
    "file_path = transform_filename(filename)\n",
    "solution = read_solution(instance::Instance,file_path)\n",
    "current_cost = compute_cost(instance, solution, verbose=true)"
   ]
  },
  {
   "cell_type": "code",
   "execution_count": 151,
   "metadata": {},
   "outputs": [
    {
     "data": {
      "text/plain": [
       "simulated_annealing (generic function with 1 method)"
      ]
     },
     "metadata": {},
     "output_type": "display_data"
    }
   ],
   "source": [
    "function simulated_annealing(solution, Cl, Ul, Vr, Mr, wr, cr, mb, Mb, cb, Vb, Δs, cs; T0, alpha, max_iter)\n",
    "    # Initialize variables\n",
    "    current_cost = compute_cost(instance, solution, verbose=true)\n",
    "    best_perms = transpose(copy(solution.entries))  # Best solution found\n",
    "    best_cost = current_cost  # Best cost found\n",
    "    T = T0  # Initial temperature\n",
    "    counter = 0\n",
    "    perms = transpose(copy(solution.entries))\n",
    "\n",
    "    # Check matrix size to ensure valid indexing\n",
    "    println(\"Matrix size: \", size(perms))  # Debugging step\n",
    "\n",
    "    for iter in 1:max_iter\n",
    "        if (T < 1e-100)\n",
    "            break\n",
    "        end\n",
    "        neighbor_costs = []\n",
    "        neighbor_perms = []\n",
    "        # Generate a set of neighboring solutions (perturbations)\n",
    "        for i in 1:size(perms, 1)\n",
    "            perm_copy = copy(perms)\n",
    "            perm = perms[i, :]\n",
    "            \n",
    "           \"\"\" perturbed_perm0 = generate_targeted_neighbors0(perm, Vr[i], Ul[i], Vb[i], Mb[i], mb[i])\n",
    "            perturbed_perm1 = generate_targeted_neighbors1(perm, Vr[i], Ul[i], Vb[i], Mb[i], mb[i])\n",
    "            perturbed_perm2 = generate_targeted_neighbors2(perm, Vr[i], Ul[i], Vb[i], Mb[i], mb[i])\"\"\"\n",
    "            perturbed_perm0 = random_perturbation(perm)\n",
    "            perturbed_perm1 = random_perturbation(perm)\n",
    "            \n",
    "            perturbed_perm2 = random_perturbation(perm)\n",
    "            \n",
    "            perm_copy0 = copy(perm_copy)\n",
    "            perm_copy1 = copy(perm_copy)\n",
    "            perm_copy2 = copy(perm_copy)\n",
    "            \n",
    "            perm_copy0[i, :] = perturbed_perm0\n",
    "            perm_copy1[i, :] = perturbed_perm1\n",
    "            perm_copy2[i, :] = perturbed_perm2\n",
    "        \n",
    "            # Initialize the minimum cost and the corresponding permutation\n",
    "            min_cost = Inf\n",
    "            best_perm = perm_copy0\n",
    "            \n",
    "            # Function to update the minimum cost and best permutation\n",
    "            function update_best_perm(perm_copy, entry)\n",
    "                sexit = Solution(instance::Instance, entry).exits\n",
    "                solution = Solution(entry, sexit)\n",
    "                cost = compute_cost(instance, solution, verbose=true)\n",
    "                if is_feasible(instance, solution, verbose=true) && cost < min_cost\n",
    "                    min_cost = cost\n",
    "                    best_perm = perm_copy\n",
    "                end\n",
    "            end\n",
    "            \n",
    "            # Check each perturbed permutation\n",
    "            entry0 = hcat(perm_copy0[1, :], perm_copy0[2, :], perm_copy0[3, :])\n",
    "            update_best_perm(perm_copy0, entry0)\n",
    "        \n",
    "            entry1 = hcat(perm_copy1[1, :], perm_copy1[2, :], perm_copy1[3, :])\n",
    "            update_best_perm(perm_copy1, entry1)\n",
    "            \n",
    "            entry2 = hcat(perm_copy2[1, :], perm_copy2[2, :], perm_copy2[3, :])\n",
    "            update_best_perm(perm_copy2, entry2)\n",
    "        \n",
    "            # If a feasible permutation with a finite cost was found, push it to the arrays\n",
    "            if min_cost < Inf\n",
    "                push!(neighbor_perms, best_perm)\n",
    "                push!(neighbor_costs, min_cost)\n",
    "            else\n",
    "                return -1, -1\n",
    "            end\n",
    "        end\n",
    "        \n",
    "        \n",
    "\n",
    "        # Find the best neighboring solution\n",
    "        min_cost_idx = argmin(neighbor_costs)\n",
    "        best_neighbor = neighbor_perms[min_cost_idx]\n",
    "        best_neighbor_cost = neighbor_costs[min_cost_idx]\n",
    "\n",
    "        # If the best neighboring solution is better, update the current solution\n",
    "        if best_neighbor_cost < current_cost\n",
    "            counter = 0\n",
    "            perms = best_neighbor\n",
    "            current_cost = best_neighbor_cost\n",
    "\n",
    "            # If the new solution is the best, update the best solution\n",
    "            if best_neighbor_cost < best_cost\n",
    "                best_perms = copy(best_neighbor)\n",
    "                best_cost = best_neighbor_cost\n",
    "            end\n",
    "        else\n",
    "            # If the new solution is worse, accept it with a certain probability based on temperature\n",
    "            counter += 1\n",
    "            if true\n",
    "                acceptance_probability = exp(-(best_neighbor_cost - current_cost) / T)\n",
    "                if rand() < acceptance_probability\n",
    "                    perms = copy(best_neighbor)\n",
    "                    current_cost = best_neighbor_cost\n",
    "                end\n",
    "\n",
    "            end\n",
    "        end\n",
    "\n",
    "        # Reduce the temperature (cooling schedule)\n",
    "        T *= alpha\n",
    "\n",
    "        # Optionally print progress\n",
    "        if iter % 10 == 0\n",
    "            println(\"Iteration: $iter, Best Cost: $best_cost, Temperature: $T\")\n",
    "        end\n",
    "    end\n",
    "\n",
    "    return best_perms, best_cost\n",
    "end\n",
    "\n"
   ]
  },
  {
   "cell_type": "code",
   "execution_count": 152,
   "metadata": {},
   "outputs": [
    {
     "data": {
      "text/plain": [
       "4.72352e6"
      ]
     },
     "metadata": {},
     "output_type": "display_data"
    }
   ],
   "source": [
    "Random.seed!(157)  # Replace 123 with your desired seed\n",
    "\n",
    "a, b = simulated_annealing(solution, Cl, Ul, Vr, Mr, wr, cr, mb, Mb, cb, Vb, Δs, cs; T0=10000000, alpha=0.99, max_iter=1)\n",
    "b"
   ]
  },
  {
   "cell_type": "code",
   "execution_count": 153,
   "metadata": {},
   "outputs": [
    {
     "data": {
      "text/plain": [
       "4.70152e6"
      ]
     },
     "metadata": {},
     "output_type": "display_data"
    }
   ],
   "source": [
    "for i in 1:1\n",
    "    entry = hcat(a[1, :], a[2, :], a[3, :])\n",
    "    sexit = Solution(instance::Instance, entry).exits\n",
    "    solution = Solution(entry, sexit)\n",
    "    a, b = simulated_annealing(solution, Cl, Ul, Vr, Mr, wr, cr, mb, Mb, cb, Vb, Δs, cs; T0=10, alpha=0.99, max_iter=5000)\n",
    "end\n",
    "b"
   ]
  },
  {
   "cell_type": "markdown",
   "metadata": {},
   "source": []
  },
  {
   "cell_type": "code",
   "execution_count": 154,
   "metadata": {},
   "outputs": [
    {
     "data": {
      "text/plain": [
       "4.70152e6"
      ]
     },
     "metadata": {},
     "output_type": "display_data"
    }
   ],
   "source": [
    "b"
   ]
  },
  {
   "cell_type": "code",
   "execution_count": 155,
   "metadata": {},
   "outputs": [],
   "source": [
    "#here write your results we will compare them and put the best at the end\n",
    "#small_1 376600.0\n",
    "#small_2 357500.0\n",
    "#medium_1 4.72352e6\n",
    "#medium_2 5.034e6\n",
    "#large_1 23140770\n",
    "#large_2 1.2143e7"
   ]
  },
  {
   "cell_type": "code",
   "execution_count": 156,
   "metadata": {},
   "outputs": [
    {
     "data": {
      "text/plain": [
       "297×3 Matrix{Int64}:\n",
       "   1    1    9\n",
       "   2    2    2\n",
       "   3    3    6\n",
       "   4    4    3\n",
       "   5    5    4\n",
       "   6    6   12\n",
       "   7    7   16\n",
       "  18   18    1\n",
       "   8    8   21\n",
       "  10   10   19\n",
       "   ⋮       \n",
       " 289  289  269\n",
       " 290  290  244\n",
       " 292  292  223\n",
       " 293  293  230\n",
       " 291  291  267\n",
       " 294  294  246\n",
       " 295  295  297\n",
       " 296  296  227\n",
       " 297  297  274"
      ]
     },
     "metadata": {},
     "output_type": "display_data"
    }
   ],
   "source": [
    "perm_copy = a \n",
    "entry = hcat(perm_copy[1, :], perm_copy[2, :], perm_copy[3, :])  # Concatenate columns to create the matrix\n",
    "sexit = (Solution(instance::Instance, entry)).exits\n",
    "solution = Solution(entry, sexit)\n",
    "perturbed_cost = compute_cost(instance, solution, verbose=true)\n",
    "c = false\n",
    "if !(is_feasible(instance, solution,verbose = true))\n",
    "    c = true\n",
    "end\n",
    "solution.entries\n"
   ]
  },
  {
   "cell_type": "code",
   "execution_count": 157,
   "metadata": {},
   "outputs": [
    {
     "data": {
      "text/plain": [
       "4.70152e6"
      ]
     },
     "metadata": {},
     "output_type": "display_data"
    }
   ],
   "source": [
    "current_cost = compute_cost(instance, solution, verbose=true)\n"
   ]
  },
  {
   "cell_type": "code",
   "execution_count": 158,
   "metadata": {},
   "outputs": [
    {
     "data": {
      "text/plain": [
       "true"
      ]
     },
     "metadata": {},
     "output_type": "display_data"
    }
   ],
   "source": [
    "(is_feasible(instance, solution,verbose=true))\n"
   ]
  },
  {
   "cell_type": "code",
   "execution_count": 159,
   "metadata": {},
   "outputs": [
    {
     "data": {
      "text/plain": [
       "\"data/medium_1_sol.json\""
      ]
     },
     "metadata": {},
     "output_type": "display_data"
    }
   ],
   "source": [
    "file_path = transform_filename(filename)\n"
   ]
  },
  {
   "cell_type": "code",
   "execution_count": 160,
   "metadata": {},
   "outputs": [],
   "source": [
    "using JSON\n",
    "# Define the path to the JSON file\n",
    "###you need to change the file here too.\n",
    "# Create an empty JSON object\n",
    "empty_json = Dict()\n",
    "\n",
    "# Write the empty JSON object to the file\n",
    "open(file_path, \"w\") do file\n",
    "    JSON.print(file, empty_json)\n",
    "end\n",
    "\n",
    "println(\"Empty JSON file created at $file_path\")\n",
    "write_solution(instance::Instance, solution::Solution)"
   ]
  },
  {
   "cell_type": "code",
   "execution_count": 161,
   "metadata": {},
   "outputs": [],
   "source": []
  }
 ],
 "metadata": {
  "kernelspec": {
   "display_name": "Julia 1.10.2",
   "language": "julia",
   "name": "julia-1.10"
  },
  "language_info": {
   "file_extension": ".jl",
   "mimetype": "application/julia",
   "name": "julia",
   "version": "1.10.2"
  }
 },
 "nbformat": 4,
 "nbformat_minor": 2
}
