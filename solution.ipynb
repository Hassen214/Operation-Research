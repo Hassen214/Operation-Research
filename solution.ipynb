{
 "cells": [
  {
   "cell_type": "code",
   "execution_count": 48,
   "metadata": {},
   "outputs": [
    {
     "data": {
      "text/plain": [
       "Instance(name = large_1,\n",
       "two-tone delta = 235,\n",
       "vehicles (620) = [Vehicle(id=305, type=two-tone),Vehicle(id=465, type=two-tone),Vehicle(id=159, type=regular),Vehicle(id=466, type=regular),Vehicle(id=1, type=two-tone),Vehicle(id=160, type=regular),Vehicle(id=467, type=regular),Vehicle(id=468, type=two-tone),Vehicle(id=161, type=regular),Vehicle(id=306, type=regular),Vehicle(id=469, type=regular),Vehicle(id=2, type=two-tone),Vehicle(id=307, type=regular),Vehicle(id=470, type=two-tone),Vehicle(id=308, type=two-tone),Vehicle(id=472, type=regular),Vehicle(id=309, type=two-tone),Vehicle(id=471, type=regular),Vehicle(id=310, type=regular),Vehicle(id=473, type=two-tone),Vehicle(id=162, type=regular),Vehicle(id=163, type=regular),Vehicle(id=3, type=regular),Vehicle(id=4, type=two-tone),Vehicle(id=5, type=regular),Vehicle(id=6, type=regular),Vehicle(id=474, type=two-tone),Vehicle(id=475, type=regular),Vehicle(id=164, type=regular),Vehicle(id=7, type=regular),Vehicle(id=165, type=regular),Vehicle(id=311, type=regular),Vehicle(id=166, type=regular),Vehicle(id=8, type=regular),Vehicle(id=476, type=regular),Vehicle(id=9, type=regular),Vehicle(id=167, type=two-tone),Vehicle(id=312, type=regular),Vehicle(id=313, type=regular),Vehicle(id=168, type=regular),Vehicle(id=169, type=regular),Vehicle(id=314, type=regular),Vehicle(id=10, type=two-tone),Vehicle(id=315, type=two-tone),Vehicle(id=316, type=regular),Vehicle(id=11, type=regular),Vehicle(id=12, type=two-tone),Vehicle(id=170, type=regular),Vehicle(id=477, type=two-tone),Vehicle(id=479, type=regular),Vehicle(id=171, type=regular),Vehicle(id=14, type=regular),Vehicle(id=317, type=regular),Vehicle(id=318, type=two-tone),Vehicle(id=319, type=regular),Vehicle(id=478, type=regular),Vehicle(id=172, type=two-tone),Vehicle(id=480, type=regular),Vehicle(id=320, type=two-tone),Vehicle(id=13, type=regular),Vehicle(id=481, type=regular),Vehicle(id=321, type=regular),Vehicle(id=15, type=two-tone),Vehicle(id=322, type=two-tone),Vehicle(id=324, type=two-tone),Vehicle(id=173, type=two-tone),Vehicle(id=17, type=regular),Vehicle(id=16, type=regular),Vehicle(id=323, type=two-tone),Vehicle(id=174, type=regular),Vehicle(id=482, type=regular),Vehicle(id=18, type=regular),Vehicle(id=325, type=regular),Vehicle(id=19, type=regular),Vehicle(id=20, type=regular),Vehicle(id=21, type=regular),Vehicle(id=175, type=regular),Vehicle(id=176, type=regular),Vehicle(id=326, type=regular),Vehicle(id=327, type=regular),Vehicle(id=22, type=two-tone),Vehicle(id=23, type=regular),Vehicle(id=24, type=two-tone),Vehicle(id=25, type=two-tone),Vehicle(id=26, type=two-tone),Vehicle(id=178, type=two-tone),Vehicle(id=177, type=two-tone),Vehicle(id=27, type=two-tone),Vehicle(id=28, type=regular),Vehicle(id=29, type=regular),Vehicle(id=179, type=regular),Vehicle(id=30, type=two-tone),Vehicle(id=31, type=regular),Vehicle(id=32, type=regular),Vehicle(id=328, type=regular),Vehicle(id=483, type=two-tone),Vehicle(id=34, type=two-tone),Vehicle(id=33, type=two-tone),Vehicle(id=486, type=two-tone),Vehicle(id=180, type=regular),Vehicle(id=35, type=regular),Vehicle(id=181, type=two-tone),Vehicle(id=329, type=two-tone),Vehicle(id=36, type=two-tone),Vehicle(id=330, type=regular),Vehicle(id=331, type=regular),Vehicle(id=484, type=regular),Vehicle(id=489, type=regular),Vehicle(id=490, type=two-tone),Vehicle(id=485, type=two-tone),Vehicle(id=487, type=two-tone),Vehicle(id=488, type=two-tone),Vehicle(id=37, type=regular),Vehicle(id=182, type=regular),Vehicle(id=491, type=two-tone),Vehicle(id=38, type=two-tone),Vehicle(id=183, type=two-tone),Vehicle(id=39, type=regular),Vehicle(id=332, type=two-tone),Vehicle(id=492, type=regular),Vehicle(id=40, type=two-tone),Vehicle(id=41, type=regular),Vehicle(id=42, type=regular),Vehicle(id=333, type=regular),Vehicle(id=334, type=two-tone),Vehicle(id=335, type=regular),Vehicle(id=336, type=regular),Vehicle(id=43, type=regular),Vehicle(id=493, type=two-tone),Vehicle(id=494, type=regular),Vehicle(id=184, type=two-tone),Vehicle(id=44, type=regular),Vehicle(id=337, type=regular),Vehicle(id=45, type=regular),Vehicle(id=338, type=regular),Vehicle(id=339, type=regular),Vehicle(id=185, type=regular),Vehicle(id=46, type=two-tone),Vehicle(id=495, type=regular),Vehicle(id=496, type=regular),Vehicle(id=47, type=two-tone),Vehicle(id=186, type=two-tone),Vehicle(id=187, type=regular),Vehicle(id=340, type=regular),Vehicle(id=48, type=regular),Vehicle(id=497, type=two-tone),Vehicle(id=498, type=regular),Vehicle(id=49, type=regular),Vehicle(id=499, type=regular),Vehicle(id=50, type=regular),Vehicle(id=341, type=two-tone),Vehicle(id=501, type=two-tone),Vehicle(id=51, type=two-tone),Vehicle(id=500, type=regular),Vehicle(id=188, type=regular),Vehicle(id=342, type=regular),Vehicle(id=189, type=regular),Vehicle(id=343, type=regular),Vehicle(id=502, type=regular),Vehicle(id=503, type=regular),Vehicle(id=504, type=regular),Vehicle(id=505, type=regular),Vehicle(id=506, type=regular),Vehicle(id=507, type=regular),Vehicle(id=190, type=two-tone),Vehicle(id=508, type=regular),Vehicle(id=52, type=regular),Vehicle(id=509, type=regular),Vehicle(id=192, type=two-tone),Vehicle(id=191, type=regular),Vehicle(id=53, type=regular),Vehicle(id=344, type=regular),Vehicle(id=54, type=regular),Vehicle(id=510, type=two-tone),Vehicle(id=511, type=regular),Vehicle(id=512, type=regular),Vehicle(id=345, type=regular),Vehicle(id=55, type=regular),Vehicle(id=346, type=two-tone),Vehicle(id=56, type=regular),Vehicle(id=513, type=regular),Vehicle(id=514, type=regular),Vehicle(id=193, type=two-tone),Vehicle(id=347, type=regular),Vehicle(id=57, type=regular),Vehicle(id=194, type=regular),Vehicle(id=515, type=regular),Vehicle(id=516, type=regular),Vehicle(id=517, type=regular),Vehicle(id=195, type=two-tone),Vehicle(id=348, type=two-tone),Vehicle(id=518, type=regular),Vehicle(id=58, type=regular),Vehicle(id=196, type=regular),Vehicle(id=197, type=regular),Vehicle(id=519, type=regular),Vehicle(id=349, type=regular),Vehicle(id=350, type=regular),Vehicle(id=59, type=regular),Vehicle(id=352, type=two-tone),Vehicle(id=351, type=two-tone),Vehicle(id=198, type=regular),Vehicle(id=60, type=regular),Vehicle(id=353, type=regular),Vehicle(id=199, type=regular),Vehicle(id=354, type=regular),Vehicle(id=520, type=regular),Vehicle(id=521, type=two-tone),Vehicle(id=61, type=two-tone),Vehicle(id=355, type=two-tone),Vehicle(id=356, type=regular),Vehicle(id=522, type=two-tone),Vehicle(id=62, type=regular),Vehicle(id=200, type=regular),Vehicle(id=63, type=regular),Vehicle(id=357, type=two-tone),Vehicle(id=64, type=two-tone),Vehicle(id=65, type=regular),Vehicle(id=66, type=regular),Vehicle(id=201, type=regular),Vehicle(id=523, type=regular),Vehicle(id=358, type=regular),Vehicle(id=524, type=regular),Vehicle(id=359, type=regular),Vehicle(id=525, type=regular),Vehicle(id=360, type=regular),Vehicle(id=526, type=regular),Vehicle(id=67, type=two-tone),Vehicle(id=68, type=two-tone),Vehicle(id=527, type=two-tone),Vehicle(id=361, type=regular),Vehicle(id=203, type=regular),Vehicle(id=528, type=regular),Vehicle(id=202, type=regular),Vehicle(id=362, type=two-tone),Vehicle(id=529, type=two-tone),Vehicle(id=69, type=regular),Vehicle(id=363, type=regular),Vehicle(id=364, type=two-tone),Vehicle(id=70, type=regular),Vehicle(id=365, type=regular),Vehicle(id=530, type=regular),Vehicle(id=366, type=regular),Vehicle(id=204, type=regular),Vehicle(id=71, type=regular),Vehicle(id=531, type=two-tone),Vehicle(id=72, type=two-tone),Vehicle(id=73, type=two-tone),Vehicle(id=74, type=two-tone),Vehicle(id=205, type=regular),Vehicle(id=367, type=regular),Vehicle(id=206, type=regular),Vehicle(id=207, type=regular),Vehicle(id=208, type=regular),Vehicle(id=75, type=two-tone),Vehicle(id=209, type=two-tone),Vehicle(id=76, type=two-tone),Vehicle(id=532, type=two-tone),Vehicle(id=210, type=regular),Vehicle(id=77, type=two-tone),Vehicle(id=368, type=regular),Vehicle(id=533, type=regular),Vehicle(id=534, type=two-tone),Vehicle(id=211, type=regular),Vehicle(id=78, type=regular),Vehicle(id=535, type=regular),Vehicle(id=369, type=regular),Vehicle(id=212, type=regular),Vehicle(id=370, type=two-tone),Vehicle(id=213, type=regular),Vehicle(id=371, type=two-tone),Vehicle(id=79, type=regular),Vehicle(id=214, type=two-tone),Vehicle(id=80, type=regular),Vehicle(id=536, type=regular),Vehicle(id=81, type=regular),Vehicle(id=82, type=regular),Vehicle(id=83, type=regular),Vehicle(id=85, type=regular),Vehicle(id=372, type=regular),Vehicle(id=84, type=regular),Vehicle(id=86, type=regular),Vehicle(id=215, type=two-tone),Vehicle(id=537, type=regular),Vehicle(id=538, type=regular),Vehicle(id=373, type=regular),Vehicle(id=540, type=regular),Vehicle(id=216, type=regular),Vehicle(id=217, type=regular),Vehicle(id=539, type=two-tone),Vehicle(id=542, type=two-tone),Vehicle(id=541, type=two-tone),Vehicle(id=218, type=regular),Vehicle(id=219, type=regular),Vehicle(id=220, type=regular),Vehicle(id=221, type=regular),Vehicle(id=543, type=regular),Vehicle(id=87, type=regular),Vehicle(id=222, type=regular),Vehicle(id=223, type=two-tone),Vehicle(id=88, type=regular),Vehicle(id=374, type=two-tone),Vehicle(id=544, type=regular),Vehicle(id=89, type=regular),Vehicle(id=375, type=two-tone),Vehicle(id=545, type=regular),Vehicle(id=224, type=regular),Vehicle(id=90, type=two-tone),Vehicle(id=91, type=two-tone),Vehicle(id=225, type=regular),Vehicle(id=226, type=regular),Vehicle(id=227, type=regular),Vehicle(id=546, type=regular),Vehicle(id=377, type=two-tone),Vehicle(id=376, type=regular),Vehicle(id=92, type=regular),Vehicle(id=229, type=regular),Vehicle(id=547, type=two-tone),Vehicle(id=228, type=regular),Vehicle(id=93, type=two-tone),Vehicle(id=94, type=two-tone),Vehicle(id=95, type=regular),Vehicle(id=96, type=regular),Vehicle(id=231, type=two-tone),Vehicle(id=230, type=regular),Vehicle(id=97, type=regular),Vehicle(id=378, type=regular),Vehicle(id=549, type=two-tone),Vehicle(id=548, type=regular),Vehicle(id=379, type=two-tone),Vehicle(id=232, type=two-tone),Vehicle(id=233, type=regular),Vehicle(id=380, type=regular),Vehicle(id=98, type=two-tone),Vehicle(id=550, type=two-tone),Vehicle(id=234, type=regular),Vehicle(id=381, type=regular),Vehicle(id=235, type=two-tone),Vehicle(id=382, type=regular),Vehicle(id=99, type=two-tone),Vehicle(id=236, type=two-tone),Vehicle(id=383, type=regular),Vehicle(id=551, type=two-tone),Vehicle(id=384, type=regular),Vehicle(id=385, type=regular),Vehicle(id=552, type=regular),Vehicle(id=237, type=two-tone),Vehicle(id=554, type=regular),Vehicle(id=553, type=regular),Vehicle(id=555, type=two-tone),Vehicle(id=238, type=regular),Vehicle(id=386, type=regular),Vehicle(id=388, type=regular),Vehicle(id=100, type=regular),Vehicle(id=387, type=two-tone),Vehicle(id=556, type=regular),Vehicle(id=557, type=regular),Vehicle(id=101, type=regular),Vehicle(id=389, type=regular),Vehicle(id=102, type=regular),Vehicle(id=558, type=two-tone),Vehicle(id=239, type=regular),Vehicle(id=390, type=regular),Vehicle(id=103, type=regular),Vehicle(id=240, type=regular),Vehicle(id=559, type=regular),Vehicle(id=561, type=regular),Vehicle(id=391, type=regular),Vehicle(id=560, type=regular),Vehicle(id=104, type=regular),Vehicle(id=562, type=two-tone),Vehicle(id=105, type=regular),Vehicle(id=563, type=two-tone),Vehicle(id=106, type=two-tone),Vehicle(id=392, type=regular),Vehicle(id=107, type=regular),Vehicle(id=108, type=two-tone),Vehicle(id=241, type=two-tone),Vehicle(id=564, type=regular),Vehicle(id=109, type=two-tone),Vehicle(id=242, type=regular),Vehicle(id=565, type=regular),Vehicle(id=393, type=regular),Vehicle(id=394, type=regular),Vehicle(id=243, type=regular),Vehicle(id=395, type=two-tone),Vehicle(id=396, type=regular),Vehicle(id=397, type=two-tone),Vehicle(id=566, type=regular),Vehicle(id=244, type=regular),Vehicle(id=245, type=regular),Vehicle(id=246, type=two-tone),Vehicle(id=567, type=two-tone),Vehicle(id=398, type=regular),Vehicle(id=399, type=regular),Vehicle(id=247, type=regular),Vehicle(id=110, type=regular),Vehicle(id=568, type=regular),Vehicle(id=569, type=regular),Vehicle(id=570, type=regular),Vehicle(id=571, type=regular),Vehicle(id=572, type=regular),Vehicle(id=400, type=regular),Vehicle(id=248, type=two-tone),Vehicle(id=401, type=two-tone),Vehicle(id=249, type=two-tone),Vehicle(id=111, type=regular),Vehicle(id=573, type=regular),Vehicle(id=402, type=regular),Vehicle(id=403, type=two-tone),Vehicle(id=252, type=two-tone),Vehicle(id=250, type=two-tone),Vehicle(id=251, type=regular),Vehicle(id=404, type=two-tone),Vehicle(id=574, type=two-tone),Vehicle(id=253, type=regular),Vehicle(id=575, type=two-tone),Vehicle(id=405, type=regular),Vehicle(id=576, type=regular),Vehicle(id=254, type=regular),Vehicle(id=255, type=regular),Vehicle(id=256, type=regular),Vehicle(id=577, type=regular),Vehicle(id=406, type=regular),Vehicle(id=407, type=regular),Vehicle(id=408, type=regular),Vehicle(id=257, type=regular),Vehicle(id=409, type=two-tone),Vehicle(id=578, type=two-tone),Vehicle(id=112, type=regular),Vehicle(id=258, type=regular),Vehicle(id=113, type=regular),Vehicle(id=410, type=two-tone),Vehicle(id=114, type=two-tone),Vehicle(id=579, type=regular),Vehicle(id=259, type=regular),Vehicle(id=260, type=regular),Vehicle(id=580, type=regular),Vehicle(id=411, type=regular),Vehicle(id=115, type=regular),Vehicle(id=261, type=regular),Vehicle(id=412, type=two-tone),Vehicle(id=413, type=regular),Vehicle(id=414, type=two-tone),Vehicle(id=415, type=regular),Vehicle(id=416, type=two-tone),Vehicle(id=417, type=regular),Vehicle(id=116, type=regular),Vehicle(id=581, type=regular),Vehicle(id=582, type=regular),Vehicle(id=262, type=regular),Vehicle(id=583, type=two-tone),Vehicle(id=584, type=regular),Vehicle(id=117, type=regular),Vehicle(id=118, type=regular),Vehicle(id=119, type=two-tone),Vehicle(id=418, type=two-tone),Vehicle(id=263, type=two-tone),Vehicle(id=585, type=regular),Vehicle(id=264, type=regular),Vehicle(id=265, type=regular),Vehicle(id=419, type=two-tone),Vehicle(id=120, type=regular),Vehicle(id=266, type=regular),Vehicle(id=267, type=two-tone),Vehicle(id=587, type=regular),Vehicle(id=586, type=regular),Vehicle(id=420, type=regular),Vehicle(id=121, type=two-tone),Vehicle(id=122, type=regular),Vehicle(id=588, type=two-tone),Vehicle(id=123, type=two-tone),Vehicle(id=124, type=two-tone),Vehicle(id=125, type=regular),Vehicle(id=268, type=regular),Vehicle(id=589, type=regular),Vehicle(id=590, type=regular),Vehicle(id=269, type=two-tone),Vehicle(id=421, type=regular),Vehicle(id=591, type=two-tone),Vehicle(id=592, type=regular),Vehicle(id=270, type=regular),Vehicle(id=423, type=two-tone),Vehicle(id=422, type=regular),Vehicle(id=424, type=regular),Vehicle(id=425, type=two-tone),Vehicle(id=126, type=regular),Vehicle(id=426, type=regular),Vehicle(id=593, type=regular),Vehicle(id=594, type=regular),Vehicle(id=127, type=two-tone),Vehicle(id=271, type=regular),Vehicle(id=427, type=regular),Vehicle(id=428, type=regular),Vehicle(id=429, type=regular),Vehicle(id=128, type=two-tone),Vehicle(id=129, type=regular),Vehicle(id=595, type=regular),Vehicle(id=430, type=regular),Vehicle(id=596, type=regular),Vehicle(id=272, type=two-tone),Vehicle(id=130, type=regular),Vehicle(id=431, type=two-tone),Vehicle(id=432, type=regular),Vehicle(id=433, type=two-tone),Vehicle(id=131, type=two-tone),Vehicle(id=132, type=regular),Vehicle(id=597, type=regular),Vehicle(id=273, type=regular),Vehicle(id=598, type=two-tone),Vehicle(id=434, type=regular),Vehicle(id=599, type=regular),Vehicle(id=133, type=regular),Vehicle(id=274, type=regular),Vehicle(id=600, type=two-tone),Vehicle(id=134, type=regular),Vehicle(id=135, type=regular),Vehicle(id=136, type=two-tone),Vehicle(id=137, type=two-tone),Vehicle(id=275, type=two-tone),Vehicle(id=601, type=regular),Vehicle(id=138, type=two-tone),Vehicle(id=435, type=two-tone),Vehicle(id=139, type=two-tone),Vehicle(id=436, type=regular),Vehicle(id=437, type=regular),Vehicle(id=276, type=regular),Vehicle(id=602, type=regular),Vehicle(id=438, type=regular),Vehicle(id=277, type=regular),Vehicle(id=278, type=two-tone),Vehicle(id=603, type=regular),Vehicle(id=140, type=two-tone),Vehicle(id=439, type=two-tone),Vehicle(id=279, type=regular),Vehicle(id=440, type=regular),Vehicle(id=141, type=regular),Vehicle(id=441, type=regular),Vehicle(id=142, type=regular),Vehicle(id=442, type=two-tone),Vehicle(id=280, type=regular),Vehicle(id=443, type=regular),Vehicle(id=444, type=two-tone),Vehicle(id=281, type=two-tone),Vehicle(id=604, type=regular),Vehicle(id=282, type=two-tone),Vehicle(id=445, type=regular),Vehicle(id=446, type=regular),Vehicle(id=143, type=regular),Vehicle(id=605, type=two-tone),Vehicle(id=144, type=regular),Vehicle(id=145, type=regular),Vehicle(id=146, type=two-tone),Vehicle(id=283, type=regular),Vehicle(id=447, type=regular),Vehicle(id=284, type=two-tone),Vehicle(id=285, type=regular),Vehicle(id=448, type=regular),Vehicle(id=606, type=two-tone),Vehicle(id=607, type=regular),Vehicle(id=147, type=regular),Vehicle(id=149, type=two-tone),Vehicle(id=148, type=regular),Vehicle(id=150, type=regular),Vehicle(id=449, type=regular),Vehicle(id=151, type=regular),Vehicle(id=287, type=two-tone),Vehicle(id=286, type=regular),Vehicle(id=288, type=regular),Vehicle(id=289, type=regular),Vehicle(id=290, type=two-tone),Vehicle(id=608, type=regular),Vehicle(id=609, type=regular),Vehicle(id=152, type=regular),Vehicle(id=450, type=regular),Vehicle(id=611, type=regular),Vehicle(id=610, type=regular),Vehicle(id=291, type=regular),Vehicle(id=451, type=regular),Vehicle(id=612, type=regular),Vehicle(id=292, type=regular),Vehicle(id=293, type=regular),Vehicle(id=452, type=two-tone),Vehicle(id=453, type=two-tone),Vehicle(id=153, type=regular),Vehicle(id=294, type=regular),Vehicle(id=613, type=two-tone),Vehicle(id=154, type=regular),Vehicle(id=155, type=two-tone),Vehicle(id=454, type=regular),Vehicle(id=156, type=regular),Vehicle(id=455, type=regular),Vehicle(id=295, type=regular),Vehicle(id=296, type=two-tone),Vehicle(id=456, type=two-tone),Vehicle(id=297, type=regular),Vehicle(id=298, type=two-tone),Vehicle(id=457, type=regular),Vehicle(id=458, type=two-tone),Vehicle(id=459, type=regular),Vehicle(id=614, type=regular),Vehicle(id=615, type=regular),Vehicle(id=616, type=two-tone),Vehicle(id=157, type=two-tone),Vehicle(id=460, type=regular),Vehicle(id=461, type=two-tone),Vehicle(id=158, type=two-tone),Vehicle(id=462, type=regular),Vehicle(id=617, type=regular),Vehicle(id=299, type=regular),Vehicle(id=300, type=regular),Vehicle(id=463, type=regular),Vehicle(id=301, type=two-tone),Vehicle(id=618, type=regular),Vehicle(id=619, type=regular),Vehicle(id=620, type=regular),Vehicle(id=302, type=regular),Vehicle(id=303, type=regular),Vehicle(id=464, type=regular),Vehicle(id=304, type=regular)],\n",
       "shops = [Shop(name = body,\n",
       "\tisPaint = false,\n",
       "\tresequencingLag = 0,\n",
       "\tresequencingCost = 10000.0,\n",
       "\tbatchSizes (2) = [BatchSize(id=3, cost=700.0, min_size=1, max_size=5, vehicles=[1, 3, 5, 6, 7, 8, 9, 10, 11, 12, 14, 15, 16, 18, 19, 20, 21, 23, 24, 25, 26, 27, 28, 29, 30, 31, 32, 33, 34, 36, 37, 38, 39, 40, 41, 42, 44, 46, 47, 48, 49, 50, 51, 52, 53, 54, 55, 56, 57, 58, 59, 60, 61, 62, 63, 64, 65, 66, 67, 69, 70, 71, 72, 73, 74, 75, 76, 77, 78, 79, 80, 82, 83, 84, 86, 87, 88, 89, 90, 91, 93, 95, 97, 99, 100, 101, 103, 104, 105, 106, 107, 108, 109, 110, 111, 112, 113, 114, 115, 116, 117, 118, 120, 121, 125, 126, 127, 128, 129, 130, 131, 132, 133, 134, 135, 136, 137, 139, 140, 141, 143, 145, 146, 147, 148, 149, 150, 155, 156, 157, 158, 159, 160, 161, 162, 163, 164, 165, 166, 167, 168, 170, 171, 172, 173, 174, 175, 176, 177, 178, 179, 180, 181, 182, 183, 184, 185, 186, 187, 188, 190, 191, 192, 193, 194, 195, 196, 197, 199, 200, 201, 203, 204, 206, 207, 209, 210, 211, 213, 215, 216, 217, 218, 219, 220, 221, 222, 223, 224, 226, 227, 229, 230, 231, 232, 233, 235, 236, 237, 238, 239, 240, 241, 242, 243, 245, 246, 248, 249, 250, 251, 252, 253, 254, 255, 256, 259, 261, 262, 263, 265, 267, 268, 269, 270, 271, 272, 273, 274, 275, 276, 277, 280, 282, 283, 284, 285, 287, 288, 289, 290, 291, 292, 293, 294, 295, 296, 297, 298, 299, 300, 301, 303, 304, 305, 306, 307, 308, 309, 310, 311, 312, 313, 314, 315, 318, 319, 320, 321, 322, 323, 326, 327, 328, 329, 330, 331, 332, 333, 334, 335, 336, 338, 339, 341, 342, 343, 344, 345, 346, 347, 349, 351, 354, 355, 356, 357, 358, 359, 360, 361, 362, 363, 364, 365, 366, 367, 368, 369, 370, 371, 373, 374, 375, 376, 377, 378, 379, 380, 381, 383, 384, 385, 386, 387, 388, 390, 391, 393, 394, 395, 396, 397, 398, 399, 400, 401, 402, 403, 404, 405, 406, 407, 408, 409, 410, 411, 412, 413, 414, 415, 417, 418, 419, 420, 421, 422, 423, 424, 425, 426, 427, 428, 429, 430, 431, 432, 433, 435, 436, 437, 439, 440, 442, 443, 444, 445, 446, 447, 448, 449, 451, 452, 453, 454, 455, 456, 457, 458, 459, 460, 461, 462, 463, 464, 465, 466, 467, 468, 469, 470, 471, 472, 473, 474, 475, 476, 477, 478, 479, 480, 481, 482, 483, 484, 485, 486, 487, 488, 489, 490, 491, 492, 493, 494, 495, 496, 497, 498, 499, 500, 502, 503, 505, 506, 508, 509, 510, 511, 512, 513, 514, 515, 516, 518, 519, 520, 521, 522, 523, 524, 525, 526, 527, 528, 529, 530, 531, 532, 533, 534, 535, 536, 537, 538, 539, 540, 542, 543, 545, 546, 547, 548, 549, 550, 551, 552, 553, 555, 556, 557, 558, 559, 560, 562, 563, 564, 565, 566, 567, 568, 569, 571, 572, 573, 574, 575, 576, 577, 578, 580, 583, 584, 585, 586, 587, 588, 589, 591, 592, 593, 594, 595, 596, 598, 600, 603, 604, 605, 606, 607, 608, 609, 610, 612, 613, 614, 615, 616, 617, 618, 619]),BatchSize(id=17, cost=700.0, min_size=1, max_size=5, vehicles=[2, 4, 13, 17, 22, 35, 43, 45, 68, 81, 85, 92, 94, 96, 98, 102, 119, 122, 123, 124, 138, 142, 144, 151, 152, 153, 154, 169, 189, 198, 202, 205, 208, 212, 214, 225, 228, 234, 244, 247, 257, 258, 260, 264, 266, 278, 279, 281, 286, 302, 316, 317, 324, 325, 337, 340, 348, 350, 352, 353, 372, 382, 389, 392, 416, 434, 438, 441, 450, 501, 504, 507, 517, 541, 544, 554, 561, 570, 579, 581, 582, 590, 597, 599, 601, 602, 611, 620])],\n",
       "\tlotChanges (2) = [LotChange(id=9, cost=70.0, partition=[[1, 3, 5, 6, 7, 8, 9, 10, 11, 12, 14, 15, 16, 18, 19, 20, 21, 23, 24, 25, 26, 27, 28, 29, 30, 31, 32, 33, 34, 36, 37, 38, 39, 40, 41, 42, 44, 46, 47, 48, 49, 50, 51, 52, 53, 54, 55, 56, 57, 58, 59, 60, 61, 62, 63, 64, 65, 66, 67, 69, 70, 71, 72, 73, 74, 75, 76, 77, 78, 79, 80, 82, 83, 84, 86, 87, 88, 89, 90, 91, 93, 95, 97, 99, 100, 101, 103, 104, 105, 106, 107, 108, 109, 110, 111, 112, 113, 114, 115, 116, 117, 118, 120, 121, 125, 126, 127, 128, 129, 130, 131, 132, 133, 134, 135, 136, 137, 139, 140, 141, 143, 145, 146, 147, 148, 149, 150, 155, 156, 157, 158, 159, 160, 161, 162, 163, 164, 165, 166, 167, 168, 170, 171, 172, 173, 174, 175, 176, 177, 178, 179, 180, 181, 182, 183, 184, 185, 186, 187, 188, 190, 191, 192, 193, 194, 195, 196, 197, 199, 200, 201, 203, 204, 206, 207, 209, 210, 211, 213, 215, 216, 217, 218, 219, 220, 221, 222, 223, 224, 226, 227, 229, 230, 231, 232, 233, 235, 236, 237, 238, 239, 240, 241, 242, 243, 245, 246, 248, 249, 250, 251, 252, 253, 254, 255, 256, 259, 261, 262, 263, 265, 267, 268, 269, 270, 271, 272, 273, 274, 275, 276, 277, 280, 282, 283, 284, 285, 287, 288, 289, 290, 291, 292, 293, 294, 295, 296, 297, 298, 299, 300, 301, 303, 304, 305, 306, 307, 308, 309, 310, 311, 312, 313, 314, 315, 318, 319, 320, 321, 322, 323, 326, 327, 328, 329, 330, 331, 332, 333, 334, 335, 336, 338, 339, 341, 342, 343, 344, 345, 346, 347, 349, 351, 354, 355, 356, 357, 358, 359, 360, 361, 362, 363, 364, 365, 366, 367, 368, 369, 370, 371, 373, 374, 375, 376, 377, 378, 379, 380, 381, 383, 384, 385, 386, 387, 388, 390, 391, 393, 394, 395, 396, 397, 398, 399, 400, 401, 402, 403, 404, 405, 406, 407, 408, 409, 410, 411, 412, 413, 414, 415, 417, 418, 419, 420, 421, 422, 423, 424, 425, 426, 427, 428, 429, 430, 431, 432, 433, 435, 436, 437, 439, 440, 442, 443, 444, 445, 446, 447, 448, 449, 451, 452, 453, 454, 455, 456, 457, 458, 459, 460, 461, 462, 463, 464, 465, 466, 467, 468, 469, 470, 471, 472, 473, 474, 475, 476, 477, 478, 479, 480, 481, 482, 483, 484, 485, 486, 487, 488, 489, 490, 491, 492, 493, 494, 495, 496, 497, 498, 499, 500, 502, 503, 505, 506, 508, 509, 510, 511, 512, 513, 514, 515, 516, 518, 519, 520, 521, 522, 523, 524, 525, 526, 527, 528, 529, 530, 531, 532, 533, 534, 535, 536, 537, 538, 539, 540, 542, 543, 545, 546, 547, 548, 549, 550, 551, 552, 553, 555, 556, 557, 558, 559, 560, 562, 563, 564, 565, 566, 567, 568, 569, 571, 572, 573, 574, 575, 576, 577, 578, 580, 583, 584, 585, 586, 587, 588, 589, 591, 592, 593, 594, 595, 596, 598, 600, 603, 604, 605, 606, 607, 608, 609, 610, 612, 613, 614, 615, 616, 617, 618, 619], [2, 4, 13, 17, 22, 35, 43, 45, 68, 81, 85, 92, 94, 96, 98, 102, 119, 122, 123, 124, 138, 142, 144, 151, 152, 153, 154, 169, 189, 198, 202, 205, 208, 212, 214, 225, 228, 234, 244, 247, 257, 258, 260, 264, 266, 278, 279, 281, 286, 302, 316, 317, 324, 325, 337, 340, 348, 350, 352, 353, 372, 382, 389, 392, 416, 434, 438, 441, 450, 501, 504, 507, 517, 541, 544, 554, 561, 570, 579, 581, 582, 590, 597, 599, 601, 602, 611, 620]]),LotChange(id=13, cost=70.0, partition=[[1, 2, 4, 13, 17, 22, 35, 43, 45, 68, 81, 85, 92, 94, 96, 98, 102, 119, 122, 123, 124, 138, 142, 144, 151, 152, 153, 154, 169, 189, 198, 202, 205, 208, 212, 214, 225, 228, 234, 244, 247, 257, 258, 260, 264, 266, 278, 279, 281, 286, 302, 316, 317, 324, 325, 337, 340, 348, 350, 352, 353, 372, 382, 389, 392, 416, 434, 438, 441, 450, 501, 504, 507, 517, 541, 544, 554, 561, 570, 579, 581, 582, 590, 597, 599, 601, 602, 611, 620], [3, 5, 6, 7, 8, 9, 10, 11, 12, 14, 15, 16, 18, 19, 20, 21, 23, 24, 25, 26, 27, 28, 29, 30, 31, 32, 33, 34, 36, 37, 38, 39, 40, 41, 42, 44, 46, 47, 48, 49, 50, 51, 52, 53, 54, 55, 56, 57, 58, 59, 60, 61, 62, 63, 64, 65, 66, 67, 69, 70, 71, 72, 73, 74, 75, 76, 77, 78, 79, 80, 82, 83, 84, 86, 87, 88, 89, 90, 91, 93, 95, 97, 99, 100, 101, 103, 104, 105, 106, 107, 108, 109, 110, 111, 112, 113, 114, 115, 116, 117, 118, 120, 121, 125, 126, 127, 128, 129, 130, 131, 132, 133, 134, 135, 136, 137, 139, 140, 141, 143, 145, 146, 147, 148, 149, 150, 155, 156, 157, 158, 159, 160, 161, 162, 163, 164, 165, 166, 167, 168, 170, 171, 172, 173, 174, 175, 176, 177, 178, 179, 180, 181, 182, 183, 184, 185, 186, 187, 188, 190, 191, 192, 193, 194, 195, 196, 197, 199, 200, 201, 203, 204, 206, 207, 209, 210, 211, 213, 215, 216, 217, 218, 219, 220, 221, 222, 223, 224, 226, 227, 229, 230, 231, 232, 233, 235, 236, 237, 238, 239, 240, 241, 242, 243, 245, 246, 248, 249, 250, 251, 252, 253, 254, 255, 256, 259, 261, 262, 263, 265, 267, 268, 269, 270, 271, 272, 273, 274, 275, 276, 277, 280, 282, 283, 284, 285, 287, 288, 289, 290, 291, 292, 293, 294, 295, 296, 297, 298, 299, 300, 301, 303, 304, 305, 306, 307, 308, 309, 310, 311, 312, 313, 314, 315, 318, 319, 320, 321, 322, 323, 326, 327, 328, 329, 330, 331, 332, 333, 334, 335, 336, 338, 339, 341, 342, 343, 344, 345, 346, 347, 349, 351, 354, 355, 356, 357, 358, 359, 360, 361, 362, 363, 364, 365, 366, 367, 368, 369, 370, 371, 373, 374, 375, 376, 377, 378, 379, 380, 381, 383, 384, 385, 386, 387, 388, 390, 391, 393, 394, 395, 396, 397, 398, 399, 400, 401, 402, 403, 404, 405, 406, 407, 408, 409, 410, 411, 412, 413, 414, 415, 417, 418, 419, 420, 421, 422, 423, 424, 425, 426, 427, 428, 429, 430, 431, 432, 433, 435, 436, 437, 439, 440, 442, 443, 444, 445, 446, 447, 448, 449, 451, 452, 453, 454, 455, 456, 457, 458, 459, 460, 461, 462, 463, 464, 465, 466, 467, 468, 469, 470, 471, 472, 473, 474, 475, 476, 477, 478, 479, 480, 481, 482, 483, 484, 485, 486, 487, 488, 489, 490, 491, 492, 493, 494, 495, 496, 497, 498, 499, 500, 502, 503, 505, 506, 508, 509, 510, 511, 512, 513, 514, 515, 516, 518, 519, 520, 521, 522, 523, 524, 525, 526, 527, 528, 529, 530, 531, 532, 533, 534, 535, 536, 537, 538, 539, 540, 542, 543, 545, 546, 547, 548, 549, 550, 551, 552, 553, 555, 556, 557, 558, 559, 560, 562, 563, 564, 565, 566, 567, 568, 569, 571, 572, 573, 574, 575, 576, 577, 578, 580, 583, 584, 585, 586, 587, 588, 589, 591, 592, 593, 594, 595, 596, 598, 600, 603, 604, 605, 606, 607, 608, 609, 610, 612, 613, 614, 615, 616, 617, 618, 619]])],\n",
       "\trollingWindows (3) = [RollingWindow(id=7, cost=300.0, window_size=5, max_vehicles=3, vehicles=[2, 3, 4, 5, 6, 7, 8, 9, 11, 13, 16, 17, 18, 19, 20, 22, 24, 25, 28, 35, 37, 41, 42, 43, 45, 46, 49, 53, 54, 57, 59, 62, 66, 68, 71, 79, 81, 85, 88, 92, 94, 96, 97, 98, 100, 102, 103, 104, 105, 112, 116, 117, 119, 122, 123, 124, 130, 133, 135, 136, 138, 142, 144, 151, 152, 153, 154, 160, 161, 164, 168, 169, 170, 171, 174, 175, 177, 180, 181, 182, 187, 188, 189, 191, 197, 198, 200, 201, 202, 205, 207, 208, 211, 212, 214, 216, 217, 225, 228, 234, 235, 239, 243, 244, 247, 250, 253, 257, 258, 259, 260, 262, 264, 266, 268, 278, 279, 280, 281, 283, 286, 288, 289, 295, 296, 302, 304, 310, 312, 314, 316, 317, 320, 321, 324, 325, 326, 327, 328, 333, 335, 336, 337, 338, 339, 340, 342, 343, 344, 347, 348, 349, 350, 351, 352, 353, 355, 359, 361, 362, 365, 366, 367, 372, 375, 376, 379, 381, 382, 384, 386, 387, 388, 389, 390, 392, 393, 394, 399, 400, 404, 406, 407, 413, 416, 417, 420, 421, 427, 429, 430, 432, 434, 436, 438, 440, 441, 445, 446, 448, 450, 455, 457, 458, 463, 466, 467, 469, 475, 476, 477, 478, 479, 492, 494, 496, 498, 500, 501, 504, 505, 506, 507, 510, 516, 517, 518, 519, 523, 526, 527, 528, 530, 536, 537, 538, 541, 544, 545, 548, 553, 554, 556, 557, 560, 561, 565, 570, 571, 575, 579, 580, 581, 582, 584, 585, 586, 588, 590, 592, 594, 596, 597, 599, 601, 602, 603, 605, 608, 609, 610, 611, 612, 615, 617, 618, 620]),RollingWindow(id=10, cost=500.0, window_size=2, max_vehicles=1, vehicles=[2, 4, 13, 17, 22, 35, 43, 45, 68, 81, 85, 92, 94, 96, 98, 102, 119, 122, 123, 124, 138, 142, 144, 151, 152, 153, 154, 169, 189, 198, 202, 205, 208, 212, 214, 225, 228, 234, 244, 247, 257, 258, 260, 264, 266, 278, 279, 281, 286, 302, 316, 317, 324, 325, 337, 340, 348, 350, 352, 353, 372, 382, 389, 392, 416, 434, 438, 441, 450, 501, 504, 507, 517, 541, 544, 554, 561, 570, 579, 581, 582, 590, 597, 599, 601, 602, 611, 620]),RollingWindow(id=24, cost=400.0, window_size=2, max_vehicles=1, vehicles=[14, 21, 29, 31, 32, 44, 48, 50, 52, 55, 60, 65, 69, 70, 80, 83, 84, 87, 95, 107, 110, 111, 113, 115, 118, 120, 125, 129, 145, 148, 159, 162, 165, 166, 185, 194, 218, 219, 220, 224, 226, 227, 229, 240, 245, 251, 254, 255, 261, 265, 270, 274, 277, 291, 293, 294, 299, 303, 306, 313, 356, 360, 363, 368, 391, 398, 402, 422, 424, 426, 428, 447, 451, 454, 459, 460, 471, 472, 482, 484, 489, 499, 503, 508, 509, 511, 513, 514, 515, 525, 540, 543, 552, 564, 568, 569, 573, 577, 593, 595, 619])]\n",
       "),\n",
       "Shop(name = paint,\n",
       "\tisPaint = true,\n",
       "\tresequencingLag = 15,\n",
       "\tresequencingCost = 10000.0,\n",
       "\tbatchSizes (0) = [],\n",
       "\tlotChanges (3) = [LotChange(id=16, cost=2000.0, partition=[[70, 80, 265, 509, 513, 514], [13, 83, 169, 202, 222, 279, 299, 317, 376, 382, 438, 512, 577, 620], [1, 3, 10, 20, 23, 24, 25, 27, 29, 30, 37, 40, 44, 46, 53, 58, 60, 63, 65, 67, 72, 75, 77, 78, 86, 91, 93, 99, 101, 107, 109, 110, 125, 128, 129, 136, 137, 139, 143, 146, 147, 149, 165, 172, 176, 177, 181, 183, 185, 192, 193, 194, 196, 204, 209, 215, 219, 223, 224, 230, 231, 232, 235, 241, 246, 250, 256, 261, 267, 269, 270, 276, 280, 287, 291, 296, 298, 305, 311, 312, 315, 319, 320, 329, 331, 332, 344, 345, 346, 351, 355, 356, 360, 362, 370, 371, 378, 379, 385, 387, 396, 398, 410, 415, 418, 424, 426, 454, 457, 458, 460, 461, 465, 474, 475, 477, 483, 487, 488, 497, 500, 502, 511, 515, 522, 527, 529, 531, 532, 533, 534, 539, 543, 551, 553, 562, 564, 566, 568, 572, 574, 575, 580, 583, 586, 593, 596, 604, 605, 613, 619], [2, 68, 98, 123, 124, 348, 416], [4, 5, 6, 7, 9, 11, 14, 17, 21, 22, 28, 31, 32, 34, 39, 41, 42, 47, 48, 49, 50, 52, 54, 55, 56, 57, 59, 62, 66, 69, 71, 73, 79, 82, 84, 85, 87, 88, 89, 92, 95, 96, 103, 104, 105, 106, 111, 112, 113, 115, 116, 117, 118, 120, 122, 126, 130, 131, 132, 133, 134, 138, 141, 142, 144, 145, 148, 150, 155, 156, 159, 160, 161, 162, 163, 166, 167, 168, 170, 173, 174, 175, 179, 180, 182, 187, 188, 189, 191, 197, 199, 200, 201, 203, 205, 206, 207, 208, 210, 211, 212, 213, 214, 216, 218, 220, 221, 225, 226, 227, 228, 229, 233, 234, 236, 237, 238, 239, 240, 242, 243, 245, 247, 249, 251, 253, 254, 255, 257, 258, 259, 260, 262, 268, 271, 273, 274, 277, 283, 285, 289, 292, 293, 294, 295, 297, 300, 302, 303, 304, 306, 307, 308, 310, 313, 314, 316, 321, 323, 326, 327, 328, 330, 333, 334, 337, 338, 339, 340, 341, 343, 347, 350, 354, 358, 359, 361, 363, 365, 366, 367, 368, 369, 372, 373, 374, 375, 380, 381, 383, 386, 388, 391, 393, 399, 400, 402, 404, 405, 406, 407, 408, 411, 413, 414, 421, 422, 427, 428, 429, 430, 431, 432, 434, 435, 436, 437, 439, 440, 441, 442, 443, 445, 446, 447, 448, 449, 450, 451, 459, 462, 463, 464, 467, 469, 470, 471, 472, 476, 479, 480, 481, 482, 484, 489, 490, 492, 494, 495, 496, 498, 499, 501, 503, 504, 505, 506, 507, 508, 510, 516, 517, 518, 520, 521, 523, 524, 525, 526, 528, 530, 535, 536, 537, 540, 541, 544, 546, 548, 552, 554, 557, 559, 561, 565, 569, 573, 576, 581, 582, 584, 585, 587, 588, 589, 590, 592, 595, 598, 599, 601, 602, 603, 607, 608, 609, 611, 612, 614], [12, 15, 26, 33, 36, 38, 51, 61, 64, 74, 76, 90, 108, 114, 121, 127, 140, 157, 158, 178, 184, 186, 190, 195, 248, 252, 263, 272, 275, 282, 284, 290, 301, 309, 318, 322, 357, 364, 377, 395, 397, 401, 403, 409, 412, 419, 423, 425, 433, 444, 452, 453, 456, 468, 473, 485, 486, 491, 493, 542, 547, 549, 550, 555, 558, 563, 567, 578, 591, 600, 606, 616], [8, 16, 18, 19, 97, 100, 135, 164, 171, 217, 288, 335, 336, 342, 349, 384, 390, 394, 417, 420, 455, 466, 478, 519, 538, 545, 556, 560, 571, 594, 610, 615, 617, 618], [94, 119, 278, 281, 324, 352], [35, 43, 45, 81, 102, 151, 152, 153, 154, 198, 244, 264, 266, 286, 325, 389, 392, 570, 597], [353, 579]]),LotChange(id=27, cost=100.0, partition=[[70, 80, 265, 509, 513, 514], [13, 83, 169, 202, 222, 279, 299, 317, 376, 382, 438, 512, 577, 620], [1, 3, 10, 20, 23, 24, 25, 27, 29, 30, 37, 40, 44, 46, 53, 58, 60, 63, 65, 67, 72, 75, 77, 78, 86, 91, 93, 99, 101, 107, 109, 110, 125, 128, 129, 136, 137, 139, 143, 146, 147, 149, 165, 172, 176, 177, 181, 183, 185, 192, 193, 194, 196, 204, 209, 215, 219, 223, 224, 230, 231, 232, 235, 241, 246, 250, 256, 261, 267, 269, 270, 276, 280, 287, 291, 296, 298, 305, 311, 312, 315, 319, 320, 329, 331, 332, 344, 345, 346, 351, 355, 356, 360, 362, 370, 371, 378, 379, 385, 387, 396, 398, 410, 415, 418, 424, 426, 454, 457, 458, 460, 461, 465, 474, 475, 477, 483, 487, 488, 497, 500, 502, 511, 515, 522, 527, 529, 531, 532, 533, 534, 539, 543, 551, 553, 562, 564, 566, 568, 572, 574, 575, 580, 583, 586, 593, 596, 604, 605, 613, 619], [2, 68, 98, 123, 124, 348, 416], [4, 5, 6, 7, 9, 11, 14, 17, 21, 22, 28, 31, 32, 34, 39, 41, 42, 47, 48, 49, 50, 52, 54, 55, 56, 57, 59, 62, 66, 69, 71, 73, 79, 82, 84, 85, 87, 88, 89, 92, 95, 96, 103, 104, 105, 106, 111, 112, 113, 115, 116, 117, 118, 120, 122, 126, 130, 131, 132, 133, 134, 138, 141, 142, 144, 145, 148, 150, 155, 156, 159, 160, 161, 162, 163, 166, 167, 168, 170, 173, 174, 175, 179, 180, 182, 187, 188, 189, 191, 197, 199, 200, 201, 203, 205, 206, 207, 208, 210, 211, 212, 213, 214, 216, 218, 220, 221, 225, 226, 227, 228, 229, 233, 234, 236, 237, 238, 239, 240, 242, 243, 245, 247, 249, 251, 253, 254, 255, 257, 258, 259, 260, 262, 268, 271, 273, 274, 277, 283, 285, 289, 292, 293, 294, 295, 297, 300, 302, 303, 304, 306, 307, 308, 310, 313, 314, 316, 321, 323, 326, 327, 328, 330, 333, 334, 337, 338, 339, 340, 341, 343, 347, 350, 354, 358, 359, 361, 363, 365, 366, 367, 368, 369, 372, 373, 374, 375, 380, 381, 383, 386, 388, 391, 393, 399, 400, 402, 404, 405, 406, 407, 408, 411, 413, 414, 421, 422, 427, 428, 429, 430, 431, 432, 434, 435, 436, 437, 439, 440, 441, 442, 443, 445, 446, 447, 448, 449, 450, 451, 459, 462, 463, 464, 467, 469, 470, 471, 472, 476, 479, 480, 481, 482, 484, 489, 490, 492, 494, 495, 496, 498, 499, 501, 503, 504, 505, 506, 507, 508, 510, 516, 517, 518, 520, 521, 523, 524, 525, 526, 528, 530, 535, 536, 537, 540, 541, 544, 546, 548, 552, 554, 557, 559, 561, 565, 569, 573, 576, 581, 582, 584, 585, 587, 588, 589, 590, 592, 595, 598, 599, 601, 602, 603, 607, 608, 609, 611, 612, 614], [12, 15, 26, 33, 36, 38, 51, 61, 64, 74, 76, 90, 108, 114, 121, 127, 140, 157, 158, 178, 184, 186, 190, 195, 248, 252, 263, 272, 275, 282, 284, 290, 301, 309, 318, 322, 357, 364, 377, 395, 397, 401, 403, 409, 412, 419, 423, 425, 433, 444, 452, 453, 456, 468, 473, 485, 486, 491, 493, 542, 547, 549, 550, 555, 558, 563, 567, 578, 591, 600, 606, 616], [8, 16, 18, 19, 97, 100, 135, 164, 171, 217, 288, 335, 336, 342, 349, 384, 390, 394, 417, 420, 455, 466, 478, 519, 538, 545, 556, 560, 571, 594, 610, 615, 617, 618], [94, 119, 278, 281, 324, 352], [35, 43, 45, 81, 102, 151, 152, 153, 154, 198, 244, 264, 266, 286, 325, 389, 392, 570, 597], [353, 579]]),LotChange(id=29, cost=10000.0, partition=[[70, 80, 265, 509, 513, 514], [13, 83, 169, 202, 222, 279, 299, 317, 376, 382, 438, 512, 577, 620], [1, 3, 10, 20, 23, 24, 25, 27, 29, 30, 37, 40, 44, 46, 53, 58, 60, 63, 65, 67, 72, 75, 77, 78, 86, 91, 93, 99, 101, 107, 109, 110, 125, 128, 129, 136, 137, 139, 143, 146, 147, 149, 165, 172, 176, 177, 181, 183, 185, 192, 193, 194, 196, 204, 209, 215, 219, 223, 224, 230, 231, 232, 235, 241, 246, 250, 256, 261, 267, 269, 270, 276, 280, 287, 291, 296, 298, 305, 311, 312, 315, 319, 320, 329, 331, 332, 344, 345, 346, 351, 355, 356, 360, 362, 370, 371, 378, 379, 385, 387, 396, 398, 410, 415, 418, 424, 426, 454, 457, 458, 460, 461, 465, 474, 475, 477, 483, 487, 488, 497, 500, 502, 511, 515, 522, 527, 529, 531, 532, 533, 534, 539, 543, 551, 553, 562, 564, 566, 568, 572, 574, 575, 580, 583, 586, 593, 596, 604, 605, 613, 619], [2, 68, 98, 123, 124, 348, 416], [4, 5, 6, 7, 9, 11, 14, 17, 21, 22, 28, 31, 32, 34, 39, 41, 42, 47, 48, 49, 50, 52, 54, 55, 56, 57, 59, 62, 66, 69, 71, 73, 79, 82, 84, 85, 87, 88, 89, 92, 95, 96, 103, 104, 105, 106, 111, 112, 113, 115, 116, 117, 118, 120, 122, 126, 130, 131, 132, 133, 134, 138, 141, 142, 144, 145, 148, 150, 155, 156, 159, 160, 161, 162, 163, 166, 167, 168, 170, 173, 174, 175, 179, 180, 182, 187, 188, 189, 191, 197, 199, 200, 201, 203, 205, 206, 207, 208, 210, 211, 212, 213, 214, 216, 218, 220, 221, 225, 226, 227, 228, 229, 233, 234, 236, 237, 238, 239, 240, 242, 243, 245, 247, 249, 251, 253, 254, 255, 257, 258, 259, 260, 262, 268, 271, 273, 274, 277, 283, 285, 289, 292, 293, 294, 295, 297, 300, 302, 303, 304, 306, 307, 308, 310, 313, 314, 316, 321, 323, 326, 327, 328, 330, 333, 334, 337, 338, 339, 340, 341, 343, 347, 350, 354, 358, 359, 361, 363, 365, 366, 367, 368, 369, 372, 373, 374, 375, 380, 381, 383, 386, 388, 391, 393, 399, 400, 402, 404, 405, 406, 407, 408, 411, 413, 414, 421, 422, 427, 428, 429, 430, 431, 432, 434, 435, 436, 437, 439, 440, 441, 442, 443, 445, 446, 447, 448, 449, 450, 451, 459, 462, 463, 464, 467, 469, 470, 471, 472, 476, 479, 480, 481, 482, 484, 489, 490, 492, 494, 495, 496, 498, 499, 501, 503, 504, 505, 506, 507, 508, 510, 516, 517, 518, 520, 521, 523, 524, 525, 526, 528, 530, 535, 536, 537, 540, 541, 544, 546, 548, 552, 554, 557, 559, 561, 565, 569, 573, 576, 581, 582, 584, 585, 587, 588, 589, 590, 592, 595, 598, 599, 601, 602, 603, 607, 608, 609, 611, 612, 614], [12, 15, 26, 33, 36, 38, 51, 61, 64, 74, 76, 90, 108, 114, 121, 127, 140, 157, 158, 178, 184, 186, 190, 195, 248, 252, 263, 272, 275, 282, 284, 290, 301, 309, 318, 322, 357, 364, 377, 395, 397, 401, 403, 409, 412, 419, 423, 425, 433, 444, 452, 453, 456, 468, 473, 485, 486, 491, 493, 542, 547, 549, 550, 555, 558, 563, 567, 578, 591, 600, 606, 616], [8, 16, 18, 19, 97, 100, 135, 164, 171, 217, 288, 335, 336, 342, 349, 384, 390, 394, 417, 420, 455, 466, 478, 519, 538, 545, 556, 560, 571, 594, 610, 615, 617, 618], [94, 119, 278, 281, 324, 352], [35, 43, 45, 81, 102, 151, 152, 153, 154, 198, 244, 264, 266, 286, 325, 389, 392, 570, 597], [353, 579]])],\n",
       "\trollingWindows (4) = [RollingWindow(id=6, cost=4000.0, window_size=6, max_vehicles=3, vehicles=[2, 12, 23, 26, 27, 30, 34, 35, 36, 38, 40, 43, 47, 52, 55, 60, 61, 64, 67, 68, 69, 70, 72, 73, 74, 75, 77, 78, 81, 82, 86, 87, 89, 90, 92, 94, 99, 101, 108, 114, 119, 121, 122, 127, 132, 134, 137, 139, 140, 142, 143, 144, 146, 147, 149, 157, 158, 166, 167, 172, 173, 178, 179, 184, 186, 190, 195, 209, 212, 214, 222, 226, 228, 230, 232, 234, 236, 237, 241, 245, 246, 248, 249, 256, 261, 271, 273, 274, 275, 276, 277, 278, 281, 285, 290, 297, 298, 300, 301, 302, 315, 318, 322, 324, 330, 332, 334, 337, 340, 341, 348, 352, 354, 357, 358, 364, 368, 372, 377, 378, 395, 396, 401, 409, 410, 415, 416, 418, 419, 423, 426, 435, 439, 442, 443, 444, 456, 459, 461, 464, 472, 473, 483, 486, 490, 495, 501, 504, 513, 514, 521, 522, 529, 532, 540, 549, 555, 558, 561, 562, 564, 567, 578, 583, 587, 591, 595, 597, 604, 611, 613, 616, 620, 353, 579]),RollingWindow(id=11, cost=4000.0, window_size=30, max_vehicles=5, vehicles=[12, 15, 26, 33, 36, 38, 51, 61, 64, 70, 74, 76, 80, 90, 108, 114, 121, 127, 140, 157, 158, 178, 184, 186, 190, 195, 248, 252, 263, 265, 272, 275, 282, 284, 290, 301, 309, 318, 322, 353, 357, 364, 377, 395, 397, 401, 403, 409, 412, 419, 423, 425, 433, 444, 452, 453, 456, 468, 473, 485, 486, 491, 493, 509, 513, 514, 542, 547, 549, 550, 555, 558, 563, 567, 578, 579, 591, 600, 606, 616]),RollingWindow(id=19, cost=5000.0, window_size=12, max_vehicles=5, vehicles=[1, 2, 4, 10, 12, 15, 22, 24, 25, 26, 27, 30, 33, 34, 36, 38, 40, 46, 47, 51, 61, 64, 67, 68, 72, 73, 74, 75, 76, 77, 90, 91, 93, 94, 98, 99, 106, 108, 109, 114, 119, 121, 123, 124, 127, 128, 131, 136, 137, 138, 139, 140, 146, 149, 155, 157, 158, 167, 172, 173, 177, 178, 181, 183, 184, 186, 190, 192, 193, 195, 209, 214, 215, 223, 231, 232, 235, 236, 237, 241, 246, 248, 249, 250, 252, 263, 267, 269, 272, 275, 278, 281, 282, 284, 287, 290, 296, 298, 301, 305, 308, 309, 315, 318, 320, 322, 323, 324, 329, 332, 334, 341, 346, 348, 351, 352, 355, 357, 362, 364, 370, 371, 374, 375, 377, 379, 387, 395, 397, 401, 403, 404, 409, 410, 412, 414, 416, 418, 419, 423, 425, 431, 433, 435, 439, 442, 444, 452, 453, 456, 458, 461, 465, 468, 470, 473, 474, 477, 483, 485, 486, 487, 488, 490, 491, 493, 497, 501, 510, 521, 522, 527, 529, 531, 532, 534, 539, 541, 542, 547, 549, 550, 551, 555, 558, 562, 563, 567, 574, 575, 578, 583, 588, 591, 598, 600, 605, 606, 613, 616]),RollingWindow(id=20, cost=200.0, window_size=60, max_vehicles=25, vehicles=[1, 2, 4, 10, 12, 15, 22, 24, 25, 26, 27, 30, 33, 34, 36, 38, 40, 46, 47, 51, 61, 64, 67, 68, 72, 73, 74, 75, 76, 77, 90, 91, 93, 94, 98, 99, 106, 108, 109, 114, 119, 121, 123, 124, 127, 128, 131, 136, 137, 138, 139, 140, 146, 149, 155, 157, 158, 167, 172, 173, 177, 178, 181, 183, 184, 186, 190, 192, 193, 195, 209, 214, 215, 223, 231, 232, 235, 236, 237, 241, 246, 248, 249, 250, 252, 263, 267, 269, 272, 275, 278, 281, 282, 284, 287, 290, 296, 298, 301, 305, 308, 309, 315, 318, 320, 322, 323, 324, 329, 332, 334, 341, 346, 348, 351, 352, 355, 357, 362, 364, 370, 371, 374, 375, 377, 379, 387, 395, 397, 401, 403, 404, 409, 410, 412, 414, 416, 418, 419, 423, 425, 431, 433, 435, 439, 442, 444, 452, 453, 456, 458, 461, 465, 468, 470, 473, 474, 477, 483, 485, 486, 487, 488, 490, 491, 493, 497, 501, 510, 521, 522, 527, 529, 531, 532, 534, 539, 541, 542, 547, 549, 550, 551, 555, 558, 562, 563, 567, 574, 575, 578, 583, 588, 591, 598, 600, 605, 606, 613, 616])]\n",
       "),\n",
       "Shop(name = assembly,\n",
       "\tisPaint = false,\n",
       "\tresequencingLag = 25,\n",
       "\tresequencingCost = 10000.0,\n",
       "\tbatchSizes (0) = [],\n",
       "\tlotChanges (0) = [],\n",
       "\trollingWindows (16) = [RollingWindow(id=1, cost=5000.0, window_size=3, max_vehicles=2, vehicles=[2, 12, 14, 17, 20, 21, 23, 24, 26, 28, 29, 30, 32, 34, 35, 36, 38, 40, 43, 45, 47, 50, 51, 52, 55, 56, 58, 60, 61, 63, 64, 65, 67, 68, 69, 72, 73, 74, 75, 77, 81, 82, 83, 85, 86, 87, 90, 91, 94, 95, 96, 98, 99, 102, 104, 106, 107, 108, 109, 110, 114, 118, 119, 120, 121, 122, 123, 126, 127, 128, 129, 132, 134, 137, 140, 142, 144, 146, 147, 149, 151, 152, 154, 155, 156, 157, 158, 159, 163, 165, 166, 167, 172, 178, 179, 184, 185, 186, 190, 192, 193, 195, 198, 199, 204, 205, 206, 209, 214, 221, 222, 225, 226, 227, 229, 231, 232, 236, 237, 238, 241, 244, 245, 246, 248, 249, 252, 254, 255, 256, 257, 258, 259, 261, 264, 265, 266, 267, 268, 269, 271, 272, 274, 275, 278, 280, 281, 284, 285, 287, 290, 291, 292, 293, 298, 299, 300, 301, 302, 304, 305, 306, 308, 311, 314, 315, 317, 318, 322, 324, 325, 328, 330, 331, 339, 340, 341, 346, 348, 350, 352, 354, 355, 356, 357, 360, 363, 364, 368, 372, 373, 377, 383, 385, 386, 388, 389, 395, 401, 402, 403, 408, 409, 410, 411, 417, 418, 419, 421, 423, 424, 426, 431, 432, 433, 435, 438, 439, 441, 442, 443, 444, 450, 451, 452, 456, 459, 461, 462, 463, 472, 473, 475, 479, 481, 483, 486, 489, 490, 501, 504, 507, 509, 512, 513, 514, 517, 518, 520, 521, 522, 529, 532, 533, 534, 535, 540, 544, 546, 549, 551, 554, 555, 558, 561, 562, 567, 570, 574, 576, 577, 578, 582, 583, 587, 589, 590, 591, 595, 597, 598, 601, 607, 611, 613, 614, 616]),RollingWindow(id=2, cost=2000.0, window_size=9, max_vehicles=5, vehicles=[2, 12, 21, 26, 29, 30, 34, 35, 36, 38, 40, 43, 47, 52, 55, 56, 58, 60, 61, 63, 64, 68, 69, 72, 73, 74, 75, 77, 81, 83, 87, 90, 94, 95, 96, 98, 102, 106, 107, 108, 110, 114, 119, 120, 121, 122, 127, 128, 129, 132, 134, 137, 140, 142, 144, 146, 149, 155, 156, 157, 158, 159, 163, 166, 167, 172, 178, 184, 186, 190, 195, 199, 204, 206, 209, 214, 221, 222, 225, 226, 227, 229, 232, 236, 237, 238, 241, 245, 246, 248, 249, 254, 256, 261, 265, 267, 271, 272, 274, 275, 278, 281, 284, 285, 290, 293, 298, 299, 301, 302, 305, 306, 308, 311, 315, 317, 318, 322, 324, 330, 331, 340, 341, 348, 352, 354, 356, 357, 363, 364, 368, 372, 373, 377, 383, 385, 395, 401, 402, 409, 410, 418, 419, 423, 424, 426, 431, 433, 435, 438, 439, 442, 443, 444, 451, 452, 456, 459, 461, 462, 472, 473, 483, 486, 489, 490, 501, 504, 509, 512, 513, 514, 522, 529, 532, 533, 534, 540, 549, 551, 555, 558, 561, 562, 567, 576, 577, 578, 583, 587, 590, 591, 595, 597, 607, 611, 613, 614, 616]),RollingWindow(id=4, cost=6000.0, window_size=5, max_vehicles=3, vehicles=[2, 12, 14, 17, 20, 21, 23, 24, 26, 28, 29, 30, 32, 34, 35, 36, 38, 40, 43, 45, 47, 50, 51, 52, 55, 56, 58, 60, 61, 63, 64, 65, 67, 68, 69, 72, 73, 74, 75, 77, 81, 82, 83, 85, 86, 87, 90, 91, 94, 95, 96, 98, 99, 102, 104, 106, 107, 108, 109, 110, 114, 118, 119, 120, 121, 122, 123, 126, 127, 128, 129, 132, 134, 137, 140, 142, 144, 146, 147, 149, 151, 152, 154, 155, 156, 157, 158, 159, 163, 165, 166, 167, 172, 178, 179, 184, 185, 186, 190, 192, 193, 195, 198, 199, 204, 205, 206, 209, 214, 221, 222, 225, 226, 227, 229, 231, 232, 236, 237, 238, 241, 244, 245, 246, 248, 249, 252, 254, 255, 256, 257, 258, 259, 261, 264, 265, 266, 267, 268, 269, 271, 272, 274, 275, 278, 280, 281, 284, 285, 287, 290, 291, 292, 293, 298, 299, 300, 301, 302, 304, 305, 306, 308, 311, 314, 315, 317, 318, 322, 324, 325, 328, 330, 331, 339, 340, 341, 346, 348, 350, 352, 354, 355, 356, 357, 360, 363, 364, 368, 372, 373, 377, 383, 385, 386, 388, 389, 395, 401, 402, 403, 408, 409, 410, 411, 417, 418, 419, 421, 423, 424, 426, 431, 432, 433, 435, 438, 439, 441, 442, 443, 444, 450, 451, 452, 456, 459, 461, 462, 463, 472, 473, 475, 479, 481, 483, 486, 489, 490, 501, 504, 507, 509, 512, 513, 514, 517, 518, 520, 521, 522, 529, 532, 533, 534, 535, 540, 544, 546, 549, 551, 554, 555, 558, 561, 562, 567, 570, 574, 576, 577, 578, 582, 583, 587, 589, 590, 591, 595, 597, 598, 601, 607, 611, 613, 614, 616]),RollingWindow(id=5, cost=5000.0, window_size=10, max_vehicles=1, vehicles=[21, 69, 95, 110, 129, 159, 166, 226, 227, 245, 254, 261, 293, 299, 356, 363, 402, 426, 451, 459, 472, 489, 540, 595]),RollingWindow(id=8, cost=5000.0, window_size=3, max_vehicles=1, vehicles=[29, 31, 32, 44, 48, 50, 52, 65, 87, 95, 110, 111, 115, 125, 129, 145, 148, 162, 165, 166, 194, 218, 220, 224, 226, 227, 229, 240, 245, 251, 254, 270, 277, 291, 293, 299, 306, 313, 356, 360, 363, 368, 391, 398, 402, 422, 424, 426, 428, 447, 451, 454, 460, 472, 482, 499, 503, 509, 511, 513, 515, 525, 540, 543, 552, 564, 568, 569, 593, 619]),RollingWindow(id=12, cost=30000.0, window_size=2, max_vehicles=1, vehicles=[2, 12, 23, 26, 27, 30, 34, 35, 36, 38, 40, 43, 47, 52, 55, 60, 61, 64, 67, 68, 69, 70, 72, 73, 74, 75, 77, 78, 81, 82, 86, 87, 89, 90, 92, 94, 99, 101, 108, 114, 119, 121, 122, 127, 132, 134, 137, 139, 140, 142, 143, 144, 146, 147, 149, 157, 158, 166, 167, 172, 173, 178, 179, 184, 186, 190, 195, 209, 212, 214, 222, 226, 228, 230, 232, 234, 236, 237, 241, 245, 246, 248, 249, 256, 261, 271, 273, 274, 275, 276, 277, 278, 281, 285, 290, 297, 298, 300, 301, 302, 315, 318, 322, 324, 330, 332, 334, 337, 340, 341, 348, 352, 354, 357, 358, 364, 368, 372, 377, 378, 395, 396, 401, 409, 410, 415, 416, 418, 419, 423, 426, 435, 439, 442, 443, 444, 456, 459, 461, 464, 472, 473, 483, 486, 490, 495, 501, 504, 513, 514, 521, 522, 529, 532, 540, 549, 555, 558, 561, 562, 564, 567, 578, 583, 587, 591, 595, 597, 604, 611, 613, 616, 620, 353, 579]),RollingWindow(id=14, cost=5000.0, window_size=3, max_vehicles=1, vehicles=[2, 4, 17, 35, 43, 45, 68, 81, 85, 96, 98, 102, 122, 123, 124, 138, 142, 144, 151, 152, 153, 154, 189, 198, 205, 212, 214, 225, 228, 234, 244, 247, 257, 258, 264, 266, 279, 286, 302, 317, 325, 337, 340, 348, 350, 372, 382, 389, 392, 416, 438, 441, 450, 501, 504, 507, 517, 541, 544, 554, 561, 570, 581, 582, 590, 597, 599, 601, 611, 620]),RollingWindow(id=15, cost=2000.0, window_size=4, max_vehicles=2, vehicles=[2, 4, 5, 14, 15, 21, 23, 25, 30, 31, 33, 35, 43, 47, 52, 55, 56, 63, 67, 68, 69, 70, 81, 86, 94, 95, 96, 98, 99, 106, 110, 111, 114, 115, 118, 119, 122, 124, 126, 129, 131, 132, 134, 140, 142, 144, 147, 148, 153, 155, 156, 159, 166, 173, 177, 181, 183, 189, 193, 199, 204, 206, 212, 220, 221, 222, 223, 224, 226, 227, 228, 237, 245, 247, 251, 254, 255, 256, 261, 263, 265, 268, 272, 273, 278, 279, 281, 282, 283, 284, 285, 286, 290, 292, 293, 295, 296, 299, 300, 301, 302, 305, 306, 308, 309, 311, 318, 324, 329, 331, 332, 334, 340, 343, 348, 351, 352, 354, 356, 363, 370, 371, 372, 383, 385, 387, 388, 392, 398, 402, 404, 408, 411, 416, 425, 426, 431, 433, 443, 446, 447, 451, 452, 453, 459, 462, 468, 472, 473, 477, 481, 484, 485, 489, 491, 499, 504, 509, 510, 513, 514, 515, 518, 520, 531, 534, 535, 539, 540, 543, 546, 549, 550, 551, 552, 561, 563, 568, 577, 581, 585, 587, 588, 589, 590, 592, 595, 597, 598, 600, 606, 607, 610, 611, 614, 616, 619]),RollingWindow(id=18, cost=70000.0, window_size=2, max_vehicles=1, vehicles=[2, 2, 4, 4, 13, 13, 17, 17, 21, 22, 22, 29, 35, 35, 43, 43, 45, 45, 52, 55, 60, 68, 68, 69, 70, 80, 81, 81, 83, 85, 85, 87, 92, 92, 94, 94, 95, 96, 96, 98, 98, 102, 102, 107, 110, 114, 119, 119, 120, 122, 122, 123, 123, 124, 124, 125, 129, 131, 138, 138, 140, 142, 142, 144, 144, 148, 151, 151, 152, 152, 153, 153, 154, 154, 155, 159, 166, 169, 169, 189, 189, 198, 198, 199, 202, 202, 204, 205, 205, 208, 208, 212, 212, 214, 214, 225, 225, 226, 227, 228, 228, 229, 234, 234, 244, 244, 245, 247, 247, 254, 257, 257, 258, 258, 260, 260, 261, 264, 264, 265, 266, 266, 270, 274, 278, 278, 279, 279, 281, 281, 284, 286, 286, 290, 293, 299, 302, 302, 306, 316, 316, 317, 317, 324, 324, 325, 325, 337, 337, 340, 340, 348, 348, 350, 350, 352, 352, 353, 353, 356, 363, 368, 372, 372, 382, 382, 389, 389, 392, 392, 402, 416, 416, 424, 426, 433, 434, 434, 438, 438, 441, 441, 443, 447, 450, 450, 451, 459, 472, 473, 487, 489, 501, 501, 504, 504, 507, 507, 509, 513, 514, 517, 517, 540, 541, 541, 543, 544, 544, 552, 554, 554, 561, 561, 564, 570, 570, 577, 579, 579, 581, 581, 582, 582, 590, 590, 593, 595, 597, 597, 599, 599, 601, 601, 602, 602, 611, 611, 616, 620, 620]),RollingWindow(id=21, cost=15000.0, window_size=2, max_vehicles=1, vehicles=[14, 21, 29, 31, 32, 44, 48, 50, 52, 55, 60, 65, 69, 70, 80, 83, 84, 87, 94, 95, 107, 110, 111, 113, 115, 118, 119, 120, 125, 129, 138, 145, 148, 159, 162, 165, 166, 185, 194, 218, 219, 220, 224, 226, 227, 229, 240, 245, 251, 254, 255, 261, 265, 270, 274, 277, 278, 281, 291, 293, 294, 299, 303, 306, 313, 324, 352, 356, 360, 363, 368, 391, 398, 402, 422, 424, 426, 428, 447, 451, 454, 459, 460, 471, 472, 482, 484, 489, 499, 503, 508, 509, 511, 513, 514, 515, 525, 540, 543, 552, 564, 568, 569, 573, 577, 593, 595, 619]),RollingWindow(id=22, cost=20000.0, window_size=4, max_vehicles=1, vehicles=[2, 12, 23, 26, 27, 30, 34, 35, 36, 38, 40, 43, 47, 52, 55, 60, 61, 64, 67, 68, 69, 70, 72, 73, 74, 75, 77, 78, 81, 82, 86, 87, 89, 90, 92, 94, 99, 101, 108, 114, 119, 121, 122, 127, 132, 134, 137, 139, 140, 142, 143, 144, 146, 147, 149, 157, 158, 166, 167, 172, 173, 178, 179, 184, 186, 190, 195, 209, 212, 214, 222, 226, 228, 230, 232, 234, 236, 237, 241, 245, 246, 248, 249, 256, 261, 271, 273, 274, 275, 276, 277, 278, 281, 285, 290, 297, 298, 300, 301, 302, 315, 318, 322, 324, 330, 332, 334, 337, 340, 341, 348, 352, 354, 357, 358, 364, 368, 372, 377, 378, 395, 396, 401, 409, 410, 415, 416, 418, 419, 423, 426, 435, 439, 442, 443, 444, 456, 459, 461, 464, 472, 473, 483, 486, 490, 495, 501, 504, 513, 514, 521, 522, 529, 532, 540, 549, 555, 558, 561, 562, 564, 567, 578, 583, 587, 591, 595, 597, 604, 611, 613, 616, 620, 353, 579]),RollingWindow(id=25, cost=15000.0, window_size=6, max_vehicles=1, vehicles=[17, 39, 45, 51, 85, 91, 109, 123, 141, 151, 152, 154, 192, 198, 205, 210, 231, 242, 244, 252, 257, 258, 264, 266, 269, 287, 307, 325, 345, 346, 350, 389, 403, 441, 450, 502, 507, 517, 544, 554, 559, 570, 572, 574, 582, 601]),RollingWindow(id=26, cost=5000.0, window_size=4, max_vehicles=3, vehicles=[2, 4, 12, 14, 17, 18, 20, 21, 23, 24, 26, 28, 29, 30, 32, 34, 35, 36, 38, 40, 43, 45, 47, 50, 51, 52, 55, 56, 58, 60, 61, 63, 64, 65, 67, 68, 69, 72, 73, 74, 75, 77, 81, 82, 83, 85, 86, 87, 90, 91, 94, 95, 96, 97, 98, 99, 102, 104, 106, 107, 108, 109, 110, 114, 118, 119, 120, 121, 122, 123, 124, 126, 127, 128, 129, 132, 134, 137, 138, 140, 142, 144, 146, 147, 149, 151, 152, 153, 154, 155, 156, 157, 158, 159, 163, 164, 165, 166, 167, 172, 178, 179, 184, 185, 186, 189, 190, 192, 193, 195, 198, 199, 202, 204, 205, 206, 209, 212, 214, 221, 222, 225, 226, 227, 228, 229, 231, 232, 234, 236, 237, 238, 241, 244, 245, 246, 247, 248, 249, 252, 254, 255, 256, 257, 258, 259, 261, 264, 265, 266, 267, 268, 269, 271, 272, 274, 275, 278, 279, 280, 281, 284, 285, 286, 287, 288, 290, 291, 292, 293, 298, 299, 300, 301, 302, 304, 305, 306, 308, 311, 314, 315, 317, 318, 322, 324, 325, 328, 330, 331, 337, 339, 340, 341, 346, 348, 350, 352, 354, 355, 356, 357, 360, 363, 364, 365, 368, 372, 373, 377, 382, 383, 385, 386, 388, 389, 392, 395, 401, 402, 403, 408, 409, 410, 411, 416, 418, 419, 421, 423, 424, 426, 431, 432, 433, 435, 438, 439, 441, 442, 443, 444, 450, 451, 452, 456, 459, 461, 462, 463, 472, 473, 475, 479, 481, 483, 486, 489, 490, 501, 504, 507, 509, 512, 513, 514, 517, 518, 520, 521, 522, 529, 532, 533, 534, 535, 540, 541, 544, 546, 549, 551, 554, 555, 556, 558, 561, 562, 565, 567, 570, 574, 576, 577, 578, 581, 582, 583, 587, 589, 590, 591, 595, 597, 598, 599, 601, 607, 611, 613, 614, 616, 618, 620]),RollingWindow(id=30, cost=2000.0, window_size=10, max_vehicles=1, vehicles=[94, 119, 138, 278, 281, 324, 352]),RollingWindow(id=32, cost=5000.0, window_size=3, max_vehicles=1, vehicles=[2, 4, 13, 17, 22, 35, 43, 45, 68, 81, 85, 92, 94, 96, 98, 102, 119, 122, 123, 124, 138, 142, 144, 151, 152, 153, 154, 169, 189, 198, 202, 205, 208, 212, 214, 225, 228, 234, 244, 247, 257, 258, 260, 264, 266, 278, 279, 281, 286, 302, 316, 317, 324, 325, 337, 340, 348, 350, 352, 353, 372, 382, 389, 392, 416, 434, 438, 441, 450, 501, 504, 507, 517, 541, 544, 554, 561, 570, 579, 581, 582, 590, 597, 599, 601, 602, 611, 620]),RollingWindow(id=34, cost=35000.0, window_size=3, max_vehicles=1, vehicles=[2, 2, 4, 4, 13, 13, 17, 17, 21, 22, 22, 29, 35, 35, 43, 43, 45, 45, 52, 55, 60, 68, 68, 69, 70, 80, 81, 81, 83, 85, 85, 87, 92, 92, 94, 94, 95, 96, 96, 98, 98, 102, 102, 107, 110, 114, 119, 119, 120, 122, 122, 123, 123, 124, 124, 125, 129, 131, 138, 138, 140, 142, 142, 144, 144, 148, 151, 151, 152, 152, 153, 153, 154, 154, 155, 159, 166, 169, 169, 189, 189, 198, 198, 199, 202, 202, 204, 205, 205, 208, 208, 212, 212, 214, 214, 225, 225, 226, 227, 228, 228, 229, 234, 234, 244, 244, 245, 247, 247, 254, 257, 257, 258, 258, 260, 260, 261, 264, 264, 265, 266, 266, 270, 274, 278, 278, 279, 279, 281, 281, 284, 286, 286, 290, 293, 299, 302, 302, 306, 316, 316, 317, 317, 324, 324, 325, 325, 337, 337, 340, 340, 348, 348, 350, 350, 352, 352, 353, 353, 356, 363, 368, 372, 372, 382, 382, 389, 389, 392, 392, 402, 416, 416, 424, 426, 433, 434, 434, 438, 438, 441, 441, 443, 447, 450, 450, 451, 459, 472, 473, 487, 489, 501, 501, 504, 504, 507, 507, 509, 513, 514, 517, 517, 540, 541, 541, 543, 544, 544, 552, 554, 554, 561, 561, 564, 570, 570, 577, 579, 579, 581, 581, 582, 582, 590, 590, 593, 595, 597, 597, 599, 599, 601, 601, 602, 602, 611, 611, 616, 620, 620])]\n",
       ")],\n",
       ")"
      ]
     },
     "metadata": {},
     "output_type": "display_data"
    }
   ],
   "source": [
    "using Kiro24Base\n",
    "filename = \"large_1.json\"\n",
    "instance = Kiro24Base.read_instance(filename, verbose=true)"
   ]
  },
  {
   "cell_type": "code",
   "execution_count": 49,
   "metadata": {},
   "outputs": [
    {
     "data": {
      "text/plain": [
       "transform_filename (generic function with 1 method)"
      ]
     },
     "metadata": {},
     "output_type": "display_data"
    }
   ],
   "source": [
    "function transform_filename(input::String)::String\n",
    "    # Extract the base name without the .json extension\n",
    "    base_name = replace(input, \".json\" => \"\")\n",
    "    \n",
    "    # Append \"_sol\" to the base name\n",
    "    transformed_name = base_name * \"_sol.json\"\n",
    "    \n",
    "    # Prepend \"data/\" to the transformed name\n",
    "    return \"data/\" * transformed_name\n",
    "end\n"
   ]
  },
  {
   "cell_type": "code",
   "execution_count": 50,
   "metadata": {},
   "outputs": [
    {
     "data": {
      "text/plain": [
       "\"data/large_1_sol.json\""
      ]
     },
     "metadata": {},
     "output_type": "display_data"
    }
   ],
   "source": [
    "file_path = transform_filename(filename)\n"
   ]
  },
  {
   "cell_type": "code",
   "execution_count": 51,
   "metadata": {},
   "outputs": [],
   "source": [
    "using JSON,Random\n",
    "using OrderedCollections\n",
    "\n",
    "# Specify the file name and location\n",
    "# Read the JSON file\n",
    "data = JSON.parsefile(filename)\n",
    "\n",
    "# Extract the details from the JSON\n",
    "# For example, extract all shops\n",
    "linear_model = false  # Set to false if you don't want a linear model\n",
    "shops = data[\"shops\"]\n",
    "println(\"Shops:\")\n",
    "println(shops)\n",
    "\n",
    "# Extract vehicles\n",
    "vehicles = data[\"vehicles\"]\n",
    "shops = data[\"shops\"]\n",
    "parameters = data[\"parameters\"]\n",
    "constraints = data[\"constraints\"]\n",
    "two_tone_vehicle = []\n",
    "i = 0\n",
    "for vehicle in vehicles\n",
    "    i+=1\n",
    "    if linear_model\n",
    "        # Set all vehicles to regular if linear_model is true\n",
    "        println(\"Vehicle Type: \")\n",
    "    else\n",
    "        # Otherwise, print the actual vehicle type\n",
    "        if vehicle[\"type\"] == \"two-tone\"\n",
    "            push!(two_tone_vehicle,i)\n",
    "        end\n",
    "    end\n",
    "end\n",
    "for constraint in constraints\n",
    "    println(\"Constraint: \", constraint)\n",
    "end\n",
    "for parameter in parameters\n",
    "    println(\"Parameter: \", parameter)\n",
    "end\n",
    "for shop in shops\n",
    "    println(\"Shop: \", shop)\n",
    "end\n",
    "\n"
   ]
  },
  {
   "cell_type": "code",
   "execution_count": 52,
   "metadata": {},
   "outputs": [],
   "source": [
    "cs = parameters[\"resequencing_cost\"]\n",
    "number_of_shops = length(shops)    \n",
    "δ = parameters[\"two_tone_delta\"]\n",
    "println(δ)\n",
    "i=0 \n",
    "for shop in shops\n",
    "    i+=1\n",
    "    \n",
    "    println(\"Shop: \",i,\"  \", shop)\n",
    "end\n",
    "println(\"Number of shops: \", number_of_shops)\n",
    "number_of_vehicles = length(vehicles)\n",
    "println(\"number_of_vehicles, \",number_of_vehicles)"
   ]
  },
  {
   "cell_type": "code",
   "execution_count": 53,
   "metadata": {},
   "outputs": [
    {
     "data": {
      "text/plain": [
       "OrderedDict{String, Integer} with 3 entries:\n",
       "  \"body\"     => 0\n",
       "  \"paint\"    => 15\n",
       "  \"assembly\" => 25"
      ]
     },
     "metadata": {},
     "output_type": "display_data"
    }
   ],
   "source": [
    "\n",
    "# Initialize an empty dictionary to store the mapping\n",
    "shop_map = OrderedDict{String, Vector{Any}}()\n",
    "\"\"\" In shop_map, every shop name is a key, and the value is a vector of constraints associated with that shop. \"\"\"\n",
    "lag_map = OrderedDict{String, Integer}()\n",
    "\"\"\" In shop_map, every shop name is a key, and the value is a vector of constraints associated with that shop. \"\"\"\n",
    "# Populate the shop_map with shop names as keys and empty arrays as values\n",
    "i = 0\n",
    "for shop in shops\n",
    "    i+=1\n",
    "    shop_map[shop[\"name\"]] = []\n",
    "    lag_map[shop[\"name\"]] = shop[\"resequencing_lag\"]\n",
    "    println(shop[\"name\"],\"i :\",i)\n",
    "end\n",
    "n = number_of_vehicles\n",
    "println(\"n: \", n)\n",
    "# Initialize counters or variables if needed\n",
    "\n",
    "# Assume `model` is defined somewhere before this loop (like in JuMP)\n",
    "# Example: model = Model(Ipopt.Optimizer)\n",
    "\n",
    "# Iterate through constraints and associate them with the corresponding shop in shop_map\n",
    "\n",
    "for constraint in constraints\n",
    "    name = constraint[\"shop\"]\n",
    "    if haskey(shop_map, name)\n",
    "        push!(shop_map[name], constraint)\n",
    "    else\n",
    "        println(\"Warning: Shop name $name in constraints does not exist in shops.\")\n",
    "    end\n",
    "end\n",
    "\n",
    "(lag_map)\n"
   ]
  },
  {
   "cell_type": "code",
   "execution_count": 54,
   "metadata": {},
   "outputs": [
    {
     "data": {
      "text/plain": [
       "620"
      ]
     },
     "metadata": {},
     "output_type": "display_data"
    }
   ],
   "source": [
    "n"
   ]
  },
  {
   "cell_type": "code",
   "execution_count": 55,
   "metadata": {},
   "outputs": [
    {
     "data": {
      "text/plain": [
       "random_perturbation (generic function with 1 method)"
      ]
     },
     "metadata": {},
     "output_type": "display_data"
    }
   ],
   "source": [
    "# Function to generate targeted neighbors\n",
    "function generate_targeted_neighbors0(perm, Vr, Ul,Vb,Mb,mb)\n",
    "    # Start with a random perturbation as a fallback\n",
    "\n",
    "    perturbed_perm = random_perturbation(perm)\n",
    "    n = length(perturbed_perm)\n",
    "    k = 0\n",
    "\n",
    "    # Handle perturbation based on Ul\n",
    "    l = length(Ul)\n",
    "    if l>0 \n",
    "        for j in 1:l\n",
    "            ul = Ul[j]\n",
    "            for i in 1:(n-1)\n",
    "                # Check if the consecutive elements are not in the same sublist in Ul\n",
    "                if !in_same_lot(perturbed_perm[i], perturbed_perm[i + 1], ul)\n",
    "                    # Replace one of the elements with a random element from perm\n",
    "                    for j in i+1:n\n",
    "                        if j != i && j != i + 1 && in_same_lot(perturbed_perm[i], perturbed_perm[j], ul)\n",
    "                            # Replace element at index i with the one at index j\n",
    "                            perturbed_perm[i],perturbed_perm[j] = perturbed_perm[j],perturbed_perm[i]\n",
    "                            break  # Exit loop once a change has been made\n",
    "                        end\n",
    "                    end\n",
    "                end\n",
    "            end\n",
    "        end\n",
    "    end\n",
    "    return perturbed_perm\n",
    "end\n",
    "function generate_targeted_neighbors1(perm, Vr, Ul,Vb,Mb,mb)\n",
    "    perturbed_perm = random_perturbation(perm)\n",
    "    n = length(perturbed_perm)\n",
    "    r = length(Vr)\n",
    "    k = 0\n",
    "    n = length(perturbed_perm)\n",
    "    if r > 0\n",
    "        for j in 1:r\n",
    "            vr = Set(Vr[j])\n",
    "            for i in 1:n \n",
    "                if perturbed_perm[i] in vr\n",
    "                    k += 1\n",
    "                else\n",
    "                    k = 0\n",
    "                end\n",
    "\n",
    "                if k == r && i < n\n",
    "                    # Find the next element not in Vr\n",
    "                    for j in i+1:n\n",
    "                        if perturbed_perm[j] ∉ vr\n",
    "                            # Swap the i-th element with the j-th element\n",
    "                            \n",
    "                            perturbed_perm[i], perturbed_perm[j] = perturbed_perm[j], perturbed_perm[i]\n",
    "                            break\n",
    "                        end\n",
    "                    end\n",
    "                    k = 0  # Reset k after the swap\n",
    "                end\n",
    "            end\n",
    "        end\n",
    "    end\n",
    "    return perturbed_perm\n",
    "end\n",
    "function generate_targeted_neighbors2(perm, Vr, Ul,Vb,Mb,mb)\n",
    "    perturbed_perm = random_perturbation(perm)\n",
    "    n = length(perturbed_perm)\n",
    "    r = length(Vr)\n",
    "    k = 0\n",
    "    n = length(perturbed_perm)\n",
    "    # Batch size constraints (Vb, mb, Mb, cb)\n",
    "    if !isempty(Vb) \n",
    "        for i in 1:length(Vb)\n",
    "            vb = Set(Vb[i])\n",
    "            Mb0 = Mb[i]\n",
    "            mb0 = mb[i]\n",
    "            \n",
    "            for t in 1:n-1\n",
    "                b = true\n",
    "                if t > 1\n",
    "                    b = !(perturbed_perm[t-1] in vb) && b\n",
    "                end\n",
    "                b  = perturbed_perm[t] in vb && b\n",
    "                if !b \n",
    "                    continue\n",
    "                end\n",
    "                for t0 in t:n\n",
    "                    for k in t:t0\n",
    "                        b = (perturbed_perm[k] in vb) && b\n",
    "                    end\n",
    "                    if !b \n",
    "                        continue\n",
    "                    end\n",
    "                    if t0 <= n-1\n",
    "                        b = !(perturbed_perm[t0+1] in vb) && b\n",
    "                    end\n",
    "                    if b\n",
    "                        s = (t0-t) ÷ 2\n",
    "\n",
    "                        if (t > 1 && ((t0 - t + 1) < mb0 || (t0 - t + 1) > Mb0))\n",
    "                            perturbed_perm[t-1], perturbed_perm[t+s] = perturbed_perm[t+s], perturbed_perm[t-1];\n",
    "                        elseif (t0 < n && ((t0 - t + 1) < mb0 || (t0 - t + 1) > Mb0)) \n",
    "                            perturbed_perm[t0+1], perturbed_perm[t+s] = perturbed_perm[t+s], perturbed_perm[t0+1];\n",
    "                        end\n",
    "                        \n",
    "                    \n",
    "                    end\n",
    "                end\n",
    "            end\n",
    "        end\n",
    "    end\n",
    "\n",
    "    return perturbed_perm\n",
    "end\n",
    "\n",
    "# Helper function to check if two elements are in the same sublist in Ul\n",
    "function in_same_lot(elem1, elem2, Ul)\n",
    "    for lot in Ul\n",
    "        if elem1 in lot && elem2 in lot\n",
    "            return true\n",
    "        end\n",
    "    end\n",
    "    return false\n",
    "end\n",
    "\n",
    "\n",
    "# Helper function to apply a random perturbation\n",
    "function random_perturbation(perm)\n",
    "    # Randomly choose two indices to swap\n",
    "    copy_perm = copy(perm)\n",
    "    idx1, idx2 = rand(1:length(perm)), rand(1:length(perm))\n",
    "    copy_perm[idx1], copy_perm[idx2] = copy_perm[idx2], copy_perm[idx1]\n",
    "    return copy_perm\n",
    "end\n"
   ]
  },
  {
   "cell_type": "code",
   "execution_count": 56,
   "metadata": {},
   "outputs": [],
   "source": [
    "# Initialize result and Δs lists\n",
    "result = []\n",
    "Δs = []\n",
    "\n",
    "# Initialize global constraint lists for all shops\n",
    "Cl = []          # Cost list (Ints)\n",
    "Ul = []  # Partitions (Array of arrays of Ints)\n",
    "Vr = []  # Vehicles (Array of arrays of Ints)\n",
    "Mr = []          # Max vehicles (Ints)\n",
    "wr = []          # Window size (Ints)\n",
    "cr = []          # Cost (Ints)\n",
    "mb = []          # Min vehicles (Ints)\n",
    "Mb = []          # Max vehicles (Ints)\n",
    "cb = []          # Cost (Ints)\n",
    "Vb = []  # Vehicles (Array of Ints)\n",
    "\n",
    "# Loop through each shop and its constraints\n",
    "for (shop, constraints) in shop_map\n",
    "    println(\"shop: \", shop)\n",
    "    \n",
    "    # Initialize shop-specific constraint lists\n",
    "    Cl0 = Int[]          # Cost list (Ints)\n",
    "    Ul0 = Vector{Vector{Int}}[]  # Partitions (Array of arrays of Ints)\n",
    "    Vr0 = Vector{Int}[]  # Vehicles (Array of arrays of Ints)\n",
    "    Mr0 = Int[]          # Max vehicles (Ints)\n",
    "    wr0 = Int[]          # Window size (Ints)\n",
    "    cr0 = Int[]          # Cost (Ints)\n",
    "    mb0 = Int[]          # Min vehicles (Ints)\n",
    "    Mb0 = Int[]          # Max vehicles (Ints)\n",
    "    cb0 = Int[]          # Cost (Ints)\n",
    "    Vb0 = []  # Vehicles (Array of Ints)\n",
    "    \n",
    "    # Add the lag for the current shop\n",
    "    push!(Δs, lag_map[shop])\n",
    "    \n",
    "    # Loop through constraints and separate them by type\n",
    "    for constraint in constraints\n",
    "        if constraint[\"type\"] == \"lot_change\"\n",
    "            cl = constraint[\"cost\"]\n",
    "            Ul_0 = constraint[\"partition\"]\n",
    "            push!(Ul0, Ul_0)  # Ensure Ul_0 is an array of Int\n",
    "            push!(Cl0, cl)\n",
    "        end\n",
    "\n",
    "        if constraint[\"type\"] == \"rolling_window\"\n",
    "            Vr_0 = constraint[\"vehicles\"]\n",
    "            Mr_0 = constraint[\"max_vehicles\"]\n",
    "            wr_0 = constraint[\"window_size\"]\n",
    "            cr_0 = constraint[\"cost\"]\n",
    "            push!(Vr0, Vr_0)  # Ensure Vr_0 is an array of Int\n",
    "            push!(Mr0, Mr_0)\n",
    "            push!(wr0, wr_0)\n",
    "            push!(cr0, cr_0)\n",
    "        end\n",
    "\n",
    "        if constraint[\"type\"] == \"batch_size\"\n",
    "            mb_0 = constraint[\"min_vehicles\"]\n",
    "            Mb_0 = constraint[\"max_vehicles\"]\n",
    "            Vb_0 = constraint[\"vehicles\"]\n",
    "            cb_0 = constraint[\"cost\"]\n",
    "            push!(mb0, mb_0)\n",
    "            push!(Mb0, Mb_0)\n",
    "            push!(Vb0, Vb_0)  # Ensure Vb_0 is an array of Int\n",
    "            push!(cb0, cb_0)\n",
    "        end\n",
    "    end\n",
    "\n",
    "    # Push all constraint lists (even if they are empty) to the global lists\n",
    "    push!(Cl, Cl0)\n",
    "    push!(Ul, Ul0)\n",
    "    push!(Vr, Vr0)\n",
    "    push!(Mr, Mr0)\n",
    "    push!(wr, wr0)\n",
    "    push!(cr, cr0)\n",
    "    push!(mb, mb0)\n",
    "    push!(Mb, Mb0)\n",
    "    push!(cb, cb0)\n",
    "    push!(Vb, Vb0)\n",
    "end\n"
   ]
  },
  {
   "cell_type": "code",
   "execution_count": 57,
   "metadata": {},
   "outputs": [
    {
     "data": {
      "text/plain": [
       "10-element Vector{Vector{Int64}}:\n",
       " [70, 80, 265, 509, 513, 514]\n",
       " [13, 83, 169, 202, 222, 279, 299, 317, 376, 382, 438, 512, 577, 620]\n",
       " [1, 3, 10, 20, 23, 24, 25, 27, 29, 30  …  575, 580, 583, 586, 593, 596, 604, 605, 613, 619]\n",
       " [2, 68, 98, 123, 124, 348, 416]\n",
       " [4, 5, 6, 7, 9, 11, 14, 17, 21, 22  …  599, 601, 602, 603, 607, 608, 609, 611, 612, 614]\n",
       " [12, 15, 26, 33, 36, 38, 51, 61, 64, 74  …  550, 555, 558, 563, 567, 578, 591, 600, 606, 616]\n",
       " [8, 16, 18, 19, 97, 100, 135, 164, 171, 217  …  538, 545, 556, 560, 571, 594, 610, 615, 617, 618]\n",
       " [94, 119, 278, 281, 324, 352]\n",
       " [35, 43, 45, 81, 102, 151, 152, 153, 154, 198, 244, 264, 266, 286, 325, 389, 392, 570, 597]\n",
       " [353, 579]"
      ]
     },
     "metadata": {},
     "output_type": "display_data"
    }
   ],
   "source": [
    "Ul[2][1]\n"
   ]
  },
  {
   "cell_type": "code",
   "execution_count": 58,
   "metadata": {},
   "outputs": [
    {
     "data": {
      "text/plain": [
       "5.691799e7"
      ]
     },
     "metadata": {},
     "output_type": "display_data"
    }
   ],
   "source": [
    "file_path = transform_filename(filename)\n",
    "solution = read_solution(instance::Instance,file_path)\n",
    "current_cost = compute_cost(instance, solution, verbose=true)\n",
    "# Compute the cost of the solution\n",
    "total_cost = compute_cost(instance, solution, verbose=true)\n",
    "println(\"Total Cost: \", total_cost)\n",
    "is_feasible(instance, solution,verbose = true)\n",
    "total_cost"
   ]
  },
  {
   "cell_type": "code",
   "execution_count": 59,
   "metadata": {},
   "outputs": [],
   "source": [
    "\n"
   ]
  },
  {
   "cell_type": "code",
   "execution_count": 60,
   "metadata": {},
   "outputs": [
    {
     "data": {
      "text/plain": [
       "simulated_annealing (generic function with 1 method)"
      ]
     },
     "metadata": {},
     "output_type": "display_data"
    }
   ],
   "source": [
    "function simulated_annealing(solution, Cl, Ul, Vr, Mr, wr, cr, mb, Mb, cb, Vb, Δs, cs; T0, alpha, max_iter)\n",
    "    # Initialize variables\n",
    "    current_cost = compute_cost(instance, solution, verbose=true)\n",
    "    best_perms = transpose(copy(solution.entries))  # Best solution found\n",
    "    best_cost = current_cost  # Best cost found\n",
    "    T = T0  # Initial temperature\n",
    "    counter = 0\n",
    "    perms = transpose(copy(solution.entries))\n",
    "\n",
    "    # Check matrix size to ensure valid indexing\n",
    "    println(\"Matrix size: \", size(perms))  # Debugging step\n",
    "\n",
    "    for iter in 1:max_iter\n",
    "        if (T < 1e-100)\n",
    "            break\n",
    "        end\n",
    "        neighbor_costs = []\n",
    "        neighbor_perms = []\n",
    "        # Generate a set of neighboring solutions (perturbations)\n",
    "        for i in 1:size(perms, 1)\n",
    "            perm_copy = copy(perms)\n",
    "            perm = perms[i, :]\n",
    "            \n",
    "            \"\"\"perturbed_perm0 = generate_targeted_neighbors0(perm, Vr[i], Ul[i], Vb[i], Mb[i], mb[i])\n",
    "            perturbed_perm1 = generate_targeted_neighbors1(perm, Vr[i], Ul[i], Vb[i], Mb[i], mb[i])\n",
    "            perturbed_perm2 = generate_targeted_neighbors2(perm, Vr[i], Ul[i], Vb[i], Mb[i], mb[i])\"\"\"\n",
    "            perturbed_perm0 = random_perturbation(perm)\n",
    "            perturbed_perm1 = random_perturbation(perm)\n",
    "            perturbed_perm2 = random_perturbation(perm)\n",
    "            \n",
    "            perm_copy0 = copy(perm_copy)\n",
    "            perm_copy1 = copy(perm_copy)\n",
    "            perm_copy2 = copy(perm_copy)\n",
    "            \n",
    "            perm_copy0[i, :] = perturbed_perm0\n",
    "            perm_copy1[i, :] = perturbed_perm1\n",
    "            perm_copy2[i, :] = perturbed_perm2\n",
    "        \n",
    "            # Initialize the minimum cost and the corresponding permutation\n",
    "            min_cost = Inf\n",
    "            best_perm = perm_copy0\n",
    "            \n",
    "            # Function to update the minimum cost and best permutation\n",
    "            function update_best_perm(perm_copy, entry)\n",
    "                sexit = Solution(instance::Instance, entry).exits\n",
    "                solution = Solution(entry, sexit)\n",
    "                cost = compute_cost(instance, solution, verbose=true)\n",
    "                if is_feasible(instance, solution, verbose=true) && cost < min_cost\n",
    "                    min_cost = cost\n",
    "                    best_perm = perm_copy\n",
    "                end\n",
    "            end\n",
    "            \n",
    "            # Check each perturbed permutation\n",
    "            entry0 = hcat(perm_copy0[1, :], perm_copy0[2, :], perm_copy0[3, :])\n",
    "            update_best_perm(perm_copy0, entry0)\n",
    "        \n",
    "            entry1 = hcat(perm_copy1[1, :], perm_copy1[2, :], perm_copy1[3, :])\n",
    "            update_best_perm(perm_copy1, entry1)\n",
    "            \n",
    "            entry2 = hcat(perm_copy2[1, :], perm_copy2[2, :], perm_copy2[3, :])\n",
    "            update_best_perm(perm_copy2, entry2)\n",
    "        \n",
    "            # If a feasible permutation with a finite cost was found, push it to the arrays\n",
    "            if min_cost < Inf\n",
    "                push!(neighbor_perms, best_perm)\n",
    "                push!(neighbor_costs, min_cost)\n",
    "            else\n",
    "                return -1, -1\n",
    "            end\n",
    "        end\n",
    "        \n",
    "        \n",
    "\n",
    "        # Find the best neighboring solution\n",
    "        min_cost_idx = argmin(neighbor_costs)\n",
    "        best_neighbor = neighbor_perms[min_cost_idx]\n",
    "        best_neighbor_cost = neighbor_costs[min_cost_idx]\n",
    "\n",
    "        # If the best neighboring solution is better, update the current solution\n",
    "        if best_neighbor_cost < current_cost\n",
    "            counter = 0\n",
    "            perms = best_neighbor\n",
    "            current_cost = best_neighbor_cost\n",
    "\n",
    "            # If the new solution is the best, update the best solution\n",
    "            if best_neighbor_cost < best_cost\n",
    "                best_perms = copy(best_neighbor)\n",
    "                best_cost = best_neighbor_cost\n",
    "            end\n",
    "        else\n",
    "            # If the new solution is worse, accept it with a certain probability based on temperature\n",
    "            counter += 1\n",
    "            if true\n",
    "                acceptance_probability = exp(-(best_neighbor_cost - current_cost) / T)\n",
    "                if rand() < acceptance_probability\n",
    "                    perms = copy(best_neighbor)\n",
    "                    current_cost = best_neighbor_cost\n",
    "                end\n",
    "\n",
    "            end\n",
    "        end\n",
    "\n",
    "        # Reduce the temperature (cooling schedule)\n",
    "        T *= alpha\n",
    "\n",
    "        # Optionally print progress\n",
    "        if iter % 10 == 0\n",
    "            println(\"Iteration: $iter, Best Cost: $best_cost, Temperature: $T\")\n",
    "        end\n",
    "    end\n",
    "\n",
    "    return best_perms, best_cost\n",
    "end\n",
    "\n"
   ]
  },
  {
   "cell_type": "code",
   "execution_count": 61,
   "metadata": {},
   "outputs": [
    {
     "data": {
      "text/plain": [
       "5.691799e7"
      ]
     },
     "metadata": {},
     "output_type": "display_data"
    }
   ],
   "source": [
    "a, b = simulated_annealing(solution, Cl, Ul, Vr, Mr, wr, cr, mb, Mb, cb, Vb, Δs, cs; T0=1000, alpha=0.99, max_iter=1)\n",
    "b"
   ]
  },
  {
   "cell_type": "code",
   "execution_count": 62,
   "metadata": {},
   "outputs": [
    {
     "data": {
      "text/plain": [
       "5.681399e7"
      ]
     },
     "metadata": {},
     "output_type": "display_data"
    }
   ],
   "source": [
    "for i in 1:1\n",
    "    println(i)\n",
    "    perm_copy = a \n",
    "    entry = hcat(perm_copy[1, :], perm_copy[2, :], perm_copy[3, :])  # Concatenate columns to create the matrix\n",
    "    sexit = (Solution(instance::Instance, entry)).exits\n",
    "    solution = Solution(entry, sexit)\n",
    "    a, b=simulated_annealing(solution, Cl, Ul, Vr, Mr, wr, cr, mb, Mb, cb, Vb, Δs, cs; T0=1000, alpha=0.99, max_iter=10)\n",
    "end\n",
    "b"
   ]
  },
  {
   "cell_type": "code",
   "execution_count": 63,
   "metadata": {},
   "outputs": [
    {
     "data": {
      "text/plain": [
       "5.681399e7"
      ]
     },
     "metadata": {},
     "output_type": "display_data"
    }
   ],
   "source": [
    "b"
   ]
  },
  {
   "cell_type": "code",
   "execution_count": 64,
   "metadata": {},
   "outputs": [],
   "source": [
    "#here write your results we will compare them and put the best at the end\n",
    "#small_1 376600.0\n",
    "#small_2 357500.0\n",
    "#medium_1 5.89414e6\n",
    "#medium_2 5.12975e6\n",
    "#large_1 6.647879e7\n",
    "#large_2 1.373e7"
   ]
  },
  {
   "cell_type": "code",
   "execution_count": 65,
   "metadata": {},
   "outputs": [
    {
     "data": {
      "text/plain": [
       "620×3 Matrix{Int64}:\n",
       "   1    1   55\n",
       "   2    2   48\n",
       "   3    3   28\n",
       "   4    4   11\n",
       "   5    5   23\n",
       "   6    6   22\n",
       "   7    7   19\n",
       "   8    8   29\n",
       "   9    9   38\n",
       "  10   10    9\n",
       "   ⋮       \n",
       " 612  612  531\n",
       " 613  613  613\n",
       " 614  614  515\n",
       " 615  615  544\n",
       " 555  616  576\n",
       " 617  555  562\n",
       " 618  618  604\n",
       " 619  619  599\n",
       " 620  620  583"
      ]
     },
     "metadata": {},
     "output_type": "display_data"
    }
   ],
   "source": [
    "perm_copy = a \n",
    "entry = hcat(perm_copy[1, :], perm_copy[2, :], perm_copy[3, :])  # Concatenate columns to create the matrix\n",
    "sexit = (Solution(instance::Instance, entry)).exits\n",
    "solution = Solution(entry, sexit)\n",
    "perturbed_cost = compute_cost(instance, solution, verbose=true)\n",
    "c = false\n",
    "if !(is_feasible(instance, solution,verbose = true))\n",
    "    c = true\n",
    "end\n",
    "solution.entries\n"
   ]
  },
  {
   "cell_type": "code",
   "execution_count": 66,
   "metadata": {},
   "outputs": [
    {
     "data": {
      "text/plain": [
       "5.681399e7"
      ]
     },
     "metadata": {},
     "output_type": "display_data"
    }
   ],
   "source": [
    "current_cost = compute_cost(instance, solution, verbose=true)\n"
   ]
  },
  {
   "cell_type": "code",
   "execution_count": 67,
   "metadata": {},
   "outputs": [
    {
     "data": {
      "text/plain": [
       "true"
      ]
     },
     "metadata": {},
     "output_type": "display_data"
    }
   ],
   "source": [
    "(is_feasible(instance, solution,verbose=true))\n"
   ]
  },
  {
   "cell_type": "code",
   "execution_count": 68,
   "metadata": {},
   "outputs": [
    {
     "data": {
      "text/plain": [
       "\"data/large_1_sol.json\""
      ]
     },
     "metadata": {},
     "output_type": "display_data"
    }
   ],
   "source": [
    "file_path = transform_filename(filename)\n"
   ]
  },
  {
   "cell_type": "code",
   "execution_count": 69,
   "metadata": {},
   "outputs": [],
   "source": [
    "using JSON\n",
    "# Define the path to the JSON file\n",
    "###you need to change the file here too.\n",
    "# Create an empty JSON object\n",
    "empty_json = Dict()\n",
    "\n",
    "# Write the empty JSON object to the file\n",
    "open(file_path, \"w\") do file\n",
    "    JSON.print(file, empty_json)\n",
    "end\n",
    "\n",
    "println(\"Empty JSON file created at $file_path\")\n",
    "write_solution(instance::Instance, solution::Solution)"
   ]
  },
  {
   "cell_type": "code",
   "execution_count": 70,
   "metadata": {},
   "outputs": [],
   "source": []
  }
 ],
 "metadata": {
  "kernelspec": {
   "display_name": "Julia 1.11.2",
   "language": "julia",
   "name": "julia-1.11"
  },
  "language_info": {
   "file_extension": ".jl",
   "mimetype": "application/julia",
   "name": "julia",
   "version": "1.11.2"
  }
 },
 "nbformat": 4,
 "nbformat_minor": 2
}
